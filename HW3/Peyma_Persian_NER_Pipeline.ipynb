{
  "nbformat": 4,
  "nbformat_minor": 0,
  "metadata": {
    "accelerator": "GPU",
    "colab": {
      "name": "Peyma Persian NER Pipeline.ipynb",
      "provenance": [],
      "collapsed_sections": [
        "QAsnTqSPEaJ9",
        "aTzAnnfID8JJ",
        "fth6hzX5IG1h",
        "83zSbY4kINkP"
      ],
      "toc_visible": true
    },
    "kernelspec": {
      "display_name": "Python 3",
      "name": "python3"
    },
    "widgets": {
      "application/vnd.jupyter.widget-state+json": {
        "83660b7cf61d4a7d8f09392a3f8652e7": {
          "model_module": "@jupyter-widgets/controls",
          "model_name": "HBoxModel",
          "state": {
            "_view_name": "HBoxView",
            "_dom_classes": [],
            "_model_name": "HBoxModel",
            "_view_module": "@jupyter-widgets/controls",
            "_model_module_version": "1.5.0",
            "_view_count": null,
            "_view_module_version": "1.5.0",
            "box_style": "",
            "layout": "IPY_MODEL_1b3047e4305e449092bdf86f44be1b86",
            "_model_module": "@jupyter-widgets/controls",
            "children": [
              "IPY_MODEL_96084aba86a74b80a921e2837542339d",
              "IPY_MODEL_6c00c4c34c2147049547904a38f8f367"
            ]
          }
        },
        "1b3047e4305e449092bdf86f44be1b86": {
          "model_module": "@jupyter-widgets/base",
          "model_name": "LayoutModel",
          "state": {
            "_view_name": "LayoutView",
            "grid_template_rows": null,
            "right": null,
            "justify_content": null,
            "_view_module": "@jupyter-widgets/base",
            "overflow": null,
            "_model_module_version": "1.2.0",
            "_view_count": null,
            "flex_flow": null,
            "width": null,
            "min_width": null,
            "border": null,
            "align_items": null,
            "bottom": null,
            "_model_module": "@jupyter-widgets/base",
            "top": null,
            "grid_column": null,
            "overflow_y": null,
            "overflow_x": null,
            "grid_auto_flow": null,
            "grid_area": null,
            "grid_template_columns": null,
            "flex": null,
            "_model_name": "LayoutModel",
            "justify_items": null,
            "grid_row": null,
            "max_height": null,
            "align_content": null,
            "visibility": null,
            "align_self": null,
            "height": null,
            "min_height": null,
            "padding": null,
            "grid_auto_rows": null,
            "grid_gap": null,
            "max_width": null,
            "order": null,
            "_view_module_version": "1.2.0",
            "grid_template_areas": null,
            "object_position": null,
            "object_fit": null,
            "grid_auto_columns": null,
            "margin": null,
            "display": null,
            "left": null
          }
        },
        "96084aba86a74b80a921e2837542339d": {
          "model_module": "@jupyter-widgets/controls",
          "model_name": "FloatProgressModel",
          "state": {
            "_view_name": "ProgressView",
            "style": "IPY_MODEL_b938c67d01654983859b43064c93e02c",
            "_dom_classes": [],
            "description": "Downloading: 100%",
            "_model_name": "FloatProgressModel",
            "bar_style": "success",
            "max": 1198122,
            "_view_module": "@jupyter-widgets/controls",
            "_model_module_version": "1.5.0",
            "value": 1198122,
            "_view_count": null,
            "_view_module_version": "1.5.0",
            "orientation": "horizontal",
            "min": 0,
            "description_tooltip": null,
            "_model_module": "@jupyter-widgets/controls",
            "layout": "IPY_MODEL_1b3c7707f31140519af27907b91d021a"
          }
        },
        "6c00c4c34c2147049547904a38f8f367": {
          "model_module": "@jupyter-widgets/controls",
          "model_name": "HTMLModel",
          "state": {
            "_view_name": "HTMLView",
            "style": "IPY_MODEL_b35181051aaa4bdca8b5b464e5dfed97",
            "_dom_classes": [],
            "description": "",
            "_model_name": "HTMLModel",
            "placeholder": "​",
            "_view_module": "@jupyter-widgets/controls",
            "_model_module_version": "1.5.0",
            "value": " 1.20M/1.20M [00:00&lt;00:00, 6.08MB/s]",
            "_view_count": null,
            "_view_module_version": "1.5.0",
            "description_tooltip": null,
            "_model_module": "@jupyter-widgets/controls",
            "layout": "IPY_MODEL_f702aa154cc24f04935aa9c7146be26c"
          }
        },
        "b938c67d01654983859b43064c93e02c": {
          "model_module": "@jupyter-widgets/controls",
          "model_name": "ProgressStyleModel",
          "state": {
            "_view_name": "StyleView",
            "_model_name": "ProgressStyleModel",
            "description_width": "initial",
            "_view_module": "@jupyter-widgets/base",
            "_model_module_version": "1.5.0",
            "_view_count": null,
            "_view_module_version": "1.2.0",
            "bar_color": null,
            "_model_module": "@jupyter-widgets/controls"
          }
        },
        "1b3c7707f31140519af27907b91d021a": {
          "model_module": "@jupyter-widgets/base",
          "model_name": "LayoutModel",
          "state": {
            "_view_name": "LayoutView",
            "grid_template_rows": null,
            "right": null,
            "justify_content": null,
            "_view_module": "@jupyter-widgets/base",
            "overflow": null,
            "_model_module_version": "1.2.0",
            "_view_count": null,
            "flex_flow": null,
            "width": null,
            "min_width": null,
            "border": null,
            "align_items": null,
            "bottom": null,
            "_model_module": "@jupyter-widgets/base",
            "top": null,
            "grid_column": null,
            "overflow_y": null,
            "overflow_x": null,
            "grid_auto_flow": null,
            "grid_area": null,
            "grid_template_columns": null,
            "flex": null,
            "_model_name": "LayoutModel",
            "justify_items": null,
            "grid_row": null,
            "max_height": null,
            "align_content": null,
            "visibility": null,
            "align_self": null,
            "height": null,
            "min_height": null,
            "padding": null,
            "grid_auto_rows": null,
            "grid_gap": null,
            "max_width": null,
            "order": null,
            "_view_module_version": "1.2.0",
            "grid_template_areas": null,
            "object_position": null,
            "object_fit": null,
            "grid_auto_columns": null,
            "margin": null,
            "display": null,
            "left": null
          }
        },
        "b35181051aaa4bdca8b5b464e5dfed97": {
          "model_module": "@jupyter-widgets/controls",
          "model_name": "DescriptionStyleModel",
          "state": {
            "_view_name": "StyleView",
            "_model_name": "DescriptionStyleModel",
            "description_width": "",
            "_view_module": "@jupyter-widgets/base",
            "_model_module_version": "1.5.0",
            "_view_count": null,
            "_view_module_version": "1.2.0",
            "_model_module": "@jupyter-widgets/controls"
          }
        },
        "f702aa154cc24f04935aa9c7146be26c": {
          "model_module": "@jupyter-widgets/base",
          "model_name": "LayoutModel",
          "state": {
            "_view_name": "LayoutView",
            "grid_template_rows": null,
            "right": null,
            "justify_content": null,
            "_view_module": "@jupyter-widgets/base",
            "overflow": null,
            "_model_module_version": "1.2.0",
            "_view_count": null,
            "flex_flow": null,
            "width": null,
            "min_width": null,
            "border": null,
            "align_items": null,
            "bottom": null,
            "_model_module": "@jupyter-widgets/base",
            "top": null,
            "grid_column": null,
            "overflow_y": null,
            "overflow_x": null,
            "grid_auto_flow": null,
            "grid_area": null,
            "grid_template_columns": null,
            "flex": null,
            "_model_name": "LayoutModel",
            "justify_items": null,
            "grid_row": null,
            "max_height": null,
            "align_content": null,
            "visibility": null,
            "align_self": null,
            "height": null,
            "min_height": null,
            "padding": null,
            "grid_auto_rows": null,
            "grid_gap": null,
            "max_width": null,
            "order": null,
            "_view_module_version": "1.2.0",
            "grid_template_areas": null,
            "object_position": null,
            "object_fit": null,
            "grid_auto_columns": null,
            "margin": null,
            "display": null,
            "left": null
          }
        },
        "4b0f4d5b48cd4385949976c8851e03cd": {
          "model_module": "@jupyter-widgets/controls",
          "model_name": "HBoxModel",
          "state": {
            "_view_name": "HBoxView",
            "_dom_classes": [],
            "_model_name": "HBoxModel",
            "_view_module": "@jupyter-widgets/controls",
            "_model_module_version": "1.5.0",
            "_view_count": null,
            "_view_module_version": "1.5.0",
            "box_style": "",
            "layout": "IPY_MODEL_4c7292534e164b2a8adeaeba972ea4da",
            "_model_module": "@jupyter-widgets/controls",
            "children": [
              "IPY_MODEL_52824e5b404242ab9dd34293582b8ad4",
              "IPY_MODEL_1ec81f397dea4c56b847c9b84afaf673"
            ]
          }
        },
        "4c7292534e164b2a8adeaeba972ea4da": {
          "model_module": "@jupyter-widgets/base",
          "model_name": "LayoutModel",
          "state": {
            "_view_name": "LayoutView",
            "grid_template_rows": null,
            "right": null,
            "justify_content": null,
            "_view_module": "@jupyter-widgets/base",
            "overflow": null,
            "_model_module_version": "1.2.0",
            "_view_count": null,
            "flex_flow": null,
            "width": null,
            "min_width": null,
            "border": null,
            "align_items": null,
            "bottom": null,
            "_model_module": "@jupyter-widgets/base",
            "top": null,
            "grid_column": null,
            "overflow_y": null,
            "overflow_x": null,
            "grid_auto_flow": null,
            "grid_area": null,
            "grid_template_columns": null,
            "flex": null,
            "_model_name": "LayoutModel",
            "justify_items": null,
            "grid_row": null,
            "max_height": null,
            "align_content": null,
            "visibility": null,
            "align_self": null,
            "height": null,
            "min_height": null,
            "padding": null,
            "grid_auto_rows": null,
            "grid_gap": null,
            "max_width": null,
            "order": null,
            "_view_module_version": "1.2.0",
            "grid_template_areas": null,
            "object_position": null,
            "object_fit": null,
            "grid_auto_columns": null,
            "margin": null,
            "display": null,
            "left": null
          }
        },
        "52824e5b404242ab9dd34293582b8ad4": {
          "model_module": "@jupyter-widgets/controls",
          "model_name": "FloatProgressModel",
          "state": {
            "_view_name": "ProgressView",
            "style": "IPY_MODEL_0764b52533ba43cb8158ce25dc197be5",
            "_dom_classes": [],
            "description": "Downloading: 100%",
            "_model_name": "FloatProgressModel",
            "bar_style": "success",
            "max": 440,
            "_view_module": "@jupyter-widgets/controls",
            "_model_module_version": "1.5.0",
            "value": 440,
            "_view_count": null,
            "_view_module_version": "1.5.0",
            "orientation": "horizontal",
            "min": 0,
            "description_tooltip": null,
            "_model_module": "@jupyter-widgets/controls",
            "layout": "IPY_MODEL_9007377561fb4b59a3948d6a899b4f9e"
          }
        },
        "1ec81f397dea4c56b847c9b84afaf673": {
          "model_module": "@jupyter-widgets/controls",
          "model_name": "HTMLModel",
          "state": {
            "_view_name": "HTMLView",
            "style": "IPY_MODEL_a26c8fd50102436cb28f1e510eb77ac9",
            "_dom_classes": [],
            "description": "",
            "_model_name": "HTMLModel",
            "placeholder": "​",
            "_view_module": "@jupyter-widgets/controls",
            "_model_module_version": "1.5.0",
            "value": " 440/440 [00:00&lt;00:00, 2.47kB/s]",
            "_view_count": null,
            "_view_module_version": "1.5.0",
            "description_tooltip": null,
            "_model_module": "@jupyter-widgets/controls",
            "layout": "IPY_MODEL_51712a33885144dfac0e6e1678ac2670"
          }
        },
        "0764b52533ba43cb8158ce25dc197be5": {
          "model_module": "@jupyter-widgets/controls",
          "model_name": "ProgressStyleModel",
          "state": {
            "_view_name": "StyleView",
            "_model_name": "ProgressStyleModel",
            "description_width": "initial",
            "_view_module": "@jupyter-widgets/base",
            "_model_module_version": "1.5.0",
            "_view_count": null,
            "_view_module_version": "1.2.0",
            "bar_color": null,
            "_model_module": "@jupyter-widgets/controls"
          }
        },
        "9007377561fb4b59a3948d6a899b4f9e": {
          "model_module": "@jupyter-widgets/base",
          "model_name": "LayoutModel",
          "state": {
            "_view_name": "LayoutView",
            "grid_template_rows": null,
            "right": null,
            "justify_content": null,
            "_view_module": "@jupyter-widgets/base",
            "overflow": null,
            "_model_module_version": "1.2.0",
            "_view_count": null,
            "flex_flow": null,
            "width": null,
            "min_width": null,
            "border": null,
            "align_items": null,
            "bottom": null,
            "_model_module": "@jupyter-widgets/base",
            "top": null,
            "grid_column": null,
            "overflow_y": null,
            "overflow_x": null,
            "grid_auto_flow": null,
            "grid_area": null,
            "grid_template_columns": null,
            "flex": null,
            "_model_name": "LayoutModel",
            "justify_items": null,
            "grid_row": null,
            "max_height": null,
            "align_content": null,
            "visibility": null,
            "align_self": null,
            "height": null,
            "min_height": null,
            "padding": null,
            "grid_auto_rows": null,
            "grid_gap": null,
            "max_width": null,
            "order": null,
            "_view_module_version": "1.2.0",
            "grid_template_areas": null,
            "object_position": null,
            "object_fit": null,
            "grid_auto_columns": null,
            "margin": null,
            "display": null,
            "left": null
          }
        },
        "a26c8fd50102436cb28f1e510eb77ac9": {
          "model_module": "@jupyter-widgets/controls",
          "model_name": "DescriptionStyleModel",
          "state": {
            "_view_name": "StyleView",
            "_model_name": "DescriptionStyleModel",
            "description_width": "",
            "_view_module": "@jupyter-widgets/base",
            "_model_module_version": "1.5.0",
            "_view_count": null,
            "_view_module_version": "1.2.0",
            "_model_module": "@jupyter-widgets/controls"
          }
        },
        "51712a33885144dfac0e6e1678ac2670": {
          "model_module": "@jupyter-widgets/base",
          "model_name": "LayoutModel",
          "state": {
            "_view_name": "LayoutView",
            "grid_template_rows": null,
            "right": null,
            "justify_content": null,
            "_view_module": "@jupyter-widgets/base",
            "overflow": null,
            "_model_module_version": "1.2.0",
            "_view_count": null,
            "flex_flow": null,
            "width": null,
            "min_width": null,
            "border": null,
            "align_items": null,
            "bottom": null,
            "_model_module": "@jupyter-widgets/base",
            "top": null,
            "grid_column": null,
            "overflow_y": null,
            "overflow_x": null,
            "grid_auto_flow": null,
            "grid_area": null,
            "grid_template_columns": null,
            "flex": null,
            "_model_name": "LayoutModel",
            "justify_items": null,
            "grid_row": null,
            "max_height": null,
            "align_content": null,
            "visibility": null,
            "align_self": null,
            "height": null,
            "min_height": null,
            "padding": null,
            "grid_auto_rows": null,
            "grid_gap": null,
            "max_width": null,
            "order": null,
            "_view_module_version": "1.2.0",
            "grid_template_areas": null,
            "object_position": null,
            "object_fit": null,
            "grid_auto_columns": null,
            "margin": null,
            "display": null,
            "left": null
          }
        },
        "29833f058477492792316085cc7560bf": {
          "model_module": "@jupyter-widgets/controls",
          "model_name": "HBoxModel",
          "state": {
            "_view_name": "HBoxView",
            "_dom_classes": [],
            "_model_name": "HBoxModel",
            "_view_module": "@jupyter-widgets/controls",
            "_model_module_version": "1.5.0",
            "_view_count": null,
            "_view_module_version": "1.5.0",
            "box_style": "",
            "layout": "IPY_MODEL_81b5816312cb431fa68d0416830f56be",
            "_model_module": "@jupyter-widgets/controls",
            "children": [
              "IPY_MODEL_c93b638688884b519b541dfb0c8ca88c",
              "IPY_MODEL_6f794fdf72b2464b92173891086b6066"
            ]
          }
        },
        "81b5816312cb431fa68d0416830f56be": {
          "model_module": "@jupyter-widgets/base",
          "model_name": "LayoutModel",
          "state": {
            "_view_name": "LayoutView",
            "grid_template_rows": null,
            "right": null,
            "justify_content": null,
            "_view_module": "@jupyter-widgets/base",
            "overflow": null,
            "_model_module_version": "1.2.0",
            "_view_count": null,
            "flex_flow": null,
            "width": null,
            "min_width": null,
            "border": null,
            "align_items": null,
            "bottom": null,
            "_model_module": "@jupyter-widgets/base",
            "top": null,
            "grid_column": null,
            "overflow_y": null,
            "overflow_x": null,
            "grid_auto_flow": null,
            "grid_area": null,
            "grid_template_columns": null,
            "flex": null,
            "_model_name": "LayoutModel",
            "justify_items": null,
            "grid_row": null,
            "max_height": null,
            "align_content": null,
            "visibility": null,
            "align_self": null,
            "height": null,
            "min_height": null,
            "padding": null,
            "grid_auto_rows": null,
            "grid_gap": null,
            "max_width": null,
            "order": null,
            "_view_module_version": "1.2.0",
            "grid_template_areas": null,
            "object_position": null,
            "object_fit": null,
            "grid_auto_columns": null,
            "margin": null,
            "display": null,
            "left": null
          }
        },
        "c93b638688884b519b541dfb0c8ca88c": {
          "model_module": "@jupyter-widgets/controls",
          "model_name": "FloatProgressModel",
          "state": {
            "_view_name": "ProgressView",
            "style": "IPY_MODEL_d95e0daa47a44863a8028780f6ae91ef",
            "_dom_classes": [],
            "description": "Downloading: 100%",
            "_model_name": "FloatProgressModel",
            "bar_style": "success",
            "max": 654226731,
            "_view_module": "@jupyter-widgets/controls",
            "_model_module_version": "1.5.0",
            "value": 654226731,
            "_view_count": null,
            "_view_module_version": "1.5.0",
            "orientation": "horizontal",
            "min": 0,
            "description_tooltip": null,
            "_model_module": "@jupyter-widgets/controls",
            "layout": "IPY_MODEL_680e7df1fc8b4db0972a6c230a29b032"
          }
        },
        "6f794fdf72b2464b92173891086b6066": {
          "model_module": "@jupyter-widgets/controls",
          "model_name": "HTMLModel",
          "state": {
            "_view_name": "HTMLView",
            "style": "IPY_MODEL_68338db7e522444daeb939ee00a7f9da",
            "_dom_classes": [],
            "description": "",
            "_model_name": "HTMLModel",
            "placeholder": "​",
            "_view_module": "@jupyter-widgets/controls",
            "_model_module_version": "1.5.0",
            "value": " 654M/654M [00:14&lt;00:00, 46.3MB/s]",
            "_view_count": null,
            "_view_module_version": "1.5.0",
            "description_tooltip": null,
            "_model_module": "@jupyter-widgets/controls",
            "layout": "IPY_MODEL_1af7dd3cb77f4a62af86488f5b2cb475"
          }
        },
        "d95e0daa47a44863a8028780f6ae91ef": {
          "model_module": "@jupyter-widgets/controls",
          "model_name": "ProgressStyleModel",
          "state": {
            "_view_name": "StyleView",
            "_model_name": "ProgressStyleModel",
            "description_width": "initial",
            "_view_module": "@jupyter-widgets/base",
            "_model_module_version": "1.5.0",
            "_view_count": null,
            "_view_module_version": "1.2.0",
            "bar_color": null,
            "_model_module": "@jupyter-widgets/controls"
          }
        },
        "680e7df1fc8b4db0972a6c230a29b032": {
          "model_module": "@jupyter-widgets/base",
          "model_name": "LayoutModel",
          "state": {
            "_view_name": "LayoutView",
            "grid_template_rows": null,
            "right": null,
            "justify_content": null,
            "_view_module": "@jupyter-widgets/base",
            "overflow": null,
            "_model_module_version": "1.2.0",
            "_view_count": null,
            "flex_flow": null,
            "width": null,
            "min_width": null,
            "border": null,
            "align_items": null,
            "bottom": null,
            "_model_module": "@jupyter-widgets/base",
            "top": null,
            "grid_column": null,
            "overflow_y": null,
            "overflow_x": null,
            "grid_auto_flow": null,
            "grid_area": null,
            "grid_template_columns": null,
            "flex": null,
            "_model_name": "LayoutModel",
            "justify_items": null,
            "grid_row": null,
            "max_height": null,
            "align_content": null,
            "visibility": null,
            "align_self": null,
            "height": null,
            "min_height": null,
            "padding": null,
            "grid_auto_rows": null,
            "grid_gap": null,
            "max_width": null,
            "order": null,
            "_view_module_version": "1.2.0",
            "grid_template_areas": null,
            "object_position": null,
            "object_fit": null,
            "grid_auto_columns": null,
            "margin": null,
            "display": null,
            "left": null
          }
        },
        "68338db7e522444daeb939ee00a7f9da": {
          "model_module": "@jupyter-widgets/controls",
          "model_name": "DescriptionStyleModel",
          "state": {
            "_view_name": "StyleView",
            "_model_name": "DescriptionStyleModel",
            "description_width": "",
            "_view_module": "@jupyter-widgets/base",
            "_model_module_version": "1.5.0",
            "_view_count": null,
            "_view_module_version": "1.2.0",
            "_model_module": "@jupyter-widgets/controls"
          }
        },
        "1af7dd3cb77f4a62af86488f5b2cb475": {
          "model_module": "@jupyter-widgets/base",
          "model_name": "LayoutModel",
          "state": {
            "_view_name": "LayoutView",
            "grid_template_rows": null,
            "right": null,
            "justify_content": null,
            "_view_module": "@jupyter-widgets/base",
            "overflow": null,
            "_model_module_version": "1.2.0",
            "_view_count": null,
            "flex_flow": null,
            "width": null,
            "min_width": null,
            "border": null,
            "align_items": null,
            "bottom": null,
            "_model_module": "@jupyter-widgets/base",
            "top": null,
            "grid_column": null,
            "overflow_y": null,
            "overflow_x": null,
            "grid_auto_flow": null,
            "grid_area": null,
            "grid_template_columns": null,
            "flex": null,
            "_model_name": "LayoutModel",
            "justify_items": null,
            "grid_row": null,
            "max_height": null,
            "align_content": null,
            "visibility": null,
            "align_self": null,
            "height": null,
            "min_height": null,
            "padding": null,
            "grid_auto_rows": null,
            "grid_gap": null,
            "max_width": null,
            "order": null,
            "_view_module_version": "1.2.0",
            "grid_template_areas": null,
            "object_position": null,
            "object_fit": null,
            "grid_auto_columns": null,
            "margin": null,
            "display": null,
            "left": null
          }
        },
        "2a0b1f4308dd4112ac00fdffe61e2af2": {
          "model_module": "@jupyter-widgets/controls",
          "model_name": "HBoxModel",
          "state": {
            "_dom_classes": [],
            "_model_module": "@jupyter-widgets/controls",
            "_model_module_version": "1.5.0",
            "_model_name": "HBoxModel",
            "_view_count": null,
            "_view_module": "@jupyter-widgets/controls",
            "_view_module_version": "1.5.0",
            "_view_name": "HBoxView",
            "box_style": "",
            "children": [
              "IPY_MODEL_c5b21e41044246a8af6a5e47e65359cd",
              "IPY_MODEL_e243d0c228054181a515f76f6d99cd7d"
            ],
            "layout": "IPY_MODEL_24a7b1953b71408fb43623988b85b120"
          }
        },
        "c5b21e41044246a8af6a5e47e65359cd": {
          "model_module": "@jupyter-widgets/controls",
          "model_name": "FloatProgressModel",
          "state": {
            "_dom_classes": [],
            "_model_module": "@jupyter-widgets/controls",
            "_model_module_version": "1.5.0",
            "_model_name": "FloatProgressModel",
            "_view_count": null,
            "_view_module": "@jupyter-widgets/controls",
            "_view_module_version": "1.5.0",
            "_view_name": "ProgressView",
            "bar_style": "success",
            "description": "Downloading: 100%",
            "description_tooltip": null,
            "layout": "IPY_MODEL_b02ef4a5a9ec46a190c73db8a76b5db2",
            "max": 937,
            "min": 0,
            "orientation": "horizontal",
            "style": "IPY_MODEL_49bf2472c93442c9a92bd0cc6f4b4baf",
            "value": 937
          }
        },
        "e243d0c228054181a515f76f6d99cd7d": {
          "model_module": "@jupyter-widgets/controls",
          "model_name": "HTMLModel",
          "state": {
            "_dom_classes": [],
            "_model_module": "@jupyter-widgets/controls",
            "_model_module_version": "1.5.0",
            "_model_name": "HTMLModel",
            "_view_count": null,
            "_view_module": "@jupyter-widgets/controls",
            "_view_module_version": "1.5.0",
            "_view_name": "HTMLView",
            "description": "",
            "description_tooltip": null,
            "layout": "IPY_MODEL_847152dd46294460b85a8e700e0df04d",
            "placeholder": "​",
            "style": "IPY_MODEL_51d36f537a634868bbe8ebdeb4a59e11",
            "value": " 937/937 [00:00&lt;00:00, 2.04kB/s]"
          }
        },
        "24a7b1953b71408fb43623988b85b120": {
          "model_module": "@jupyter-widgets/base",
          "model_name": "LayoutModel",
          "state": {
            "_model_module": "@jupyter-widgets/base",
            "_model_module_version": "1.2.0",
            "_model_name": "LayoutModel",
            "_view_count": null,
            "_view_module": "@jupyter-widgets/base",
            "_view_module_version": "1.2.0",
            "_view_name": "LayoutView",
            "align_content": null,
            "align_items": null,
            "align_self": null,
            "border": null,
            "bottom": null,
            "display": null,
            "flex": null,
            "flex_flow": null,
            "grid_area": null,
            "grid_auto_columns": null,
            "grid_auto_flow": null,
            "grid_auto_rows": null,
            "grid_column": null,
            "grid_gap": null,
            "grid_row": null,
            "grid_template_areas": null,
            "grid_template_columns": null,
            "grid_template_rows": null,
            "height": null,
            "justify_content": null,
            "justify_items": null,
            "left": null,
            "margin": null,
            "max_height": null,
            "max_width": null,
            "min_height": null,
            "min_width": null,
            "object_fit": null,
            "object_position": null,
            "order": null,
            "overflow": null,
            "overflow_x": null,
            "overflow_y": null,
            "padding": null,
            "right": null,
            "top": null,
            "visibility": null,
            "width": null
          }
        },
        "b02ef4a5a9ec46a190c73db8a76b5db2": {
          "model_module": "@jupyter-widgets/base",
          "model_name": "LayoutModel",
          "state": {
            "_model_module": "@jupyter-widgets/base",
            "_model_module_version": "1.2.0",
            "_model_name": "LayoutModel",
            "_view_count": null,
            "_view_module": "@jupyter-widgets/base",
            "_view_module_version": "1.2.0",
            "_view_name": "LayoutView",
            "align_content": null,
            "align_items": null,
            "align_self": null,
            "border": null,
            "bottom": null,
            "display": null,
            "flex": null,
            "flex_flow": null,
            "grid_area": null,
            "grid_auto_columns": null,
            "grid_auto_flow": null,
            "grid_auto_rows": null,
            "grid_column": null,
            "grid_gap": null,
            "grid_row": null,
            "grid_template_areas": null,
            "grid_template_columns": null,
            "grid_template_rows": null,
            "height": null,
            "justify_content": null,
            "justify_items": null,
            "left": null,
            "margin": null,
            "max_height": null,
            "max_width": null,
            "min_height": null,
            "min_width": null,
            "object_fit": null,
            "object_position": null,
            "order": null,
            "overflow": null,
            "overflow_x": null,
            "overflow_y": null,
            "padding": null,
            "right": null,
            "top": null,
            "visibility": null,
            "width": null
          }
        },
        "49bf2472c93442c9a92bd0cc6f4b4baf": {
          "model_module": "@jupyter-widgets/controls",
          "model_name": "ProgressStyleModel",
          "state": {
            "_model_module": "@jupyter-widgets/controls",
            "_model_module_version": "1.5.0",
            "_model_name": "ProgressStyleModel",
            "_view_count": null,
            "_view_module": "@jupyter-widgets/base",
            "_view_module_version": "1.2.0",
            "_view_name": "StyleView",
            "bar_color": null,
            "description_width": "initial"
          }
        },
        "847152dd46294460b85a8e700e0df04d": {
          "model_module": "@jupyter-widgets/base",
          "model_name": "LayoutModel",
          "state": {
            "_model_module": "@jupyter-widgets/base",
            "_model_module_version": "1.2.0",
            "_model_name": "LayoutModel",
            "_view_count": null,
            "_view_module": "@jupyter-widgets/base",
            "_view_module_version": "1.2.0",
            "_view_name": "LayoutView",
            "align_content": null,
            "align_items": null,
            "align_self": null,
            "border": null,
            "bottom": null,
            "display": null,
            "flex": null,
            "flex_flow": null,
            "grid_area": null,
            "grid_auto_columns": null,
            "grid_auto_flow": null,
            "grid_auto_rows": null,
            "grid_column": null,
            "grid_gap": null,
            "grid_row": null,
            "grid_template_areas": null,
            "grid_template_columns": null,
            "grid_template_rows": null,
            "height": null,
            "justify_content": null,
            "justify_items": null,
            "left": null,
            "margin": null,
            "max_height": null,
            "max_width": null,
            "min_height": null,
            "min_width": null,
            "object_fit": null,
            "object_position": null,
            "order": null,
            "overflow": null,
            "overflow_x": null,
            "overflow_y": null,
            "padding": null,
            "right": null,
            "top": null,
            "visibility": null,
            "width": null
          }
        },
        "51d36f537a634868bbe8ebdeb4a59e11": {
          "model_module": "@jupyter-widgets/controls",
          "model_name": "DescriptionStyleModel",
          "state": {
            "_model_module": "@jupyter-widgets/controls",
            "_model_module_version": "1.5.0",
            "_model_name": "DescriptionStyleModel",
            "_view_count": null,
            "_view_module": "@jupyter-widgets/base",
            "_view_module_version": "1.2.0",
            "_view_name": "StyleView",
            "description_width": ""
          }
        },
        "f44112caf9814bc1a26422604e2fc3ac": {
          "model_module": "@jupyter-widgets/controls",
          "model_name": "HBoxModel",
          "state": {
            "_dom_classes": [],
            "_model_module": "@jupyter-widgets/controls",
            "_model_module_version": "1.5.0",
            "_model_name": "HBoxModel",
            "_view_count": null,
            "_view_module": "@jupyter-widgets/controls",
            "_view_module_version": "1.5.0",
            "_view_name": "HBoxView",
            "box_style": "",
            "children": [
              "IPY_MODEL_3ec28f854aac47479ebb5ed52a73ace3",
              "IPY_MODEL_9c1acb0a489f4ab99b713dde5708bd51"
            ],
            "layout": "IPY_MODEL_faa4e05e551c40b5b5955c311b6a6534"
          }
        },
        "3ec28f854aac47479ebb5ed52a73ace3": {
          "model_module": "@jupyter-widgets/controls",
          "model_name": "FloatProgressModel",
          "state": {
            "_dom_classes": [],
            "_model_module": "@jupyter-widgets/controls",
            "_model_module_version": "1.5.0",
            "_model_name": "FloatProgressModel",
            "_view_count": null,
            "_view_module": "@jupyter-widgets/controls",
            "_view_module_version": "1.5.0",
            "_view_name": "ProgressView",
            "bar_style": "success",
            "description": "Downloading: 100%",
            "description_tooltip": null,
            "layout": "IPY_MODEL_c07d59eb7c0b4014afab02ef4296c13e",
            "max": 1215509,
            "min": 0,
            "orientation": "horizontal",
            "style": "IPY_MODEL_a8e5a5401d054af5956ab59533369c0a",
            "value": 1215509
          }
        },
        "9c1acb0a489f4ab99b713dde5708bd51": {
          "model_module": "@jupyter-widgets/controls",
          "model_name": "HTMLModel",
          "state": {
            "_dom_classes": [],
            "_model_module": "@jupyter-widgets/controls",
            "_model_module_version": "1.5.0",
            "_model_name": "HTMLModel",
            "_view_count": null,
            "_view_module": "@jupyter-widgets/controls",
            "_view_module_version": "1.5.0",
            "_view_name": "HTMLView",
            "description": "",
            "description_tooltip": null,
            "layout": "IPY_MODEL_a2326924937e4ee9bc9f94a9283dc849",
            "placeholder": "​",
            "style": "IPY_MODEL_a2e73dba98df473a972f9e3b1aacaedf",
            "value": " 1.22M/1.22M [00:00&lt;00:00, 5.40MB/s]"
          }
        },
        "faa4e05e551c40b5b5955c311b6a6534": {
          "model_module": "@jupyter-widgets/base",
          "model_name": "LayoutModel",
          "state": {
            "_model_module": "@jupyter-widgets/base",
            "_model_module_version": "1.2.0",
            "_model_name": "LayoutModel",
            "_view_count": null,
            "_view_module": "@jupyter-widgets/base",
            "_view_module_version": "1.2.0",
            "_view_name": "LayoutView",
            "align_content": null,
            "align_items": null,
            "align_self": null,
            "border": null,
            "bottom": null,
            "display": null,
            "flex": null,
            "flex_flow": null,
            "grid_area": null,
            "grid_auto_columns": null,
            "grid_auto_flow": null,
            "grid_auto_rows": null,
            "grid_column": null,
            "grid_gap": null,
            "grid_row": null,
            "grid_template_areas": null,
            "grid_template_columns": null,
            "grid_template_rows": null,
            "height": null,
            "justify_content": null,
            "justify_items": null,
            "left": null,
            "margin": null,
            "max_height": null,
            "max_width": null,
            "min_height": null,
            "min_width": null,
            "object_fit": null,
            "object_position": null,
            "order": null,
            "overflow": null,
            "overflow_x": null,
            "overflow_y": null,
            "padding": null,
            "right": null,
            "top": null,
            "visibility": null,
            "width": null
          }
        },
        "c07d59eb7c0b4014afab02ef4296c13e": {
          "model_module": "@jupyter-widgets/base",
          "model_name": "LayoutModel",
          "state": {
            "_model_module": "@jupyter-widgets/base",
            "_model_module_version": "1.2.0",
            "_model_name": "LayoutModel",
            "_view_count": null,
            "_view_module": "@jupyter-widgets/base",
            "_view_module_version": "1.2.0",
            "_view_name": "LayoutView",
            "align_content": null,
            "align_items": null,
            "align_self": null,
            "border": null,
            "bottom": null,
            "display": null,
            "flex": null,
            "flex_flow": null,
            "grid_area": null,
            "grid_auto_columns": null,
            "grid_auto_flow": null,
            "grid_auto_rows": null,
            "grid_column": null,
            "grid_gap": null,
            "grid_row": null,
            "grid_template_areas": null,
            "grid_template_columns": null,
            "grid_template_rows": null,
            "height": null,
            "justify_content": null,
            "justify_items": null,
            "left": null,
            "margin": null,
            "max_height": null,
            "max_width": null,
            "min_height": null,
            "min_width": null,
            "object_fit": null,
            "object_position": null,
            "order": null,
            "overflow": null,
            "overflow_x": null,
            "overflow_y": null,
            "padding": null,
            "right": null,
            "top": null,
            "visibility": null,
            "width": null
          }
        },
        "a8e5a5401d054af5956ab59533369c0a": {
          "model_module": "@jupyter-widgets/controls",
          "model_name": "ProgressStyleModel",
          "state": {
            "_model_module": "@jupyter-widgets/controls",
            "_model_module_version": "1.5.0",
            "_model_name": "ProgressStyleModel",
            "_view_count": null,
            "_view_module": "@jupyter-widgets/base",
            "_view_module_version": "1.2.0",
            "_view_name": "StyleView",
            "bar_color": null,
            "description_width": "initial"
          }
        },
        "a2326924937e4ee9bc9f94a9283dc849": {
          "model_module": "@jupyter-widgets/base",
          "model_name": "LayoutModel",
          "state": {
            "_model_module": "@jupyter-widgets/base",
            "_model_module_version": "1.2.0",
            "_model_name": "LayoutModel",
            "_view_count": null,
            "_view_module": "@jupyter-widgets/base",
            "_view_module_version": "1.2.0",
            "_view_name": "LayoutView",
            "align_content": null,
            "align_items": null,
            "align_self": null,
            "border": null,
            "bottom": null,
            "display": null,
            "flex": null,
            "flex_flow": null,
            "grid_area": null,
            "grid_auto_columns": null,
            "grid_auto_flow": null,
            "grid_auto_rows": null,
            "grid_column": null,
            "grid_gap": null,
            "grid_row": null,
            "grid_template_areas": null,
            "grid_template_columns": null,
            "grid_template_rows": null,
            "height": null,
            "justify_content": null,
            "justify_items": null,
            "left": null,
            "margin": null,
            "max_height": null,
            "max_width": null,
            "min_height": null,
            "min_width": null,
            "object_fit": null,
            "object_position": null,
            "order": null,
            "overflow": null,
            "overflow_x": null,
            "overflow_y": null,
            "padding": null,
            "right": null,
            "top": null,
            "visibility": null,
            "width": null
          }
        },
        "a2e73dba98df473a972f9e3b1aacaedf": {
          "model_module": "@jupyter-widgets/controls",
          "model_name": "DescriptionStyleModel",
          "state": {
            "_model_module": "@jupyter-widgets/controls",
            "_model_module_version": "1.5.0",
            "_model_name": "DescriptionStyleModel",
            "_view_count": null,
            "_view_module": "@jupyter-widgets/base",
            "_view_module_version": "1.2.0",
            "_view_name": "StyleView",
            "description_width": ""
          }
        },
        "db9bbdab99754fb2876553a89315150d": {
          "model_module": "@jupyter-widgets/controls",
          "model_name": "HBoxModel",
          "state": {
            "_dom_classes": [],
            "_model_module": "@jupyter-widgets/controls",
            "_model_module_version": "1.5.0",
            "_model_name": "HBoxModel",
            "_view_count": null,
            "_view_module": "@jupyter-widgets/controls",
            "_view_module_version": "1.5.0",
            "_view_name": "HBoxView",
            "box_style": "",
            "children": [
              "IPY_MODEL_a36f88f877df4d90b48eb0c4b345b688",
              "IPY_MODEL_5fdff2f902574b48b8ac61ec013b32f6"
            ],
            "layout": "IPY_MODEL_ea4ffaae3ecb495ebca7b6567514de8d"
          }
        },
        "a36f88f877df4d90b48eb0c4b345b688": {
          "model_module": "@jupyter-widgets/controls",
          "model_name": "FloatProgressModel",
          "state": {
            "_dom_classes": [],
            "_model_module": "@jupyter-widgets/controls",
            "_model_module_version": "1.5.0",
            "_model_name": "FloatProgressModel",
            "_view_count": null,
            "_view_module": "@jupyter-widgets/controls",
            "_view_module_version": "1.5.0",
            "_view_name": "ProgressView",
            "bar_style": "success",
            "description": "Downloading: 100%",
            "description_tooltip": null,
            "layout": "IPY_MODEL_1223ecbdd89244e8aaafbbda8a761296",
            "max": 112,
            "min": 0,
            "orientation": "horizontal",
            "style": "IPY_MODEL_f34f4814c1fd462ab6e69f04816f90ce",
            "value": 112
          }
        },
        "5fdff2f902574b48b8ac61ec013b32f6": {
          "model_module": "@jupyter-widgets/controls",
          "model_name": "HTMLModel",
          "state": {
            "_dom_classes": [],
            "_model_module": "@jupyter-widgets/controls",
            "_model_module_version": "1.5.0",
            "_model_name": "HTMLModel",
            "_view_count": null,
            "_view_module": "@jupyter-widgets/controls",
            "_view_module_version": "1.5.0",
            "_view_name": "HTMLView",
            "description": "",
            "description_tooltip": null,
            "layout": "IPY_MODEL_7ce6e2e40c524fab8343e7d532bad3de",
            "placeholder": "​",
            "style": "IPY_MODEL_cded95c599b244c486dc1f25caecc170",
            "value": " 112/112 [00:00&lt;00:00, 1.41kB/s]"
          }
        },
        "ea4ffaae3ecb495ebca7b6567514de8d": {
          "model_module": "@jupyter-widgets/base",
          "model_name": "LayoutModel",
          "state": {
            "_model_module": "@jupyter-widgets/base",
            "_model_module_version": "1.2.0",
            "_model_name": "LayoutModel",
            "_view_count": null,
            "_view_module": "@jupyter-widgets/base",
            "_view_module_version": "1.2.0",
            "_view_name": "LayoutView",
            "align_content": null,
            "align_items": null,
            "align_self": null,
            "border": null,
            "bottom": null,
            "display": null,
            "flex": null,
            "flex_flow": null,
            "grid_area": null,
            "grid_auto_columns": null,
            "grid_auto_flow": null,
            "grid_auto_rows": null,
            "grid_column": null,
            "grid_gap": null,
            "grid_row": null,
            "grid_template_areas": null,
            "grid_template_columns": null,
            "grid_template_rows": null,
            "height": null,
            "justify_content": null,
            "justify_items": null,
            "left": null,
            "margin": null,
            "max_height": null,
            "max_width": null,
            "min_height": null,
            "min_width": null,
            "object_fit": null,
            "object_position": null,
            "order": null,
            "overflow": null,
            "overflow_x": null,
            "overflow_y": null,
            "padding": null,
            "right": null,
            "top": null,
            "visibility": null,
            "width": null
          }
        },
        "1223ecbdd89244e8aaafbbda8a761296": {
          "model_module": "@jupyter-widgets/base",
          "model_name": "LayoutModel",
          "state": {
            "_model_module": "@jupyter-widgets/base",
            "_model_module_version": "1.2.0",
            "_model_name": "LayoutModel",
            "_view_count": null,
            "_view_module": "@jupyter-widgets/base",
            "_view_module_version": "1.2.0",
            "_view_name": "LayoutView",
            "align_content": null,
            "align_items": null,
            "align_self": null,
            "border": null,
            "bottom": null,
            "display": null,
            "flex": null,
            "flex_flow": null,
            "grid_area": null,
            "grid_auto_columns": null,
            "grid_auto_flow": null,
            "grid_auto_rows": null,
            "grid_column": null,
            "grid_gap": null,
            "grid_row": null,
            "grid_template_areas": null,
            "grid_template_columns": null,
            "grid_template_rows": null,
            "height": null,
            "justify_content": null,
            "justify_items": null,
            "left": null,
            "margin": null,
            "max_height": null,
            "max_width": null,
            "min_height": null,
            "min_width": null,
            "object_fit": null,
            "object_position": null,
            "order": null,
            "overflow": null,
            "overflow_x": null,
            "overflow_y": null,
            "padding": null,
            "right": null,
            "top": null,
            "visibility": null,
            "width": null
          }
        },
        "f34f4814c1fd462ab6e69f04816f90ce": {
          "model_module": "@jupyter-widgets/controls",
          "model_name": "ProgressStyleModel",
          "state": {
            "_model_module": "@jupyter-widgets/controls",
            "_model_module_version": "1.5.0",
            "_model_name": "ProgressStyleModel",
            "_view_count": null,
            "_view_module": "@jupyter-widgets/base",
            "_view_module_version": "1.2.0",
            "_view_name": "StyleView",
            "bar_color": null,
            "description_width": "initial"
          }
        },
        "7ce6e2e40c524fab8343e7d532bad3de": {
          "model_module": "@jupyter-widgets/base",
          "model_name": "LayoutModel",
          "state": {
            "_model_module": "@jupyter-widgets/base",
            "_model_module_version": "1.2.0",
            "_model_name": "LayoutModel",
            "_view_count": null,
            "_view_module": "@jupyter-widgets/base",
            "_view_module_version": "1.2.0",
            "_view_name": "LayoutView",
            "align_content": null,
            "align_items": null,
            "align_self": null,
            "border": null,
            "bottom": null,
            "display": null,
            "flex": null,
            "flex_flow": null,
            "grid_area": null,
            "grid_auto_columns": null,
            "grid_auto_flow": null,
            "grid_auto_rows": null,
            "grid_column": null,
            "grid_gap": null,
            "grid_row": null,
            "grid_template_areas": null,
            "grid_template_columns": null,
            "grid_template_rows": null,
            "height": null,
            "justify_content": null,
            "justify_items": null,
            "left": null,
            "margin": null,
            "max_height": null,
            "max_width": null,
            "min_height": null,
            "min_width": null,
            "object_fit": null,
            "object_position": null,
            "order": null,
            "overflow": null,
            "overflow_x": null,
            "overflow_y": null,
            "padding": null,
            "right": null,
            "top": null,
            "visibility": null,
            "width": null
          }
        },
        "cded95c599b244c486dc1f25caecc170": {
          "model_module": "@jupyter-widgets/controls",
          "model_name": "DescriptionStyleModel",
          "state": {
            "_model_module": "@jupyter-widgets/controls",
            "_model_module_version": "1.5.0",
            "_model_name": "DescriptionStyleModel",
            "_view_count": null,
            "_view_module": "@jupyter-widgets/base",
            "_view_module_version": "1.2.0",
            "_view_name": "StyleView",
            "description_width": ""
          }
        },
        "a3e9d26d7c1c417cb22a832c3744559b": {
          "model_module": "@jupyter-widgets/controls",
          "model_name": "HBoxModel",
          "state": {
            "_dom_classes": [],
            "_model_module": "@jupyter-widgets/controls",
            "_model_module_version": "1.5.0",
            "_model_name": "HBoxModel",
            "_view_count": null,
            "_view_module": "@jupyter-widgets/controls",
            "_view_module_version": "1.5.0",
            "_view_name": "HBoxView",
            "box_style": "",
            "children": [
              "IPY_MODEL_c81c5230ea994cc385b8b712e762c705",
              "IPY_MODEL_c9bcdfacd8b34a138cd89ca75cee3a5b"
            ],
            "layout": "IPY_MODEL_db14c35a76274ceeb4420c8a051605c4"
          }
        },
        "c81c5230ea994cc385b8b712e762c705": {
          "model_module": "@jupyter-widgets/controls",
          "model_name": "FloatProgressModel",
          "state": {
            "_dom_classes": [],
            "_model_module": "@jupyter-widgets/controls",
            "_model_module_version": "1.5.0",
            "_model_name": "FloatProgressModel",
            "_view_count": null,
            "_view_module": "@jupyter-widgets/controls",
            "_view_module_version": "1.5.0",
            "_view_name": "ProgressView",
            "bar_style": "success",
            "description": "Downloading: 100%",
            "description_tooltip": null,
            "layout": "IPY_MODEL_f1ab2bf58bf249a394f712815bacbd50",
            "max": 2,
            "min": 0,
            "orientation": "horizontal",
            "style": "IPY_MODEL_8326ee17d280480da2e9b786f5cbe2c4",
            "value": 2
          }
        },
        "c9bcdfacd8b34a138cd89ca75cee3a5b": {
          "model_module": "@jupyter-widgets/controls",
          "model_name": "HTMLModel",
          "state": {
            "_dom_classes": [],
            "_model_module": "@jupyter-widgets/controls",
            "_model_module_version": "1.5.0",
            "_model_name": "HTMLModel",
            "_view_count": null,
            "_view_module": "@jupyter-widgets/controls",
            "_view_module_version": "1.5.0",
            "_view_name": "HTMLView",
            "description": "",
            "description_tooltip": null,
            "layout": "IPY_MODEL_0cb6add9461c4f32baef726d21548390",
            "placeholder": "​",
            "style": "IPY_MODEL_8db633612f9f44d68ac4986184266865",
            "value": " 2.00/2.00 [00:00&lt;00:00, 16.5B/s]"
          }
        },
        "db14c35a76274ceeb4420c8a051605c4": {
          "model_module": "@jupyter-widgets/base",
          "model_name": "LayoutModel",
          "state": {
            "_model_module": "@jupyter-widgets/base",
            "_model_module_version": "1.2.0",
            "_model_name": "LayoutModel",
            "_view_count": null,
            "_view_module": "@jupyter-widgets/base",
            "_view_module_version": "1.2.0",
            "_view_name": "LayoutView",
            "align_content": null,
            "align_items": null,
            "align_self": null,
            "border": null,
            "bottom": null,
            "display": null,
            "flex": null,
            "flex_flow": null,
            "grid_area": null,
            "grid_auto_columns": null,
            "grid_auto_flow": null,
            "grid_auto_rows": null,
            "grid_column": null,
            "grid_gap": null,
            "grid_row": null,
            "grid_template_areas": null,
            "grid_template_columns": null,
            "grid_template_rows": null,
            "height": null,
            "justify_content": null,
            "justify_items": null,
            "left": null,
            "margin": null,
            "max_height": null,
            "max_width": null,
            "min_height": null,
            "min_width": null,
            "object_fit": null,
            "object_position": null,
            "order": null,
            "overflow": null,
            "overflow_x": null,
            "overflow_y": null,
            "padding": null,
            "right": null,
            "top": null,
            "visibility": null,
            "width": null
          }
        },
        "f1ab2bf58bf249a394f712815bacbd50": {
          "model_module": "@jupyter-widgets/base",
          "model_name": "LayoutModel",
          "state": {
            "_model_module": "@jupyter-widgets/base",
            "_model_module_version": "1.2.0",
            "_model_name": "LayoutModel",
            "_view_count": null,
            "_view_module": "@jupyter-widgets/base",
            "_view_module_version": "1.2.0",
            "_view_name": "LayoutView",
            "align_content": null,
            "align_items": null,
            "align_self": null,
            "border": null,
            "bottom": null,
            "display": null,
            "flex": null,
            "flex_flow": null,
            "grid_area": null,
            "grid_auto_columns": null,
            "grid_auto_flow": null,
            "grid_auto_rows": null,
            "grid_column": null,
            "grid_gap": null,
            "grid_row": null,
            "grid_template_areas": null,
            "grid_template_columns": null,
            "grid_template_rows": null,
            "height": null,
            "justify_content": null,
            "justify_items": null,
            "left": null,
            "margin": null,
            "max_height": null,
            "max_width": null,
            "min_height": null,
            "min_width": null,
            "object_fit": null,
            "object_position": null,
            "order": null,
            "overflow": null,
            "overflow_x": null,
            "overflow_y": null,
            "padding": null,
            "right": null,
            "top": null,
            "visibility": null,
            "width": null
          }
        },
        "8326ee17d280480da2e9b786f5cbe2c4": {
          "model_module": "@jupyter-widgets/controls",
          "model_name": "ProgressStyleModel",
          "state": {
            "_model_module": "@jupyter-widgets/controls",
            "_model_module_version": "1.5.0",
            "_model_name": "ProgressStyleModel",
            "_view_count": null,
            "_view_module": "@jupyter-widgets/base",
            "_view_module_version": "1.2.0",
            "_view_name": "StyleView",
            "bar_color": null,
            "description_width": "initial"
          }
        },
        "0cb6add9461c4f32baef726d21548390": {
          "model_module": "@jupyter-widgets/base",
          "model_name": "LayoutModel",
          "state": {
            "_model_module": "@jupyter-widgets/base",
            "_model_module_version": "1.2.0",
            "_model_name": "LayoutModel",
            "_view_count": null,
            "_view_module": "@jupyter-widgets/base",
            "_view_module_version": "1.2.0",
            "_view_name": "LayoutView",
            "align_content": null,
            "align_items": null,
            "align_self": null,
            "border": null,
            "bottom": null,
            "display": null,
            "flex": null,
            "flex_flow": null,
            "grid_area": null,
            "grid_auto_columns": null,
            "grid_auto_flow": null,
            "grid_auto_rows": null,
            "grid_column": null,
            "grid_gap": null,
            "grid_row": null,
            "grid_template_areas": null,
            "grid_template_columns": null,
            "grid_template_rows": null,
            "height": null,
            "justify_content": null,
            "justify_items": null,
            "left": null,
            "margin": null,
            "max_height": null,
            "max_width": null,
            "min_height": null,
            "min_width": null,
            "object_fit": null,
            "object_position": null,
            "order": null,
            "overflow": null,
            "overflow_x": null,
            "overflow_y": null,
            "padding": null,
            "right": null,
            "top": null,
            "visibility": null,
            "width": null
          }
        },
        "8db633612f9f44d68ac4986184266865": {
          "model_module": "@jupyter-widgets/controls",
          "model_name": "DescriptionStyleModel",
          "state": {
            "_model_module": "@jupyter-widgets/controls",
            "_model_module_version": "1.5.0",
            "_model_name": "DescriptionStyleModel",
            "_view_count": null,
            "_view_module": "@jupyter-widgets/base",
            "_view_module_version": "1.2.0",
            "_view_name": "StyleView",
            "description_width": ""
          }
        },
        "d61cd351c308438190cb705c81ce2666": {
          "model_module": "@jupyter-widgets/controls",
          "model_name": "HBoxModel",
          "state": {
            "_dom_classes": [],
            "_model_module": "@jupyter-widgets/controls",
            "_model_module_version": "1.5.0",
            "_model_name": "HBoxModel",
            "_view_count": null,
            "_view_module": "@jupyter-widgets/controls",
            "_view_module_version": "1.5.0",
            "_view_name": "HBoxView",
            "box_style": "",
            "children": [
              "IPY_MODEL_1c1d7b36b3d1476abab33fe0032b7bcb",
              "IPY_MODEL_96a63e7ee0314ca2ad19cef3ea5c7633"
            ],
            "layout": "IPY_MODEL_d5a7408346d0491e9278e41c1d6d2165"
          }
        },
        "1c1d7b36b3d1476abab33fe0032b7bcb": {
          "model_module": "@jupyter-widgets/controls",
          "model_name": "FloatProgressModel",
          "state": {
            "_dom_classes": [],
            "_model_module": "@jupyter-widgets/controls",
            "_model_module_version": "1.5.0",
            "_model_name": "FloatProgressModel",
            "_view_count": null,
            "_view_module": "@jupyter-widgets/controls",
            "_view_module_version": "1.5.0",
            "_view_name": "ProgressView",
            "bar_style": "success",
            "description": "Downloading: 100%",
            "description_tooltip": null,
            "layout": "IPY_MODEL_11c64ffa82474f78bdcc279fa81b41aa",
            "max": 651675452,
            "min": 0,
            "orientation": "horizontal",
            "style": "IPY_MODEL_4fe3e196ea3b4f07b4f4b420f50cf610",
            "value": 651675452
          }
        },
        "96a63e7ee0314ca2ad19cef3ea5c7633": {
          "model_module": "@jupyter-widgets/controls",
          "model_name": "HTMLModel",
          "state": {
            "_dom_classes": [],
            "_model_module": "@jupyter-widgets/controls",
            "_model_module_version": "1.5.0",
            "_model_name": "HTMLModel",
            "_view_count": null,
            "_view_module": "@jupyter-widgets/controls",
            "_view_module_version": "1.5.0",
            "_view_name": "HTMLView",
            "description": "",
            "description_tooltip": null,
            "layout": "IPY_MODEL_b0c4e6e8ee2f4602bcda4fc024d404e0",
            "placeholder": "​",
            "style": "IPY_MODEL_6ace2803c0e2414199839d43af801972",
            "value": " 652M/652M [00:14&lt;00:00, 44.0MB/s]"
          }
        },
        "d5a7408346d0491e9278e41c1d6d2165": {
          "model_module": "@jupyter-widgets/base",
          "model_name": "LayoutModel",
          "state": {
            "_model_module": "@jupyter-widgets/base",
            "_model_module_version": "1.2.0",
            "_model_name": "LayoutModel",
            "_view_count": null,
            "_view_module": "@jupyter-widgets/base",
            "_view_module_version": "1.2.0",
            "_view_name": "LayoutView",
            "align_content": null,
            "align_items": null,
            "align_self": null,
            "border": null,
            "bottom": null,
            "display": null,
            "flex": null,
            "flex_flow": null,
            "grid_area": null,
            "grid_auto_columns": null,
            "grid_auto_flow": null,
            "grid_auto_rows": null,
            "grid_column": null,
            "grid_gap": null,
            "grid_row": null,
            "grid_template_areas": null,
            "grid_template_columns": null,
            "grid_template_rows": null,
            "height": null,
            "justify_content": null,
            "justify_items": null,
            "left": null,
            "margin": null,
            "max_height": null,
            "max_width": null,
            "min_height": null,
            "min_width": null,
            "object_fit": null,
            "object_position": null,
            "order": null,
            "overflow": null,
            "overflow_x": null,
            "overflow_y": null,
            "padding": null,
            "right": null,
            "top": null,
            "visibility": null,
            "width": null
          }
        },
        "11c64ffa82474f78bdcc279fa81b41aa": {
          "model_module": "@jupyter-widgets/base",
          "model_name": "LayoutModel",
          "state": {
            "_model_module": "@jupyter-widgets/base",
            "_model_module_version": "1.2.0",
            "_model_name": "LayoutModel",
            "_view_count": null,
            "_view_module": "@jupyter-widgets/base",
            "_view_module_version": "1.2.0",
            "_view_name": "LayoutView",
            "align_content": null,
            "align_items": null,
            "align_self": null,
            "border": null,
            "bottom": null,
            "display": null,
            "flex": null,
            "flex_flow": null,
            "grid_area": null,
            "grid_auto_columns": null,
            "grid_auto_flow": null,
            "grid_auto_rows": null,
            "grid_column": null,
            "grid_gap": null,
            "grid_row": null,
            "grid_template_areas": null,
            "grid_template_columns": null,
            "grid_template_rows": null,
            "height": null,
            "justify_content": null,
            "justify_items": null,
            "left": null,
            "margin": null,
            "max_height": null,
            "max_width": null,
            "min_height": null,
            "min_width": null,
            "object_fit": null,
            "object_position": null,
            "order": null,
            "overflow": null,
            "overflow_x": null,
            "overflow_y": null,
            "padding": null,
            "right": null,
            "top": null,
            "visibility": null,
            "width": null
          }
        },
        "4fe3e196ea3b4f07b4f4b420f50cf610": {
          "model_module": "@jupyter-widgets/controls",
          "model_name": "ProgressStyleModel",
          "state": {
            "_model_module": "@jupyter-widgets/controls",
            "_model_module_version": "1.5.0",
            "_model_name": "ProgressStyleModel",
            "_view_count": null,
            "_view_module": "@jupyter-widgets/base",
            "_view_module_version": "1.2.0",
            "_view_name": "StyleView",
            "bar_color": null,
            "description_width": "initial"
          }
        },
        "b0c4e6e8ee2f4602bcda4fc024d404e0": {
          "model_module": "@jupyter-widgets/base",
          "model_name": "LayoutModel",
          "state": {
            "_model_module": "@jupyter-widgets/base",
            "_model_module_version": "1.2.0",
            "_model_name": "LayoutModel",
            "_view_count": null,
            "_view_module": "@jupyter-widgets/base",
            "_view_module_version": "1.2.0",
            "_view_name": "LayoutView",
            "align_content": null,
            "align_items": null,
            "align_self": null,
            "border": null,
            "bottom": null,
            "display": null,
            "flex": null,
            "flex_flow": null,
            "grid_area": null,
            "grid_auto_columns": null,
            "grid_auto_flow": null,
            "grid_auto_rows": null,
            "grid_column": null,
            "grid_gap": null,
            "grid_row": null,
            "grid_template_areas": null,
            "grid_template_columns": null,
            "grid_template_rows": null,
            "height": null,
            "justify_content": null,
            "justify_items": null,
            "left": null,
            "margin": null,
            "max_height": null,
            "max_width": null,
            "min_height": null,
            "min_width": null,
            "object_fit": null,
            "object_position": null,
            "order": null,
            "overflow": null,
            "overflow_x": null,
            "overflow_y": null,
            "padding": null,
            "right": null,
            "top": null,
            "visibility": null,
            "width": null
          }
        },
        "6ace2803c0e2414199839d43af801972": {
          "model_module": "@jupyter-widgets/controls",
          "model_name": "DescriptionStyleModel",
          "state": {
            "_model_module": "@jupyter-widgets/controls",
            "_model_module_version": "1.5.0",
            "_model_name": "DescriptionStyleModel",
            "_view_count": null,
            "_view_module": "@jupyter-widgets/base",
            "_view_module_version": "1.2.0",
            "_view_name": "StyleView",
            "description_width": ""
          }
        },
        "6dca480de1424b0686f61dd55f16bca3": {
          "model_module": "@jupyter-widgets/controls",
          "model_name": "HBoxModel",
          "state": {
            "_dom_classes": [],
            "_model_module": "@jupyter-widgets/controls",
            "_model_module_version": "1.5.0",
            "_model_name": "HBoxModel",
            "_view_count": null,
            "_view_module": "@jupyter-widgets/controls",
            "_view_module_version": "1.5.0",
            "_view_name": "HBoxView",
            "box_style": "",
            "children": [
              "IPY_MODEL_c0b9160ec32840ae9fce366414f692b0",
              "IPY_MODEL_aa22e80e7b8243bb8294edb6c3a02a6c"
            ],
            "layout": "IPY_MODEL_0eab12bf898d4da394f8e6941699e61f"
          }
        },
        "c0b9160ec32840ae9fce366414f692b0": {
          "model_module": "@jupyter-widgets/controls",
          "model_name": "FloatProgressModel",
          "state": {
            "_dom_classes": [],
            "_model_module": "@jupyter-widgets/controls",
            "_model_module_version": "1.5.0",
            "_model_name": "FloatProgressModel",
            "_view_count": null,
            "_view_module": "@jupyter-widgets/controls",
            "_view_module_version": "1.5.0",
            "_view_name": "ProgressView",
            "bar_style": "success",
            "description": "Downloading: 100%",
            "description_tooltip": null,
            "layout": "IPY_MODEL_a4e6abb923344234a2cd0f572a571399",
            "max": 997,
            "min": 0,
            "orientation": "horizontal",
            "style": "IPY_MODEL_baa257be245a4693a73a967d141f03f1",
            "value": 997
          }
        },
        "aa22e80e7b8243bb8294edb6c3a02a6c": {
          "model_module": "@jupyter-widgets/controls",
          "model_name": "HTMLModel",
          "state": {
            "_dom_classes": [],
            "_model_module": "@jupyter-widgets/controls",
            "_model_module_version": "1.5.0",
            "_model_name": "HTMLModel",
            "_view_count": null,
            "_view_module": "@jupyter-widgets/controls",
            "_view_module_version": "1.5.0",
            "_view_name": "HTMLView",
            "description": "",
            "description_tooltip": null,
            "layout": "IPY_MODEL_1b5645d17be9458dbb4c4735d753e24c",
            "placeholder": "​",
            "style": "IPY_MODEL_9c19f7f2252e46ca9d7b874872f356f8",
            "value": " 997/997 [00:00&lt;00:00, 3.93kB/s]"
          }
        },
        "0eab12bf898d4da394f8e6941699e61f": {
          "model_module": "@jupyter-widgets/base",
          "model_name": "LayoutModel",
          "state": {
            "_model_module": "@jupyter-widgets/base",
            "_model_module_version": "1.2.0",
            "_model_name": "LayoutModel",
            "_view_count": null,
            "_view_module": "@jupyter-widgets/base",
            "_view_module_version": "1.2.0",
            "_view_name": "LayoutView",
            "align_content": null,
            "align_items": null,
            "align_self": null,
            "border": null,
            "bottom": null,
            "display": null,
            "flex": null,
            "flex_flow": null,
            "grid_area": null,
            "grid_auto_columns": null,
            "grid_auto_flow": null,
            "grid_auto_rows": null,
            "grid_column": null,
            "grid_gap": null,
            "grid_row": null,
            "grid_template_areas": null,
            "grid_template_columns": null,
            "grid_template_rows": null,
            "height": null,
            "justify_content": null,
            "justify_items": null,
            "left": null,
            "margin": null,
            "max_height": null,
            "max_width": null,
            "min_height": null,
            "min_width": null,
            "object_fit": null,
            "object_position": null,
            "order": null,
            "overflow": null,
            "overflow_x": null,
            "overflow_y": null,
            "padding": null,
            "right": null,
            "top": null,
            "visibility": null,
            "width": null
          }
        },
        "a4e6abb923344234a2cd0f572a571399": {
          "model_module": "@jupyter-widgets/base",
          "model_name": "LayoutModel",
          "state": {
            "_model_module": "@jupyter-widgets/base",
            "_model_module_version": "1.2.0",
            "_model_name": "LayoutModel",
            "_view_count": null,
            "_view_module": "@jupyter-widgets/base",
            "_view_module_version": "1.2.0",
            "_view_name": "LayoutView",
            "align_content": null,
            "align_items": null,
            "align_self": null,
            "border": null,
            "bottom": null,
            "display": null,
            "flex": null,
            "flex_flow": null,
            "grid_area": null,
            "grid_auto_columns": null,
            "grid_auto_flow": null,
            "grid_auto_rows": null,
            "grid_column": null,
            "grid_gap": null,
            "grid_row": null,
            "grid_template_areas": null,
            "grid_template_columns": null,
            "grid_template_rows": null,
            "height": null,
            "justify_content": null,
            "justify_items": null,
            "left": null,
            "margin": null,
            "max_height": null,
            "max_width": null,
            "min_height": null,
            "min_width": null,
            "object_fit": null,
            "object_position": null,
            "order": null,
            "overflow": null,
            "overflow_x": null,
            "overflow_y": null,
            "padding": null,
            "right": null,
            "top": null,
            "visibility": null,
            "width": null
          }
        },
        "baa257be245a4693a73a967d141f03f1": {
          "model_module": "@jupyter-widgets/controls",
          "model_name": "ProgressStyleModel",
          "state": {
            "_model_module": "@jupyter-widgets/controls",
            "_model_module_version": "1.5.0",
            "_model_name": "ProgressStyleModel",
            "_view_count": null,
            "_view_module": "@jupyter-widgets/base",
            "_view_module_version": "1.2.0",
            "_view_name": "StyleView",
            "bar_color": null,
            "description_width": "initial"
          }
        },
        "1b5645d17be9458dbb4c4735d753e24c": {
          "model_module": "@jupyter-widgets/base",
          "model_name": "LayoutModel",
          "state": {
            "_model_module": "@jupyter-widgets/base",
            "_model_module_version": "1.2.0",
            "_model_name": "LayoutModel",
            "_view_count": null,
            "_view_module": "@jupyter-widgets/base",
            "_view_module_version": "1.2.0",
            "_view_name": "LayoutView",
            "align_content": null,
            "align_items": null,
            "align_self": null,
            "border": null,
            "bottom": null,
            "display": null,
            "flex": null,
            "flex_flow": null,
            "grid_area": null,
            "grid_auto_columns": null,
            "grid_auto_flow": null,
            "grid_auto_rows": null,
            "grid_column": null,
            "grid_gap": null,
            "grid_row": null,
            "grid_template_areas": null,
            "grid_template_columns": null,
            "grid_template_rows": null,
            "height": null,
            "justify_content": null,
            "justify_items": null,
            "left": null,
            "margin": null,
            "max_height": null,
            "max_width": null,
            "min_height": null,
            "min_width": null,
            "object_fit": null,
            "object_position": null,
            "order": null,
            "overflow": null,
            "overflow_x": null,
            "overflow_y": null,
            "padding": null,
            "right": null,
            "top": null,
            "visibility": null,
            "width": null
          }
        },
        "9c19f7f2252e46ca9d7b874872f356f8": {
          "model_module": "@jupyter-widgets/controls",
          "model_name": "DescriptionStyleModel",
          "state": {
            "_model_module": "@jupyter-widgets/controls",
            "_model_module_version": "1.5.0",
            "_model_name": "DescriptionStyleModel",
            "_view_count": null,
            "_view_module": "@jupyter-widgets/base",
            "_view_module_version": "1.2.0",
            "_view_name": "StyleView",
            "description_width": ""
          }
        },
        "5d14447d0d8b4c6a8cdda46485958707": {
          "model_module": "@jupyter-widgets/controls",
          "model_name": "HBoxModel",
          "state": {
            "_dom_classes": [],
            "_model_module": "@jupyter-widgets/controls",
            "_model_module_version": "1.5.0",
            "_model_name": "HBoxModel",
            "_view_count": null,
            "_view_module": "@jupyter-widgets/controls",
            "_view_module_version": "1.5.0",
            "_view_name": "HBoxView",
            "box_style": "",
            "children": [
              "IPY_MODEL_f1de64d37fdb4625818388fb5eac9d15",
              "IPY_MODEL_3a98593fe7574229aab2ffb2bd0daa0c"
            ],
            "layout": "IPY_MODEL_4b34ce85c26b427aba6b0b3c44e3fe16"
          }
        },
        "f1de64d37fdb4625818388fb5eac9d15": {
          "model_module": "@jupyter-widgets/controls",
          "model_name": "FloatProgressModel",
          "state": {
            "_dom_classes": [],
            "_model_module": "@jupyter-widgets/controls",
            "_model_module_version": "1.5.0",
            "_model_name": "FloatProgressModel",
            "_view_count": null,
            "_view_module": "@jupyter-widgets/controls",
            "_view_module_version": "1.5.0",
            "_view_name": "ProgressView",
            "bar_style": "success",
            "description": "Downloading: 100%",
            "description_tooltip": null,
            "layout": "IPY_MODEL_97865695d287406aba3bc020e4d67902",
            "max": 1215509,
            "min": 0,
            "orientation": "horizontal",
            "style": "IPY_MODEL_6dd95e1b8458427d8a5f64d28e2fa27d",
            "value": 1215509
          }
        },
        "3a98593fe7574229aab2ffb2bd0daa0c": {
          "model_module": "@jupyter-widgets/controls",
          "model_name": "HTMLModel",
          "state": {
            "_dom_classes": [],
            "_model_module": "@jupyter-widgets/controls",
            "_model_module_version": "1.5.0",
            "_model_name": "HTMLModel",
            "_view_count": null,
            "_view_module": "@jupyter-widgets/controls",
            "_view_module_version": "1.5.0",
            "_view_name": "HTMLView",
            "description": "",
            "description_tooltip": null,
            "layout": "IPY_MODEL_521934bbd6a548f0a093bc45222acb57",
            "placeholder": "​",
            "style": "IPY_MODEL_eb89162246d44a728a1fc04a415830dd",
            "value": " 1.22M/1.22M [00:00&lt;00:00, 8.62MB/s]"
          }
        },
        "4b34ce85c26b427aba6b0b3c44e3fe16": {
          "model_module": "@jupyter-widgets/base",
          "model_name": "LayoutModel",
          "state": {
            "_model_module": "@jupyter-widgets/base",
            "_model_module_version": "1.2.0",
            "_model_name": "LayoutModel",
            "_view_count": null,
            "_view_module": "@jupyter-widgets/base",
            "_view_module_version": "1.2.0",
            "_view_name": "LayoutView",
            "align_content": null,
            "align_items": null,
            "align_self": null,
            "border": null,
            "bottom": null,
            "display": null,
            "flex": null,
            "flex_flow": null,
            "grid_area": null,
            "grid_auto_columns": null,
            "grid_auto_flow": null,
            "grid_auto_rows": null,
            "grid_column": null,
            "grid_gap": null,
            "grid_row": null,
            "grid_template_areas": null,
            "grid_template_columns": null,
            "grid_template_rows": null,
            "height": null,
            "justify_content": null,
            "justify_items": null,
            "left": null,
            "margin": null,
            "max_height": null,
            "max_width": null,
            "min_height": null,
            "min_width": null,
            "object_fit": null,
            "object_position": null,
            "order": null,
            "overflow": null,
            "overflow_x": null,
            "overflow_y": null,
            "padding": null,
            "right": null,
            "top": null,
            "visibility": null,
            "width": null
          }
        },
        "97865695d287406aba3bc020e4d67902": {
          "model_module": "@jupyter-widgets/base",
          "model_name": "LayoutModel",
          "state": {
            "_model_module": "@jupyter-widgets/base",
            "_model_module_version": "1.2.0",
            "_model_name": "LayoutModel",
            "_view_count": null,
            "_view_module": "@jupyter-widgets/base",
            "_view_module_version": "1.2.0",
            "_view_name": "LayoutView",
            "align_content": null,
            "align_items": null,
            "align_self": null,
            "border": null,
            "bottom": null,
            "display": null,
            "flex": null,
            "flex_flow": null,
            "grid_area": null,
            "grid_auto_columns": null,
            "grid_auto_flow": null,
            "grid_auto_rows": null,
            "grid_column": null,
            "grid_gap": null,
            "grid_row": null,
            "grid_template_areas": null,
            "grid_template_columns": null,
            "grid_template_rows": null,
            "height": null,
            "justify_content": null,
            "justify_items": null,
            "left": null,
            "margin": null,
            "max_height": null,
            "max_width": null,
            "min_height": null,
            "min_width": null,
            "object_fit": null,
            "object_position": null,
            "order": null,
            "overflow": null,
            "overflow_x": null,
            "overflow_y": null,
            "padding": null,
            "right": null,
            "top": null,
            "visibility": null,
            "width": null
          }
        },
        "6dd95e1b8458427d8a5f64d28e2fa27d": {
          "model_module": "@jupyter-widgets/controls",
          "model_name": "ProgressStyleModel",
          "state": {
            "_model_module": "@jupyter-widgets/controls",
            "_model_module_version": "1.5.0",
            "_model_name": "ProgressStyleModel",
            "_view_count": null,
            "_view_module": "@jupyter-widgets/base",
            "_view_module_version": "1.2.0",
            "_view_name": "StyleView",
            "bar_color": null,
            "description_width": "initial"
          }
        },
        "521934bbd6a548f0a093bc45222acb57": {
          "model_module": "@jupyter-widgets/base",
          "model_name": "LayoutModel",
          "state": {
            "_model_module": "@jupyter-widgets/base",
            "_model_module_version": "1.2.0",
            "_model_name": "LayoutModel",
            "_view_count": null,
            "_view_module": "@jupyter-widgets/base",
            "_view_module_version": "1.2.0",
            "_view_name": "LayoutView",
            "align_content": null,
            "align_items": null,
            "align_self": null,
            "border": null,
            "bottom": null,
            "display": null,
            "flex": null,
            "flex_flow": null,
            "grid_area": null,
            "grid_auto_columns": null,
            "grid_auto_flow": null,
            "grid_auto_rows": null,
            "grid_column": null,
            "grid_gap": null,
            "grid_row": null,
            "grid_template_areas": null,
            "grid_template_columns": null,
            "grid_template_rows": null,
            "height": null,
            "justify_content": null,
            "justify_items": null,
            "left": null,
            "margin": null,
            "max_height": null,
            "max_width": null,
            "min_height": null,
            "min_width": null,
            "object_fit": null,
            "object_position": null,
            "order": null,
            "overflow": null,
            "overflow_x": null,
            "overflow_y": null,
            "padding": null,
            "right": null,
            "top": null,
            "visibility": null,
            "width": null
          }
        },
        "eb89162246d44a728a1fc04a415830dd": {
          "model_module": "@jupyter-widgets/controls",
          "model_name": "DescriptionStyleModel",
          "state": {
            "_model_module": "@jupyter-widgets/controls",
            "_model_module_version": "1.5.0",
            "_model_name": "DescriptionStyleModel",
            "_view_count": null,
            "_view_module": "@jupyter-widgets/base",
            "_view_module_version": "1.2.0",
            "_view_name": "StyleView",
            "description_width": ""
          }
        },
        "2233c13022df4bde81f41d8416a7c2e5": {
          "model_module": "@jupyter-widgets/controls",
          "model_name": "HBoxModel",
          "state": {
            "_dom_classes": [],
            "_model_module": "@jupyter-widgets/controls",
            "_model_module_version": "1.5.0",
            "_model_name": "HBoxModel",
            "_view_count": null,
            "_view_module": "@jupyter-widgets/controls",
            "_view_module_version": "1.5.0",
            "_view_name": "HBoxView",
            "box_style": "",
            "children": [
              "IPY_MODEL_bec001c40f0841cba192b969eed79199",
              "IPY_MODEL_9f64771fe9a9483798d1531faa88a6ca"
            ],
            "layout": "IPY_MODEL_b7cd211fe67842499c338f3b8677fc75"
          }
        },
        "bec001c40f0841cba192b969eed79199": {
          "model_module": "@jupyter-widgets/controls",
          "model_name": "FloatProgressModel",
          "state": {
            "_dom_classes": [],
            "_model_module": "@jupyter-widgets/controls",
            "_model_module_version": "1.5.0",
            "_model_name": "FloatProgressModel",
            "_view_count": null,
            "_view_module": "@jupyter-widgets/controls",
            "_view_module_version": "1.5.0",
            "_view_name": "ProgressView",
            "bar_style": "success",
            "description": "Downloading: 100%",
            "description_tooltip": null,
            "layout": "IPY_MODEL_130999ff90eb42c08619ceb0ebe8bd43",
            "max": 112,
            "min": 0,
            "orientation": "horizontal",
            "style": "IPY_MODEL_c7be6997ca2f4d2085d9cc07710ca9b7",
            "value": 112
          }
        },
        "9f64771fe9a9483798d1531faa88a6ca": {
          "model_module": "@jupyter-widgets/controls",
          "model_name": "HTMLModel",
          "state": {
            "_dom_classes": [],
            "_model_module": "@jupyter-widgets/controls",
            "_model_module_version": "1.5.0",
            "_model_name": "HTMLModel",
            "_view_count": null,
            "_view_module": "@jupyter-widgets/controls",
            "_view_module_version": "1.5.0",
            "_view_name": "HTMLView",
            "description": "",
            "description_tooltip": null,
            "layout": "IPY_MODEL_8bc05211ec804d0fa53ed31e3366e2c5",
            "placeholder": "​",
            "style": "IPY_MODEL_0a01d4aee53b4cd3ba18f0ec071d9df0",
            "value": " 112/112 [00:00&lt;00:00, 536B/s]"
          }
        },
        "b7cd211fe67842499c338f3b8677fc75": {
          "model_module": "@jupyter-widgets/base",
          "model_name": "LayoutModel",
          "state": {
            "_model_module": "@jupyter-widgets/base",
            "_model_module_version": "1.2.0",
            "_model_name": "LayoutModel",
            "_view_count": null,
            "_view_module": "@jupyter-widgets/base",
            "_view_module_version": "1.2.0",
            "_view_name": "LayoutView",
            "align_content": null,
            "align_items": null,
            "align_self": null,
            "border": null,
            "bottom": null,
            "display": null,
            "flex": null,
            "flex_flow": null,
            "grid_area": null,
            "grid_auto_columns": null,
            "grid_auto_flow": null,
            "grid_auto_rows": null,
            "grid_column": null,
            "grid_gap": null,
            "grid_row": null,
            "grid_template_areas": null,
            "grid_template_columns": null,
            "grid_template_rows": null,
            "height": null,
            "justify_content": null,
            "justify_items": null,
            "left": null,
            "margin": null,
            "max_height": null,
            "max_width": null,
            "min_height": null,
            "min_width": null,
            "object_fit": null,
            "object_position": null,
            "order": null,
            "overflow": null,
            "overflow_x": null,
            "overflow_y": null,
            "padding": null,
            "right": null,
            "top": null,
            "visibility": null,
            "width": null
          }
        },
        "130999ff90eb42c08619ceb0ebe8bd43": {
          "model_module": "@jupyter-widgets/base",
          "model_name": "LayoutModel",
          "state": {
            "_model_module": "@jupyter-widgets/base",
            "_model_module_version": "1.2.0",
            "_model_name": "LayoutModel",
            "_view_count": null,
            "_view_module": "@jupyter-widgets/base",
            "_view_module_version": "1.2.0",
            "_view_name": "LayoutView",
            "align_content": null,
            "align_items": null,
            "align_self": null,
            "border": null,
            "bottom": null,
            "display": null,
            "flex": null,
            "flex_flow": null,
            "grid_area": null,
            "grid_auto_columns": null,
            "grid_auto_flow": null,
            "grid_auto_rows": null,
            "grid_column": null,
            "grid_gap": null,
            "grid_row": null,
            "grid_template_areas": null,
            "grid_template_columns": null,
            "grid_template_rows": null,
            "height": null,
            "justify_content": null,
            "justify_items": null,
            "left": null,
            "margin": null,
            "max_height": null,
            "max_width": null,
            "min_height": null,
            "min_width": null,
            "object_fit": null,
            "object_position": null,
            "order": null,
            "overflow": null,
            "overflow_x": null,
            "overflow_y": null,
            "padding": null,
            "right": null,
            "top": null,
            "visibility": null,
            "width": null
          }
        },
        "c7be6997ca2f4d2085d9cc07710ca9b7": {
          "model_module": "@jupyter-widgets/controls",
          "model_name": "ProgressStyleModel",
          "state": {
            "_model_module": "@jupyter-widgets/controls",
            "_model_module_version": "1.5.0",
            "_model_name": "ProgressStyleModel",
            "_view_count": null,
            "_view_module": "@jupyter-widgets/base",
            "_view_module_version": "1.2.0",
            "_view_name": "StyleView",
            "bar_color": null,
            "description_width": "initial"
          }
        },
        "8bc05211ec804d0fa53ed31e3366e2c5": {
          "model_module": "@jupyter-widgets/base",
          "model_name": "LayoutModel",
          "state": {
            "_model_module": "@jupyter-widgets/base",
            "_model_module_version": "1.2.0",
            "_model_name": "LayoutModel",
            "_view_count": null,
            "_view_module": "@jupyter-widgets/base",
            "_view_module_version": "1.2.0",
            "_view_name": "LayoutView",
            "align_content": null,
            "align_items": null,
            "align_self": null,
            "border": null,
            "bottom": null,
            "display": null,
            "flex": null,
            "flex_flow": null,
            "grid_area": null,
            "grid_auto_columns": null,
            "grid_auto_flow": null,
            "grid_auto_rows": null,
            "grid_column": null,
            "grid_gap": null,
            "grid_row": null,
            "grid_template_areas": null,
            "grid_template_columns": null,
            "grid_template_rows": null,
            "height": null,
            "justify_content": null,
            "justify_items": null,
            "left": null,
            "margin": null,
            "max_height": null,
            "max_width": null,
            "min_height": null,
            "min_width": null,
            "object_fit": null,
            "object_position": null,
            "order": null,
            "overflow": null,
            "overflow_x": null,
            "overflow_y": null,
            "padding": null,
            "right": null,
            "top": null,
            "visibility": null,
            "width": null
          }
        },
        "0a01d4aee53b4cd3ba18f0ec071d9df0": {
          "model_module": "@jupyter-widgets/controls",
          "model_name": "DescriptionStyleModel",
          "state": {
            "_model_module": "@jupyter-widgets/controls",
            "_model_module_version": "1.5.0",
            "_model_name": "DescriptionStyleModel",
            "_view_count": null,
            "_view_module": "@jupyter-widgets/base",
            "_view_module_version": "1.2.0",
            "_view_name": "StyleView",
            "description_width": ""
          }
        },
        "669a139f76d541abb2860b27845a4e76": {
          "model_module": "@jupyter-widgets/controls",
          "model_name": "HBoxModel",
          "state": {
            "_dom_classes": [],
            "_model_module": "@jupyter-widgets/controls",
            "_model_module_version": "1.5.0",
            "_model_name": "HBoxModel",
            "_view_count": null,
            "_view_module": "@jupyter-widgets/controls",
            "_view_module_version": "1.5.0",
            "_view_name": "HBoxView",
            "box_style": "",
            "children": [
              "IPY_MODEL_d3dd22788b2c49d0b53400604b4aabf5",
              "IPY_MODEL_fd733b5bd9a942b88bb73e366923c6c6"
            ],
            "layout": "IPY_MODEL_b687c2c088c54d61b8cc4d5b3d37b1b7"
          }
        },
        "d3dd22788b2c49d0b53400604b4aabf5": {
          "model_module": "@jupyter-widgets/controls",
          "model_name": "FloatProgressModel",
          "state": {
            "_dom_classes": [],
            "_model_module": "@jupyter-widgets/controls",
            "_model_module_version": "1.5.0",
            "_model_name": "FloatProgressModel",
            "_view_count": null,
            "_view_module": "@jupyter-widgets/controls",
            "_view_module_version": "1.5.0",
            "_view_name": "ProgressView",
            "bar_style": "success",
            "description": "Downloading: 100%",
            "description_tooltip": null,
            "layout": "IPY_MODEL_88abeefc8ccd489ba36ee5e202b05a90",
            "max": 2,
            "min": 0,
            "orientation": "horizontal",
            "style": "IPY_MODEL_f7a367ac95b54bab92dbe074267a3ccc",
            "value": 2
          }
        },
        "fd733b5bd9a942b88bb73e366923c6c6": {
          "model_module": "@jupyter-widgets/controls",
          "model_name": "HTMLModel",
          "state": {
            "_dom_classes": [],
            "_model_module": "@jupyter-widgets/controls",
            "_model_module_version": "1.5.0",
            "_model_name": "HTMLModel",
            "_view_count": null,
            "_view_module": "@jupyter-widgets/controls",
            "_view_module_version": "1.5.0",
            "_view_name": "HTMLView",
            "description": "",
            "description_tooltip": null,
            "layout": "IPY_MODEL_babb926c5e5948d2b7cdfd19ee96e461",
            "placeholder": "​",
            "style": "IPY_MODEL_adfb178a9db94fee96b110002e07c3e0",
            "value": " 2.00/2.00 [00:00&lt;00:00, 17.1B/s]"
          }
        },
        "b687c2c088c54d61b8cc4d5b3d37b1b7": {
          "model_module": "@jupyter-widgets/base",
          "model_name": "LayoutModel",
          "state": {
            "_model_module": "@jupyter-widgets/base",
            "_model_module_version": "1.2.0",
            "_model_name": "LayoutModel",
            "_view_count": null,
            "_view_module": "@jupyter-widgets/base",
            "_view_module_version": "1.2.0",
            "_view_name": "LayoutView",
            "align_content": null,
            "align_items": null,
            "align_self": null,
            "border": null,
            "bottom": null,
            "display": null,
            "flex": null,
            "flex_flow": null,
            "grid_area": null,
            "grid_auto_columns": null,
            "grid_auto_flow": null,
            "grid_auto_rows": null,
            "grid_column": null,
            "grid_gap": null,
            "grid_row": null,
            "grid_template_areas": null,
            "grid_template_columns": null,
            "grid_template_rows": null,
            "height": null,
            "justify_content": null,
            "justify_items": null,
            "left": null,
            "margin": null,
            "max_height": null,
            "max_width": null,
            "min_height": null,
            "min_width": null,
            "object_fit": null,
            "object_position": null,
            "order": null,
            "overflow": null,
            "overflow_x": null,
            "overflow_y": null,
            "padding": null,
            "right": null,
            "top": null,
            "visibility": null,
            "width": null
          }
        },
        "88abeefc8ccd489ba36ee5e202b05a90": {
          "model_module": "@jupyter-widgets/base",
          "model_name": "LayoutModel",
          "state": {
            "_model_module": "@jupyter-widgets/base",
            "_model_module_version": "1.2.0",
            "_model_name": "LayoutModel",
            "_view_count": null,
            "_view_module": "@jupyter-widgets/base",
            "_view_module_version": "1.2.0",
            "_view_name": "LayoutView",
            "align_content": null,
            "align_items": null,
            "align_self": null,
            "border": null,
            "bottom": null,
            "display": null,
            "flex": null,
            "flex_flow": null,
            "grid_area": null,
            "grid_auto_columns": null,
            "grid_auto_flow": null,
            "grid_auto_rows": null,
            "grid_column": null,
            "grid_gap": null,
            "grid_row": null,
            "grid_template_areas": null,
            "grid_template_columns": null,
            "grid_template_rows": null,
            "height": null,
            "justify_content": null,
            "justify_items": null,
            "left": null,
            "margin": null,
            "max_height": null,
            "max_width": null,
            "min_height": null,
            "min_width": null,
            "object_fit": null,
            "object_position": null,
            "order": null,
            "overflow": null,
            "overflow_x": null,
            "overflow_y": null,
            "padding": null,
            "right": null,
            "top": null,
            "visibility": null,
            "width": null
          }
        },
        "f7a367ac95b54bab92dbe074267a3ccc": {
          "model_module": "@jupyter-widgets/controls",
          "model_name": "ProgressStyleModel",
          "state": {
            "_model_module": "@jupyter-widgets/controls",
            "_model_module_version": "1.5.0",
            "_model_name": "ProgressStyleModel",
            "_view_count": null,
            "_view_module": "@jupyter-widgets/base",
            "_view_module_version": "1.2.0",
            "_view_name": "StyleView",
            "bar_color": null,
            "description_width": "initial"
          }
        },
        "babb926c5e5948d2b7cdfd19ee96e461": {
          "model_module": "@jupyter-widgets/base",
          "model_name": "LayoutModel",
          "state": {
            "_model_module": "@jupyter-widgets/base",
            "_model_module_version": "1.2.0",
            "_model_name": "LayoutModel",
            "_view_count": null,
            "_view_module": "@jupyter-widgets/base",
            "_view_module_version": "1.2.0",
            "_view_name": "LayoutView",
            "align_content": null,
            "align_items": null,
            "align_self": null,
            "border": null,
            "bottom": null,
            "display": null,
            "flex": null,
            "flex_flow": null,
            "grid_area": null,
            "grid_auto_columns": null,
            "grid_auto_flow": null,
            "grid_auto_rows": null,
            "grid_column": null,
            "grid_gap": null,
            "grid_row": null,
            "grid_template_areas": null,
            "grid_template_columns": null,
            "grid_template_rows": null,
            "height": null,
            "justify_content": null,
            "justify_items": null,
            "left": null,
            "margin": null,
            "max_height": null,
            "max_width": null,
            "min_height": null,
            "min_width": null,
            "object_fit": null,
            "object_position": null,
            "order": null,
            "overflow": null,
            "overflow_x": null,
            "overflow_y": null,
            "padding": null,
            "right": null,
            "top": null,
            "visibility": null,
            "width": null
          }
        },
        "adfb178a9db94fee96b110002e07c3e0": {
          "model_module": "@jupyter-widgets/controls",
          "model_name": "DescriptionStyleModel",
          "state": {
            "_model_module": "@jupyter-widgets/controls",
            "_model_module_version": "1.5.0",
            "_model_name": "DescriptionStyleModel",
            "_view_count": null,
            "_view_module": "@jupyter-widgets/base",
            "_view_module_version": "1.2.0",
            "_view_name": "StyleView",
            "description_width": ""
          }
        },
        "57e1912540a74e44b0ca9fa2d42f6f59": {
          "model_module": "@jupyter-widgets/controls",
          "model_name": "HBoxModel",
          "state": {
            "_dom_classes": [],
            "_model_module": "@jupyter-widgets/controls",
            "_model_module_version": "1.5.0",
            "_model_name": "HBoxModel",
            "_view_count": null,
            "_view_module": "@jupyter-widgets/controls",
            "_view_module_version": "1.5.0",
            "_view_name": "HBoxView",
            "box_style": "",
            "children": [
              "IPY_MODEL_cbea1eeb589146eeb0fb86aad8379bac",
              "IPY_MODEL_8ff6eb32860f41809ce126eb652265a8"
            ],
            "layout": "IPY_MODEL_500a2ea9f91a402e848033de0cf17a84"
          }
        },
        "cbea1eeb589146eeb0fb86aad8379bac": {
          "model_module": "@jupyter-widgets/controls",
          "model_name": "FloatProgressModel",
          "state": {
            "_dom_classes": [],
            "_model_module": "@jupyter-widgets/controls",
            "_model_module_version": "1.5.0",
            "_model_name": "FloatProgressModel",
            "_view_count": null,
            "_view_module": "@jupyter-widgets/controls",
            "_view_module_version": "1.5.0",
            "_view_name": "ProgressView",
            "bar_style": "success",
            "description": "Downloading: 100%",
            "description_tooltip": null,
            "layout": "IPY_MODEL_3e11d7eb24664a829739fd0c2f63df09",
            "max": 651681604,
            "min": 0,
            "orientation": "horizontal",
            "style": "IPY_MODEL_1c6a7c856e724c4c9ac5fcebcd8dfc36",
            "value": 651681604
          }
        },
        "8ff6eb32860f41809ce126eb652265a8": {
          "model_module": "@jupyter-widgets/controls",
          "model_name": "HTMLModel",
          "state": {
            "_dom_classes": [],
            "_model_module": "@jupyter-widgets/controls",
            "_model_module_version": "1.5.0",
            "_model_name": "HTMLModel",
            "_view_count": null,
            "_view_module": "@jupyter-widgets/controls",
            "_view_module_version": "1.5.0",
            "_view_name": "HTMLView",
            "description": "",
            "description_tooltip": null,
            "layout": "IPY_MODEL_7f275c05116c490abfe3a51c95d29483",
            "placeholder": "​",
            "style": "IPY_MODEL_bf9a9dfa6c464a7c9bbd46bdccf5a10d",
            "value": " 652M/652M [00:14&lt;00:00, 44.4MB/s]"
          }
        },
        "500a2ea9f91a402e848033de0cf17a84": {
          "model_module": "@jupyter-widgets/base",
          "model_name": "LayoutModel",
          "state": {
            "_model_module": "@jupyter-widgets/base",
            "_model_module_version": "1.2.0",
            "_model_name": "LayoutModel",
            "_view_count": null,
            "_view_module": "@jupyter-widgets/base",
            "_view_module_version": "1.2.0",
            "_view_name": "LayoutView",
            "align_content": null,
            "align_items": null,
            "align_self": null,
            "border": null,
            "bottom": null,
            "display": null,
            "flex": null,
            "flex_flow": null,
            "grid_area": null,
            "grid_auto_columns": null,
            "grid_auto_flow": null,
            "grid_auto_rows": null,
            "grid_column": null,
            "grid_gap": null,
            "grid_row": null,
            "grid_template_areas": null,
            "grid_template_columns": null,
            "grid_template_rows": null,
            "height": null,
            "justify_content": null,
            "justify_items": null,
            "left": null,
            "margin": null,
            "max_height": null,
            "max_width": null,
            "min_height": null,
            "min_width": null,
            "object_fit": null,
            "object_position": null,
            "order": null,
            "overflow": null,
            "overflow_x": null,
            "overflow_y": null,
            "padding": null,
            "right": null,
            "top": null,
            "visibility": null,
            "width": null
          }
        },
        "3e11d7eb24664a829739fd0c2f63df09": {
          "model_module": "@jupyter-widgets/base",
          "model_name": "LayoutModel",
          "state": {
            "_model_module": "@jupyter-widgets/base",
            "_model_module_version": "1.2.0",
            "_model_name": "LayoutModel",
            "_view_count": null,
            "_view_module": "@jupyter-widgets/base",
            "_view_module_version": "1.2.0",
            "_view_name": "LayoutView",
            "align_content": null,
            "align_items": null,
            "align_self": null,
            "border": null,
            "bottom": null,
            "display": null,
            "flex": null,
            "flex_flow": null,
            "grid_area": null,
            "grid_auto_columns": null,
            "grid_auto_flow": null,
            "grid_auto_rows": null,
            "grid_column": null,
            "grid_gap": null,
            "grid_row": null,
            "grid_template_areas": null,
            "grid_template_columns": null,
            "grid_template_rows": null,
            "height": null,
            "justify_content": null,
            "justify_items": null,
            "left": null,
            "margin": null,
            "max_height": null,
            "max_width": null,
            "min_height": null,
            "min_width": null,
            "object_fit": null,
            "object_position": null,
            "order": null,
            "overflow": null,
            "overflow_x": null,
            "overflow_y": null,
            "padding": null,
            "right": null,
            "top": null,
            "visibility": null,
            "width": null
          }
        },
        "1c6a7c856e724c4c9ac5fcebcd8dfc36": {
          "model_module": "@jupyter-widgets/controls",
          "model_name": "ProgressStyleModel",
          "state": {
            "_model_module": "@jupyter-widgets/controls",
            "_model_module_version": "1.5.0",
            "_model_name": "ProgressStyleModel",
            "_view_count": null,
            "_view_module": "@jupyter-widgets/base",
            "_view_module_version": "1.2.0",
            "_view_name": "StyleView",
            "bar_color": null,
            "description_width": "initial"
          }
        },
        "7f275c05116c490abfe3a51c95d29483": {
          "model_module": "@jupyter-widgets/base",
          "model_name": "LayoutModel",
          "state": {
            "_model_module": "@jupyter-widgets/base",
            "_model_module_version": "1.2.0",
            "_model_name": "LayoutModel",
            "_view_count": null,
            "_view_module": "@jupyter-widgets/base",
            "_view_module_version": "1.2.0",
            "_view_name": "LayoutView",
            "align_content": null,
            "align_items": null,
            "align_self": null,
            "border": null,
            "bottom": null,
            "display": null,
            "flex": null,
            "flex_flow": null,
            "grid_area": null,
            "grid_auto_columns": null,
            "grid_auto_flow": null,
            "grid_auto_rows": null,
            "grid_column": null,
            "grid_gap": null,
            "grid_row": null,
            "grid_template_areas": null,
            "grid_template_columns": null,
            "grid_template_rows": null,
            "height": null,
            "justify_content": null,
            "justify_items": null,
            "left": null,
            "margin": null,
            "max_height": null,
            "max_width": null,
            "min_height": null,
            "min_width": null,
            "object_fit": null,
            "object_position": null,
            "order": null,
            "overflow": null,
            "overflow_x": null,
            "overflow_y": null,
            "padding": null,
            "right": null,
            "top": null,
            "visibility": null,
            "width": null
          }
        },
        "bf9a9dfa6c464a7c9bbd46bdccf5a10d": {
          "model_module": "@jupyter-widgets/controls",
          "model_name": "DescriptionStyleModel",
          "state": {
            "_model_module": "@jupyter-widgets/controls",
            "_model_module_version": "1.5.0",
            "_model_name": "DescriptionStyleModel",
            "_view_count": null,
            "_view_module": "@jupyter-widgets/base",
            "_view_module_version": "1.2.0",
            "_view_name": "StyleView",
            "description_width": ""
          }
        },
        "ae616fe0b5d14ae980f0362fd6f87759": {
          "model_module": "@jupyter-widgets/controls",
          "model_name": "HBoxModel",
          "state": {
            "_dom_classes": [],
            "_model_module": "@jupyter-widgets/controls",
            "_model_module_version": "1.5.0",
            "_model_name": "HBoxModel",
            "_view_count": null,
            "_view_module": "@jupyter-widgets/controls",
            "_view_module_version": "1.5.0",
            "_view_name": "HBoxView",
            "box_style": "",
            "children": [
              "IPY_MODEL_e57a324b3c484c4fafd8077ecfcad32a",
              "IPY_MODEL_5c52df95f69b44f7969449e0ede72ba2"
            ],
            "layout": "IPY_MODEL_c8d4f117dfaa434096c847ffd7de19e9"
          }
        },
        "e57a324b3c484c4fafd8077ecfcad32a": {
          "model_module": "@jupyter-widgets/controls",
          "model_name": "FloatProgressModel",
          "state": {
            "_dom_classes": [],
            "_model_module": "@jupyter-widgets/controls",
            "_model_module_version": "1.5.0",
            "_model_name": "FloatProgressModel",
            "_view_count": null,
            "_view_module": "@jupyter-widgets/controls",
            "_view_module_version": "1.5.0",
            "_view_name": "ProgressView",
            "bar_style": "success",
            "description": "Downloading: 100%",
            "description_tooltip": null,
            "layout": "IPY_MODEL_f812990ef2654818a28cb33b5e0e7a53",
            "max": 1357,
            "min": 0,
            "orientation": "horizontal",
            "style": "IPY_MODEL_cd11d2ede987485aabe1b4adbee69d91",
            "value": 1357
          }
        },
        "5c52df95f69b44f7969449e0ede72ba2": {
          "model_module": "@jupyter-widgets/controls",
          "model_name": "HTMLModel",
          "state": {
            "_dom_classes": [],
            "_model_module": "@jupyter-widgets/controls",
            "_model_module_version": "1.5.0",
            "_model_name": "HTMLModel",
            "_view_count": null,
            "_view_module": "@jupyter-widgets/controls",
            "_view_module_version": "1.5.0",
            "_view_name": "HTMLView",
            "description": "",
            "description_tooltip": null,
            "layout": "IPY_MODEL_9996093f4a40499682326acc8352d85f",
            "placeholder": "​",
            "style": "IPY_MODEL_6e712caaa0f24ad3b6cf95c7c22fca9a",
            "value": " 1.36k/1.36k [00:00&lt;00:00, 5.23kB/s]"
          }
        },
        "c8d4f117dfaa434096c847ffd7de19e9": {
          "model_module": "@jupyter-widgets/base",
          "model_name": "LayoutModel",
          "state": {
            "_model_module": "@jupyter-widgets/base",
            "_model_module_version": "1.2.0",
            "_model_name": "LayoutModel",
            "_view_count": null,
            "_view_module": "@jupyter-widgets/base",
            "_view_module_version": "1.2.0",
            "_view_name": "LayoutView",
            "align_content": null,
            "align_items": null,
            "align_self": null,
            "border": null,
            "bottom": null,
            "display": null,
            "flex": null,
            "flex_flow": null,
            "grid_area": null,
            "grid_auto_columns": null,
            "grid_auto_flow": null,
            "grid_auto_rows": null,
            "grid_column": null,
            "grid_gap": null,
            "grid_row": null,
            "grid_template_areas": null,
            "grid_template_columns": null,
            "grid_template_rows": null,
            "height": null,
            "justify_content": null,
            "justify_items": null,
            "left": null,
            "margin": null,
            "max_height": null,
            "max_width": null,
            "min_height": null,
            "min_width": null,
            "object_fit": null,
            "object_position": null,
            "order": null,
            "overflow": null,
            "overflow_x": null,
            "overflow_y": null,
            "padding": null,
            "right": null,
            "top": null,
            "visibility": null,
            "width": null
          }
        },
        "f812990ef2654818a28cb33b5e0e7a53": {
          "model_module": "@jupyter-widgets/base",
          "model_name": "LayoutModel",
          "state": {
            "_model_module": "@jupyter-widgets/base",
            "_model_module_version": "1.2.0",
            "_model_name": "LayoutModel",
            "_view_count": null,
            "_view_module": "@jupyter-widgets/base",
            "_view_module_version": "1.2.0",
            "_view_name": "LayoutView",
            "align_content": null,
            "align_items": null,
            "align_self": null,
            "border": null,
            "bottom": null,
            "display": null,
            "flex": null,
            "flex_flow": null,
            "grid_area": null,
            "grid_auto_columns": null,
            "grid_auto_flow": null,
            "grid_auto_rows": null,
            "grid_column": null,
            "grid_gap": null,
            "grid_row": null,
            "grid_template_areas": null,
            "grid_template_columns": null,
            "grid_template_rows": null,
            "height": null,
            "justify_content": null,
            "justify_items": null,
            "left": null,
            "margin": null,
            "max_height": null,
            "max_width": null,
            "min_height": null,
            "min_width": null,
            "object_fit": null,
            "object_position": null,
            "order": null,
            "overflow": null,
            "overflow_x": null,
            "overflow_y": null,
            "padding": null,
            "right": null,
            "top": null,
            "visibility": null,
            "width": null
          }
        },
        "cd11d2ede987485aabe1b4adbee69d91": {
          "model_module": "@jupyter-widgets/controls",
          "model_name": "ProgressStyleModel",
          "state": {
            "_model_module": "@jupyter-widgets/controls",
            "_model_module_version": "1.5.0",
            "_model_name": "ProgressStyleModel",
            "_view_count": null,
            "_view_module": "@jupyter-widgets/base",
            "_view_module_version": "1.2.0",
            "_view_name": "StyleView",
            "bar_color": null,
            "description_width": "initial"
          }
        },
        "9996093f4a40499682326acc8352d85f": {
          "model_module": "@jupyter-widgets/base",
          "model_name": "LayoutModel",
          "state": {
            "_model_module": "@jupyter-widgets/base",
            "_model_module_version": "1.2.0",
            "_model_name": "LayoutModel",
            "_view_count": null,
            "_view_module": "@jupyter-widgets/base",
            "_view_module_version": "1.2.0",
            "_view_name": "LayoutView",
            "align_content": null,
            "align_items": null,
            "align_self": null,
            "border": null,
            "bottom": null,
            "display": null,
            "flex": null,
            "flex_flow": null,
            "grid_area": null,
            "grid_auto_columns": null,
            "grid_auto_flow": null,
            "grid_auto_rows": null,
            "grid_column": null,
            "grid_gap": null,
            "grid_row": null,
            "grid_template_areas": null,
            "grid_template_columns": null,
            "grid_template_rows": null,
            "height": null,
            "justify_content": null,
            "justify_items": null,
            "left": null,
            "margin": null,
            "max_height": null,
            "max_width": null,
            "min_height": null,
            "min_width": null,
            "object_fit": null,
            "object_position": null,
            "order": null,
            "overflow": null,
            "overflow_x": null,
            "overflow_y": null,
            "padding": null,
            "right": null,
            "top": null,
            "visibility": null,
            "width": null
          }
        },
        "6e712caaa0f24ad3b6cf95c7c22fca9a": {
          "model_module": "@jupyter-widgets/controls",
          "model_name": "DescriptionStyleModel",
          "state": {
            "_model_module": "@jupyter-widgets/controls",
            "_model_module_version": "1.5.0",
            "_model_name": "DescriptionStyleModel",
            "_view_count": null,
            "_view_module": "@jupyter-widgets/base",
            "_view_module_version": "1.2.0",
            "_view_name": "StyleView",
            "description_width": ""
          }
        },
        "7725e3f79f1a4837a40ea34f4be9a14d": {
          "model_module": "@jupyter-widgets/controls",
          "model_name": "HBoxModel",
          "state": {
            "_dom_classes": [],
            "_model_module": "@jupyter-widgets/controls",
            "_model_module_version": "1.5.0",
            "_model_name": "HBoxModel",
            "_view_count": null,
            "_view_module": "@jupyter-widgets/controls",
            "_view_module_version": "1.5.0",
            "_view_name": "HBoxView",
            "box_style": "",
            "children": [
              "IPY_MODEL_f4ca54b070d04709acfaa70c06118bc2",
              "IPY_MODEL_82a0dce81d1648c9be93bb634878c2db"
            ],
            "layout": "IPY_MODEL_6f49e0f73657499bb7f86ea5d0ce040b"
          }
        },
        "f4ca54b070d04709acfaa70c06118bc2": {
          "model_module": "@jupyter-widgets/controls",
          "model_name": "FloatProgressModel",
          "state": {
            "_dom_classes": [],
            "_model_module": "@jupyter-widgets/controls",
            "_model_module_version": "1.5.0",
            "_model_name": "FloatProgressModel",
            "_view_count": null,
            "_view_module": "@jupyter-widgets/controls",
            "_view_module_version": "1.5.0",
            "_view_name": "ProgressView",
            "bar_style": "success",
            "description": "Downloading: 100%",
            "description_tooltip": null,
            "layout": "IPY_MODEL_2c607d7b660b49d98ec43c613fa68fb7",
            "max": 1215509,
            "min": 0,
            "orientation": "horizontal",
            "style": "IPY_MODEL_64ef207cf07d481aa03752ec39593110",
            "value": 1215509
          }
        },
        "82a0dce81d1648c9be93bb634878c2db": {
          "model_module": "@jupyter-widgets/controls",
          "model_name": "HTMLModel",
          "state": {
            "_dom_classes": [],
            "_model_module": "@jupyter-widgets/controls",
            "_model_module_version": "1.5.0",
            "_model_name": "HTMLModel",
            "_view_count": null,
            "_view_module": "@jupyter-widgets/controls",
            "_view_module_version": "1.5.0",
            "_view_name": "HTMLView",
            "description": "",
            "description_tooltip": null,
            "layout": "IPY_MODEL_c1d73003ee0c438a97e320ed22e47382",
            "placeholder": "​",
            "style": "IPY_MODEL_3ec9ce1e7b3540c0b7d257ef655536da",
            "value": " 1.22M/1.22M [00:00&lt;00:00, 8.13MB/s]"
          }
        },
        "6f49e0f73657499bb7f86ea5d0ce040b": {
          "model_module": "@jupyter-widgets/base",
          "model_name": "LayoutModel",
          "state": {
            "_model_module": "@jupyter-widgets/base",
            "_model_module_version": "1.2.0",
            "_model_name": "LayoutModel",
            "_view_count": null,
            "_view_module": "@jupyter-widgets/base",
            "_view_module_version": "1.2.0",
            "_view_name": "LayoutView",
            "align_content": null,
            "align_items": null,
            "align_self": null,
            "border": null,
            "bottom": null,
            "display": null,
            "flex": null,
            "flex_flow": null,
            "grid_area": null,
            "grid_auto_columns": null,
            "grid_auto_flow": null,
            "grid_auto_rows": null,
            "grid_column": null,
            "grid_gap": null,
            "grid_row": null,
            "grid_template_areas": null,
            "grid_template_columns": null,
            "grid_template_rows": null,
            "height": null,
            "justify_content": null,
            "justify_items": null,
            "left": null,
            "margin": null,
            "max_height": null,
            "max_width": null,
            "min_height": null,
            "min_width": null,
            "object_fit": null,
            "object_position": null,
            "order": null,
            "overflow": null,
            "overflow_x": null,
            "overflow_y": null,
            "padding": null,
            "right": null,
            "top": null,
            "visibility": null,
            "width": null
          }
        },
        "2c607d7b660b49d98ec43c613fa68fb7": {
          "model_module": "@jupyter-widgets/base",
          "model_name": "LayoutModel",
          "state": {
            "_model_module": "@jupyter-widgets/base",
            "_model_module_version": "1.2.0",
            "_model_name": "LayoutModel",
            "_view_count": null,
            "_view_module": "@jupyter-widgets/base",
            "_view_module_version": "1.2.0",
            "_view_name": "LayoutView",
            "align_content": null,
            "align_items": null,
            "align_self": null,
            "border": null,
            "bottom": null,
            "display": null,
            "flex": null,
            "flex_flow": null,
            "grid_area": null,
            "grid_auto_columns": null,
            "grid_auto_flow": null,
            "grid_auto_rows": null,
            "grid_column": null,
            "grid_gap": null,
            "grid_row": null,
            "grid_template_areas": null,
            "grid_template_columns": null,
            "grid_template_rows": null,
            "height": null,
            "justify_content": null,
            "justify_items": null,
            "left": null,
            "margin": null,
            "max_height": null,
            "max_width": null,
            "min_height": null,
            "min_width": null,
            "object_fit": null,
            "object_position": null,
            "order": null,
            "overflow": null,
            "overflow_x": null,
            "overflow_y": null,
            "padding": null,
            "right": null,
            "top": null,
            "visibility": null,
            "width": null
          }
        },
        "64ef207cf07d481aa03752ec39593110": {
          "model_module": "@jupyter-widgets/controls",
          "model_name": "ProgressStyleModel",
          "state": {
            "_model_module": "@jupyter-widgets/controls",
            "_model_module_version": "1.5.0",
            "_model_name": "ProgressStyleModel",
            "_view_count": null,
            "_view_module": "@jupyter-widgets/base",
            "_view_module_version": "1.2.0",
            "_view_name": "StyleView",
            "bar_color": null,
            "description_width": "initial"
          }
        },
        "c1d73003ee0c438a97e320ed22e47382": {
          "model_module": "@jupyter-widgets/base",
          "model_name": "LayoutModel",
          "state": {
            "_model_module": "@jupyter-widgets/base",
            "_model_module_version": "1.2.0",
            "_model_name": "LayoutModel",
            "_view_count": null,
            "_view_module": "@jupyter-widgets/base",
            "_view_module_version": "1.2.0",
            "_view_name": "LayoutView",
            "align_content": null,
            "align_items": null,
            "align_self": null,
            "border": null,
            "bottom": null,
            "display": null,
            "flex": null,
            "flex_flow": null,
            "grid_area": null,
            "grid_auto_columns": null,
            "grid_auto_flow": null,
            "grid_auto_rows": null,
            "grid_column": null,
            "grid_gap": null,
            "grid_row": null,
            "grid_template_areas": null,
            "grid_template_columns": null,
            "grid_template_rows": null,
            "height": null,
            "justify_content": null,
            "justify_items": null,
            "left": null,
            "margin": null,
            "max_height": null,
            "max_width": null,
            "min_height": null,
            "min_width": null,
            "object_fit": null,
            "object_position": null,
            "order": null,
            "overflow": null,
            "overflow_x": null,
            "overflow_y": null,
            "padding": null,
            "right": null,
            "top": null,
            "visibility": null,
            "width": null
          }
        },
        "3ec9ce1e7b3540c0b7d257ef655536da": {
          "model_module": "@jupyter-widgets/controls",
          "model_name": "DescriptionStyleModel",
          "state": {
            "_model_module": "@jupyter-widgets/controls",
            "_model_module_version": "1.5.0",
            "_model_name": "DescriptionStyleModel",
            "_view_count": null,
            "_view_module": "@jupyter-widgets/base",
            "_view_module_version": "1.2.0",
            "_view_name": "StyleView",
            "description_width": ""
          }
        },
        "4257f4e47daa4513998c94c8fcab3f32": {
          "model_module": "@jupyter-widgets/controls",
          "model_name": "HBoxModel",
          "state": {
            "_dom_classes": [],
            "_model_module": "@jupyter-widgets/controls",
            "_model_module_version": "1.5.0",
            "_model_name": "HBoxModel",
            "_view_count": null,
            "_view_module": "@jupyter-widgets/controls",
            "_view_module_version": "1.5.0",
            "_view_name": "HBoxView",
            "box_style": "",
            "children": [
              "IPY_MODEL_89a660a95feb465c9dcb7da1f691a6ad",
              "IPY_MODEL_73f57672abcc4d2f8fc7033f08086956"
            ],
            "layout": "IPY_MODEL_ec15b9351d664b35a98ce064991b144f"
          }
        },
        "89a660a95feb465c9dcb7da1f691a6ad": {
          "model_module": "@jupyter-widgets/controls",
          "model_name": "FloatProgressModel",
          "state": {
            "_dom_classes": [],
            "_model_module": "@jupyter-widgets/controls",
            "_model_module_version": "1.5.0",
            "_model_name": "FloatProgressModel",
            "_view_count": null,
            "_view_module": "@jupyter-widgets/controls",
            "_view_module_version": "1.5.0",
            "_view_name": "ProgressView",
            "bar_style": "success",
            "description": "Downloading: 100%",
            "description_tooltip": null,
            "layout": "IPY_MODEL_58532116cab6425cadc7293488e4fecd",
            "max": 112,
            "min": 0,
            "orientation": "horizontal",
            "style": "IPY_MODEL_76627bcf896548b695a5ed2ad2575e2e",
            "value": 112
          }
        },
        "73f57672abcc4d2f8fc7033f08086956": {
          "model_module": "@jupyter-widgets/controls",
          "model_name": "HTMLModel",
          "state": {
            "_dom_classes": [],
            "_model_module": "@jupyter-widgets/controls",
            "_model_module_version": "1.5.0",
            "_model_name": "HTMLModel",
            "_view_count": null,
            "_view_module": "@jupyter-widgets/controls",
            "_view_module_version": "1.5.0",
            "_view_name": "HTMLView",
            "description": "",
            "description_tooltip": null,
            "layout": "IPY_MODEL_e0784621ed134448bb09ab74f9bff1f7",
            "placeholder": "​",
            "style": "IPY_MODEL_907e94480b6745479e6af4760c046e56",
            "value": " 112/112 [00:00&lt;00:00, 570B/s]"
          }
        },
        "ec15b9351d664b35a98ce064991b144f": {
          "model_module": "@jupyter-widgets/base",
          "model_name": "LayoutModel",
          "state": {
            "_model_module": "@jupyter-widgets/base",
            "_model_module_version": "1.2.0",
            "_model_name": "LayoutModel",
            "_view_count": null,
            "_view_module": "@jupyter-widgets/base",
            "_view_module_version": "1.2.0",
            "_view_name": "LayoutView",
            "align_content": null,
            "align_items": null,
            "align_self": null,
            "border": null,
            "bottom": null,
            "display": null,
            "flex": null,
            "flex_flow": null,
            "grid_area": null,
            "grid_auto_columns": null,
            "grid_auto_flow": null,
            "grid_auto_rows": null,
            "grid_column": null,
            "grid_gap": null,
            "grid_row": null,
            "grid_template_areas": null,
            "grid_template_columns": null,
            "grid_template_rows": null,
            "height": null,
            "justify_content": null,
            "justify_items": null,
            "left": null,
            "margin": null,
            "max_height": null,
            "max_width": null,
            "min_height": null,
            "min_width": null,
            "object_fit": null,
            "object_position": null,
            "order": null,
            "overflow": null,
            "overflow_x": null,
            "overflow_y": null,
            "padding": null,
            "right": null,
            "top": null,
            "visibility": null,
            "width": null
          }
        },
        "58532116cab6425cadc7293488e4fecd": {
          "model_module": "@jupyter-widgets/base",
          "model_name": "LayoutModel",
          "state": {
            "_model_module": "@jupyter-widgets/base",
            "_model_module_version": "1.2.0",
            "_model_name": "LayoutModel",
            "_view_count": null,
            "_view_module": "@jupyter-widgets/base",
            "_view_module_version": "1.2.0",
            "_view_name": "LayoutView",
            "align_content": null,
            "align_items": null,
            "align_self": null,
            "border": null,
            "bottom": null,
            "display": null,
            "flex": null,
            "flex_flow": null,
            "grid_area": null,
            "grid_auto_columns": null,
            "grid_auto_flow": null,
            "grid_auto_rows": null,
            "grid_column": null,
            "grid_gap": null,
            "grid_row": null,
            "grid_template_areas": null,
            "grid_template_columns": null,
            "grid_template_rows": null,
            "height": null,
            "justify_content": null,
            "justify_items": null,
            "left": null,
            "margin": null,
            "max_height": null,
            "max_width": null,
            "min_height": null,
            "min_width": null,
            "object_fit": null,
            "object_position": null,
            "order": null,
            "overflow": null,
            "overflow_x": null,
            "overflow_y": null,
            "padding": null,
            "right": null,
            "top": null,
            "visibility": null,
            "width": null
          }
        },
        "76627bcf896548b695a5ed2ad2575e2e": {
          "model_module": "@jupyter-widgets/controls",
          "model_name": "ProgressStyleModel",
          "state": {
            "_model_module": "@jupyter-widgets/controls",
            "_model_module_version": "1.5.0",
            "_model_name": "ProgressStyleModel",
            "_view_count": null,
            "_view_module": "@jupyter-widgets/base",
            "_view_module_version": "1.2.0",
            "_view_name": "StyleView",
            "bar_color": null,
            "description_width": "initial"
          }
        },
        "e0784621ed134448bb09ab74f9bff1f7": {
          "model_module": "@jupyter-widgets/base",
          "model_name": "LayoutModel",
          "state": {
            "_model_module": "@jupyter-widgets/base",
            "_model_module_version": "1.2.0",
            "_model_name": "LayoutModel",
            "_view_count": null,
            "_view_module": "@jupyter-widgets/base",
            "_view_module_version": "1.2.0",
            "_view_name": "LayoutView",
            "align_content": null,
            "align_items": null,
            "align_self": null,
            "border": null,
            "bottom": null,
            "display": null,
            "flex": null,
            "flex_flow": null,
            "grid_area": null,
            "grid_auto_columns": null,
            "grid_auto_flow": null,
            "grid_auto_rows": null,
            "grid_column": null,
            "grid_gap": null,
            "grid_row": null,
            "grid_template_areas": null,
            "grid_template_columns": null,
            "grid_template_rows": null,
            "height": null,
            "justify_content": null,
            "justify_items": null,
            "left": null,
            "margin": null,
            "max_height": null,
            "max_width": null,
            "min_height": null,
            "min_width": null,
            "object_fit": null,
            "object_position": null,
            "order": null,
            "overflow": null,
            "overflow_x": null,
            "overflow_y": null,
            "padding": null,
            "right": null,
            "top": null,
            "visibility": null,
            "width": null
          }
        },
        "907e94480b6745479e6af4760c046e56": {
          "model_module": "@jupyter-widgets/controls",
          "model_name": "DescriptionStyleModel",
          "state": {
            "_model_module": "@jupyter-widgets/controls",
            "_model_module_version": "1.5.0",
            "_model_name": "DescriptionStyleModel",
            "_view_count": null,
            "_view_module": "@jupyter-widgets/base",
            "_view_module_version": "1.2.0",
            "_view_name": "StyleView",
            "description_width": ""
          }
        },
        "54bf8c9c223e4edd925f1ea8439eea93": {
          "model_module": "@jupyter-widgets/controls",
          "model_name": "HBoxModel",
          "state": {
            "_dom_classes": [],
            "_model_module": "@jupyter-widgets/controls",
            "_model_module_version": "1.5.0",
            "_model_name": "HBoxModel",
            "_view_count": null,
            "_view_module": "@jupyter-widgets/controls",
            "_view_module_version": "1.5.0",
            "_view_name": "HBoxView",
            "box_style": "",
            "children": [
              "IPY_MODEL_7ee5fa72851c4e7888632edcb301d9b7",
              "IPY_MODEL_49ec1e35b1484748b7d63b48c426776f"
            ],
            "layout": "IPY_MODEL_5a0262982a784409a7e2482c0e15aea4"
          }
        },
        "7ee5fa72851c4e7888632edcb301d9b7": {
          "model_module": "@jupyter-widgets/controls",
          "model_name": "FloatProgressModel",
          "state": {
            "_dom_classes": [],
            "_model_module": "@jupyter-widgets/controls",
            "_model_module_version": "1.5.0",
            "_model_name": "FloatProgressModel",
            "_view_count": null,
            "_view_module": "@jupyter-widgets/controls",
            "_view_module_version": "1.5.0",
            "_view_name": "ProgressView",
            "bar_style": "success",
            "description": "Downloading: 100%",
            "description_tooltip": null,
            "layout": "IPY_MODEL_f92af9189e41450d86ba81635cd9af5f",
            "max": 2,
            "min": 0,
            "orientation": "horizontal",
            "style": "IPY_MODEL_672f98e5ca084538bc614d29bc564165",
            "value": 2
          }
        },
        "49ec1e35b1484748b7d63b48c426776f": {
          "model_module": "@jupyter-widgets/controls",
          "model_name": "HTMLModel",
          "state": {
            "_dom_classes": [],
            "_model_module": "@jupyter-widgets/controls",
            "_model_module_version": "1.5.0",
            "_model_name": "HTMLModel",
            "_view_count": null,
            "_view_module": "@jupyter-widgets/controls",
            "_view_module_version": "1.5.0",
            "_view_name": "HTMLView",
            "description": "",
            "description_tooltip": null,
            "layout": "IPY_MODEL_acbbd80a1d4542f7b81aa5a5e569fa51",
            "placeholder": "​",
            "style": "IPY_MODEL_392e5f45c21e47ea8368756263a09ece",
            "value": " 2.00/2.00 [00:00&lt;00:00, 16.8B/s]"
          }
        },
        "5a0262982a784409a7e2482c0e15aea4": {
          "model_module": "@jupyter-widgets/base",
          "model_name": "LayoutModel",
          "state": {
            "_model_module": "@jupyter-widgets/base",
            "_model_module_version": "1.2.0",
            "_model_name": "LayoutModel",
            "_view_count": null,
            "_view_module": "@jupyter-widgets/base",
            "_view_module_version": "1.2.0",
            "_view_name": "LayoutView",
            "align_content": null,
            "align_items": null,
            "align_self": null,
            "border": null,
            "bottom": null,
            "display": null,
            "flex": null,
            "flex_flow": null,
            "grid_area": null,
            "grid_auto_columns": null,
            "grid_auto_flow": null,
            "grid_auto_rows": null,
            "grid_column": null,
            "grid_gap": null,
            "grid_row": null,
            "grid_template_areas": null,
            "grid_template_columns": null,
            "grid_template_rows": null,
            "height": null,
            "justify_content": null,
            "justify_items": null,
            "left": null,
            "margin": null,
            "max_height": null,
            "max_width": null,
            "min_height": null,
            "min_width": null,
            "object_fit": null,
            "object_position": null,
            "order": null,
            "overflow": null,
            "overflow_x": null,
            "overflow_y": null,
            "padding": null,
            "right": null,
            "top": null,
            "visibility": null,
            "width": null
          }
        },
        "f92af9189e41450d86ba81635cd9af5f": {
          "model_module": "@jupyter-widgets/base",
          "model_name": "LayoutModel",
          "state": {
            "_model_module": "@jupyter-widgets/base",
            "_model_module_version": "1.2.0",
            "_model_name": "LayoutModel",
            "_view_count": null,
            "_view_module": "@jupyter-widgets/base",
            "_view_module_version": "1.2.0",
            "_view_name": "LayoutView",
            "align_content": null,
            "align_items": null,
            "align_self": null,
            "border": null,
            "bottom": null,
            "display": null,
            "flex": null,
            "flex_flow": null,
            "grid_area": null,
            "grid_auto_columns": null,
            "grid_auto_flow": null,
            "grid_auto_rows": null,
            "grid_column": null,
            "grid_gap": null,
            "grid_row": null,
            "grid_template_areas": null,
            "grid_template_columns": null,
            "grid_template_rows": null,
            "height": null,
            "justify_content": null,
            "justify_items": null,
            "left": null,
            "margin": null,
            "max_height": null,
            "max_width": null,
            "min_height": null,
            "min_width": null,
            "object_fit": null,
            "object_position": null,
            "order": null,
            "overflow": null,
            "overflow_x": null,
            "overflow_y": null,
            "padding": null,
            "right": null,
            "top": null,
            "visibility": null,
            "width": null
          }
        },
        "672f98e5ca084538bc614d29bc564165": {
          "model_module": "@jupyter-widgets/controls",
          "model_name": "ProgressStyleModel",
          "state": {
            "_model_module": "@jupyter-widgets/controls",
            "_model_module_version": "1.5.0",
            "_model_name": "ProgressStyleModel",
            "_view_count": null,
            "_view_module": "@jupyter-widgets/base",
            "_view_module_version": "1.2.0",
            "_view_name": "StyleView",
            "bar_color": null,
            "description_width": "initial"
          }
        },
        "acbbd80a1d4542f7b81aa5a5e569fa51": {
          "model_module": "@jupyter-widgets/base",
          "model_name": "LayoutModel",
          "state": {
            "_model_module": "@jupyter-widgets/base",
            "_model_module_version": "1.2.0",
            "_model_name": "LayoutModel",
            "_view_count": null,
            "_view_module": "@jupyter-widgets/base",
            "_view_module_version": "1.2.0",
            "_view_name": "LayoutView",
            "align_content": null,
            "align_items": null,
            "align_self": null,
            "border": null,
            "bottom": null,
            "display": null,
            "flex": null,
            "flex_flow": null,
            "grid_area": null,
            "grid_auto_columns": null,
            "grid_auto_flow": null,
            "grid_auto_rows": null,
            "grid_column": null,
            "grid_gap": null,
            "grid_row": null,
            "grid_template_areas": null,
            "grid_template_columns": null,
            "grid_template_rows": null,
            "height": null,
            "justify_content": null,
            "justify_items": null,
            "left": null,
            "margin": null,
            "max_height": null,
            "max_width": null,
            "min_height": null,
            "min_width": null,
            "object_fit": null,
            "object_position": null,
            "order": null,
            "overflow": null,
            "overflow_x": null,
            "overflow_y": null,
            "padding": null,
            "right": null,
            "top": null,
            "visibility": null,
            "width": null
          }
        },
        "392e5f45c21e47ea8368756263a09ece": {
          "model_module": "@jupyter-widgets/controls",
          "model_name": "DescriptionStyleModel",
          "state": {
            "_model_module": "@jupyter-widgets/controls",
            "_model_module_version": "1.5.0",
            "_model_name": "DescriptionStyleModel",
            "_view_count": null,
            "_view_module": "@jupyter-widgets/base",
            "_view_module_version": "1.2.0",
            "_view_name": "StyleView",
            "description_width": ""
          }
        },
        "513f61155c1e4a3991833502464478ae": {
          "model_module": "@jupyter-widgets/controls",
          "model_name": "HBoxModel",
          "state": {
            "_dom_classes": [],
            "_model_module": "@jupyter-widgets/controls",
            "_model_module_version": "1.5.0",
            "_model_name": "HBoxModel",
            "_view_count": null,
            "_view_module": "@jupyter-widgets/controls",
            "_view_module_version": "1.5.0",
            "_view_name": "HBoxView",
            "box_style": "",
            "children": [
              "IPY_MODEL_44b948ae1260426db4ced45fbcad25a1",
              "IPY_MODEL_e290bd8a14ad403c867c383cec084b33"
            ],
            "layout": "IPY_MODEL_349c0caa9a974967ab09b8056f7da8d7"
          }
        },
        "44b948ae1260426db4ced45fbcad25a1": {
          "model_module": "@jupyter-widgets/controls",
          "model_name": "FloatProgressModel",
          "state": {
            "_dom_classes": [],
            "_model_module": "@jupyter-widgets/controls",
            "_model_module_version": "1.5.0",
            "_model_name": "FloatProgressModel",
            "_view_count": null,
            "_view_module": "@jupyter-widgets/controls",
            "_view_module_version": "1.5.0",
            "_view_name": "ProgressView",
            "bar_style": "success",
            "description": "Downloading: 100%",
            "description_tooltip": null,
            "layout": "IPY_MODEL_58bf3222ce4244809a90e23c7dd0cd2d",
            "max": 651700060,
            "min": 0,
            "orientation": "horizontal",
            "style": "IPY_MODEL_77beeeb29e434838abbe9aeb520634ba",
            "value": 651700060
          }
        },
        "e290bd8a14ad403c867c383cec084b33": {
          "model_module": "@jupyter-widgets/controls",
          "model_name": "HTMLModel",
          "state": {
            "_dom_classes": [],
            "_model_module": "@jupyter-widgets/controls",
            "_model_module_version": "1.5.0",
            "_model_name": "HTMLModel",
            "_view_count": null,
            "_view_module": "@jupyter-widgets/controls",
            "_view_module_version": "1.5.0",
            "_view_name": "HTMLView",
            "description": "",
            "description_tooltip": null,
            "layout": "IPY_MODEL_eddc8e9d2b5d4a91a5fe6a42aed3e957",
            "placeholder": "​",
            "style": "IPY_MODEL_773cb74cb6f640ed9d1536877a044fee",
            "value": " 652M/652M [00:14&lt;00:00, 45.3MB/s]"
          }
        },
        "349c0caa9a974967ab09b8056f7da8d7": {
          "model_module": "@jupyter-widgets/base",
          "model_name": "LayoutModel",
          "state": {
            "_model_module": "@jupyter-widgets/base",
            "_model_module_version": "1.2.0",
            "_model_name": "LayoutModel",
            "_view_count": null,
            "_view_module": "@jupyter-widgets/base",
            "_view_module_version": "1.2.0",
            "_view_name": "LayoutView",
            "align_content": null,
            "align_items": null,
            "align_self": null,
            "border": null,
            "bottom": null,
            "display": null,
            "flex": null,
            "flex_flow": null,
            "grid_area": null,
            "grid_auto_columns": null,
            "grid_auto_flow": null,
            "grid_auto_rows": null,
            "grid_column": null,
            "grid_gap": null,
            "grid_row": null,
            "grid_template_areas": null,
            "grid_template_columns": null,
            "grid_template_rows": null,
            "height": null,
            "justify_content": null,
            "justify_items": null,
            "left": null,
            "margin": null,
            "max_height": null,
            "max_width": null,
            "min_height": null,
            "min_width": null,
            "object_fit": null,
            "object_position": null,
            "order": null,
            "overflow": null,
            "overflow_x": null,
            "overflow_y": null,
            "padding": null,
            "right": null,
            "top": null,
            "visibility": null,
            "width": null
          }
        },
        "58bf3222ce4244809a90e23c7dd0cd2d": {
          "model_module": "@jupyter-widgets/base",
          "model_name": "LayoutModel",
          "state": {
            "_model_module": "@jupyter-widgets/base",
            "_model_module_version": "1.2.0",
            "_model_name": "LayoutModel",
            "_view_count": null,
            "_view_module": "@jupyter-widgets/base",
            "_view_module_version": "1.2.0",
            "_view_name": "LayoutView",
            "align_content": null,
            "align_items": null,
            "align_self": null,
            "border": null,
            "bottom": null,
            "display": null,
            "flex": null,
            "flex_flow": null,
            "grid_area": null,
            "grid_auto_columns": null,
            "grid_auto_flow": null,
            "grid_auto_rows": null,
            "grid_column": null,
            "grid_gap": null,
            "grid_row": null,
            "grid_template_areas": null,
            "grid_template_columns": null,
            "grid_template_rows": null,
            "height": null,
            "justify_content": null,
            "justify_items": null,
            "left": null,
            "margin": null,
            "max_height": null,
            "max_width": null,
            "min_height": null,
            "min_width": null,
            "object_fit": null,
            "object_position": null,
            "order": null,
            "overflow": null,
            "overflow_x": null,
            "overflow_y": null,
            "padding": null,
            "right": null,
            "top": null,
            "visibility": null,
            "width": null
          }
        },
        "77beeeb29e434838abbe9aeb520634ba": {
          "model_module": "@jupyter-widgets/controls",
          "model_name": "ProgressStyleModel",
          "state": {
            "_model_module": "@jupyter-widgets/controls",
            "_model_module_version": "1.5.0",
            "_model_name": "ProgressStyleModel",
            "_view_count": null,
            "_view_module": "@jupyter-widgets/base",
            "_view_module_version": "1.2.0",
            "_view_name": "StyleView",
            "bar_color": null,
            "description_width": "initial"
          }
        },
        "eddc8e9d2b5d4a91a5fe6a42aed3e957": {
          "model_module": "@jupyter-widgets/base",
          "model_name": "LayoutModel",
          "state": {
            "_model_module": "@jupyter-widgets/base",
            "_model_module_version": "1.2.0",
            "_model_name": "LayoutModel",
            "_view_count": null,
            "_view_module": "@jupyter-widgets/base",
            "_view_module_version": "1.2.0",
            "_view_name": "LayoutView",
            "align_content": null,
            "align_items": null,
            "align_self": null,
            "border": null,
            "bottom": null,
            "display": null,
            "flex": null,
            "flex_flow": null,
            "grid_area": null,
            "grid_auto_columns": null,
            "grid_auto_flow": null,
            "grid_auto_rows": null,
            "grid_column": null,
            "grid_gap": null,
            "grid_row": null,
            "grid_template_areas": null,
            "grid_template_columns": null,
            "grid_template_rows": null,
            "height": null,
            "justify_content": null,
            "justify_items": null,
            "left": null,
            "margin": null,
            "max_height": null,
            "max_width": null,
            "min_height": null,
            "min_width": null,
            "object_fit": null,
            "object_position": null,
            "order": null,
            "overflow": null,
            "overflow_x": null,
            "overflow_y": null,
            "padding": null,
            "right": null,
            "top": null,
            "visibility": null,
            "width": null
          }
        },
        "773cb74cb6f640ed9d1536877a044fee": {
          "model_module": "@jupyter-widgets/controls",
          "model_name": "DescriptionStyleModel",
          "state": {
            "_model_module": "@jupyter-widgets/controls",
            "_model_module_version": "1.5.0",
            "_model_name": "DescriptionStyleModel",
            "_view_count": null,
            "_view_module": "@jupyter-widgets/base",
            "_view_module_version": "1.2.0",
            "_view_name": "StyleView",
            "description_width": ""
          }
        },
        "95ecd13f35a94d44bdbed4dff3fbd467": {
          "model_module": "@jupyter-widgets/controls",
          "model_name": "RadioButtonsModel",
          "state": {
            "_dom_classes": [],
            "_model_module": "@jupyter-widgets/controls",
            "_model_module_version": "1.5.0",
            "_model_name": "RadioButtonsModel",
            "_options_labels": [
              "ARMAN",
              "PEYMA",
              "ARMAN+PEYMA"
            ],
            "_view_count": null,
            "_view_module": "@jupyter-widgets/controls",
            "_view_module_version": "1.5.0",
            "_view_name": "RadioButtonsView",
            "description": "Select your model",
            "description_tooltip": null,
            "disabled": false,
            "index": 2,
            "layout": "IPY_MODEL_6eabe16134014d56a8ec4794630314ed",
            "style": "IPY_MODEL_bea242f4c7c048acaca710d238df530b"
          }
        },
        "6eabe16134014d56a8ec4794630314ed": {
          "model_module": "@jupyter-widgets/base",
          "model_name": "LayoutModel",
          "state": {
            "_model_module": "@jupyter-widgets/base",
            "_model_module_version": "1.2.0",
            "_model_name": "LayoutModel",
            "_view_count": null,
            "_view_module": "@jupyter-widgets/base",
            "_view_module_version": "1.2.0",
            "_view_name": "LayoutView",
            "align_content": null,
            "align_items": null,
            "align_self": null,
            "border": null,
            "bottom": null,
            "display": null,
            "flex": null,
            "flex_flow": null,
            "grid_area": null,
            "grid_auto_columns": null,
            "grid_auto_flow": null,
            "grid_auto_rows": null,
            "grid_column": null,
            "grid_gap": null,
            "grid_row": null,
            "grid_template_areas": null,
            "grid_template_columns": null,
            "grid_template_rows": null,
            "height": null,
            "justify_content": null,
            "justify_items": null,
            "left": null,
            "margin": null,
            "max_height": null,
            "max_width": null,
            "min_height": null,
            "min_width": null,
            "object_fit": null,
            "object_position": null,
            "order": null,
            "overflow": null,
            "overflow_x": null,
            "overflow_y": null,
            "padding": null,
            "right": null,
            "top": null,
            "visibility": null,
            "width": null
          }
        },
        "bea242f4c7c048acaca710d238df530b": {
          "model_module": "@jupyter-widgets/controls",
          "model_name": "DescriptionStyleModel",
          "state": {
            "_model_module": "@jupyter-widgets/controls",
            "_model_module_version": "1.5.0",
            "_model_name": "DescriptionStyleModel",
            "_view_count": null,
            "_view_module": "@jupyter-widgets/base",
            "_view_module_version": "1.2.0",
            "_view_name": "StyleView",
            "description_width": ""
          }
        },
        "1ebb947073994a409a46586fdd5da738": {
          "model_module": "@jupyter-widgets/controls",
          "model_name": "TextareaModel",
          "state": {
            "_dom_classes": [],
            "_model_module": "@jupyter-widgets/controls",
            "_model_module_version": "1.5.0",
            "_model_name": "TextareaModel",
            "_view_count": null,
            "_view_module": "@jupyter-widgets/controls",
            "_view_module_version": "1.5.0",
            "_view_name": "TextareaView",
            "continuous_update": true,
            "description": "",
            "description_tooltip": null,
            "disabled": false,
            "layout": "IPY_MODEL_d3595b8b92f8456796157de96afbb780",
            "placeholder": "Please enter you text ...",
            "rows": 5,
            "style": "IPY_MODEL_1052c725b44e4cd690a4f321567dbbcd",
            "value": "شانه تخم مرغ را به رییس سازمان محیط زیست خاورمیانه داد"
          }
        },
        "d3595b8b92f8456796157de96afbb780": {
          "model_module": "@jupyter-widgets/base",
          "model_name": "LayoutModel",
          "state": {
            "_model_module": "@jupyter-widgets/base",
            "_model_module_version": "1.2.0",
            "_model_name": "LayoutModel",
            "_view_count": null,
            "_view_module": "@jupyter-widgets/base",
            "_view_module_version": "1.2.0",
            "_view_name": "LayoutView",
            "align_content": null,
            "align_items": null,
            "align_self": null,
            "border": null,
            "bottom": null,
            "display": null,
            "flex": null,
            "flex_flow": null,
            "grid_area": null,
            "grid_auto_columns": null,
            "grid_auto_flow": null,
            "grid_auto_rows": null,
            "grid_column": null,
            "grid_gap": null,
            "grid_row": null,
            "grid_template_areas": null,
            "grid_template_columns": null,
            "grid_template_rows": null,
            "height": null,
            "justify_content": null,
            "justify_items": null,
            "left": null,
            "margin": null,
            "max_height": null,
            "max_width": null,
            "min_height": null,
            "min_width": null,
            "object_fit": null,
            "object_position": null,
            "order": null,
            "overflow": null,
            "overflow_x": null,
            "overflow_y": null,
            "padding": null,
            "right": null,
            "top": null,
            "visibility": null,
            "width": "90%"
          }
        },
        "1052c725b44e4cd690a4f321567dbbcd": {
          "model_module": "@jupyter-widgets/controls",
          "model_name": "DescriptionStyleModel",
          "state": {
            "_model_module": "@jupyter-widgets/controls",
            "_model_module_version": "1.5.0",
            "_model_name": "DescriptionStyleModel",
            "_view_count": null,
            "_view_module": "@jupyter-widgets/base",
            "_view_module_version": "1.2.0",
            "_view_name": "StyleView",
            "description_width": ""
          }
        },
        "b9819302a78a4eb68646dd01b801ea8c": {
          "model_module": "@jupyter-widgets/controls",
          "model_name": "ButtonModel",
          "state": {
            "_dom_classes": [],
            "_model_module": "@jupyter-widgets/controls",
            "_model_module_version": "1.5.0",
            "_model_name": "ButtonModel",
            "_view_count": null,
            "_view_module": "@jupyter-widgets/controls",
            "_view_module_version": "1.5.0",
            "_view_name": "ButtonView",
            "button_style": "success",
            "description": "Send",
            "disabled": false,
            "icon": "",
            "layout": "IPY_MODEL_cf3d13a1f5f04392878c9c53d424d6de",
            "style": "IPY_MODEL_bde967e80708474d81df577e6b67c3ef",
            "tooltip": "Submit"
          }
        },
        "cf3d13a1f5f04392878c9c53d424d6de": {
          "model_module": "@jupyter-widgets/base",
          "model_name": "LayoutModel",
          "state": {
            "_model_module": "@jupyter-widgets/base",
            "_model_module_version": "1.2.0",
            "_model_name": "LayoutModel",
            "_view_count": null,
            "_view_module": "@jupyter-widgets/base",
            "_view_module_version": "1.2.0",
            "_view_name": "LayoutView",
            "align_content": null,
            "align_items": null,
            "align_self": null,
            "border": null,
            "bottom": null,
            "display": null,
            "flex": null,
            "flex_flow": null,
            "grid_area": null,
            "grid_auto_columns": null,
            "grid_auto_flow": null,
            "grid_auto_rows": null,
            "grid_column": null,
            "grid_gap": null,
            "grid_row": null,
            "grid_template_areas": null,
            "grid_template_columns": null,
            "grid_template_rows": null,
            "height": null,
            "justify_content": null,
            "justify_items": null,
            "left": null,
            "margin": null,
            "max_height": null,
            "max_width": null,
            "min_height": null,
            "min_width": null,
            "object_fit": null,
            "object_position": null,
            "order": null,
            "overflow": null,
            "overflow_x": null,
            "overflow_y": null,
            "padding": null,
            "right": null,
            "top": null,
            "visibility": null,
            "width": null
          }
        },
        "bde967e80708474d81df577e6b67c3ef": {
          "model_module": "@jupyter-widgets/controls",
          "model_name": "ButtonStyleModel",
          "state": {
            "_model_module": "@jupyter-widgets/controls",
            "_model_module_version": "1.5.0",
            "_model_name": "ButtonStyleModel",
            "_view_count": null,
            "_view_module": "@jupyter-widgets/base",
            "_view_module_version": "1.2.0",
            "_view_name": "StyleView",
            "button_color": null,
            "font_weight": ""
          }
        },
        "47bb9c82a3ee4c33b2e317874ccd4994": {
          "model_module": "@jupyter-widgets/output",
          "model_name": "OutputModel",
          "state": {
            "_dom_classes": [],
            "_model_module": "@jupyter-widgets/output",
            "_model_module_version": "1.0.0",
            "_model_name": "OutputModel",
            "_view_count": null,
            "_view_module": "@jupyter-widgets/output",
            "_view_module_version": "1.0.0",
            "_view_name": "OutputView",
            "layout": "IPY_MODEL_facc95782d4a44feb25d5260be2cf782",
            "msg_id": "",
            "outputs": [
              {
                "metadata": {
                  "tags": []
                },
                "output_type": "stream",
                "stream": "stdout",
                "text": "Predicting .... [please wait!]\n"
              },
              {
                "metadata": {
                  "tags": []
                },
                "output_type": "display_data",
                "text/html": "<style>\n    .ner-box {\n        direction: rtl;\n        font-size: 18px !important;\n        line-height: 20px !important;\n        margin: 0 0 15px;\n        padding: 10px;\n        text-align: justify;\n        color: #343434 !important;\n    }\n    .token, .token span {\n        display: inline-block !important;\n        padding: 2px;\n        margin: 2px 0;\n    }\n    .token.token-ner {\n        background-color: #f6cd61;\n        font-weight: bold;\n        color: #000;\n    }\n    .token.token-ner .ner-label {\n        color: #9a1f40;\n        margin: 0px 2px;\n    }\n    </style>",
                "text/plain": "<IPython.core.display.HTML object>"
              },
              {
                "metadata": {
                  "tags": []
                },
                "output_type": "stream",
                "stream": "stderr",
                "text": "Some layers from the model checkpoint at HooshvareLab/bert-base-parsbert-ner-uncased were not used when initializing TFBertForTokenClassification: ['dropout_37']\n- This IS expected if you are initializing TFBertForTokenClassification from the checkpoint of a model trained on another task or with another architecture (e.g. initializing a BertForSequenceClassification model from a BertForPreTraining model).\n- This IS NOT expected if you are initializing TFBertForTokenClassification from the checkpoint of a model that you expect to be exactly identical (initializing a BertForSequenceClassification model from a BertForSequenceClassification model).\n"
              },
              {
                "metadata": {
                  "tags": []
                },
                "output_type": "stream",
                "stream": "stderr",
                "text": "All the layers of TFBertForTokenClassification were initialized from the model checkpoint at HooshvareLab/bert-base-parsbert-ner-uncased.\nIf your task is similar to the task the model of the checkpoint was trained on, you can already use TFBertForTokenClassification for predictions without further training.\n"
              },
              {
                "metadata": {
                  "tags": []
                },
                "output_type": "display_data",
                "text/html": "<p class=\"ner-box\"><span class=\"token\">شانه</span> <span class=\"token\">تخم</span> <span class=\"token\">مرغ</span> <span class=\"token\">را</span> <span class=\"token\">به</span> <span class=\"token\">رییس</span> <span class=\"token token-ner\">سازمان<span class=\"ner-label\">سازمان</span></span> <span class=\"token token-ner\">محیط<span class=\"ner-label\">سازمان</span></span> <span class=\"token token-ner\">زیست<span class=\"ner-label\">سازمان</span></span> <span class=\"token token-ner\">خاورمیانه<span class=\"ner-label\">سازمان</span></span> <span class=\"token\">داد</span></p>",
                "text/plain": "<IPython.core.display.HTML object>"
              }
            ]
          }
        },
        "facc95782d4a44feb25d5260be2cf782": {
          "model_module": "@jupyter-widgets/base",
          "model_name": "LayoutModel",
          "state": {
            "_model_module": "@jupyter-widgets/base",
            "_model_module_version": "1.2.0",
            "_model_name": "LayoutModel",
            "_view_count": null,
            "_view_module": "@jupyter-widgets/base",
            "_view_module_version": "1.2.0",
            "_view_name": "LayoutView",
            "align_content": null,
            "align_items": null,
            "align_self": null,
            "border": null,
            "bottom": null,
            "display": null,
            "flex": null,
            "flex_flow": null,
            "grid_area": null,
            "grid_auto_columns": null,
            "grid_auto_flow": null,
            "grid_auto_rows": null,
            "grid_column": null,
            "grid_gap": null,
            "grid_row": null,
            "grid_template_areas": null,
            "grid_template_columns": null,
            "grid_template_rows": null,
            "height": null,
            "justify_content": null,
            "justify_items": null,
            "left": null,
            "margin": null,
            "max_height": null,
            "max_width": null,
            "min_height": null,
            "min_width": null,
            "object_fit": null,
            "object_position": null,
            "order": null,
            "overflow": null,
            "overflow_x": null,
            "overflow_y": null,
            "padding": null,
            "right": null,
            "top": null,
            "visibility": null,
            "width": null
          }
        }
      }
    }
  },
  "cells": [
    {
      "cell_type": "markdown",
      "metadata": {
        "id": "-3mrXDugEV61"
      },
      "source": [
        "# Persian NER [ARMAN, PEYMA, COMPOSITE]\n",
        "\n",
        "This task aims to extract named entities in the text, such as names and label with appropriate NER classes such as locations, organizations, etc. The datasets used for this task contain sentences that are marked with IOB format. In this format, tokens that are not part of an entity are tagged as ”O,” the ”B” tag corresponds to the first word of an object, and the ”I” tag corresponds to the rest of the terms of the same entity. Both ”B” and ”I” tags are followed by a hyphen (or underscore), followed by the entity category. Therefore, the NER task is a multi-class token classification problem that labels the tokens upon being fed a raw text. There are two primary datasets used in Persian NER, ARMAN, and PEYMA. In ParsBERT, we prepared ner for both datasets as well as a combination of both datasets.\n",
        "\n",
        "\n",
        "## ARMAN:\n",
        "ARMAN dataset holds 7,682 sentences with 250,015 sentences tagged over six different classes.\n",
        "\n",
        "1. Organization\n",
        "2. Location\n",
        "3. Facility\n",
        "4. Event\n",
        "5. Product\n",
        "6. Person\n",
        "\n",
        "\n",
        "|     Label    |   #   |\n",
        "|:------------:|:-----:|\n",
        "| Organization | 30108 |\n",
        "|   Location   | 12924 |\n",
        "|   Facility   |  4458 |\n",
        "|     Event    |  7557 |\n",
        "|    Product   |  4389 |\n",
        "|    Person    | 15645 |\n",
        "\n",
        "**Download**\n",
        "You can download the dataset from [here](https://github.com/HaniehP/PersianNER)\n",
        "\n",
        "\n",
        "\n",
        "## PEYMA:\n",
        "PEYMA dataset includes 7,145 sentences with a total of 302,530 tokens from which 41,148 tokens are tagged with seven different classes: \n",
        "\n",
        "- Organization\n",
        "- Money\n",
        "- Location\n",
        "- Date\n",
        "- Time\n",
        "- Person\n",
        "- Percent\n",
        "\n",
        "|     Label    |   #   |\n",
        "|:------------:|:-----:|\n",
        "| Organization | 16964 |\n",
        "|     Money    |  2037 |\n",
        "|   Location   |  8782 |\n",
        "|     Date     |  4259 |\n",
        "|     Time     |  732  |\n",
        "|    Person    |  7675 |\n",
        "|    Percent   |  699  |\n",
        "\n",
        "**Download**\n",
        "You can download the dataset from [here](http://nsurl.org/tasks/task-7-named-entity-recognition-ner-for-farsi/)\n",
        "\n"
      ]
    },
    {
      "cell_type": "code",
      "metadata": {
        "colab": {
          "base_uri": "https://localhost:8080/"
        },
        "id": "1YMGbmC17LYG",
        "outputId": "dbf9ce3f-6d8c-4b15-8092-2334fbdbee78"
      },
      "source": [
        "# connect to GPU\r\n",
        "!nvidia-smi"
      ],
      "execution_count": 2,
      "outputs": [
        {
          "output_type": "stream",
          "text": [
            "Thu Jan 21 19:18:56 2021       \n",
            "+-----------------------------------------------------------------------------+\n",
            "| NVIDIA-SMI 460.32.03    Driver Version: 418.67       CUDA Version: 10.1     |\n",
            "|-------------------------------+----------------------+----------------------+\n",
            "| GPU  Name        Persistence-M| Bus-Id        Disp.A | Volatile Uncorr. ECC |\n",
            "| Fan  Temp  Perf  Pwr:Usage/Cap|         Memory-Usage | GPU-Util  Compute M. |\n",
            "|                               |                      |               MIG M. |\n",
            "|===============================+======================+======================|\n",
            "|   0  Tesla T4            Off  | 00000000:00:04.0 Off |                    0 |\n",
            "| N/A   39C    P8     9W /  70W |      0MiB / 15079MiB |      0%      Default |\n",
            "|                               |                      |                 ERR! |\n",
            "+-------------------------------+----------------------+----------------------+\n",
            "                                                                               \n",
            "+-----------------------------------------------------------------------------+\n",
            "| Processes:                                                                  |\n",
            "|  GPU   GI   CI        PID   Type   Process name                  GPU Memory |\n",
            "|        ID   ID                                                   Usage      |\n",
            "|=============================================================================|\n",
            "|  No running processes found                                                 |\n",
            "+-----------------------------------------------------------------------------+\n"
          ],
          "name": "stdout"
        }
      ]
    },
    {
      "cell_type": "markdown",
      "metadata": {
        "id": "2cNgX_FcSsGs"
      },
      "source": [
        "# Load Libraries"
      ]
    },
    {
      "cell_type": "code",
      "metadata": {
        "colab": {
          "base_uri": "https://localhost:8080/"
        },
        "id": "CJJtH42SS1tH",
        "outputId": "8b14ea3b-5c8e-499f-d260-56a0d737d309"
      },
      "source": [
        "# install requiered package\r\n",
        "\r\n",
        "# install requiered packages\r\n",
        "# !pip install -qU hazm\r\n",
        "!pip install transformers\r\n",
        "!pip install seqeval\r\n",
        "!pip install tqdm\r\n"
      ],
      "execution_count": 3,
      "outputs": [
        {
          "output_type": "stream",
          "text": [
            "Collecting transformers\n",
            "\u001b[?25l  Downloading https://files.pythonhosted.org/packages/88/b1/41130a228dd656a1a31ba281598a968320283f48d42782845f6ba567f00b/transformers-4.2.2-py3-none-any.whl (1.8MB)\n",
            "\r\u001b[K     |▏                               | 10kB 19.4MB/s eta 0:00:01\r\u001b[K     |▍                               | 20kB 24.7MB/s eta 0:00:01\r\u001b[K     |▋                               | 30kB 27.1MB/s eta 0:00:01\r\u001b[K     |▊                               | 40kB 23.2MB/s eta 0:00:01\r\u001b[K     |█                               | 51kB 24.9MB/s eta 0:00:01\r\u001b[K     |█▏                              | 61kB 17.7MB/s eta 0:00:01\r\u001b[K     |█▎                              | 71kB 17.9MB/s eta 0:00:01\r\u001b[K     |█▌                              | 81kB 18.4MB/s eta 0:00:01\r\u001b[K     |█▊                              | 92kB 16.1MB/s eta 0:00:01\r\u001b[K     |█▉                              | 102kB 17.3MB/s eta 0:00:01\r\u001b[K     |██                              | 112kB 17.3MB/s eta 0:00:01\r\u001b[K     |██▎                             | 122kB 17.3MB/s eta 0:00:01\r\u001b[K     |██▍                             | 133kB 17.3MB/s eta 0:00:01\r\u001b[K     |██▋                             | 143kB 17.3MB/s eta 0:00:01\r\u001b[K     |██▉                             | 153kB 17.3MB/s eta 0:00:01\r\u001b[K     |███                             | 163kB 17.3MB/s eta 0:00:01\r\u001b[K     |███▏                            | 174kB 17.3MB/s eta 0:00:01\r\u001b[K     |███▍                            | 184kB 17.3MB/s eta 0:00:01\r\u001b[K     |███▌                            | 194kB 17.3MB/s eta 0:00:01\r\u001b[K     |███▊                            | 204kB 17.3MB/s eta 0:00:01\r\u001b[K     |████                            | 215kB 17.3MB/s eta 0:00:01\r\u001b[K     |████                            | 225kB 17.3MB/s eta 0:00:01\r\u001b[K     |████▎                           | 235kB 17.3MB/s eta 0:00:01\r\u001b[K     |████▌                           | 245kB 17.3MB/s eta 0:00:01\r\u001b[K     |████▋                           | 256kB 17.3MB/s eta 0:00:01\r\u001b[K     |████▉                           | 266kB 17.3MB/s eta 0:00:01\r\u001b[K     |█████                           | 276kB 17.3MB/s eta 0:00:01\r\u001b[K     |█████▏                          | 286kB 17.3MB/s eta 0:00:01\r\u001b[K     |█████▍                          | 296kB 17.3MB/s eta 0:00:01\r\u001b[K     |█████▋                          | 307kB 17.3MB/s eta 0:00:01\r\u001b[K     |█████▊                          | 317kB 17.3MB/s eta 0:00:01\r\u001b[K     |██████                          | 327kB 17.3MB/s eta 0:00:01\r\u001b[K     |██████▏                         | 337kB 17.3MB/s eta 0:00:01\r\u001b[K     |██████▎                         | 348kB 17.3MB/s eta 0:00:01\r\u001b[K     |██████▌                         | 358kB 17.3MB/s eta 0:00:01\r\u001b[K     |██████▊                         | 368kB 17.3MB/s eta 0:00:01\r\u001b[K     |██████▉                         | 378kB 17.3MB/s eta 0:00:01\r\u001b[K     |███████                         | 389kB 17.3MB/s eta 0:00:01\r\u001b[K     |███████▎                        | 399kB 17.3MB/s eta 0:00:01\r\u001b[K     |███████▍                        | 409kB 17.3MB/s eta 0:00:01\r\u001b[K     |███████▋                        | 419kB 17.3MB/s eta 0:00:01\r\u001b[K     |███████▉                        | 430kB 17.3MB/s eta 0:00:01\r\u001b[K     |████████                        | 440kB 17.3MB/s eta 0:00:01\r\u001b[K     |████████▏                       | 450kB 17.3MB/s eta 0:00:01\r\u001b[K     |████████▍                       | 460kB 17.3MB/s eta 0:00:01\r\u001b[K     |████████▌                       | 471kB 17.3MB/s eta 0:00:01\r\u001b[K     |████████▊                       | 481kB 17.3MB/s eta 0:00:01\r\u001b[K     |█████████                       | 491kB 17.3MB/s eta 0:00:01\r\u001b[K     |█████████                       | 501kB 17.3MB/s eta 0:00:01\r\u001b[K     |█████████▎                      | 512kB 17.3MB/s eta 0:00:01\r\u001b[K     |█████████▌                      | 522kB 17.3MB/s eta 0:00:01\r\u001b[K     |█████████▋                      | 532kB 17.3MB/s eta 0:00:01\r\u001b[K     |█████████▉                      | 542kB 17.3MB/s eta 0:00:01\r\u001b[K     |██████████                      | 552kB 17.3MB/s eta 0:00:01\r\u001b[K     |██████████▏                     | 563kB 17.3MB/s eta 0:00:01\r\u001b[K     |██████████▍                     | 573kB 17.3MB/s eta 0:00:01\r\u001b[K     |██████████▋                     | 583kB 17.3MB/s eta 0:00:01\r\u001b[K     |██████████▊                     | 593kB 17.3MB/s eta 0:00:01\r\u001b[K     |███████████                     | 604kB 17.3MB/s eta 0:00:01\r\u001b[K     |███████████▏                    | 614kB 17.3MB/s eta 0:00:01\r\u001b[K     |███████████▎                    | 624kB 17.3MB/s eta 0:00:01\r\u001b[K     |███████████▌                    | 634kB 17.3MB/s eta 0:00:01\r\u001b[K     |███████████▊                    | 645kB 17.3MB/s eta 0:00:01\r\u001b[K     |███████████▉                    | 655kB 17.3MB/s eta 0:00:01\r\u001b[K     |████████████                    | 665kB 17.3MB/s eta 0:00:01\r\u001b[K     |████████████▎                   | 675kB 17.3MB/s eta 0:00:01\r\u001b[K     |████████████▍                   | 686kB 17.3MB/s eta 0:00:01\r\u001b[K     |████████████▋                   | 696kB 17.3MB/s eta 0:00:01\r\u001b[K     |████████████▉                   | 706kB 17.3MB/s eta 0:00:01\r\u001b[K     |█████████████                   | 716kB 17.3MB/s eta 0:00:01\r\u001b[K     |█████████████▏                  | 727kB 17.3MB/s eta 0:00:01\r\u001b[K     |█████████████▍                  | 737kB 17.3MB/s eta 0:00:01\r\u001b[K     |█████████████▌                  | 747kB 17.3MB/s eta 0:00:01\r\u001b[K     |█████████████▊                  | 757kB 17.3MB/s eta 0:00:01\r\u001b[K     |██████████████                  | 768kB 17.3MB/s eta 0:00:01\r\u001b[K     |██████████████                  | 778kB 17.3MB/s eta 0:00:01\r\u001b[K     |██████████████▎                 | 788kB 17.3MB/s eta 0:00:01\r\u001b[K     |██████████████▌                 | 798kB 17.3MB/s eta 0:00:01\r\u001b[K     |██████████████▋                 | 808kB 17.3MB/s eta 0:00:01\r\u001b[K     |██████████████▉                 | 819kB 17.3MB/s eta 0:00:01\r\u001b[K     |███████████████                 | 829kB 17.3MB/s eta 0:00:01\r\u001b[K     |███████████████▏                | 839kB 17.3MB/s eta 0:00:01\r\u001b[K     |███████████████▍                | 849kB 17.3MB/s eta 0:00:01\r\u001b[K     |███████████████▋                | 860kB 17.3MB/s eta 0:00:01\r\u001b[K     |███████████████▊                | 870kB 17.3MB/s eta 0:00:01\r\u001b[K     |████████████████                | 880kB 17.3MB/s eta 0:00:01\r\u001b[K     |████████████████▏               | 890kB 17.3MB/s eta 0:00:01\r\u001b[K     |████████████████▎               | 901kB 17.3MB/s eta 0:00:01\r\u001b[K     |████████████████▌               | 911kB 17.3MB/s eta 0:00:01\r\u001b[K     |████████████████▊               | 921kB 17.3MB/s eta 0:00:01\r\u001b[K     |████████████████▉               | 931kB 17.3MB/s eta 0:00:01\r\u001b[K     |█████████████████               | 942kB 17.3MB/s eta 0:00:01\r\u001b[K     |█████████████████▎              | 952kB 17.3MB/s eta 0:00:01\r\u001b[K     |█████████████████▍              | 962kB 17.3MB/s eta 0:00:01\r\u001b[K     |█████████████████▋              | 972kB 17.3MB/s eta 0:00:01\r\u001b[K     |█████████████████▉              | 983kB 17.3MB/s eta 0:00:01\r\u001b[K     |██████████████████              | 993kB 17.3MB/s eta 0:00:01\r\u001b[K     |██████████████████▏             | 1.0MB 17.3MB/s eta 0:00:01\r\u001b[K     |██████████████████▍             | 1.0MB 17.3MB/s eta 0:00:01\r\u001b[K     |██████████████████▌             | 1.0MB 17.3MB/s eta 0:00:01\r\u001b[K     |██████████████████▊             | 1.0MB 17.3MB/s eta 0:00:01\r\u001b[K     |███████████████████             | 1.0MB 17.3MB/s eta 0:00:01\r\u001b[K     |███████████████████             | 1.1MB 17.3MB/s eta 0:00:01\r\u001b[K     |███████████████████▎            | 1.1MB 17.3MB/s eta 0:00:01\r\u001b[K     |███████████████████▌            | 1.1MB 17.3MB/s eta 0:00:01\r\u001b[K     |███████████████████▋            | 1.1MB 17.3MB/s eta 0:00:01\r\u001b[K     |███████████████████▉            | 1.1MB 17.3MB/s eta 0:00:01\r\u001b[K     |████████████████████            | 1.1MB 17.3MB/s eta 0:00:01\r\u001b[K     |████████████████████▏           | 1.1MB 17.3MB/s eta 0:00:01\r\u001b[K     |████████████████████▍           | 1.1MB 17.3MB/s eta 0:00:01\r\u001b[K     |████████████████████▋           | 1.1MB 17.3MB/s eta 0:00:01\r\u001b[K     |████████████████████▊           | 1.1MB 17.3MB/s eta 0:00:01\r\u001b[K     |█████████████████████           | 1.2MB 17.3MB/s eta 0:00:01\r\u001b[K     |█████████████████████▏          | 1.2MB 17.3MB/s eta 0:00:01\r\u001b[K     |█████████████████████▎          | 1.2MB 17.3MB/s eta 0:00:01\r\u001b[K     |█████████████████████▌          | 1.2MB 17.3MB/s eta 0:00:01\r\u001b[K     |█████████████████████▊          | 1.2MB 17.3MB/s eta 0:00:01\r\u001b[K     |█████████████████████▉          | 1.2MB 17.3MB/s eta 0:00:01\r\u001b[K     |██████████████████████          | 1.2MB 17.3MB/s eta 0:00:01\r\u001b[K     |██████████████████████▎         | 1.2MB 17.3MB/s eta 0:00:01\r\u001b[K     |██████████████████████▍         | 1.2MB 17.3MB/s eta 0:00:01\r\u001b[K     |██████████████████████▋         | 1.2MB 17.3MB/s eta 0:00:01\r\u001b[K     |██████████████████████▉         | 1.3MB 17.3MB/s eta 0:00:01\r\u001b[K     |███████████████████████         | 1.3MB 17.3MB/s eta 0:00:01\r\u001b[K     |███████████████████████▏        | 1.3MB 17.3MB/s eta 0:00:01\r\u001b[K     |███████████████████████▍        | 1.3MB 17.3MB/s eta 0:00:01\r\u001b[K     |███████████████████████▌        | 1.3MB 17.3MB/s eta 0:00:01\r\u001b[K     |███████████████████████▊        | 1.3MB 17.3MB/s eta 0:00:01\r\u001b[K     |████████████████████████        | 1.3MB 17.3MB/s eta 0:00:01\r\u001b[K     |████████████████████████        | 1.3MB 17.3MB/s eta 0:00:01\r\u001b[K     |████████████████████████▎       | 1.3MB 17.3MB/s eta 0:00:01\r\u001b[K     |████████████████████████▌       | 1.4MB 17.3MB/s eta 0:00:01\r\u001b[K     |████████████████████████▊       | 1.4MB 17.3MB/s eta 0:00:01\r\u001b[K     |████████████████████████▉       | 1.4MB 17.3MB/s eta 0:00:01\r\u001b[K     |█████████████████████████       | 1.4MB 17.3MB/s eta 0:00:01\r\u001b[K     |█████████████████████████▎      | 1.4MB 17.3MB/s eta 0:00:01\r\u001b[K     |█████████████████████████▍      | 1.4MB 17.3MB/s eta 0:00:01\r\u001b[K     |█████████████████████████▋      | 1.4MB 17.3MB/s eta 0:00:01\r\u001b[K     |█████████████████████████▉      | 1.4MB 17.3MB/s eta 0:00:01\r\u001b[K     |██████████████████████████      | 1.4MB 17.3MB/s eta 0:00:01\r\u001b[K     |██████████████████████████▏     | 1.4MB 17.3MB/s eta 0:00:01\r\u001b[K     |██████████████████████████▍     | 1.5MB 17.3MB/s eta 0:00:01\r\u001b[K     |██████████████████████████▌     | 1.5MB 17.3MB/s eta 0:00:01\r\u001b[K     |██████████████████████████▊     | 1.5MB 17.3MB/s eta 0:00:01\r\u001b[K     |███████████████████████████     | 1.5MB 17.3MB/s eta 0:00:01\r\u001b[K     |███████████████████████████     | 1.5MB 17.3MB/s eta 0:00:01\r\u001b[K     |███████████████████████████▎    | 1.5MB 17.3MB/s eta 0:00:01\r\u001b[K     |███████████████████████████▌    | 1.5MB 17.3MB/s eta 0:00:01\r\u001b[K     |███████████████████████████▋    | 1.5MB 17.3MB/s eta 0:00:01\r\u001b[K     |███████████████████████████▉    | 1.5MB 17.3MB/s eta 0:00:01\r\u001b[K     |████████████████████████████    | 1.5MB 17.3MB/s eta 0:00:01\r\u001b[K     |████████████████████████████▏   | 1.6MB 17.3MB/s eta 0:00:01\r\u001b[K     |████████████████████████████▍   | 1.6MB 17.3MB/s eta 0:00:01\r\u001b[K     |████████████████████████████▋   | 1.6MB 17.3MB/s eta 0:00:01\r\u001b[K     |████████████████████████████▊   | 1.6MB 17.3MB/s eta 0:00:01\r\u001b[K     |█████████████████████████████   | 1.6MB 17.3MB/s eta 0:00:01\r\u001b[K     |█████████████████████████████▏  | 1.6MB 17.3MB/s eta 0:00:01\r\u001b[K     |█████████████████████████████▎  | 1.6MB 17.3MB/s eta 0:00:01\r\u001b[K     |█████████████████████████████▌  | 1.6MB 17.3MB/s eta 0:00:01\r\u001b[K     |█████████████████████████████▊  | 1.6MB 17.3MB/s eta 0:00:01\r\u001b[K     |█████████████████████████████▉  | 1.6MB 17.3MB/s eta 0:00:01\r\u001b[K     |██████████████████████████████  | 1.7MB 17.3MB/s eta 0:00:01\r\u001b[K     |██████████████████████████████▎ | 1.7MB 17.3MB/s eta 0:00:01\r\u001b[K     |██████████████████████████████▍ | 1.7MB 17.3MB/s eta 0:00:01\r\u001b[K     |██████████████████████████████▋ | 1.7MB 17.3MB/s eta 0:00:01\r\u001b[K     |██████████████████████████████▉ | 1.7MB 17.3MB/s eta 0:00:01\r\u001b[K     |███████████████████████████████ | 1.7MB 17.3MB/s eta 0:00:01\r\u001b[K     |███████████████████████████████▏| 1.7MB 17.3MB/s eta 0:00:01\r\u001b[K     |███████████████████████████████▍| 1.7MB 17.3MB/s eta 0:00:01\r\u001b[K     |███████████████████████████████▌| 1.7MB 17.3MB/s eta 0:00:01\r\u001b[K     |███████████████████████████████▊| 1.8MB 17.3MB/s eta 0:00:01\r\u001b[K     |████████████████████████████████| 1.8MB 17.3MB/s eta 0:00:01\r\u001b[K     |████████████████████████████████| 1.8MB 17.3MB/s \n",
            "\u001b[?25hRequirement already satisfied: dataclasses; python_version < \"3.7\" in /usr/local/lib/python3.6/dist-packages (from transformers) (0.8)\n",
            "Requirement already satisfied: regex!=2019.12.17 in /usr/local/lib/python3.6/dist-packages (from transformers) (2019.12.20)\n",
            "Requirement already satisfied: tqdm>=4.27 in /usr/local/lib/python3.6/dist-packages (from transformers) (4.41.1)\n",
            "Requirement already satisfied: requests in /usr/local/lib/python3.6/dist-packages (from transformers) (2.23.0)\n",
            "Collecting tokenizers==0.9.4\n",
            "\u001b[?25l  Downloading https://files.pythonhosted.org/packages/0f/1c/e789a8b12e28be5bc1ce2156cf87cb522b379be9cadc7ad8091a4cc107c4/tokenizers-0.9.4-cp36-cp36m-manylinux2010_x86_64.whl (2.9MB)\n",
            "\u001b[K     |████████████████████████████████| 2.9MB 60.3MB/s \n",
            "\u001b[?25hRequirement already satisfied: packaging in /usr/local/lib/python3.6/dist-packages (from transformers) (20.8)\n",
            "Requirement already satisfied: importlib-metadata; python_version < \"3.8\" in /usr/local/lib/python3.6/dist-packages (from transformers) (3.3.0)\n",
            "Requirement already satisfied: filelock in /usr/local/lib/python3.6/dist-packages (from transformers) (3.0.12)\n",
            "Requirement already satisfied: numpy in /usr/local/lib/python3.6/dist-packages (from transformers) (1.19.5)\n",
            "Collecting sacremoses\n",
            "\u001b[?25l  Downloading https://files.pythonhosted.org/packages/7d/34/09d19aff26edcc8eb2a01bed8e98f13a1537005d31e95233fd48216eed10/sacremoses-0.0.43.tar.gz (883kB)\n",
            "\u001b[K     |████████████████████████████████| 890kB 56.6MB/s \n",
            "\u001b[?25hRequirement already satisfied: certifi>=2017.4.17 in /usr/local/lib/python3.6/dist-packages (from requests->transformers) (2020.12.5)\n",
            "Requirement already satisfied: idna<3,>=2.5 in /usr/local/lib/python3.6/dist-packages (from requests->transformers) (2.10)\n",
            "Requirement already satisfied: chardet<4,>=3.0.2 in /usr/local/lib/python3.6/dist-packages (from requests->transformers) (3.0.4)\n",
            "Requirement already satisfied: urllib3!=1.25.0,!=1.25.1,<1.26,>=1.21.1 in /usr/local/lib/python3.6/dist-packages (from requests->transformers) (1.24.3)\n",
            "Requirement already satisfied: pyparsing>=2.0.2 in /usr/local/lib/python3.6/dist-packages (from packaging->transformers) (2.4.7)\n",
            "Requirement already satisfied: typing-extensions>=3.6.4; python_version < \"3.8\" in /usr/local/lib/python3.6/dist-packages (from importlib-metadata; python_version < \"3.8\"->transformers) (3.7.4.3)\n",
            "Requirement already satisfied: zipp>=0.5 in /usr/local/lib/python3.6/dist-packages (from importlib-metadata; python_version < \"3.8\"->transformers) (3.4.0)\n",
            "Requirement already satisfied: six in /usr/local/lib/python3.6/dist-packages (from sacremoses->transformers) (1.15.0)\n",
            "Requirement already satisfied: click in /usr/local/lib/python3.6/dist-packages (from sacremoses->transformers) (7.1.2)\n",
            "Requirement already satisfied: joblib in /usr/local/lib/python3.6/dist-packages (from sacremoses->transformers) (1.0.0)\n",
            "Building wheels for collected packages: sacremoses\n",
            "  Building wheel for sacremoses (setup.py) ... \u001b[?25l\u001b[?25hdone\n",
            "  Created wheel for sacremoses: filename=sacremoses-0.0.43-cp36-none-any.whl size=893261 sha256=dd2da5191eea382e72a54b3e875b767af5efe0f735756555f0a5b7dd8a34a789\n",
            "  Stored in directory: /root/.cache/pip/wheels/29/3c/fd/7ce5c3f0666dab31a50123635e6fb5e19ceb42ce38d4e58f45\n",
            "Successfully built sacremoses\n",
            "Installing collected packages: tokenizers, sacremoses, transformers\n",
            "Successfully installed sacremoses-0.0.43 tokenizers-0.9.4 transformers-4.2.2\n",
            "Collecting seqeval\n",
            "\u001b[?25l  Downloading https://files.pythonhosted.org/packages/9d/2d/233c79d5b4e5ab1dbf111242299153f3caddddbb691219f363ad55ce783d/seqeval-1.2.2.tar.gz (43kB)\n",
            "\u001b[K     |████████████████████████████████| 51kB 7.8MB/s \n",
            "\u001b[?25hRequirement already satisfied: numpy>=1.14.0 in /usr/local/lib/python3.6/dist-packages (from seqeval) (1.19.5)\n",
            "Requirement already satisfied: scikit-learn>=0.21.3 in /usr/local/lib/python3.6/dist-packages (from seqeval) (0.22.2.post1)\n",
            "Requirement already satisfied: scipy>=0.17.0 in /usr/local/lib/python3.6/dist-packages (from scikit-learn>=0.21.3->seqeval) (1.4.1)\n",
            "Requirement already satisfied: joblib>=0.11 in /usr/local/lib/python3.6/dist-packages (from scikit-learn>=0.21.3->seqeval) (1.0.0)\n",
            "Building wheels for collected packages: seqeval\n",
            "  Building wheel for seqeval (setup.py) ... \u001b[?25l\u001b[?25hdone\n",
            "  Created wheel for seqeval: filename=seqeval-1.2.2-cp36-none-any.whl size=16171 sha256=b354719357f8e2bb609b95ffec902417eb88e6510fb2c4eab0103ca5ff639e26\n",
            "  Stored in directory: /root/.cache/pip/wheels/52/df/1b/45d75646c37428f7e626214704a0e35bd3cfc32eda37e59e5f\n",
            "Successfully built seqeval\n",
            "Installing collected packages: seqeval\n",
            "Successfully installed seqeval-1.2.2\n",
            "Requirement already satisfied: tqdm in /usr/local/lib/python3.6/dist-packages (4.41.1)\n"
          ],
          "name": "stdout"
        }
      ]
    },
    {
      "cell_type": "code",
      "metadata": {
        "colab": {
          "base_uri": "https://localhost:8080/"
        },
        "id": "KXL4-F_vSrar",
        "outputId": "442c7743-6db5-4ba1-e454-2f57419d1852"
      },
      "source": [
        "# import requiered package\r\n",
        "\r\n",
        "from google.colab import drive\r\n",
        "drive.mount('/content/drive')\r\n",
        "\r\n",
        "try:\r\n",
        "    # %tensorflow_version only exists in Colab.\r\n",
        "    %tensorflow_version 2.x\r\n",
        "except Exception:\r\n",
        "    pass\r\n",
        "\r\n",
        "from __future__ import absolute_import, division, print_function, unicode_literals\r\n",
        "import os\r\n",
        "\r\n",
        "import numpy as np\r\n",
        "import pandas as pd\r\n",
        "import time\r\n",
        "import datetime\r\n",
        "import seqeval\r\n",
        "import tqdm\r\n",
        "\r\n",
        "import tensorflow as tf\r\n",
        "import torch, gc\r\n",
        "from torch.utils.data import TensorDataset, DataLoader, RandomSampler, SequentialSampler\r\n",
        "import transformers \r\n",
        "from transformers import AutoTokenizer, BertConfig, TFAutoModelForTokenClassification, AdamW\r\n",
        "from transformers import BertForTokenClassification, BertTokenizer, BertConfig\r\n",
        "from transformers import get_linear_schedule_with_warmup\r\n",
        "from keras.preprocessing.sequence import pad_sequences\r\n",
        "from sklearn.model_selection import train_test_split\r\n",
        "from seqeval.metrics import f1_score, accuracy_score, classification_report\r\n",
        "\r\n",
        "\r\n",
        "# import hazm\r\n",
        "\r\n",
        "print()\r\n",
        "print('tensorflow', tf.__version__)\r\n",
        "print('transformers', transformers.__version__)\r\n",
        "print('numpy', np.__version__)\r\n",
        "print('pandas', pd.__version__)\r\n",
        "print()\r\n",
        "\r\n",
        "if tf.test.gpu_device_name() != '/device:GPU:0':\r\n",
        "    print()\r\n",
        "    print('WARNING: GPU device not found.')\r\n",
        "else:\r\n",
        "    print()\r\n",
        "    print('SUCCESS: Found GPU: {}'.format(tf.test.gpu_device_name()))\r\n"
      ],
      "execution_count": 4,
      "outputs": [
        {
          "output_type": "stream",
          "text": [
            "Mounted at /content/drive\n",
            "\n",
            "tensorflow 2.4.0\n",
            "transformers 4.2.2\n",
            "numpy 1.19.5\n",
            "pandas 1.1.5\n",
            "\n",
            "\n",
            "SUCCESS: Found GPU: /device:GPU:0\n"
          ],
          "name": "stdout"
        }
      ]
    },
    {
      "cell_type": "code",
      "metadata": {
        "id": "6i72QRcONzEv",
        "colab": {
          "base_uri": "https://localhost:8080/"
        },
        "outputId": "a2c37097-4830-4a06-8381-e9eb0a1279e7"
      },
      "source": [
        "# determine the gpu for allocating tensors\r\n",
        "device = torch.device(\"cuda\" if torch.cuda.is_available() else \"cpu\")\r\n",
        "n_gpu = torch.cuda.device_count()\r\n",
        "n_gpu"
      ],
      "execution_count": 5,
      "outputs": [
        {
          "output_type": "execute_result",
          "data": {
            "text/plain": [
              "1"
            ]
          },
          "metadata": {
            "tags": []
          },
          "execution_count": 5
        }
      ]
    },
    {
      "cell_type": "code",
      "metadata": {
        "colab": {
          "base_uri": "https://localhost:8080/",
          "height": 35
        },
        "id": "NuuR0s0ZN9Hn",
        "outputId": "d2a0c52f-4533-4979-f5c1-110953143e95"
      },
      "source": [
        "torch.cuda.get_device_name(0)\r\n"
      ],
      "execution_count": 6,
      "outputs": [
        {
          "output_type": "execute_result",
          "data": {
            "application/vnd.google.colaboratory.intrinsic+json": {
              "type": "string"
            },
            "text/plain": [
              "'Tesla T4'"
            ]
          },
          "metadata": {
            "tags": []
          },
          "execution_count": 6
        }
      ]
    },
    {
      "cell_type": "markdown",
      "metadata": {
        "id": "Lue7LtgXcXD3"
      },
      "source": [
        "# Define constant values"
      ]
    },
    {
      "cell_type": "code",
      "metadata": {
        "id": "fTxuoQaHcaY2"
      },
      "source": [
        "model_name_or_path = 'HooshvareLab/bert-fa-base-uncased'\r\n",
        "MAX_LEN = 64\r\n",
        "batch_size = 32\r\n",
        "epochs = 2\r\n"
      ],
      "execution_count": 7,
      "outputs": []
    },
    {
      "cell_type": "markdown",
      "metadata": {
        "id": "51nQMdG0c0vc"
      },
      "source": [
        "#BERT Initialization"
      ]
    },
    {
      "cell_type": "code",
      "metadata": {
        "colab": {
          "base_uri": "https://localhost:8080/"
        },
        "id": "PTvjuZessiU7",
        "outputId": "83db4c67-f030-495a-d9f7-ccc778734b39"
      },
      "source": [
        "!wget https://github.com/hooshvare/parsbert"
      ],
      "execution_count": 8,
      "outputs": [
        {
          "output_type": "stream",
          "text": [
            "--2021-01-21 19:19:59--  https://github.com/hooshvare/parsbert\n",
            "Resolving github.com (github.com)... 140.82.113.3\n",
            "Connecting to github.com (github.com)|140.82.113.3|:443... connected.\n",
            "HTTP request sent, awaiting response... 200 OK\n",
            "Length: unspecified [text/html]\n",
            "Saving to: ‘parsbert’\n",
            "\n",
            "parsbert                [ <=>                ] 168.67K  --.-KB/s    in 0.01s   \n",
            "\n",
            "2021-01-21 19:19:59 (17.3 MB/s) - ‘parsbert’ saved [172721]\n",
            "\n"
          ],
          "name": "stdout"
        }
      ]
    },
    {
      "cell_type": "code",
      "metadata": {
        "colab": {
          "base_uri": "https://localhost:8080/",
          "height": 84,
          "referenced_widgets": [
            "83660b7cf61d4a7d8f09392a3f8652e7",
            "1b3047e4305e449092bdf86f44be1b86",
            "96084aba86a74b80a921e2837542339d",
            "6c00c4c34c2147049547904a38f8f367",
            "b938c67d01654983859b43064c93e02c",
            "1b3c7707f31140519af27907b91d021a",
            "b35181051aaa4bdca8b5b464e5dfed97",
            "f702aa154cc24f04935aa9c7146be26c"
          ]
        },
        "id": "Rm90Fmaicz_2",
        "outputId": "3e73fbfb-5857-44e4-b447-6c74dc563ebf"
      },
      "source": [
        "print('Loading BERT tokenizer')\r\n",
        "tokenizer = BertTokenizer.from_pretrained(model_name_or_path, do_lower_case = True) "
      ],
      "execution_count": 9,
      "outputs": [
        {
          "output_type": "stream",
          "text": [
            "Loading BERT tokenizer\n"
          ],
          "name": "stdout"
        },
        {
          "output_type": "display_data",
          "data": {
            "application/vnd.jupyter.widget-view+json": {
              "model_id": "83660b7cf61d4a7d8f09392a3f8652e7",
              "version_minor": 0,
              "version_major": 2
            },
            "text/plain": [
              "HBox(children=(FloatProgress(value=0.0, description='Downloading', max=1198122.0, style=ProgressStyle(descript…"
            ]
          },
          "metadata": {
            "tags": []
          }
        },
        {
          "output_type": "stream",
          "text": [
            "\n"
          ],
          "name": "stdout"
        }
      ]
    },
    {
      "cell_type": "markdown",
      "metadata": {
        "id": "r5v7KNbo8KoR"
      },
      "source": [
        "# Dataset"
      ]
    },
    {
      "cell_type": "code",
      "metadata": {
        "id": "n0koHVEo8Ym4"
      },
      "source": [
        ""
      ],
      "execution_count": 9,
      "outputs": []
    },
    {
      "cell_type": "code",
      "metadata": {
        "colab": {
          "base_uri": "https://localhost:8080/"
        },
        "id": "dUeFIK6s9NvJ",
        "outputId": "e1ac4f1b-cb15-41e9-85d5-bdd0a6c33aa1"
      },
      "source": [
        "# Load Data\r\n",
        "# unzip dataset\r\n",
        "%cd /content/drive/MyDrive/NLP_HW3 \r\n",
        "# !pwd\r\n",
        "if not os.path.exists('./dataset/peyma/'):\r\n",
        "  !unzip peyma.zip -d 'dataset'\r\n",
        "%cd dataset/peyma"
      ],
      "execution_count": 10,
      "outputs": [
        {
          "output_type": "stream",
          "text": [
            "/content/drive/MyDrive/NLP_HW3\n",
            "/content/drive/MyDrive/NLP_HW3/dataset/peyma\n"
          ],
          "name": "stdout"
        }
      ]
    },
    {
      "cell_type": "code",
      "metadata": {
        "id": "DftAptHOAMZ2"
      },
      "source": [
        "# function to work with data and extract them\r\n",
        "\r\n",
        "def read_file(fileName):\r\n",
        "  sentences = []\r\n",
        "  with open(fileName) as f_in:\r\n",
        "      lines = f_in.readlines()\r\n",
        "      s = []\r\n",
        "      for line in lines:\r\n",
        "        if not line.strip():\r\n",
        "          sentences.append(s)\r\n",
        "          s = []\r\n",
        "        else:\r\n",
        "          s.append(line.strip())\r\n",
        "        \r\n",
        "  return sentences\r\n",
        "  # print(lines[0:100])\r\n",
        "def remove_blank_line(fileName):\r\n",
        "  outputfile_name = fileName.split('.')[0] + 'NBlankLine.txt'\r\n",
        "  with open(fileName) as infile, open(outputfile_name, 'w') as outfile:\r\n",
        "      for line in infile:\r\n",
        "          if not line.strip(): continue  # skip the empty line\r\n",
        "          outfile.write(line)  # non-empty line. Write it to output\r\n",
        "  return outputfile_name\r\n",
        "\r\n",
        "import csv\r\n",
        "def read_data(fileName):\r\n",
        "  return pd.read_csv(fileName, delimiter='|', header=None, names=['Word','Tag'],quoting=csv.QUOTE_NONE)\r\n",
        "\r\n",
        "def tokenize_and_preserve_labels(sentence, text_labels):\r\n",
        "    tokenized_sentence = ['[CLS]']\r\n",
        "    labels = ['O']\r\n",
        "\r\n",
        "    for word, label in zip(sentence, text_labels):\r\n",
        "      # Tokenize the word and count # of subwords the word is broken into\r\n",
        "      tokenized_word = tokenizer.tokenize(word)\r\n",
        "      n_subwords = len(tokenized_word)\r\n",
        "\r\n",
        "      # Add the tokenized word to the final tokenized word list\r\n",
        "      tokenized_sentence.extend(tokenized_word)\r\n",
        "\r\n",
        "      # Add the same label to the new list of labels `n_subwords` times\r\n",
        "      labels.extend([label] * n_subwords)\r\n",
        "    labels.append('O')\r\n",
        "    tokenized_sentence.append('[SEP]')\r\n",
        "\r\n",
        "    return tokenized_sentence, labels\r\n",
        "\r\n",
        "def get_data_part(file_name):\r\n",
        "  sen = read_file(file_name)\r\n",
        "  sentences = [[t.split('|')[0] for t in s_t] for s_t in sen]\r\n",
        "  labels = [[t.split('|')[1] for t in s_t] for s_t in sen]\r\n",
        "  # some preprocessing\r\n",
        "  for i,l in enumerate(sentences):\r\n",
        "    l = sentences[i]\r\n",
        "    for j,s in enumerate(l):\r\n",
        "      if not s:\r\n",
        "        print(labels[i])\r\n",
        "        sentences[i][j] = '|'\r\n",
        "        labels[i][j] = 'O'\r\n",
        "\r\n",
        "  \r\n",
        "  # encode\r\n",
        "  tokenized_texts_and_labels = [\r\n",
        "    tokenize_and_preserve_labels(t, l)\r\n",
        "    for t, l in zip(sentences, labels)\r\n",
        "  ]\r\n",
        "\r\n",
        "\r\n",
        "  # print(len(tokens))\r\n",
        "  # print(len(labels))\r\n",
        "  # print(tokenized_texts_and_labels[:100])\r\n",
        "  tokens_f = [pair[0] for pair in tokenized_texts_and_labels]\r\n",
        "  labels_f = [pair[1] for pair in tokenized_texts_and_labels]\r\n",
        "  # print(tokens_f)\r\n",
        "  # print(labels_f)\r\n",
        "\r\n",
        "\r\n",
        "\r\n",
        "  # # print('raw', tokens[2])\r\n",
        "  # # print('tokenezed', tokenizer.tokenize(tokens[2]))\r\n",
        "  # # print(tokenizer.convert_tokens_to_ids(tokenizer.tokenize(tokens[2])))\r\n",
        "  input_ids = [tokenizer.convert_tokens_to_ids(t) for t in tokens_f]\r\n",
        "  tags_f = [[tag2idx.get(l) for l in lab] for lab in labels_f]\r\n",
        "\r\n",
        "  return sentences, labels, input_ids, tags_f\r\n",
        "\r\n"
      ],
      "execution_count": 11,
      "outputs": []
    },
    {
      "cell_type": "markdown",
      "metadata": {
        "id": "QG1m5lteB4Nt"
      },
      "source": [
        "# read data"
      ]
    },
    {
      "cell_type": "code",
      "metadata": {
        "id": "VYXB5Y5efPog"
      },
      "source": [
        "train_f = remove_blank_line('train.txt')\r\n",
        "# test_f = remove_blank_line('test.txt')\r\n",
        "# dev_f = remove_blank_line('dev.txt')\r\n",
        "\r\n",
        "train_df = read_data(train_f)\r\n",
        "# test_df = read_data(test_f)\r\n",
        "# dev_df = read_data(dev_f)\r\n",
        "# train_df.head()\r\n",
        "\r\n",
        "train_sen = read_file('train.txt')\r\n",
        "test_sen = read_file('test.txt')\r\n",
        "# dev_sen = read_file('dev.txt')\r\n",
        "# train_sen\r\n",
        "\r\n"
      ],
      "execution_count": 12,
      "outputs": []
    },
    {
      "cell_type": "markdown",
      "metadata": {
        "id": "n5oFFJQHYFKr"
      },
      "source": [
        "# do processing to extract number of unique labels"
      ]
    },
    {
      "cell_type": "code",
      "metadata": {
        "colab": {
          "base_uri": "https://localhost:8080/"
        },
        "id": "7RVz2n5fcVkr",
        "outputId": "08af1758-d5ee-4f35-c748-5b0e1e660383"
      },
      "source": [
        "# print data information\r\n",
        "data = train_df\r\n",
        "print('data information')\r\n",
        "print(data.info(), '\\n')\r\n",
        "\r\n",
        "# print missing values information\r\n",
        "print('missing values stats')\r\n",
        "print(data.isnull().sum(), '\\n')\r\n",
        "\r\n",
        "# print some missing values\r\n",
        "print('some missing values')\r\n",
        "print(data[data['Word'].isnull()].iloc[:5], '\\n')"
      ],
      "execution_count": 13,
      "outputs": [
        {
          "output_type": "stream",
          "text": [
            "data information\n",
            "<class 'pandas.core.frame.DataFrame'>\n",
            "RangeIndex: 243546 entries, 0 to 243545\n",
            "Data columns (total 2 columns):\n",
            " #   Column  Non-Null Count   Dtype \n",
            "---  ------  --------------   ----- \n",
            " 0   Word    243544 non-null  object\n",
            " 1   Tag     243546 non-null  object\n",
            "dtypes: object(2)\n",
            "memory usage: 3.7+ MB\n",
            "None \n",
            "\n",
            "missing values stats\n",
            "Word    2\n",
            "Tag     0\n",
            "dtype: int64 \n",
            "\n",
            "some missing values\n",
            "       Word Tag\n",
            "134369  NaN    \n",
            "134391  NaN     \n",
            "\n"
          ],
          "name": "stdout"
        }
      ]
    },
    {
      "cell_type": "code",
      "metadata": {
        "colab": {
          "base_uri": "https://localhost:8080/"
        },
        "id": "9eUTVVD4YWkl",
        "outputId": "0a2f784a-9221-4226-f7c0-e8b4554762e9"
      },
      "source": [
        "# finally\r\n",
        "# extract tags\r\n",
        "tag_values = list(set(train_df[\"Tag\"].values))\r\n",
        "tag_values.append(\"PAD\")\r\n",
        "tag_values = [t for i,t in enumerate(tag_values)if t.strip()]\r\n",
        "tag2idx = {t: i for i, t in enumerate(tag_values)}\r\n",
        "tag2idx"
      ],
      "execution_count": 14,
      "outputs": [
        {
          "output_type": "execute_result",
          "data": {
            "text/plain": [
              "{'B_DAT': 1,\n",
              " 'B_LOC': 5,\n",
              " 'B_MON': 3,\n",
              " 'B_ORG': 8,\n",
              " 'B_PCT': 11,\n",
              " 'B_PER': 2,\n",
              " 'B_TIM': 10,\n",
              " 'I_DAT': 0,\n",
              " 'I_LOC': 14,\n",
              " 'I_MON': 6,\n",
              " 'I_ORG': 4,\n",
              " 'I_PCT': 7,\n",
              " 'I_PER': 12,\n",
              " 'I_TIM': 13,\n",
              " 'O': 9,\n",
              " 'PAD': 15}"
            ]
          },
          "metadata": {
            "tags": []
          },
          "execution_count": 14
        }
      ]
    },
    {
      "cell_type": "code",
      "metadata": {
        "colab": {
          "base_uri": "https://localhost:8080/"
        },
        "id": "fIi3aw-szaPG",
        "outputId": "1f875665-14e0-4b0f-97f6-c7d2549bacd1"
      },
      "source": [
        "sentences, labels, input_ids, tags_f = get_data_part('train.txt')\r\n",
        "print(input_ids[:9])\r\n",
        "print(tags_f[:9])\r\n"
      ],
      "execution_count": 15,
      "outputs": [
        {
          "output_type": "stream",
          "text": [
            "['B_ORG', ' ', 'B_PER', 'I_PER', 'O', 'O', 'O']\n",
            "['B_ORG', ' ', 'B_PER', 'I_PER', 'O', 'O', 'O']\n",
            "[[2, 5187, 8590, 5141, 3169, 1379, 4655, 4066, 1379, 4824, 3852, 3589, 4], [2, 2789, 3361, 6000, 4153, 1348, 7398, 75488, 4130, 4009, 6990, 7344, 2930, 2799, 3856, 2801, 3131, 5112, 3036, 2791, 18656, 3541, 6343, 4017, 4434, 2786, 3768, 3639, 1379, 3114, 2806, 1348, 3017, 1014, 2799, 3211, 2789, 15342, 15034, 5112, 1379, 3639, 2786, 2930, 1348, 2802, 2897, 3821, 40032, 2791, 4701, 9047, 5507, 3168, 1012, 4], [2, 3051, 16337, 3767, 2786, 3753, 6783, 1348, 5039, 4017, 2789, 3014, 3036, 2791, 11404, 3639, 1379, 3563, 3206, 2847, 2803, 3012, 3027, 2806, 1012, 4], [2, 2931, 3251, 2974, 1014, 5571, 2799, 3211, 2789, 4856, 4433, 4017, 1379, 3779, 2786, 2930, 2964, 1348, 6194, 7297, 2871, 2800, 4017, 11997, 2938, 4001, 2801, 2806, 2800, 3870, 11656, 45663, 2924, 1012, 4], [2, 2789, 3138, 2793, 19355, 2800, 50764, 4017, 1379, 3563, 1379, 3639, 5404, 3947, 2801, 8690, 25881, 2009, 2801, 3768, 3563, 1379, 3639, 1348, 4017, 2803, 2921, 2789, 3757, 4055, 10399, 4001, 2830, 11141, 3890, 1012, 4], [2, 75488, 5003, 5141, 3169, 1379, 4655, 4066, 1379, 4824, 1064, 8926, 1078, 2803, 4171, 6443, 3949, 3016, 4017, 1379, 3639, 4767, 1379, 3913, 2830, 1014, 2802, 5141, 2791, 10546, 25810, 2806, 2800, 3016, 3768, 6343, 4017, 1379, 3639, 3490, 6138, 3027, 2806, 1012, 4], [2, 2786, 3473, 2793, 3435, 3017, 2800, 5141, 3169, 1379, 4655, 4066, 1379, 4824, 5817, 2802, 3490, 23795, 2803, 2786, 2910, 3296, 1379, 6846, 2806, 8387, 2786, 3511, 3857, 1348, 3490, 5972, 3016, 2897, 3768, 6138, 3054, 1012, 4], [2, 4179, 3727, 3776, 4604, 5141, 3169, 1064, 8926, 1078, 2786, 3108, 6591, 17298, 2799, 3364, 2789, 6896, 3625, 5982, 4824, 1379, 4123, 2791, 2930, 2786, 3381, 3017, 1014, 4281, 3625, 4006, 5982, 6343, 4824, 1379, 4123, 2789, 3036, 2791, 3426, 6343, 5213, 3724, 2871, 2806, 1012, 4], [2, 2927, 2786, 3768, 3639, 1379, 5120, 4747, 6343, 3496, 5739, 3151, 2806, 1379, 2789, 6387, 1379, 3625, 2802, 5982, 7440, 33589, 2924, 1012, 4]]\n",
            "[[9, 9, 9, 9, 9, 9, 9, 9, 9, 9, 9, 9, 9], [9, 9, 9, 8, 4, 9, 2, 12, 9, 9, 8, 4, 4, 9, 9, 9, 9, 9, 9, 9, 9, 9, 9, 9, 9, 9, 9, 9, 9, 9, 9, 9, 9, 9, 9, 9, 9, 9, 9, 9, 9, 9, 9, 9, 9, 9, 9, 9, 9, 9, 9, 9, 9, 9, 9, 9], [9, 9, 9, 9, 9, 9, 9, 9, 9, 9, 9, 9, 9, 9, 9, 9, 9, 9, 9, 9, 9, 9, 9, 9, 9, 9], [9, 9, 9, 9, 9, 9, 9, 9, 9, 9, 9, 9, 9, 9, 9, 9, 9, 9, 9, 9, 9, 9, 9, 9, 9, 9, 9, 9, 9, 9, 9, 9, 9, 9, 9], [9, 9, 9, 9, 9, 9, 9, 9, 9, 9, 9, 9, 9, 9, 9, 9, 9, 9, 9, 9, 9, 9, 9, 9, 9, 9, 9, 9, 9, 9, 9, 9, 9, 9, 9, 9, 9], [9, 2, 9, 9, 9, 9, 9, 9, 9, 9, 9, 9, 9, 9, 9, 9, 9, 9, 9, 9, 9, 9, 9, 9, 9, 9, 9, 9, 9, 9, 9, 9, 9, 9, 9, 9, 9, 9, 9, 9, 9, 9, 9, 9, 9], [9, 9, 9, 9, 9, 9, 9, 9, 9, 9, 9, 9, 9, 9, 9, 9, 9, 9, 9, 9, 9, 9, 9, 9, 9, 9, 9, 9, 9, 9, 9, 9, 9, 9, 9, 9, 9, 9, 9], [9, 9, 8, 4, 4, 4, 4, 4, 4, 4, 9, 9, 9, 9, 9, 9, 9, 9, 9, 9, 9, 9, 9, 9, 9, 9, 5, 9, 9, 9, 9, 9, 9, 9, 9, 9, 9, 9, 9, 9, 9, 9, 9, 9, 9, 9, 9, 9], [9, 5, 9, 9, 9, 9, 9, 9, 9, 9, 9, 9, 9, 9, 9, 9, 9, 9, 9, 9, 9, 9, 9, 9, 9]]\n"
          ],
          "name": "stdout"
        }
      ]
    },
    {
      "cell_type": "markdown",
      "metadata": {
        "id": "JyPREx4q4mc6"
      },
      "source": [
        "# padding "
      ]
    },
    {
      "cell_type": "code",
      "metadata": {
        "id": "amn922KLvCu7",
        "colab": {
          "base_uri": "https://localhost:8080/"
        },
        "outputId": "a4e984d2-a304-4705-e062-c3f0691d0ee7"
      },
      "source": [
        "print(\"max length: \",max(len(id) for id in input_ids))  \r\n",
        "tag2idx[\"PAD\"]"
      ],
      "execution_count": 16,
      "outputs": [
        {
          "output_type": "stream",
          "text": [
            "max length:  421\n"
          ],
          "name": "stdout"
        },
        {
          "output_type": "execute_result",
          "data": {
            "text/plain": [
              "15"
            ]
          },
          "metadata": {
            "tags": []
          },
          "execution_count": 16
        }
      ]
    },
    {
      "cell_type": "code",
      "metadata": {
        "id": "s-31cH8n4uz6"
      },
      "source": [
        "input_ids = pad_sequences(input_ids,\r\n",
        "                          maxlen=MAX_LEN, dtype=\"long\", value=0.0,\r\n",
        "                          truncating=\"post\", padding=\"post\")\r\n",
        "\r\n",
        "tags = pad_sequences(tags_f,\r\n",
        "                     maxlen=MAX_LEN, value=tag2idx[\"PAD\"], padding=\"post\",\r\n",
        "                     dtype=\"long\", truncating=\"post\")\r\n",
        "\r\n"
      ],
      "execution_count": 17,
      "outputs": []
    },
    {
      "cell_type": "markdown",
      "metadata": {
        "id": "JhnpUmBKzl4H"
      },
      "source": [
        "# attention mask"
      ]
    },
    {
      "cell_type": "code",
      "metadata": {
        "id": "9h5NrQk1zowS"
      },
      "source": [
        "# create attention masks\r\n",
        "attention_masks = [[float(i != 0.0) for i in ii] for ii in input_ids]"
      ],
      "execution_count": 18,
      "outputs": []
    },
    {
      "cell_type": "markdown",
      "metadata": {
        "id": "6DQG3d2n2Gxw"
      },
      "source": [
        "# Training and validation split"
      ]
    },
    {
      "cell_type": "code",
      "metadata": {
        "id": "2SHS3WLr2OOm"
      },
      "source": [
        "tr_inputs, val_inputs, tr_tags, val_tags = train_test_split(input_ids, tags,\r\n",
        "                                                            random_state=2018, test_size=0.2)\r\n",
        "tr_masks, val_masks, _, _ = train_test_split(attention_masks, input_ids,\r\n",
        "                                             random_state=2018, test_size=0.2)"
      ],
      "execution_count": 19,
      "outputs": []
    },
    {
      "cell_type": "markdown",
      "metadata": {
        "id": "aRZ47i9I4d-G"
      },
      "source": [
        "# convert to tensors"
      ]
    },
    {
      "cell_type": "code",
      "metadata": {
        "id": "bp0ZHc1m4hTY"
      },
      "source": [
        "tr_inputs = torch.tensor(tr_inputs)\r\n",
        "val_inputs = torch.tensor(val_inputs)\r\n",
        "tr_tags = torch.tensor(tr_tags)\r\n",
        "val_tags = torch.tensor(val_tags)\r\n",
        "tr_masks = torch.tensor(tr_masks)\r\n",
        "val_masks = torch.tensor(val_masks)"
      ],
      "execution_count": 20,
      "outputs": []
    },
    {
      "cell_type": "markdown",
      "metadata": {
        "id": "i61pyrAtAeOR"
      },
      "source": [
        "# manage my data"
      ]
    },
    {
      "cell_type": "code",
      "metadata": {
        "id": "TITHMOb-6ueK"
      },
      "source": [
        "train_data = TensorDataset(tr_inputs, tr_masks, tr_tags)\r\n",
        "train_sampler = RandomSampler(train_data)\r\n",
        "train_dataloader = DataLoader(train_data, sampler=train_sampler, batch_size=batch_size)\r\n",
        "\r\n",
        "validation_data = TensorDataset(val_inputs, val_masks, val_tags)\r\n",
        "validation_sampler = RandomSampler(validation_data)\r\n",
        "validation_dataloader = DataLoader(validation_data, sampler=validation_sampler, batch_size=batch_size)"
      ],
      "execution_count": 21,
      "outputs": []
    },
    {
      "cell_type": "markdown",
      "metadata": {
        "id": "Eewiy7pMDOvL"
      },
      "source": [
        "# train the model"
      ]
    },
    {
      "cell_type": "code",
      "metadata": {
        "colab": {
          "base_uri": "https://localhost:8080/"
        },
        "id": "iPpD3WQQFOZy",
        "outputId": "ec676bb1-b909-4c85-a9cf-96420e0a63f3"
      },
      "source": [
        "if tf.test.gpu_device_name() != '/device:GPU:0':\r\n",
        "    print()\r\n",
        "    print('WARNING: GPU device not found.')\r\n",
        "else:\r\n",
        "    print()\r\n",
        "    print('SUCCESS: Found GPU: {}'.format(tf.test.gpu_device_name()))"
      ],
      "execution_count": 22,
      "outputs": [
        {
          "output_type": "stream",
          "text": [
            "\n",
            "SUCCESS: Found GPU: /device:GPU:0\n"
          ],
          "name": "stdout"
        }
      ]
    },
    {
      "cell_type": "code",
      "metadata": {
        "colab": {
          "base_uri": "https://localhost:8080/",
          "height": 246,
          "referenced_widgets": [
            "4b0f4d5b48cd4385949976c8851e03cd",
            "4c7292534e164b2a8adeaeba972ea4da",
            "52824e5b404242ab9dd34293582b8ad4",
            "1ec81f397dea4c56b847c9b84afaf673",
            "0764b52533ba43cb8158ce25dc197be5",
            "9007377561fb4b59a3948d6a899b4f9e",
            "a26c8fd50102436cb28f1e510eb77ac9",
            "51712a33885144dfac0e6e1678ac2670",
            "29833f058477492792316085cc7560bf",
            "81b5816312cb431fa68d0416830f56be",
            "c93b638688884b519b541dfb0c8ca88c",
            "6f794fdf72b2464b92173891086b6066",
            "d95e0daa47a44863a8028780f6ae91ef",
            "680e7df1fc8b4db0972a6c230a29b032",
            "68338db7e522444daeb939ee00a7f9da",
            "1af7dd3cb77f4a62af86488f5b2cb475"
          ]
        },
        "id": "Fu3A5Aw3DSAV",
        "outputId": "39f9f636-20b8-4aa8-9c76-85bb3080c457"
      },
      "source": [
        "\r\n",
        "\r\n",
        "model = BertForTokenClassification.from_pretrained(model_name_or_path, num_labels=len(tag2idx),\r\n",
        "    output_attentions = False,\r\n",
        "    output_hidden_states = False )\r\n",
        "config = BertConfig.from_pretrained(model_name_or_path)\r\n",
        "\r\n",
        "transformers.__version__"
      ],
      "execution_count": 23,
      "outputs": [
        {
          "output_type": "display_data",
          "data": {
            "application/vnd.jupyter.widget-view+json": {
              "model_id": "4b0f4d5b48cd4385949976c8851e03cd",
              "version_minor": 0,
              "version_major": 2
            },
            "text/plain": [
              "HBox(children=(FloatProgress(value=0.0, description='Downloading', max=440.0, style=ProgressStyle(description_…"
            ]
          },
          "metadata": {
            "tags": []
          }
        },
        {
          "output_type": "stream",
          "text": [
            "\n"
          ],
          "name": "stdout"
        },
        {
          "output_type": "display_data",
          "data": {
            "application/vnd.jupyter.widget-view+json": {
              "model_id": "29833f058477492792316085cc7560bf",
              "version_minor": 0,
              "version_major": 2
            },
            "text/plain": [
              "HBox(children=(FloatProgress(value=0.0, description='Downloading', max=654226731.0, style=ProgressStyle(descri…"
            ]
          },
          "metadata": {
            "tags": []
          }
        },
        {
          "output_type": "stream",
          "text": [
            "\n"
          ],
          "name": "stdout"
        },
        {
          "output_type": "stream",
          "text": [
            "Some weights of the model checkpoint at HooshvareLab/bert-fa-base-uncased were not used when initializing BertForTokenClassification: ['cls.predictions.bias', 'cls.predictions.transform.dense.weight', 'cls.predictions.transform.dense.bias', 'cls.predictions.transform.LayerNorm.weight', 'cls.predictions.transform.LayerNorm.bias', 'cls.predictions.decoder.weight', 'cls.predictions.decoder.bias', 'cls.seq_relationship.weight', 'cls.seq_relationship.bias']\n",
            "- This IS expected if you are initializing BertForTokenClassification from the checkpoint of a model trained on another task or with another architecture (e.g. initializing a BertForSequenceClassification model from a BertForPreTraining model).\n",
            "- This IS NOT expected if you are initializing BertForTokenClassification from the checkpoint of a model that you expect to be exactly identical (initializing a BertForSequenceClassification model from a BertForSequenceClassification model).\n",
            "Some weights of BertForTokenClassification were not initialized from the model checkpoint at HooshvareLab/bert-fa-base-uncased and are newly initialized: ['classifier.weight', 'classifier.bias']\n",
            "You should probably TRAIN this model on a down-stream task to be able to use it for predictions and inference.\n"
          ],
          "name": "stderr"
        },
        {
          "output_type": "execute_result",
          "data": {
            "application/vnd.google.colaboratory.intrinsic+json": {
              "type": "string"
            },
            "text/plain": [
              "'4.2.2'"
            ]
          },
          "metadata": {
            "tags": []
          },
          "execution_count": 23
        }
      ]
    },
    {
      "cell_type": "code",
      "metadata": {
        "id": "hRBmCx8jGEfv",
        "colab": {
          "base_uri": "https://localhost:8080/"
        },
        "outputId": "5e6da474-9cdd-4562-9283-a9f370837267"
      },
      "source": [
        "# tell pytorch to run this model on GPU\r\n",
        "\r\n",
        "gc.collect()\r\n",
        "torch.cuda.empty_cache()\r\n",
        "model.cuda()"
      ],
      "execution_count": 24,
      "outputs": [
        {
          "output_type": "execute_result",
          "data": {
            "text/plain": [
              "BertForTokenClassification(\n",
              "  (bert): BertModel(\n",
              "    (embeddings): BertEmbeddings(\n",
              "      (word_embeddings): Embedding(100000, 768, padding_idx=0)\n",
              "      (position_embeddings): Embedding(512, 768)\n",
              "      (token_type_embeddings): Embedding(2, 768)\n",
              "      (LayerNorm): LayerNorm((768,), eps=1e-12, elementwise_affine=True)\n",
              "      (dropout): Dropout(p=0.1, inplace=False)\n",
              "    )\n",
              "    (encoder): BertEncoder(\n",
              "      (layer): ModuleList(\n",
              "        (0): BertLayer(\n",
              "          (attention): BertAttention(\n",
              "            (self): BertSelfAttention(\n",
              "              (query): Linear(in_features=768, out_features=768, bias=True)\n",
              "              (key): Linear(in_features=768, out_features=768, bias=True)\n",
              "              (value): Linear(in_features=768, out_features=768, bias=True)\n",
              "              (dropout): Dropout(p=0.1, inplace=False)\n",
              "            )\n",
              "            (output): BertSelfOutput(\n",
              "              (dense): Linear(in_features=768, out_features=768, bias=True)\n",
              "              (LayerNorm): LayerNorm((768,), eps=1e-12, elementwise_affine=True)\n",
              "              (dropout): Dropout(p=0.1, inplace=False)\n",
              "            )\n",
              "          )\n",
              "          (intermediate): BertIntermediate(\n",
              "            (dense): Linear(in_features=768, out_features=3072, bias=True)\n",
              "          )\n",
              "          (output): BertOutput(\n",
              "            (dense): Linear(in_features=3072, out_features=768, bias=True)\n",
              "            (LayerNorm): LayerNorm((768,), eps=1e-12, elementwise_affine=True)\n",
              "            (dropout): Dropout(p=0.1, inplace=False)\n",
              "          )\n",
              "        )\n",
              "        (1): BertLayer(\n",
              "          (attention): BertAttention(\n",
              "            (self): BertSelfAttention(\n",
              "              (query): Linear(in_features=768, out_features=768, bias=True)\n",
              "              (key): Linear(in_features=768, out_features=768, bias=True)\n",
              "              (value): Linear(in_features=768, out_features=768, bias=True)\n",
              "              (dropout): Dropout(p=0.1, inplace=False)\n",
              "            )\n",
              "            (output): BertSelfOutput(\n",
              "              (dense): Linear(in_features=768, out_features=768, bias=True)\n",
              "              (LayerNorm): LayerNorm((768,), eps=1e-12, elementwise_affine=True)\n",
              "              (dropout): Dropout(p=0.1, inplace=False)\n",
              "            )\n",
              "          )\n",
              "          (intermediate): BertIntermediate(\n",
              "            (dense): Linear(in_features=768, out_features=3072, bias=True)\n",
              "          )\n",
              "          (output): BertOutput(\n",
              "            (dense): Linear(in_features=3072, out_features=768, bias=True)\n",
              "            (LayerNorm): LayerNorm((768,), eps=1e-12, elementwise_affine=True)\n",
              "            (dropout): Dropout(p=0.1, inplace=False)\n",
              "          )\n",
              "        )\n",
              "        (2): BertLayer(\n",
              "          (attention): BertAttention(\n",
              "            (self): BertSelfAttention(\n",
              "              (query): Linear(in_features=768, out_features=768, bias=True)\n",
              "              (key): Linear(in_features=768, out_features=768, bias=True)\n",
              "              (value): Linear(in_features=768, out_features=768, bias=True)\n",
              "              (dropout): Dropout(p=0.1, inplace=False)\n",
              "            )\n",
              "            (output): BertSelfOutput(\n",
              "              (dense): Linear(in_features=768, out_features=768, bias=True)\n",
              "              (LayerNorm): LayerNorm((768,), eps=1e-12, elementwise_affine=True)\n",
              "              (dropout): Dropout(p=0.1, inplace=False)\n",
              "            )\n",
              "          )\n",
              "          (intermediate): BertIntermediate(\n",
              "            (dense): Linear(in_features=768, out_features=3072, bias=True)\n",
              "          )\n",
              "          (output): BertOutput(\n",
              "            (dense): Linear(in_features=3072, out_features=768, bias=True)\n",
              "            (LayerNorm): LayerNorm((768,), eps=1e-12, elementwise_affine=True)\n",
              "            (dropout): Dropout(p=0.1, inplace=False)\n",
              "          )\n",
              "        )\n",
              "        (3): BertLayer(\n",
              "          (attention): BertAttention(\n",
              "            (self): BertSelfAttention(\n",
              "              (query): Linear(in_features=768, out_features=768, bias=True)\n",
              "              (key): Linear(in_features=768, out_features=768, bias=True)\n",
              "              (value): Linear(in_features=768, out_features=768, bias=True)\n",
              "              (dropout): Dropout(p=0.1, inplace=False)\n",
              "            )\n",
              "            (output): BertSelfOutput(\n",
              "              (dense): Linear(in_features=768, out_features=768, bias=True)\n",
              "              (LayerNorm): LayerNorm((768,), eps=1e-12, elementwise_affine=True)\n",
              "              (dropout): Dropout(p=0.1, inplace=False)\n",
              "            )\n",
              "          )\n",
              "          (intermediate): BertIntermediate(\n",
              "            (dense): Linear(in_features=768, out_features=3072, bias=True)\n",
              "          )\n",
              "          (output): BertOutput(\n",
              "            (dense): Linear(in_features=3072, out_features=768, bias=True)\n",
              "            (LayerNorm): LayerNorm((768,), eps=1e-12, elementwise_affine=True)\n",
              "            (dropout): Dropout(p=0.1, inplace=False)\n",
              "          )\n",
              "        )\n",
              "        (4): BertLayer(\n",
              "          (attention): BertAttention(\n",
              "            (self): BertSelfAttention(\n",
              "              (query): Linear(in_features=768, out_features=768, bias=True)\n",
              "              (key): Linear(in_features=768, out_features=768, bias=True)\n",
              "              (value): Linear(in_features=768, out_features=768, bias=True)\n",
              "              (dropout): Dropout(p=0.1, inplace=False)\n",
              "            )\n",
              "            (output): BertSelfOutput(\n",
              "              (dense): Linear(in_features=768, out_features=768, bias=True)\n",
              "              (LayerNorm): LayerNorm((768,), eps=1e-12, elementwise_affine=True)\n",
              "              (dropout): Dropout(p=0.1, inplace=False)\n",
              "            )\n",
              "          )\n",
              "          (intermediate): BertIntermediate(\n",
              "            (dense): Linear(in_features=768, out_features=3072, bias=True)\n",
              "          )\n",
              "          (output): BertOutput(\n",
              "            (dense): Linear(in_features=3072, out_features=768, bias=True)\n",
              "            (LayerNorm): LayerNorm((768,), eps=1e-12, elementwise_affine=True)\n",
              "            (dropout): Dropout(p=0.1, inplace=False)\n",
              "          )\n",
              "        )\n",
              "        (5): BertLayer(\n",
              "          (attention): BertAttention(\n",
              "            (self): BertSelfAttention(\n",
              "              (query): Linear(in_features=768, out_features=768, bias=True)\n",
              "              (key): Linear(in_features=768, out_features=768, bias=True)\n",
              "              (value): Linear(in_features=768, out_features=768, bias=True)\n",
              "              (dropout): Dropout(p=0.1, inplace=False)\n",
              "            )\n",
              "            (output): BertSelfOutput(\n",
              "              (dense): Linear(in_features=768, out_features=768, bias=True)\n",
              "              (LayerNorm): LayerNorm((768,), eps=1e-12, elementwise_affine=True)\n",
              "              (dropout): Dropout(p=0.1, inplace=False)\n",
              "            )\n",
              "          )\n",
              "          (intermediate): BertIntermediate(\n",
              "            (dense): Linear(in_features=768, out_features=3072, bias=True)\n",
              "          )\n",
              "          (output): BertOutput(\n",
              "            (dense): Linear(in_features=3072, out_features=768, bias=True)\n",
              "            (LayerNorm): LayerNorm((768,), eps=1e-12, elementwise_affine=True)\n",
              "            (dropout): Dropout(p=0.1, inplace=False)\n",
              "          )\n",
              "        )\n",
              "        (6): BertLayer(\n",
              "          (attention): BertAttention(\n",
              "            (self): BertSelfAttention(\n",
              "              (query): Linear(in_features=768, out_features=768, bias=True)\n",
              "              (key): Linear(in_features=768, out_features=768, bias=True)\n",
              "              (value): Linear(in_features=768, out_features=768, bias=True)\n",
              "              (dropout): Dropout(p=0.1, inplace=False)\n",
              "            )\n",
              "            (output): BertSelfOutput(\n",
              "              (dense): Linear(in_features=768, out_features=768, bias=True)\n",
              "              (LayerNorm): LayerNorm((768,), eps=1e-12, elementwise_affine=True)\n",
              "              (dropout): Dropout(p=0.1, inplace=False)\n",
              "            )\n",
              "          )\n",
              "          (intermediate): BertIntermediate(\n",
              "            (dense): Linear(in_features=768, out_features=3072, bias=True)\n",
              "          )\n",
              "          (output): BertOutput(\n",
              "            (dense): Linear(in_features=3072, out_features=768, bias=True)\n",
              "            (LayerNorm): LayerNorm((768,), eps=1e-12, elementwise_affine=True)\n",
              "            (dropout): Dropout(p=0.1, inplace=False)\n",
              "          )\n",
              "        )\n",
              "        (7): BertLayer(\n",
              "          (attention): BertAttention(\n",
              "            (self): BertSelfAttention(\n",
              "              (query): Linear(in_features=768, out_features=768, bias=True)\n",
              "              (key): Linear(in_features=768, out_features=768, bias=True)\n",
              "              (value): Linear(in_features=768, out_features=768, bias=True)\n",
              "              (dropout): Dropout(p=0.1, inplace=False)\n",
              "            )\n",
              "            (output): BertSelfOutput(\n",
              "              (dense): Linear(in_features=768, out_features=768, bias=True)\n",
              "              (LayerNorm): LayerNorm((768,), eps=1e-12, elementwise_affine=True)\n",
              "              (dropout): Dropout(p=0.1, inplace=False)\n",
              "            )\n",
              "          )\n",
              "          (intermediate): BertIntermediate(\n",
              "            (dense): Linear(in_features=768, out_features=3072, bias=True)\n",
              "          )\n",
              "          (output): BertOutput(\n",
              "            (dense): Linear(in_features=3072, out_features=768, bias=True)\n",
              "            (LayerNorm): LayerNorm((768,), eps=1e-12, elementwise_affine=True)\n",
              "            (dropout): Dropout(p=0.1, inplace=False)\n",
              "          )\n",
              "        )\n",
              "        (8): BertLayer(\n",
              "          (attention): BertAttention(\n",
              "            (self): BertSelfAttention(\n",
              "              (query): Linear(in_features=768, out_features=768, bias=True)\n",
              "              (key): Linear(in_features=768, out_features=768, bias=True)\n",
              "              (value): Linear(in_features=768, out_features=768, bias=True)\n",
              "              (dropout): Dropout(p=0.1, inplace=False)\n",
              "            )\n",
              "            (output): BertSelfOutput(\n",
              "              (dense): Linear(in_features=768, out_features=768, bias=True)\n",
              "              (LayerNorm): LayerNorm((768,), eps=1e-12, elementwise_affine=True)\n",
              "              (dropout): Dropout(p=0.1, inplace=False)\n",
              "            )\n",
              "          )\n",
              "          (intermediate): BertIntermediate(\n",
              "            (dense): Linear(in_features=768, out_features=3072, bias=True)\n",
              "          )\n",
              "          (output): BertOutput(\n",
              "            (dense): Linear(in_features=3072, out_features=768, bias=True)\n",
              "            (LayerNorm): LayerNorm((768,), eps=1e-12, elementwise_affine=True)\n",
              "            (dropout): Dropout(p=0.1, inplace=False)\n",
              "          )\n",
              "        )\n",
              "        (9): BertLayer(\n",
              "          (attention): BertAttention(\n",
              "            (self): BertSelfAttention(\n",
              "              (query): Linear(in_features=768, out_features=768, bias=True)\n",
              "              (key): Linear(in_features=768, out_features=768, bias=True)\n",
              "              (value): Linear(in_features=768, out_features=768, bias=True)\n",
              "              (dropout): Dropout(p=0.1, inplace=False)\n",
              "            )\n",
              "            (output): BertSelfOutput(\n",
              "              (dense): Linear(in_features=768, out_features=768, bias=True)\n",
              "              (LayerNorm): LayerNorm((768,), eps=1e-12, elementwise_affine=True)\n",
              "              (dropout): Dropout(p=0.1, inplace=False)\n",
              "            )\n",
              "          )\n",
              "          (intermediate): BertIntermediate(\n",
              "            (dense): Linear(in_features=768, out_features=3072, bias=True)\n",
              "          )\n",
              "          (output): BertOutput(\n",
              "            (dense): Linear(in_features=3072, out_features=768, bias=True)\n",
              "            (LayerNorm): LayerNorm((768,), eps=1e-12, elementwise_affine=True)\n",
              "            (dropout): Dropout(p=0.1, inplace=False)\n",
              "          )\n",
              "        )\n",
              "        (10): BertLayer(\n",
              "          (attention): BertAttention(\n",
              "            (self): BertSelfAttention(\n",
              "              (query): Linear(in_features=768, out_features=768, bias=True)\n",
              "              (key): Linear(in_features=768, out_features=768, bias=True)\n",
              "              (value): Linear(in_features=768, out_features=768, bias=True)\n",
              "              (dropout): Dropout(p=0.1, inplace=False)\n",
              "            )\n",
              "            (output): BertSelfOutput(\n",
              "              (dense): Linear(in_features=768, out_features=768, bias=True)\n",
              "              (LayerNorm): LayerNorm((768,), eps=1e-12, elementwise_affine=True)\n",
              "              (dropout): Dropout(p=0.1, inplace=False)\n",
              "            )\n",
              "          )\n",
              "          (intermediate): BertIntermediate(\n",
              "            (dense): Linear(in_features=768, out_features=3072, bias=True)\n",
              "          )\n",
              "          (output): BertOutput(\n",
              "            (dense): Linear(in_features=3072, out_features=768, bias=True)\n",
              "            (LayerNorm): LayerNorm((768,), eps=1e-12, elementwise_affine=True)\n",
              "            (dropout): Dropout(p=0.1, inplace=False)\n",
              "          )\n",
              "        )\n",
              "        (11): BertLayer(\n",
              "          (attention): BertAttention(\n",
              "            (self): BertSelfAttention(\n",
              "              (query): Linear(in_features=768, out_features=768, bias=True)\n",
              "              (key): Linear(in_features=768, out_features=768, bias=True)\n",
              "              (value): Linear(in_features=768, out_features=768, bias=True)\n",
              "              (dropout): Dropout(p=0.1, inplace=False)\n",
              "            )\n",
              "            (output): BertSelfOutput(\n",
              "              (dense): Linear(in_features=768, out_features=768, bias=True)\n",
              "              (LayerNorm): LayerNorm((768,), eps=1e-12, elementwise_affine=True)\n",
              "              (dropout): Dropout(p=0.1, inplace=False)\n",
              "            )\n",
              "          )\n",
              "          (intermediate): BertIntermediate(\n",
              "            (dense): Linear(in_features=768, out_features=3072, bias=True)\n",
              "          )\n",
              "          (output): BertOutput(\n",
              "            (dense): Linear(in_features=3072, out_features=768, bias=True)\n",
              "            (LayerNorm): LayerNorm((768,), eps=1e-12, elementwise_affine=True)\n",
              "            (dropout): Dropout(p=0.1, inplace=False)\n",
              "          )\n",
              "        )\n",
              "      )\n",
              "    )\n",
              "  )\n",
              "  (dropout): Dropout(p=0.1, inplace=False)\n",
              "  (classifier): Linear(in_features=768, out_features=16, bias=True)\n",
              ")"
            ]
          },
          "metadata": {
            "tags": []
          },
          "execution_count": 24
        }
      ]
    },
    {
      "cell_type": "markdown",
      "metadata": {
        "id": "4Zcxo0sjH2f_"
      },
      "source": [
        "# optimizer and learning rate"
      ]
    },
    {
      "cell_type": "code",
      "metadata": {
        "id": "L-DEBcvHH50E"
      },
      "source": [
        "FULL_FINETUNING = True\r\n",
        "if FULL_FINETUNING:\r\n",
        "    param_optimizer = list(model.named_parameters())\r\n",
        "    no_decay = ['bias', 'gamma', 'beta']\r\n",
        "    optimizer_grouped_parameters = [\r\n",
        "        {'params': [p for n, p in param_optimizer if not any(nd in n for nd in no_decay)],\r\n",
        "         'weight_decay_rate': 0.01},\r\n",
        "        {'params': [p for n, p in param_optimizer if any(nd in n for nd in no_decay)],\r\n",
        "         'weight_decay_rate': 0.0}\r\n",
        "    ]\r\n",
        "else:\r\n",
        "    param_optimizer = list(model.classifier.named_parameters())\r\n",
        "    optimizer_grouped_parameters = [{\"params\": [p for n, p in param_optimizer]}]\r\n",
        "\r\n",
        "optimizer = AdamW(\r\n",
        "    optimizer_grouped_parameters,\r\n",
        "    lr=3e-5,\r\n",
        "    eps=1e-8\r\n",
        ")\r\n"
      ],
      "execution_count": 25,
      "outputs": []
    },
    {
      "cell_type": "code",
      "metadata": {
        "id": "g-dkrfogIANP"
      },
      "source": [
        "max_grad_norm = 1.0\r\n",
        "\r\n",
        "# Total number of training steps is number of batches * number of epochs.\r\n",
        "total_steps = len(train_dataloader) * epochs\r\n",
        "\r\n",
        "# Create the learning rate scheduler.\r\n",
        "scheduler = get_linear_schedule_with_warmup(\r\n",
        "    optimizer,\r\n",
        "    num_warmup_steps=0,\r\n",
        "    num_training_steps=total_steps\r\n",
        ")\r\n"
      ],
      "execution_count": 26,
      "outputs": []
    },
    {
      "cell_type": "markdown",
      "metadata": {
        "id": "wiPo9Rw8IOMb"
      },
      "source": [
        "# training loop"
      ]
    },
    {
      "cell_type": "code",
      "metadata": {
        "id": "d5E_wXGgIxsS"
      },
      "source": [
        "def format_time(elapsed):\r\n",
        "  # takes time in seconds and return in hh:mm:ss\r\n",
        "\r\n",
        "  # round to nearest second\r\n",
        "  elapsed_rounded = int(round(elapsed))\r\n",
        "\r\n",
        "  # format\r\n",
        "  return str(datatime.timedelta(seconds=elapsed_rounded))\r\n",
        "\r\n",
        "def flat_accuracy(preds, labels):\r\n",
        "  pred_flat = np.argmax(preds, axis=1).flatten()\r\n",
        "  labels_flat = labels.flatten()\r\n",
        "  return np.sum(pred_flat == labels_flat)/len(labels_flat)"
      ],
      "execution_count": 27,
      "outputs": []
    },
    {
      "cell_type": "code",
      "metadata": {
        "id": "ktog9HqXLQ4G"
      },
      "source": [
        "# import random\r\n",
        "\r\n",
        "# seed_val = 2021\r\n",
        "# random.seed(seed_val)\r\n",
        "# np.random.seed(seed_val)\r\n",
        "# torch.manual_seed(seed_val)\r\n",
        "# tourch.cuda.manual_seed_all(seed_val)\r\n",
        "\r\n",
        "# loss_values = []\r\n",
        "# for epoch_i in range(0,epochs):\r\n",
        "#   print(\"\")\r\n",
        "#   print('================ Epoch {:} / {:} ================'.format(epoch_i+1, epochs))\r\n",
        "#   print('Training...')\r\n",
        "#   t0 = time.time()\r\n",
        "#   total_loss = 0\r\n",
        "#   model.train()\r\n",
        "#   for step, batch in enumerate(train_dataloader):\r\n",
        "#     if step%40 == 0 and not step==0:\r\n",
        "#       elapsed = format_time(time.time-t0)\r\n",
        "#       print(' Batch {:>5,} of {:>5,}. Elapsed: {:}.'.format(step, len(train_dataloader), elapsed))\r\n",
        "#       b_inputs_ids = batch[0].to(device)\r\n",
        "#       b_input_mask = batch[1].to(device)\r\n",
        "#       b_labels = batch[2].to(device)\r\n",
        "\r\n",
        "#       outputs = model(b_inputs_ids, token_type_ids=None, attention_mask=b_input_mask, labels=b_labels)\r\n",
        "#       loss = outputs[0]\r\n",
        "#       total_loss += loss.item()\r\n",
        "#       loss.backward()\r\n",
        "#       torch.nn.utils.clip_gard_norm_(model.parameters(), 1.0)\r\n",
        "#       optimizer.step()\r\n",
        "#       scheduler.step()\r\n",
        "#     ave_train_loss = total_loss / len(train_dataloader)\r\n",
        "#     loss_values.append(ave_train_loss)\r\n",
        "#     print(\"\")\r\n",
        "#     print(\"average training loss: {0:.2f}\".format(ave_train_loss))\r\n",
        "#     print(\"training epoch took: {:}\".format(format_time(time.time()-t0)))\r\n"
      ],
      "execution_count": 28,
      "outputs": []
    },
    {
      "cell_type": "code",
      "metadata": {
        "colab": {
          "base_uri": "https://localhost:8080/"
        },
        "id": "whqS5Z9ReY3h",
        "outputId": "fcb75212-de2c-4121-e8c9-10f34a396ab8"
      },
      "source": [
        "!nvidia-smi"
      ],
      "execution_count": 29,
      "outputs": [
        {
          "output_type": "stream",
          "text": [
            "Thu Jan 21 19:20:43 2021       \n",
            "+-----------------------------------------------------------------------------+\n",
            "| NVIDIA-SMI 460.32.03    Driver Version: 418.67       CUDA Version: 10.1     |\n",
            "|-------------------------------+----------------------+----------------------+\n",
            "| GPU  Name        Persistence-M| Bus-Id        Disp.A | Volatile Uncorr. ECC |\n",
            "| Fan  Temp  Perf  Pwr:Usage/Cap|         Memory-Usage | GPU-Util  Compute M. |\n",
            "|                               |                      |               MIG M. |\n",
            "|===============================+======================+======================|\n",
            "|   0  Tesla T4            Off  | 00000000:00:04.0 Off |                    0 |\n",
            "| N/A   39C    P0    27W /  70W |   1721MiB / 15079MiB |     39%      Default |\n",
            "|                               |                      |                 ERR! |\n",
            "+-------------------------------+----------------------+----------------------+\n",
            "                                                                               \n",
            "+-----------------------------------------------------------------------------+\n",
            "| Processes:                                                                  |\n",
            "|  GPU   GI   CI        PID   Type   Process name                  GPU Memory |\n",
            "|        ID   ID                                                   Usage      |\n",
            "|=============================================================================|\n",
            "|  No running processes found                                                 |\n",
            "+-----------------------------------------------------------------------------+\n"
          ],
          "name": "stdout"
        }
      ]
    },
    {
      "cell_type": "code",
      "metadata": {
        "colab": {
          "base_uri": "https://localhost:8080/"
        },
        "id": "gct3aXi2IQXO",
        "outputId": "a4cf6646-cc11-45af-e569-1dd1e020ae3d"
      },
      "source": [
        "## Store the average loss after each epoch so we can plot them.\r\n",
        "loss_values, validation_loss_values = [], []\r\n",
        "\r\n",
        "gc.collect()\r\n",
        "torch.cuda.empty_cache()\r\n",
        "for _ in tqdm.trange(epochs, desc=\"Epoch\"):\r\n",
        "    # ========================================\r\n",
        "    #               Training\r\n",
        "    # ========================================\r\n",
        "    # Perform one full pass over the training set.\r\n",
        "\r\n",
        "    # Put the model into training mode.\r\n",
        "    model.train()\r\n",
        "    # Reset the total loss for this epoch.\r\n",
        "    total_loss = 0\r\n",
        "\r\n",
        "    # Training loop\r\n",
        "    for step, batch in enumerate(train_dataloader):\r\n",
        "        # add batch to gpu\r\n",
        "        batch = tuple(t.to(device) for t in batch)\r\n",
        "        b_input_ids, b_input_mask, b_labels = batch\r\n",
        "        # Always clear any previously calculated gradients before performing a backward pass.\r\n",
        "        model.zero_grad()\r\n",
        "        # forward pass\r\n",
        "        # This will return the loss (rather than the model output)\r\n",
        "        # because we have provided the `labels`.\r\n",
        "        outputs = model(b_input_ids, token_type_ids=None,\r\n",
        "                        attention_mask=b_input_mask, labels=b_labels)\r\n",
        "        # get the loss\r\n",
        "        loss = outputs[0]\r\n",
        "        # Perform a backward pass to calculate the gradients.\r\n",
        "        loss.backward()\r\n",
        "        # track train loss\r\n",
        "        total_loss += loss.item()\r\n",
        "        # Clip the norm of the gradient\r\n",
        "        # This is to help prevent the \"exploding gradients\" problem.\r\n",
        "        torch.nn.utils.clip_grad_norm_(parameters=model.parameters(), max_norm=max_grad_norm)\r\n",
        "        # update parameters\r\n",
        "        optimizer.step()\r\n",
        "        # Update the learning rate.\r\n",
        "        scheduler.step()\r\n",
        "\r\n",
        "    # Calculate the average loss over the training data.\r\n",
        "    avg_train_loss = total_loss / len(train_dataloader)\r\n",
        "    print(\"Average train loss: {}\".format(avg_train_loss))\r\n",
        "\r\n",
        "    # Store the loss value for plotting the learning curve.\r\n",
        "    loss_values.append(avg_train_loss)\r\n",
        "\r\n",
        "\r\n",
        "    # ========================================\r\n",
        "    #               Validation\r\n",
        "    # ========================================\r\n",
        "    # After the completion of each training epoch, measure our performance on\r\n",
        "    # our validation set.\r\n",
        "\r\n",
        "    # Put the model into evaluation mode\r\n",
        "    model.eval()\r\n",
        "    # Reset the validation loss for this epoch.\r\n",
        "    eval_loss, eval_accuracy = 0, 0\r\n",
        "    nb_eval_steps, nb_eval_examples = 0, 0\r\n",
        "    predictions , true_labels = [], []\r\n",
        "    for batch in validation_dataloader:\r\n",
        "        batch = tuple(t.to(device) for t in batch)\r\n",
        "        b_input_ids, b_input_mask, b_labels = batch\r\n",
        "\r\n",
        "        # # tara\r\n",
        "        # outputs = model(b_input_ids, token_type_ids=None,\r\n",
        "        #                     attention_mask=b_input_mask, labels=b_labels)\r\n",
        "        # logits = outputs[0]\r\n",
        "\r\n",
        "        # Telling the model not to compute or store gradients,\r\n",
        "        # saving memory and speeding up validation\r\n",
        "        with torch.no_grad():\r\n",
        "            # Forward pass, calculate logit predictions.\r\n",
        "            # This will return the logits rather than the loss because we have not provided labels.\r\n",
        "            outputs = model(b_input_ids, token_type_ids=None,\r\n",
        "                            attention_mask=b_input_mask, labels=b_labels)\r\n",
        "        # Move logits and labels to CPU\r\n",
        "        logits = outputs[1].detach().cpu().numpy()\r\n",
        "        label_ids = b_labels.to('cpu').numpy()\r\n",
        "\r\n",
        "        # Calculate the accuracy for this batch of test sentences.\r\n",
        "        eval_loss += outputs[0].mean().item()\r\n",
        "        predictions.extend([list(p) for p in np.argmax(logits, axis=2)])\r\n",
        "        true_labels.extend(label_ids)\r\n",
        "\r\n",
        "    eval_loss = eval_loss / len(validation_dataloader)\r\n",
        "    validation_loss_values.append(eval_loss)\r\n",
        "    print(\"Validation loss: {}\".format(eval_loss))\r\n",
        "    pred_tags = [tag_values[p_i] for p, l in zip(predictions, true_labels)\r\n",
        "                                 for p_i, l_i in zip(p, l) if tag_values[l_i] != \"PAD\"]\r\n",
        "    valid_tags = [tag_values[l_i] for l in true_labels\r\n",
        "                                  for l_i in l if tag_values[l_i] != \"PAD\"]\r\n",
        "    print(\"Validation Accuracy: {}\".format(accuracy_score(pred_tags, valid_tags)))\r\n",
        "    # print(\"Validation F1-Score: {}\".format(flat_accuracy(pred_tags, valid_tags)))\r\n",
        "    print()\r\n"
      ],
      "execution_count": 30,
      "outputs": [
        {
          "output_type": "stream",
          "text": [
            "\rEpoch:   0%|          | 0/2 [00:00<?, ?it/s]"
          ],
          "name": "stderr"
        },
        {
          "output_type": "stream",
          "text": [
            "Average train loss: 0.1944278980331931\n"
          ],
          "name": "stdout"
        },
        {
          "output_type": "stream",
          "text": [
            "\rEpoch:  50%|█████     | 1/2 [01:20<01:20, 80.51s/it]"
          ],
          "name": "stderr"
        },
        {
          "output_type": "stream",
          "text": [
            "Validation loss: 0.07035082074649193\n",
            "Validation Accuracy: 0.9780156473583468\n",
            "\n",
            "Average train loss: 0.04129976876061502\n"
          ],
          "name": "stdout"
        },
        {
          "output_type": "stream",
          "text": [
            "Epoch: 100%|██████████| 2/2 [02:44<00:00, 82.43s/it]"
          ],
          "name": "stderr"
        },
        {
          "output_type": "stream",
          "text": [
            "Validation loss: 0.06300683332351494\n",
            "Validation Accuracy: 0.9810633513593875\n",
            "\n"
          ],
          "name": "stdout"
        },
        {
          "output_type": "stream",
          "text": [
            "\n"
          ],
          "name": "stderr"
        }
      ]
    },
    {
      "cell_type": "code",
      "metadata": {
        "colab": {
          "base_uri": "https://localhost:8080/"
        },
        "id": "GH4PqPi5lMVs",
        "outputId": "b5513d54-5903-40b1-8722-4fcb71d2e6b5"
      },
      "source": [
        "len(pred_tags)\r\n"
      ],
      "execution_count": 32,
      "outputs": [
        {
          "output_type": "execute_result",
          "data": {
            "text/plain": [
              "53811"
            ]
          },
          "metadata": {
            "tags": []
          },
          "execution_count": 32
        }
      ]
    },
    {
      "cell_type": "code",
      "metadata": {
        "colab": {
          "base_uri": "https://localhost:8080/"
        },
        "id": "EPY73OiYOmsP",
        "outputId": "de6aa6ef-839f-4185-8714-2f9126da4701"
      },
      "source": [
        "# Test\r\n",
        "loss_values"
      ],
      "execution_count": 33,
      "outputs": [
        {
          "output_type": "execute_result",
          "data": {
            "text/plain": [
              "[0.1944278980331931, 0.04129976876061502]"
            ]
          },
          "metadata": {
            "tags": []
          },
          "execution_count": 33
        }
      ]
    },
    {
      "cell_type": "code",
      "metadata": {
        "colab": {
          "base_uri": "https://localhost:8080/"
        },
        "id": "-3PFIvuqQgmU",
        "outputId": "3accb87e-1a89-4832-b61d-63f6f9137c30"
      },
      "source": [
        "validation_loss_values"
      ],
      "execution_count": 34,
      "outputs": [
        {
          "output_type": "execute_result",
          "data": {
            "text/plain": [
              "[0.07035082074649193, 0.06300683332351494]"
            ]
          },
          "metadata": {
            "tags": []
          },
          "execution_count": 34
        }
      ]
    },
    {
      "cell_type": "code",
      "metadata": {
        "colab": {
          "base_uri": "https://localhost:8080/",
          "height": 426
        },
        "id": "l7xKsO_9OrLd",
        "outputId": "676b8f08-c028-49da-8f3c-47bfb65d2dd9"
      },
      "source": [
        "import matplotlib.pyplot as plt\r\n",
        "%matplotlib inline\r\n",
        "\r\n",
        "import seaborn as sns\r\n",
        "\r\n",
        "# Use plot styling from seaborn.\r\n",
        "sns.set(style='darkgrid')\r\n",
        "\r\n",
        "# Increase the plot size and font size.\r\n",
        "sns.set(font_scale=1.5)\r\n",
        "plt.rcParams[\"figure.figsize\"] = (12,6)\r\n",
        "\r\n",
        "# Plot the learning curve.\r\n",
        "plt.plot(loss_values, 'b-o', label=\"training loss\")\r\n",
        "plt.plot(validation_loss_values, 'r-o', label=\"validation loss\")\r\n",
        "\r\n",
        "# Label the plot.\r\n",
        "plt.title(\"Learning curve\")\r\n",
        "plt.xlabel(\"Epoch\")\r\n",
        "plt.ylabel(\"Loss\")\r\n",
        "plt.legend()\r\n",
        "\r\n",
        "plt.show()\r\n"
      ],
      "execution_count": 35,
      "outputs": [
        {
          "output_type": "display_data",
          "data": {
            "image/png": "[encoded data removed]",
            "text/plain": [
              "<Figure size 864x432 with 1 Axes>"
            ]
          },
          "metadata": {
            "tags": []
          }
        }
      ]
    },
    {
      "cell_type": "markdown",
      "metadata": {
        "id": "cOuPP4XekUwp"
      },
      "source": [
        "# Test model"
      ]
    },
    {
      "cell_type": "code",
      "metadata": {
        "id": "SEVxJMufs58q"
      },
      "source": [
        "tag2idx\r\n",
        "def get_key(val, my_dict): \r\n",
        "  for key, value in my_dict.items(): \r\n",
        "    if val == value: \r\n",
        "      return key \r\n",
        "\r\n",
        "def convert_to_tag(base, my_dict):\r\n",
        "  return [get_key(l, base) for l in my_dict]"
      ],
      "execution_count": 36,
      "outputs": []
    },
    {
      "cell_type": "code",
      "metadata": {
        "colab": {
          "base_uri": "https://localhost:8080/"
        },
        "id": "vlKfLXdjkTAB",
        "outputId": "f2af187d-ab89-4ca0-bcf5-35792f3a0385"
      },
      "source": [
        "sentences_test, labels_test, input_ids_test, tags_f_test = get_data_part('test.txt')\r\n",
        "\r\n",
        "tokenized_sentences = []\r\n",
        "tags_f_t = []\r\n",
        "input_ids = []\r\n",
        "labels_hid = []\r\n",
        "# tags_f_t_all = []\r\n",
        "for i,s in enumerate(sentences_test):\r\n",
        "  s_t = ' '.join(s)\r\n",
        "  tokenized_sentence = tokenizer.encode(s_t)\r\n",
        "  tokenized_sentences.append(tokenized_sentence)\r\n",
        "  tags_f_t.append(convert_to_tag(tag2idx, tags_f_test[i]))\r\n",
        "  input_ids = torch.tensor([tokenized_sentence]).cuda() \r\n",
        "  with torch.no_grad():\r\n",
        "    output = model(input_ids)\r\n",
        "  label_indices = np.argmax(output[0].to('cpu').numpy(), axis=2)\r\n",
        "\r\n",
        "  # join bpe split tokens\r\n",
        "  tokens = tokenizer.convert_ids_to_tokens(input_ids.to('cpu').numpy()[0])\r\n",
        "  # print(tokens)\r\n",
        "  new_tokens, new_labels, new_labels_hid = [], [], []\r\n",
        "  for token, label_idx in zip(tokens, label_indices[0]):\r\n",
        "      if token.startswith(\"##\"):\r\n",
        "          new_tokens[-1] = new_tokens[-1] + token[2:]\r\n",
        "          new_labels_hid.append(tag_values[label_idx])\r\n",
        "      else:\r\n",
        "          new_labels.append(tag_values[label_idx])\r\n",
        "          new_tokens.append(token)\r\n",
        "          new_labels_hid.append(tag_values[label_idx])\r\n",
        "  labels_hid.append(new_labels_hid)\r\n",
        "\r\n",
        "\r\n",
        "print(classification_report(tags_f_t, labels_hid))\r\n",
        "\r\n",
        "\r\n",
        "\r\n",
        "\r\n",
        "\r\n",
        "\r\n",
        "\r\n",
        "# print(len(new_labels_hid))\r\n",
        "# print(len(tags_f_t[9]))\r\n",
        "# print(new_labels_hid[1:-1])\r\n",
        "# print(tags_f_t[9])\r\n",
        "# # print(labels_test[8])\r\n",
        "\r\n",
        "# print(new_tokens)\r\n",
        "\r\n",
        "# for token, label in zip(new_tokens, new_labels):\r\n",
        "#     print(\"{}\\t{}\".format(label, token))\r\n",
        "\r\n",
        "\r\n",
        "\r\n",
        "\r\n"
      ],
      "execution_count": 37,
      "outputs": [
        {
          "output_type": "stream",
          "text": [
            "['B_PER', 'O', 'B_PER', 'O', 'O', 'O', 'O', 'O', 'O', 'O', 'O', '', 'B_PER', 'O', 'O', 'O']\n",
            "['B_PER', 'O', 'B_PER', 'O', 'O', 'O', 'O', 'O', 'O', 'O', 'O', '', 'B_PER', 'O', 'O', 'O']\n"
          ],
          "name": "stdout"
        },
        {
          "output_type": "stream",
          "text": [
            "/usr/local/lib/python3.6/dist-packages/seqeval/metrics/sequence_labeling.py:171: UserWarning: B_ORG seems not to be NE tag.\n",
            "  warnings.warn('{} seems not to be NE tag.'.format(chunk))\n",
            "/usr/local/lib/python3.6/dist-packages/seqeval/metrics/sequence_labeling.py:171: UserWarning: B_LOC seems not to be NE tag.\n",
            "  warnings.warn('{} seems not to be NE tag.'.format(chunk))\n",
            "/usr/local/lib/python3.6/dist-packages/seqeval/metrics/sequence_labeling.py:171: UserWarning: I_ORG seems not to be NE tag.\n",
            "  warnings.warn('{} seems not to be NE tag.'.format(chunk))\n",
            "/usr/local/lib/python3.6/dist-packages/seqeval/metrics/sequence_labeling.py:171: UserWarning: I_LOC seems not to be NE tag.\n",
            "  warnings.warn('{} seems not to be NE tag.'.format(chunk))\n",
            "/usr/local/lib/python3.6/dist-packages/seqeval/metrics/sequence_labeling.py:171: UserWarning: B_PER seems not to be NE tag.\n",
            "  warnings.warn('{} seems not to be NE tag.'.format(chunk))\n",
            "/usr/local/lib/python3.6/dist-packages/seqeval/metrics/sequence_labeling.py:171: UserWarning: I_PER seems not to be NE tag.\n",
            "  warnings.warn('{} seems not to be NE tag.'.format(chunk))\n",
            "/usr/local/lib/python3.6/dist-packages/seqeval/metrics/sequence_labeling.py:171: UserWarning: B_DAT seems not to be NE tag.\n",
            "  warnings.warn('{} seems not to be NE tag.'.format(chunk))\n",
            "/usr/local/lib/python3.6/dist-packages/seqeval/metrics/sequence_labeling.py:171: UserWarning: I_DAT seems not to be NE tag.\n",
            "  warnings.warn('{} seems not to be NE tag.'.format(chunk))\n",
            "/usr/local/lib/python3.6/dist-packages/seqeval/metrics/sequence_labeling.py:171: UserWarning: B_PCT seems not to be NE tag.\n",
            "  warnings.warn('{} seems not to be NE tag.'.format(chunk))\n",
            "/usr/local/lib/python3.6/dist-packages/seqeval/metrics/sequence_labeling.py:171: UserWarning: I_PCT seems not to be NE tag.\n",
            "  warnings.warn('{} seems not to be NE tag.'.format(chunk))\n",
            "/usr/local/lib/python3.6/dist-packages/seqeval/metrics/sequence_labeling.py:171: UserWarning: B_TIM seems not to be NE tag.\n",
            "  warnings.warn('{} seems not to be NE tag.'.format(chunk))\n",
            "/usr/local/lib/python3.6/dist-packages/seqeval/metrics/sequence_labeling.py:171: UserWarning: I_TIM seems not to be NE tag.\n",
            "  warnings.warn('{} seems not to be NE tag.'.format(chunk))\n",
            "/usr/local/lib/python3.6/dist-packages/seqeval/metrics/sequence_labeling.py:171: UserWarning: B_MON seems not to be NE tag.\n",
            "  warnings.warn('{} seems not to be NE tag.'.format(chunk))\n",
            "/usr/local/lib/python3.6/dist-packages/seqeval/metrics/sequence_labeling.py:171: UserWarning: I_MON seems not to be NE tag.\n",
            "  warnings.warn('{} seems not to be NE tag.'.format(chunk))\n"
          ],
          "name": "stderr"
        },
        {
          "output_type": "stream",
          "text": [
            "              precision    recall  f1-score   support\n",
            "\n",
            "        _DAT       0.75      0.78      0.76       220\n",
            "        _LOC       0.87      0.92      0.89       607\n",
            "        _MON       0.65      0.77      0.70        26\n",
            "        _ORG       0.83      0.83      0.83       716\n",
            "        _PCT       0.81      0.88      0.85        50\n",
            "        _PER       0.91      0.92      0.91       497\n",
            "        _TIM       0.75      0.68      0.71        22\n",
            "\n",
            "   micro avg       0.85      0.87      0.86      2138\n",
            "   macro avg       0.79      0.82      0.81      2138\n",
            "weighted avg       0.85      0.87      0.86      2138\n",
            "\n"
          ],
          "name": "stdout"
        }
      ]
    },
    {
      "cell_type": "code",
      "metadata": {
        "colab": {
          "base_uri": "https://localhost:8080/"
        },
        "id": "F8heHwrhT2VS",
        "outputId": "7a39ffa9-f44d-4c9e-a196-0b3ddd82e82b"
      },
      "source": [
        "!pip install sklearn_crfsuite"
      ],
      "execution_count": 38,
      "outputs": [
        {
          "output_type": "stream",
          "text": [
            "Collecting sklearn_crfsuite\n",
            "  Downloading https://files.pythonhosted.org/packages/25/74/5b7befa513482e6dee1f3dd68171a6c9dfc14c0eaa00f885ffeba54fe9b0/sklearn_crfsuite-0.3.6-py2.py3-none-any.whl\n",
            "Requirement already satisfied: tqdm>=2.0 in /usr/local/lib/python3.6/dist-packages (from sklearn_crfsuite) (4.41.1)\n",
            "Collecting python-crfsuite>=0.8.3\n",
            "\u001b[?25l  Downloading https://files.pythonhosted.org/packages/95/99/869dde6dbf3e0d07a013c8eebfb0a3d30776334e0097f8432b631a9a3a19/python_crfsuite-0.9.7-cp36-cp36m-manylinux1_x86_64.whl (743kB)\n",
            "\u001b[K     |████████████████████████████████| 747kB 13.6MB/s \n",
            "\u001b[?25hRequirement already satisfied: tabulate in /usr/local/lib/python3.6/dist-packages (from sklearn_crfsuite) (0.8.7)\n",
            "Requirement already satisfied: six in /usr/local/lib/python3.6/dist-packages (from sklearn_crfsuite) (1.15.0)\n",
            "Installing collected packages: python-crfsuite, sklearn-crfsuite\n",
            "Successfully installed python-crfsuite-0.9.7 sklearn-crfsuite-0.3.6\n"
          ],
          "name": "stdout"
        }
      ]
    },
    {
      "cell_type": "code",
      "metadata": {
        "colab": {
          "base_uri": "https://localhost:8080/"
        },
        "id": "rB5a-UBhRmF8",
        "outputId": "9b32bbbf-8c7e-45ff-f502-aa7ead3dfd8e"
      },
      "source": [
        "import sklearn_crfsuite\r\n",
        "from sklearn_crfsuite import metrics\r\n",
        "# (tags_f_t, labels_hid))\r\n",
        "# labels_hid\r\n",
        "sorted_labels = list(tag2idx.keys())\r\n",
        "print(sklearn_crfsuite.metrics.flat_classification_report(tags_f_t, labels_hid, labels=sorted_labels, digits=3))"
      ],
      "execution_count": 39,
      "outputs": [
        {
          "output_type": "stream",
          "text": [
            "              precision    recall  f1-score   support\n",
            "\n",
            "       I_DAT      0.831     0.948     0.886       249\n",
            "       B_DAT      0.851     0.832     0.841       220\n",
            "       B_PER      0.956     0.954     0.955       497\n",
            "       B_MON      0.800     0.923     0.857        26\n",
            "       I_ORG      0.899     0.903     0.901      1149\n",
            "       B_LOC      0.914     0.947     0.930       607\n",
            "       I_MON      0.953     0.924     0.938        66\n",
            "       I_PCT      0.927     0.905     0.916        42\n",
            "       B_ORG      0.899     0.874     0.887       716\n",
            "           O      0.996     0.992     0.994     32507\n",
            "       B_TIM      0.889     0.727     0.800        22\n",
            "       B_PCT      0.904     0.940     0.922        50\n",
            "       I_PER      0.933     0.964     0.949       363\n",
            "       I_TIM      0.821     0.958     0.885        24\n",
            "       I_LOC      0.718     0.900     0.798       229\n",
            "         PAD      0.000     0.000     0.000         0\n",
            "\n",
            "   micro avg      0.983     0.983     0.983     36767\n",
            "   macro avg      0.831     0.856     0.841     36767\n",
            "weighted avg      0.984     0.983     0.984     36767\n",
            "\n"
          ],
          "name": "stdout"
        },
        {
          "output_type": "stream",
          "text": [
            "/usr/local/lib/python3.6/dist-packages/sklearn/metrics/_classification.py:1272: UndefinedMetricWarning: Precision and F-score are ill-defined and being set to 0.0 in labels with no predicted samples. Use `zero_division` parameter to control this behavior.\n",
            "  _warn_prf(average, modifier, msg_start, len(result))\n",
            "/usr/local/lib/python3.6/dist-packages/sklearn/metrics/_classification.py:1272: UndefinedMetricWarning: Recall and F-score are ill-defined and being set to 0.0 in labels with no true samples. Use `zero_division` parameter to control this behavior.\n",
            "  _warn_prf(average, modifier, msg_start, len(result))\n"
          ],
          "name": "stderr"
        }
      ]
    },
    {
      "cell_type": "code",
      "metadata": {
        "colab": {
          "base_uri": "https://localhost:8080/"
        },
        "id": "ty_qFwOsLJuZ",
        "outputId": "c39686c0-bd8a-4e79-98e3-1b51e0536328"
      },
      "source": [
        "# print(sklearn_crfsuite.metrics.flat_classification_report(y_test, y_pred, labels=sorted_labels, digits=3))\r\n",
        "sorted_labels"
      ],
      "execution_count": 40,
      "outputs": [
        {
          "output_type": "execute_result",
          "data": {
            "text/plain": [
              "['I_DAT',\n",
              " 'B_DAT',\n",
              " 'B_PER',\n",
              " 'B_MON',\n",
              " 'I_ORG',\n",
              " 'B_LOC',\n",
              " 'I_MON',\n",
              " 'I_PCT',\n",
              " 'B_ORG',\n",
              " 'O',\n",
              " 'B_TIM',\n",
              " 'B_PCT',\n",
              " 'I_PER',\n",
              " 'I_TIM',\n",
              " 'I_LOC',\n",
              " 'PAD']"
            ]
          },
          "metadata": {
            "tags": []
          },
          "execution_count": 40
        }
      ]
    },
    {
      "cell_type": "markdown",
      "metadata": {
        "id": "QAsnTqSPEaJ9"
      },
      "source": [
        "# Setup"
      ]
    },
    {
      "cell_type": "code",
      "metadata": {
        "id": "8B-i_vMAEbpH"
      },
      "source": [
        "texts = [\n",
        "    \"مدیرکل محیط زیست استان البرز با بیان اینکه با بیان اینکه موضوع شیرابه‌های زباله‌های انتقال یافته در منطقه حلقه دره خطری برای این استان است، گفت: در این مورد گزارشاتی در ۲۵ مرداد ۱۳۹۷ تقدیم مدیران استان شده است.\",\n",
        "    \"به گزارش خبرگزاری تسنیم از کرج، حسین محمدی در نشست خبری مشترک با معاون خدمات شهری شهرداری کرج که با حضور مدیرعامل سازمان‌های پسماند، پارک‌ها و فضای سبز و نماینده منابع طبیعی در سالن کنفرانس شهرداری کرج برگزار شد، اظهار داشت: ۸۰٪  جمعیت استان البرز در کلانشهر کرج زندگی می‌کنند.\",\n",
        "    \"وی افزود: با همکاری‌های مشترک بین اداره کل محیط زیست و شهرداری کرج برنامه‌های مشترکی برای حفاظت از محیط زیست در شهر کرج در دستور کار قرار گرفته که این اقدامات آثار مثبتی داشته و تاکنون نزدیک به ۱۰۰ میلیارد هزینه جهت خریداری اکس-ریس صورت گرفته است.\",\n",
        "]\n",
        "\n",
        "peyma_translate = {\n",
        "    \"B_DAT\": \"تاریخ\",\n",
        "    \"B_LOC\": \"موقعیت\",\n",
        "    \"B_MON\": \"پول\",\n",
        "    \"B_ORG\": \"سازمنان\",\n",
        "    \"B_PCT\": \"درصد\",\n",
        "    \"B_PER\": \"شخص\",\n",
        "    \"B_TIM\": \"زمان\",\n",
        "    \"I_DAT\": \"تاریخ\",\n",
        "    \"I_LOC\": \"موقعیت\",\n",
        "    \"I_MON\": \"پول\",\n",
        "    \"I_ORG\": \"سازمان\",\n",
        "    \"I_PCT\": \"درصد\",\n",
        "    \"I_PER\": \"شخص\",\n",
        "    \"I_TIM\": \"زمان\",\n",
        "    \"O\": None,\n",
        "}\n",
        "arman_translate = {\n",
        "    \"B-event\": \"رویداد\",\n",
        "    \"B-fac\": \"امکانات\",\n",
        "    \"B-loc\": \"موقعیت\",\n",
        "    \"B-org\": \"سازمان\",\n",
        "    \"B-pers\": \"شخص\",\n",
        "    \"B-pro\": \"محصول\",\n",
        "    \"I-event\": \"رویداد\",\n",
        "    \"I-fac\": \"امکانات\",\n",
        "    \"I-loc\": \"موقعیت\",\n",
        "    \"I-org\": \"سازمان\",\n",
        "    \"I-pers\": \"شخص\",\n",
        "    \"I-pro\": \"محصول\",\n",
        "    \"O\": None\n",
        "}\n",
        "\n",
        "ner_translate = {\n",
        "    \"B-date\": \"تاریخ\",\n",
        "    \"B-event\": \"رویداد\",\n",
        "    \"B-facility\": \"امکانات\",\n",
        "    \"B-location\": \"موقعیت\",\n",
        "    \"B-money\": \"پول\",\n",
        "    \"B-organization\": \"سازمان\",\n",
        "    \"B-person\": \"شخص\",\n",
        "    \"B-product\": \"محصول\",\n",
        "    \"B-time\": \"زمان\",\n",
        "    \"B-percent\": \"درصد\",\n",
        "    \"I-date\": \"تاریخ\",\n",
        "    \"I-event\": \"رویداد\",\n",
        "    \"I-facility\": \"امکانات\",\n",
        "    \"I-location\": \"موقعیت\",\n",
        "    \"I-money\": \"پول\",\n",
        "    \"I-organization\": \"سازمان\",\n",
        "    \"I-person\": \"شخص\",\n",
        "    \"I-product\": \"محصول\",\n",
        "    \"I-time\": \"زمان\",\n",
        "    \"I-percent\": \"درصد\",\n",
        "    \"O\": None\n",
        "}"
      ],
      "execution_count": null,
      "outputs": []
    },
    {
      "cell_type": "code",
      "metadata": {
        "id": "4uMVXKVkGeOZ"
      },
      "source": [
        "normalizer = hazm.Normalizer()\n",
        "\n",
        "\n",
        "def cleanize(text):\n",
        "    \"\"\"A way to normalize and even clean the text\"\"\"\n",
        "    # clean text\n",
        "    # do some fns\n",
        "    return normalizer.normalize(text)\n",
        "\n",
        "\n",
        "def parsbert_ner_load_model(model_name):\n",
        "    \"\"\"Load the model\"\"\"\n",
        "    try:\n",
        "        config = AutoConfig.from_pretrained(model_name)\n",
        "        tokenizer = AutoTokenizer.from_pretrained(model_name)\n",
        "        model = TFAutoModelForTokenClassification.from_pretrained(model_name)\n",
        "        labels = list(config.label2id.keys())\n",
        "\n",
        "        return model, tokenizer, labels\n",
        "    except:\n",
        "        return [None] * 3\n",
        "\n",
        "def parsbert_ner(texts, model_name, label_translate, visualize=True):\n",
        "    \"\"\"Predict and visualize the NER!\"\"\"\n",
        "    global css_is_load\n",
        "    \n",
        "    css_is_load = False\n",
        "    css = \"\"\"<style>\n",
        "    .ner-box {\n",
        "        direction: rtl;\n",
        "        font-size: 18px !important;\n",
        "        line-height: 20px !important;\n",
        "        margin: 0 0 15px;\n",
        "        padding: 10px;\n",
        "        text-align: justify;\n",
        "        color: #343434 !important;\n",
        "    }\n",
        "    .token, .token span {\n",
        "        display: inline-block !important;\n",
        "        padding: 2px;\n",
        "        margin: 2px 0;\n",
        "    }\n",
        "    .token.token-ner {\n",
        "        background-color: #f6cd61;\n",
        "        font-weight: bold;\n",
        "        color: #000;\n",
        "    }\n",
        "    .token.token-ner .ner-label {\n",
        "        color: #9a1f40;\n",
        "        margin: 0px 2px;\n",
        "    }\n",
        "    </style>\"\"\"\n",
        "\n",
        "    if not css_is_load:\n",
        "        display(HTML(css))\n",
        "        css_is_load = True\n",
        "\n",
        "    model, tokenizer, labels = parsbert_ner_load_model(model_name)\n",
        "\n",
        "    if not model or not tokenizer or not labels:\n",
        "        return 'Something wrong has been happened!'\n",
        "    \n",
        "    output_predictions = []\n",
        "    for sequence in texts:\n",
        "        sequence = cleanize(sequence)\n",
        "        tokens = tokenizer.tokenize(tokenizer.decode(tokenizer.encode(sequence)))\n",
        "        inputs = tokenizer.encode(sequence, return_tensors=\"tf\")\n",
        "        outputs = model(inputs)[0]\n",
        "        predictions = tf.argmax(outputs, axis=2)\n",
        "        predictions = [(token, label_translate[labels[prediction]]) for token, prediction in zip(tokens, predictions[0].numpy())]\n",
        "        \n",
        "        if not visualize:\n",
        "            output_predictions.append(predictions)\n",
        "        else:\n",
        "            pred_sequence = []\n",
        "            for token, label in predictions:\n",
        "                if token not in ['[CLS]', '[SEP]']:\n",
        "                    if label:\n",
        "                        pred_sequence.append(\n",
        "                            '<span class=\"token token-ner\">%s<span class=\"ner-label\">%s</span></span>' \n",
        "                            % (token, label))\n",
        "                    else:\n",
        "                        pred_sequence.append(\n",
        "                            '<span class=\"token\">%s</span>' \n",
        "                            % token)\n",
        "                \n",
        "            html = '<p class=\"ner-box\">%s</p>' % ' '.join(pred_sequence) \n",
        "            display(HTML(html))\n",
        "\n",
        "    return output_predictions"
      ],
      "execution_count": null,
      "outputs": []
    },
    {
      "cell_type": "markdown",
      "metadata": {
        "id": "aTzAnnfID8JJ"
      },
      "source": [
        "# Persian ARMAN NER"
      ]
    },
    {
      "cell_type": "code",
      "metadata": {
        "colab": {
          "base_uri": "https://localhost:8080/",
          "height": 742,
          "referenced_widgets": [
            "2a0b1f4308dd4112ac00fdffe61e2af2",
            "c5b21e41044246a8af6a5e47e65359cd",
            "e243d0c228054181a515f76f6d99cd7d",
            "24a7b1953b71408fb43623988b85b120",
            "b02ef4a5a9ec46a190c73db8a76b5db2",
            "49bf2472c93442c9a92bd0cc6f4b4baf",
            "847152dd46294460b85a8e700e0df04d",
            "51d36f537a634868bbe8ebdeb4a59e11",
            "f44112caf9814bc1a26422604e2fc3ac",
            "3ec28f854aac47479ebb5ed52a73ace3",
            "9c1acb0a489f4ab99b713dde5708bd51",
            "faa4e05e551c40b5b5955c311b6a6534",
            "c07d59eb7c0b4014afab02ef4296c13e",
            "a8e5a5401d054af5956ab59533369c0a",
            "a2326924937e4ee9bc9f94a9283dc849",
            "a2e73dba98df473a972f9e3b1aacaedf",
            "db9bbdab99754fb2876553a89315150d",
            "a36f88f877df4d90b48eb0c4b345b688",
            "5fdff2f902574b48b8ac61ec013b32f6",
            "ea4ffaae3ecb495ebca7b6567514de8d",
            "1223ecbdd89244e8aaafbbda8a761296",
            "f34f4814c1fd462ab6e69f04816f90ce",
            "7ce6e2e40c524fab8343e7d532bad3de",
            "cded95c599b244c486dc1f25caecc170",
            "a3e9d26d7c1c417cb22a832c3744559b",
            "c81c5230ea994cc385b8b712e762c705",
            "c9bcdfacd8b34a138cd89ca75cee3a5b",
            "db14c35a76274ceeb4420c8a051605c4",
            "f1ab2bf58bf249a394f712815bacbd50",
            "8326ee17d280480da2e9b786f5cbe2c4",
            "0cb6add9461c4f32baef726d21548390",
            "8db633612f9f44d68ac4986184266865",
            "d61cd351c308438190cb705c81ce2666",
            "1c1d7b36b3d1476abab33fe0032b7bcb",
            "96a63e7ee0314ca2ad19cef3ea5c7633",
            "d5a7408346d0491e9278e41c1d6d2165",
            "11c64ffa82474f78bdcc279fa81b41aa",
            "4fe3e196ea3b4f07b4f4b420f50cf610",
            "b0c4e6e8ee2f4602bcda4fc024d404e0",
            "6ace2803c0e2414199839d43af801972"
          ]
        },
        "id": "y7Zra-neHsqn",
        "outputId": "2380865f-d28f-456e-de8d-f738747cf0cf"
      },
      "source": [
        "model_name = 'HooshvareLab/bert-base-parsbert-armanner-uncased'\n",
        "_ = parsbert_ner(texts, model_name, arman_translate, visualize=True)"
      ],
      "execution_count": null,
      "outputs": [
        {
          "output_type": "display_data",
          "data": {
            "text/html": [
              "<style>\n",
              "    .ner-box {\n",
              "        direction: rtl;\n",
              "        font-size: 18px !important;\n",
              "        line-height: 20px !important;\n",
              "        margin: 0 0 15px;\n",
              "        padding: 10px;\n",
              "        text-align: justify;\n",
              "        color: #343434 !important;\n",
              "    }\n",
              "    .token, .token span {\n",
              "        display: inline-block !important;\n",
              "        padding: 2px;\n",
              "        margin: 2px 0;\n",
              "    }\n",
              "    .token.token-ner {\n",
              "        background-color: #f6cd61;\n",
              "        font-weight: bold;\n",
              "        color: #000;\n",
              "    }\n",
              "    .token.token-ner .ner-label {\n",
              "        color: #9a1f40;\n",
              "        margin: 0px 2px;\n",
              "    }\n",
              "    </style>"
            ],
            "text/plain": [
              "<IPython.core.display.HTML object>"
            ]
          },
          "metadata": {
            "tags": []
          }
        },
        {
          "output_type": "display_data",
          "data": {
            "application/vnd.jupyter.widget-view+json": {
              "model_id": "2a0b1f4308dd4112ac00fdffe61e2af2",
              "version_major": 2,
              "version_minor": 0
            },
            "text/plain": [
              "HBox(children=(FloatProgress(value=0.0, description='Downloading', max=937.0, style=ProgressStyle(description_…"
            ]
          },
          "metadata": {
            "tags": []
          }
        },
        {
          "output_type": "stream",
          "text": [
            "\n"
          ],
          "name": "stdout"
        },
        {
          "output_type": "display_data",
          "data": {
            "application/vnd.jupyter.widget-view+json": {
              "model_id": "f44112caf9814bc1a26422604e2fc3ac",
              "version_major": 2,
              "version_minor": 0
            },
            "text/plain": [
              "HBox(children=(FloatProgress(value=0.0, description='Downloading', max=1215509.0, style=ProgressStyle(descript…"
            ]
          },
          "metadata": {
            "tags": []
          }
        },
        {
          "output_type": "stream",
          "text": [
            "\n"
          ],
          "name": "stdout"
        },
        {
          "output_type": "display_data",
          "data": {
            "application/vnd.jupyter.widget-view+json": {
              "model_id": "db9bbdab99754fb2876553a89315150d",
              "version_major": 2,
              "version_minor": 0
            },
            "text/plain": [
              "HBox(children=(FloatProgress(value=0.0, description='Downloading', max=112.0, style=ProgressStyle(description_…"
            ]
          },
          "metadata": {
            "tags": []
          }
        },
        {
          "output_type": "stream",
          "text": [
            "\n"
          ],
          "name": "stdout"
        },
        {
          "output_type": "display_data",
          "data": {
            "application/vnd.jupyter.widget-view+json": {
              "model_id": "a3e9d26d7c1c417cb22a832c3744559b",
              "version_major": 2,
              "version_minor": 0
            },
            "text/plain": [
              "HBox(children=(FloatProgress(value=0.0, description='Downloading', max=2.0, style=ProgressStyle(description_wi…"
            ]
          },
          "metadata": {
            "tags": []
          }
        },
        {
          "output_type": "stream",
          "text": [
            "\n"
          ],
          "name": "stdout"
        },
        {
          "output_type": "display_data",
          "data": {
            "application/vnd.jupyter.widget-view+json": {
              "model_id": "d61cd351c308438190cb705c81ce2666",
              "version_major": 2,
              "version_minor": 0
            },
            "text/plain": [
              "HBox(children=(FloatProgress(value=0.0, description='Downloading', max=651675452.0, style=ProgressStyle(descri…"
            ]
          },
          "metadata": {
            "tags": []
          }
        },
        {
          "output_type": "stream",
          "text": [
            "\n"
          ],
          "name": "stdout"
        },
        {
          "output_type": "stream",
          "text": [
            "All model checkpoint layers were used when initializing TFBertForTokenClassification.\n",
            "\n",
            "All the layers of TFBertForTokenClassification were initialized from the model checkpoint at HooshvareLab/bert-base-parsbert-armanner-uncased.\n",
            "If your task is similar to the task the model of the checkpoint was trained on, you can already use TFBertForTokenClassification for predictions without further training.\n"
          ],
          "name": "stderr"
        },
        {
          "output_type": "display_data",
          "data": {
            "text/html": [
              "<p class=\"ner-box\"><span class=\"token\">مدیرکل</span> <span class=\"token token-ner\">محیط<span class=\"ner-label\">سازمان</span></span> <span class=\"token token-ner\">زیست<span class=\"ner-label\">سازمان</span></span> <span class=\"token token-ner\">استان<span class=\"ner-label\">سازمان</span></span> <span class=\"token token-ner\">البرز<span class=\"ner-label\">سازمان</span></span> <span class=\"token\">با</span> <span class=\"token\">بیان</span> <span class=\"token\">اینکه</span> <span class=\"token\">با</span> <span class=\"token\">بیان</span> <span class=\"token\">اینکه</span> <span class=\"token\">موضوع</span> <span class=\"token\">شیرابه</span> <span class=\"token\">##های</span> <span class=\"token\">زبالههای</span> <span class=\"token\">انتقال</span> <span class=\"token\">یافته</span> <span class=\"token\">در</span> <span class=\"token\">منطقه</span> <span class=\"token token-ner\">حلقه<span class=\"ner-label\">موقعیت</span></span> <span class=\"token\">دره</span> <span class=\"token\">خطری</span> <span class=\"token\">برای</span> <span class=\"token\">این</span> <span class=\"token\">استان</span> <span class=\"token\">است</span> <span class=\"token\">،</span> <span class=\"token\">گفت</span> <span class=\"token\">:</span> <span class=\"token\">در</span> <span class=\"token\">این</span> <span class=\"token\">مورد</span> <span class=\"token\">گزارشاتی</span> <span class=\"token\">در</span> <span class=\"token\">۲۵</span> <span class=\"token\">مرداد</span> <span class=\"token\">۱۳۹۷</span> <span class=\"token\">تقدیم</span> <span class=\"token\">مدیران</span> <span class=\"token\">استان</span> <span class=\"token\">شده</span> <span class=\"token\">است</span> <span class=\"token\">.</span></p>"
            ],
            "text/plain": [
              "<IPython.core.display.HTML object>"
            ]
          },
          "metadata": {
            "tags": []
          }
        },
        {
          "output_type": "display_data",
          "data": {
            "text/html": [
              "<p class=\"ner-box\"><span class=\"token\">به</span> <span class=\"token\">گزارش</span> <span class=\"token token-ner\">خبرگزاری<span class=\"ner-label\">سازمان</span></span> <span class=\"token token-ner\">تسنیم<span class=\"ner-label\">سازمان</span></span> <span class=\"token\">از</span> <span class=\"token token-ner\">کرج<span class=\"ner-label\">موقعیت</span></span> <span class=\"token\">،</span> <span class=\"token token-ner\">حسین<span class=\"ner-label\">شخص</span></span> <span class=\"token token-ner\">محمدی<span class=\"ner-label\">شخص</span></span> <span class=\"token\">در</span> <span class=\"token\">نشست</span> <span class=\"token\">خبری</span> <span class=\"token\">مشترک</span> <span class=\"token\">با</span> <span class=\"token\">معاون</span> <span class=\"token\">خدمات</span> <span class=\"token\">شهری</span> <span class=\"token token-ner\">شهرداری<span class=\"ner-label\">سازمان</span></span> <span class=\"token token-ner\">کرج<span class=\"ner-label\">سازمان</span></span> <span class=\"token\">که</span> <span class=\"token\">با</span> <span class=\"token\">حضور</span> <span class=\"token\">مدیرعامل</span> <span class=\"token\">سازمانهای</span> <span class=\"token token-ner\">پسماند<span class=\"ner-label\">سازمان</span></span> <span class=\"token\">،</span> <span class=\"token token-ner\">پارکها<span class=\"ner-label\">سازمان</span></span> <span class=\"token\">و</span> <span class=\"token\">فضای</span> <span class=\"token\">سبز</span> <span class=\"token\">و</span> <span class=\"token\">نماینده</span> <span class=\"token\">منابع</span> <span class=\"token\">طبیعی</span> <span class=\"token\">در</span> <span class=\"token token-ner\">سالن<span class=\"ner-label\">امکانات</span></span> <span class=\"token token-ner\">کنفرانس<span class=\"ner-label\">امکانات</span></span> <span class=\"token token-ner\">شهرداری<span class=\"ner-label\">امکانات</span></span> <span class=\"token token-ner\">کرج<span class=\"ner-label\">امکانات</span></span> <span class=\"token\">برگزار</span> <span class=\"token\">شد</span> <span class=\"token\">،</span> <span class=\"token\">اظهار</span> <span class=\"token\">داشت</span> <span class=\"token\">:</span> <span class=\"token\">۸۰</span> <span class=\"token\">٪</span> <span class=\"token\">جمعیت</span> <span class=\"token token-ner\">استان<span class=\"ner-label\">موقعیت</span></span> <span class=\"token token-ner\">البرز<span class=\"ner-label\">موقعیت</span></span> <span class=\"token\">در</span> <span class=\"token token-ner\">کلانشهر<span class=\"ner-label\">موقعیت</span></span> <span class=\"token token-ner\">کرج<span class=\"ner-label\">موقعیت</span></span> <span class=\"token\">زندگی</span> <span class=\"token\">میکنند</span> <span class=\"token\">.</span></p>"
            ],
            "text/plain": [
              "<IPython.core.display.HTML object>"
            ]
          },
          "metadata": {
            "tags": []
          }
        },
        {
          "output_type": "display_data",
          "data": {
            "text/html": [
              "<p class=\"ner-box\"><span class=\"token\">وی</span> <span class=\"token\">افزود</span> <span class=\"token\">:</span> <span class=\"token\">با</span> <span class=\"token\">همکاریهای</span> <span class=\"token\">مشترک</span> <span class=\"token\">بین</span> <span class=\"token token-ner\">اداره<span class=\"ner-label\">سازمان</span></span> <span class=\"token token-ner\">کل<span class=\"ner-label\">سازمان</span></span> <span class=\"token token-ner\">محیط<span class=\"ner-label\">سازمان</span></span> <span class=\"token token-ner\">زیست<span class=\"ner-label\">سازمان</span></span> <span class=\"token\">و</span> <span class=\"token token-ner\">شهرداری<span class=\"ner-label\">سازمان</span></span> <span class=\"token token-ner\">کرج<span class=\"ner-label\">سازمان</span></span> <span class=\"token\">برنامههای</span> <span class=\"token\">مشترکی</span> <span class=\"token\">برای</span> <span class=\"token\">حفاظت</span> <span class=\"token\">از</span> <span class=\"token\">محیط</span> <span class=\"token\">زیست</span> <span class=\"token\">در</span> <span class=\"token token-ner\">شهر<span class=\"ner-label\">موقعیت</span></span> <span class=\"token token-ner\">کرج<span class=\"ner-label\">موقعیت</span></span> <span class=\"token\">در</span> <span class=\"token\">دستور</span> <span class=\"token\">کار</span> <span class=\"token\">قرار</span> <span class=\"token\">گرفته</span> <span class=\"token\">که</span> <span class=\"token\">این</span> <span class=\"token\">اقدامات</span> <span class=\"token\">اثار</span> <span class=\"token\">مثبتی</span> <span class=\"token\">داشته</span> <span class=\"token\">و</span> <span class=\"token\">تاکنون</span> <span class=\"token\">نزدیک</span> <span class=\"token\">به</span> <span class=\"token\">۱۰۰</span> <span class=\"token\">میلیارد</span> <span class=\"token\">هزینه</span> <span class=\"token\">جهت</span> <span class=\"token\">خریداری</span> <span class=\"token token-ner\">اکس<span class=\"ner-label\">محصول</span></span> <span class=\"token token-ner\">-<span class=\"ner-label\">محصول</span></span> <span class=\"token token-ner\">ریس<span class=\"ner-label\">محصول</span></span> <span class=\"token\">صورت</span> <span class=\"token\">گرفته</span> <span class=\"token\">است</span> <span class=\"token\">.</span></p>"
            ],
            "text/plain": [
              "<IPython.core.display.HTML object>"
            ]
          },
          "metadata": {
            "tags": []
          }
        }
      ]
    },
    {
      "cell_type": "markdown",
      "metadata": {
        "id": "fth6hzX5IG1h"
      },
      "source": [
        "# Persian PEYMA NER"
      ]
    },
    {
      "cell_type": "code",
      "metadata": {
        "colab": {
          "base_uri": "https://localhost:8080/",
          "height": 787,
          "referenced_widgets": [
            "6dca480de1424b0686f61dd55f16bca3",
            "c0b9160ec32840ae9fce366414f692b0",
            "aa22e80e7b8243bb8294edb6c3a02a6c",
            "0eab12bf898d4da394f8e6941699e61f",
            "a4e6abb923344234a2cd0f572a571399",
            "baa257be245a4693a73a967d141f03f1",
            "1b5645d17be9458dbb4c4735d753e24c",
            "9c19f7f2252e46ca9d7b874872f356f8",
            "5d14447d0d8b4c6a8cdda46485958707",
            "f1de64d37fdb4625818388fb5eac9d15",
            "3a98593fe7574229aab2ffb2bd0daa0c",
            "4b34ce85c26b427aba6b0b3c44e3fe16",
            "97865695d287406aba3bc020e4d67902",
            "6dd95e1b8458427d8a5f64d28e2fa27d",
            "521934bbd6a548f0a093bc45222acb57",
            "eb89162246d44a728a1fc04a415830dd",
            "2233c13022df4bde81f41d8416a7c2e5",
            "bec001c40f0841cba192b969eed79199",
            "9f64771fe9a9483798d1531faa88a6ca",
            "b7cd211fe67842499c338f3b8677fc75",
            "130999ff90eb42c08619ceb0ebe8bd43",
            "c7be6997ca2f4d2085d9cc07710ca9b7",
            "8bc05211ec804d0fa53ed31e3366e2c5",
            "0a01d4aee53b4cd3ba18f0ec071d9df0",
            "669a139f76d541abb2860b27845a4e76",
            "d3dd22788b2c49d0b53400604b4aabf5",
            "fd733b5bd9a942b88bb73e366923c6c6",
            "b687c2c088c54d61b8cc4d5b3d37b1b7",
            "88abeefc8ccd489ba36ee5e202b05a90",
            "f7a367ac95b54bab92dbe074267a3ccc",
            "babb926c5e5948d2b7cdfd19ee96e461",
            "adfb178a9db94fee96b110002e07c3e0",
            "57e1912540a74e44b0ca9fa2d42f6f59",
            "cbea1eeb589146eeb0fb86aad8379bac",
            "8ff6eb32860f41809ce126eb652265a8",
            "500a2ea9f91a402e848033de0cf17a84",
            "3e11d7eb24664a829739fd0c2f63df09",
            "1c6a7c856e724c4c9ac5fcebcd8dfc36",
            "7f275c05116c490abfe3a51c95d29483",
            "bf9a9dfa6c464a7c9bbd46bdccf5a10d"
          ]
        },
        "id": "jUm3HqjSGNlU",
        "outputId": "f8e94404-8e07-4fb4-8afc-5a0510a593d3"
      },
      "source": [
        "model_name = 'HooshvareLab/bert-base-parsbert-peymaner-uncased'\n",
        "_ = parsbert_ner(texts, model_name, peyma_translate, visualize=True)"
      ],
      "execution_count": null,
      "outputs": [
        {
          "output_type": "display_data",
          "data": {
            "text/html": [
              "<style>\n",
              "    .ner-box {\n",
              "        direction: rtl;\n",
              "        font-size: 18px !important;\n",
              "        line-height: 20px !important;\n",
              "        margin: 0 0 15px;\n",
              "        padding: 10px;\n",
              "        text-align: justify;\n",
              "        color: #343434 !important;\n",
              "    }\n",
              "    .token, .token span {\n",
              "        display: inline-block !important;\n",
              "        padding: 2px;\n",
              "        margin: 2px 0;\n",
              "    }\n",
              "    .token.token-ner {\n",
              "        background-color: #f6cd61;\n",
              "        font-weight: bold;\n",
              "        color: #000;\n",
              "    }\n",
              "    .token.token-ner .ner-label {\n",
              "        color: #9a1f40;\n",
              "        margin: 0px 2px;\n",
              "    }\n",
              "    </style>"
            ],
            "text/plain": [
              "<IPython.core.display.HTML object>"
            ]
          },
          "metadata": {
            "tags": []
          }
        },
        {
          "output_type": "display_data",
          "data": {
            "application/vnd.jupyter.widget-view+json": {
              "model_id": "6dca480de1424b0686f61dd55f16bca3",
              "version_major": 2,
              "version_minor": 0
            },
            "text/plain": [
              "HBox(children=(FloatProgress(value=0.0, description='Downloading', max=997.0, style=ProgressStyle(description_…"
            ]
          },
          "metadata": {
            "tags": []
          }
        },
        {
          "output_type": "stream",
          "text": [
            "\n"
          ],
          "name": "stdout"
        },
        {
          "output_type": "display_data",
          "data": {
            "application/vnd.jupyter.widget-view+json": {
              "model_id": "5d14447d0d8b4c6a8cdda46485958707",
              "version_major": 2,
              "version_minor": 0
            },
            "text/plain": [
              "HBox(children=(FloatProgress(value=0.0, description='Downloading', max=1215509.0, style=ProgressStyle(descript…"
            ]
          },
          "metadata": {
            "tags": []
          }
        },
        {
          "output_type": "stream",
          "text": [
            "\n"
          ],
          "name": "stdout"
        },
        {
          "output_type": "display_data",
          "data": {
            "application/vnd.jupyter.widget-view+json": {
              "model_id": "2233c13022df4bde81f41d8416a7c2e5",
              "version_major": 2,
              "version_minor": 0
            },
            "text/plain": [
              "HBox(children=(FloatProgress(value=0.0, description='Downloading', max=112.0, style=ProgressStyle(description_…"
            ]
          },
          "metadata": {
            "tags": []
          }
        },
        {
          "output_type": "stream",
          "text": [
            "\n"
          ],
          "name": "stdout"
        },
        {
          "output_type": "display_data",
          "data": {
            "application/vnd.jupyter.widget-view+json": {
              "model_id": "669a139f76d541abb2860b27845a4e76",
              "version_major": 2,
              "version_minor": 0
            },
            "text/plain": [
              "HBox(children=(FloatProgress(value=0.0, description='Downloading', max=2.0, style=ProgressStyle(description_wi…"
            ]
          },
          "metadata": {
            "tags": []
          }
        },
        {
          "output_type": "stream",
          "text": [
            "\n"
          ],
          "name": "stdout"
        },
        {
          "output_type": "display_data",
          "data": {
            "application/vnd.jupyter.widget-view+json": {
              "model_id": "57e1912540a74e44b0ca9fa2d42f6f59",
              "version_major": 2,
              "version_minor": 0
            },
            "text/plain": [
              "HBox(children=(FloatProgress(value=0.0, description='Downloading', max=651681604.0, style=ProgressStyle(descri…"
            ]
          },
          "metadata": {
            "tags": []
          }
        },
        {
          "output_type": "stream",
          "text": [
            "\n"
          ],
          "name": "stdout"
        },
        {
          "output_type": "stream",
          "text": [
            "Some layers from the model checkpoint at HooshvareLab/bert-base-parsbert-peymaner-uncased were not used when initializing TFBertForTokenClassification: ['dropout_37']\n",
            "- This IS expected if you are initializing TFBertForTokenClassification from the checkpoint of a model trained on another task or with another architecture (e.g. initializing a BertForSequenceClassification model from a BertForPreTraining model).\n",
            "- This IS NOT expected if you are initializing TFBertForTokenClassification from the checkpoint of a model that you expect to be exactly identical (initializing a BertForSequenceClassification model from a BertForSequenceClassification model).\n",
            "All the layers of TFBertForTokenClassification were initialized from the model checkpoint at HooshvareLab/bert-base-parsbert-peymaner-uncased.\n",
            "If your task is similar to the task the model of the checkpoint was trained on, you can already use TFBertForTokenClassification for predictions without further training.\n"
          ],
          "name": "stderr"
        },
        {
          "output_type": "display_data",
          "data": {
            "text/html": [
              "<p class=\"ner-box\"><span class=\"token\">مدیرکل</span> <span class=\"token token-ner\">محیط<span class=\"ner-label\">سازمنان</span></span> <span class=\"token token-ner\">زیست<span class=\"ner-label\">سازمان</span></span> <span class=\"token token-ner\">استان<span class=\"ner-label\">سازمان</span></span> <span class=\"token token-ner\">البرز<span class=\"ner-label\">سازمان</span></span> <span class=\"token\">با</span> <span class=\"token\">بیان</span> <span class=\"token\">اینکه</span> <span class=\"token\">با</span> <span class=\"token\">بیان</span> <span class=\"token\">اینکه</span> <span class=\"token\">موضوع</span> <span class=\"token\">شیرابه</span> <span class=\"token\">##های</span> <span class=\"token\">زبالههای</span> <span class=\"token\">انتقال</span> <span class=\"token\">یافته</span> <span class=\"token\">در</span> <span class=\"token token-ner\">منطقه<span class=\"ner-label\">موقعیت</span></span> <span class=\"token token-ner\">حلقه<span class=\"ner-label\">موقعیت</span></span> <span class=\"token token-ner\">دره<span class=\"ner-label\">موقعیت</span></span> <span class=\"token\">خطری</span> <span class=\"token\">برای</span> <span class=\"token\">این</span> <span class=\"token\">استان</span> <span class=\"token\">است</span> <span class=\"token\">،</span> <span class=\"token\">گفت</span> <span class=\"token\">:</span> <span class=\"token\">در</span> <span class=\"token\">این</span> <span class=\"token\">مورد</span> <span class=\"token\">گزارشاتی</span> <span class=\"token\">در</span> <span class=\"token token-ner\">۲۵<span class=\"ner-label\">تاریخ</span></span> <span class=\"token token-ner\">مرداد<span class=\"ner-label\">تاریخ</span></span> <span class=\"token token-ner\">۱۳۹۷<span class=\"ner-label\">تاریخ</span></span> <span class=\"token\">تقدیم</span> <span class=\"token\">مدیران</span> <span class=\"token\">استان</span> <span class=\"token\">شده</span> <span class=\"token\">است</span> <span class=\"token\">.</span></p>"
            ],
            "text/plain": [
              "<IPython.core.display.HTML object>"
            ]
          },
          "metadata": {
            "tags": []
          }
        },
        {
          "output_type": "display_data",
          "data": {
            "text/html": [
              "<p class=\"ner-box\"><span class=\"token\">به</span> <span class=\"token\">گزارش</span> <span class=\"token token-ner\">خبرگزاری<span class=\"ner-label\">سازمنان</span></span> <span class=\"token token-ner\">تسنیم<span class=\"ner-label\">سازمان</span></span> <span class=\"token\">از</span> <span class=\"token token-ner\">کرج<span class=\"ner-label\">موقعیت</span></span> <span class=\"token\">،</span> <span class=\"token token-ner\">حسین<span class=\"ner-label\">شخص</span></span> <span class=\"token token-ner\">محمدی<span class=\"ner-label\">شخص</span></span> <span class=\"token\">در</span> <span class=\"token\">نشست</span> <span class=\"token\">خبری</span> <span class=\"token\">مشترک</span> <span class=\"token\">با</span> <span class=\"token\">معاون</span> <span class=\"token\">خدمات</span> <span class=\"token\">شهری</span> <span class=\"token token-ner\">شهرداری<span class=\"ner-label\">سازمنان</span></span> <span class=\"token token-ner\">کرج<span class=\"ner-label\">سازمان</span></span> <span class=\"token\">که</span> <span class=\"token\">با</span> <span class=\"token\">حضور</span> <span class=\"token\">مدیرعامل</span> <span class=\"token token-ner\">سازمانهای<span class=\"ner-label\">سازمنان</span></span> <span class=\"token token-ner\">پسماند<span class=\"ner-label\">سازمان</span></span> <span class=\"token token-ner\">،<span class=\"ner-label\">سازمان</span></span> <span class=\"token token-ner\">پارکها<span class=\"ner-label\">سازمان</span></span> <span class=\"token token-ner\">و<span class=\"ner-label\">سازمان</span></span> <span class=\"token token-ner\">فضای<span class=\"ner-label\">سازمان</span></span> <span class=\"token token-ner\">سبز<span class=\"ner-label\">سازمان</span></span> <span class=\"token\">و</span> <span class=\"token\">نماینده</span> <span class=\"token token-ner\">منابع<span class=\"ner-label\">سازمنان</span></span> <span class=\"token token-ner\">طبیعی<span class=\"ner-label\">سازمان</span></span> <span class=\"token\">در</span> <span class=\"token token-ner\">سالن<span class=\"ner-label\">موقعیت</span></span> <span class=\"token token-ner\">کنفرانس<span class=\"ner-label\">موقعیت</span></span> <span class=\"token token-ner\">شهرداری<span class=\"ner-label\">موقعیت</span></span> <span class=\"token token-ner\">کرج<span class=\"ner-label\">موقعیت</span></span> <span class=\"token\">برگزار</span> <span class=\"token\">شد</span> <span class=\"token\">،</span> <span class=\"token\">اظهار</span> <span class=\"token\">داشت</span> <span class=\"token\">:</span> <span class=\"token\">۸۰</span> <span class=\"token\">٪</span> <span class=\"token\">جمعیت</span> <span class=\"token token-ner\">استان<span class=\"ner-label\">موقعیت</span></span> <span class=\"token token-ner\">البرز<span class=\"ner-label\">موقعیت</span></span> <span class=\"token\">در</span> <span class=\"token token-ner\">کلانشهر<span class=\"ner-label\">موقعیت</span></span> <span class=\"token token-ner\">کرج<span class=\"ner-label\">موقعیت</span></span> <span class=\"token\">زندگی</span> <span class=\"token\">میکنند</span> <span class=\"token\">.</span></p>"
            ],
            "text/plain": [
              "<IPython.core.display.HTML object>"
            ]
          },
          "metadata": {
            "tags": []
          }
        },
        {
          "output_type": "display_data",
          "data": {
            "text/html": [
              "<p class=\"ner-box\"><span class=\"token\">وی</span> <span class=\"token\">افزود</span> <span class=\"token\">:</span> <span class=\"token\">با</span> <span class=\"token\">همکاریهای</span> <span class=\"token\">مشترک</span> <span class=\"token\">بین</span> <span class=\"token token-ner\">اداره<span class=\"ner-label\">سازمنان</span></span> <span class=\"token token-ner\">کل<span class=\"ner-label\">سازمان</span></span> <span class=\"token token-ner\">محیط<span class=\"ner-label\">سازمان</span></span> <span class=\"token token-ner\">زیست<span class=\"ner-label\">سازمان</span></span> <span class=\"token\">و</span> <span class=\"token token-ner\">شهرداری<span class=\"ner-label\">سازمنان</span></span> <span class=\"token token-ner\">کرج<span class=\"ner-label\">سازمان</span></span> <span class=\"token\">برنامههای</span> <span class=\"token\">مشترکی</span> <span class=\"token\">برای</span> <span class=\"token\">حفاظت</span> <span class=\"token\">از</span> <span class=\"token\">محیط</span> <span class=\"token\">زیست</span> <span class=\"token\">در</span> <span class=\"token token-ner\">شهر<span class=\"ner-label\">موقعیت</span></span> <span class=\"token token-ner\">کرج<span class=\"ner-label\">موقعیت</span></span> <span class=\"token\">در</span> <span class=\"token\">دستور</span> <span class=\"token\">کار</span> <span class=\"token\">قرار</span> <span class=\"token\">گرفته</span> <span class=\"token\">که</span> <span class=\"token\">این</span> <span class=\"token\">اقدامات</span> <span class=\"token\">اثار</span> <span class=\"token\">مثبتی</span> <span class=\"token\">داشته</span> <span class=\"token\">و</span> <span class=\"token\">تاکنون</span> <span class=\"token\">نزدیک</span> <span class=\"token\">به</span> <span class=\"token\">۱۰۰</span> <span class=\"token token-ner\">میلیارد<span class=\"ner-label\">پول</span></span> <span class=\"token\">هزینه</span> <span class=\"token\">جهت</span> <span class=\"token\">خریداری</span> <span class=\"token\">اکس</span> <span class=\"token\">-</span> <span class=\"token\">ریس</span> <span class=\"token\">صورت</span> <span class=\"token\">گرفته</span> <span class=\"token\">است</span> <span class=\"token\">.</span></p>"
            ],
            "text/plain": [
              "<IPython.core.display.HTML object>"
            ]
          },
          "metadata": {
            "tags": []
          }
        }
      ]
    },
    {
      "cell_type": "markdown",
      "metadata": {
        "id": "83zSbY4kINkP"
      },
      "source": [
        "# Persian ParsBERT NER"
      ]
    },
    {
      "cell_type": "code",
      "metadata": {
        "colab": {
          "base_uri": "https://localhost:8080/",
          "height": 787,
          "referenced_widgets": [
            "ae616fe0b5d14ae980f0362fd6f87759",
            "e57a324b3c484c4fafd8077ecfcad32a",
            "5c52df95f69b44f7969449e0ede72ba2",
            "c8d4f117dfaa434096c847ffd7de19e9",
            "f812990ef2654818a28cb33b5e0e7a53",
            "cd11d2ede987485aabe1b4adbee69d91",
            "9996093f4a40499682326acc8352d85f",
            "6e712caaa0f24ad3b6cf95c7c22fca9a",
            "7725e3f79f1a4837a40ea34f4be9a14d",
            "f4ca54b070d04709acfaa70c06118bc2",
            "82a0dce81d1648c9be93bb634878c2db",
            "6f49e0f73657499bb7f86ea5d0ce040b",
            "2c607d7b660b49d98ec43c613fa68fb7",
            "64ef207cf07d481aa03752ec39593110",
            "c1d73003ee0c438a97e320ed22e47382",
            "3ec9ce1e7b3540c0b7d257ef655536da",
            "4257f4e47daa4513998c94c8fcab3f32",
            "89a660a95feb465c9dcb7da1f691a6ad",
            "73f57672abcc4d2f8fc7033f08086956",
            "ec15b9351d664b35a98ce064991b144f",
            "58532116cab6425cadc7293488e4fecd",
            "76627bcf896548b695a5ed2ad2575e2e",
            "e0784621ed134448bb09ab74f9bff1f7",
            "907e94480b6745479e6af4760c046e56",
            "54bf8c9c223e4edd925f1ea8439eea93",
            "7ee5fa72851c4e7888632edcb301d9b7",
            "49ec1e35b1484748b7d63b48c426776f",
            "5a0262982a784409a7e2482c0e15aea4",
            "f92af9189e41450d86ba81635cd9af5f",
            "672f98e5ca084538bc614d29bc564165",
            "acbbd80a1d4542f7b81aa5a5e569fa51",
            "392e5f45c21e47ea8368756263a09ece",
            "513f61155c1e4a3991833502464478ae",
            "44b948ae1260426db4ced45fbcad25a1",
            "e290bd8a14ad403c867c383cec084b33",
            "349c0caa9a974967ab09b8056f7da8d7",
            "58bf3222ce4244809a90e23c7dd0cd2d",
            "77beeeb29e434838abbe9aeb520634ba",
            "eddc8e9d2b5d4a91a5fe6a42aed3e957",
            "773cb74cb6f640ed9d1536877a044fee"
          ]
        },
        "id": "rjwPppJ4IM7b",
        "outputId": "3b544333-91ac-45b0-9129-35600b0ff872"
      },
      "source": [
        "model_name = 'HooshvareLab/bert-base-parsbert-ner-uncased'\n",
        "_ = parsbert_ner(texts, model_name, ner_translate, visualize=True)"
      ],
      "execution_count": null,
      "outputs": [
        {
          "output_type": "display_data",
          "data": {
            "text/html": [
              "<style>\n",
              "    .ner-box {\n",
              "        direction: rtl;\n",
              "        font-size: 18px !important;\n",
              "        line-height: 20px !important;\n",
              "        margin: 0 0 15px;\n",
              "        padding: 10px;\n",
              "        text-align: justify;\n",
              "        color: #343434 !important;\n",
              "    }\n",
              "    .token, .token span {\n",
              "        display: inline-block !important;\n",
              "        padding: 2px;\n",
              "        margin: 2px 0;\n",
              "    }\n",
              "    .token.token-ner {\n",
              "        background-color: #f6cd61;\n",
              "        font-weight: bold;\n",
              "        color: #000;\n",
              "    }\n",
              "    .token.token-ner .ner-label {\n",
              "        color: #9a1f40;\n",
              "        margin: 0px 2px;\n",
              "    }\n",
              "    </style>"
            ],
            "text/plain": [
              "<IPython.core.display.HTML object>"
            ]
          },
          "metadata": {
            "tags": []
          }
        },
        {
          "output_type": "display_data",
          "data": {
            "application/vnd.jupyter.widget-view+json": {
              "model_id": "ae616fe0b5d14ae980f0362fd6f87759",
              "version_major": 2,
              "version_minor": 0
            },
            "text/plain": [
              "HBox(children=(FloatProgress(value=0.0, description='Downloading', max=1357.0, style=ProgressStyle(description…"
            ]
          },
          "metadata": {
            "tags": []
          }
        },
        {
          "output_type": "stream",
          "text": [
            "\n"
          ],
          "name": "stdout"
        },
        {
          "output_type": "display_data",
          "data": {
            "application/vnd.jupyter.widget-view+json": {
              "model_id": "7725e3f79f1a4837a40ea34f4be9a14d",
              "version_major": 2,
              "version_minor": 0
            },
            "text/plain": [
              "HBox(children=(FloatProgress(value=0.0, description='Downloading', max=1215509.0, style=ProgressStyle(descript…"
            ]
          },
          "metadata": {
            "tags": []
          }
        },
        {
          "output_type": "stream",
          "text": [
            "\n"
          ],
          "name": "stdout"
        },
        {
          "output_type": "display_data",
          "data": {
            "application/vnd.jupyter.widget-view+json": {
              "model_id": "4257f4e47daa4513998c94c8fcab3f32",
              "version_major": 2,
              "version_minor": 0
            },
            "text/plain": [
              "HBox(children=(FloatProgress(value=0.0, description='Downloading', max=112.0, style=ProgressStyle(description_…"
            ]
          },
          "metadata": {
            "tags": []
          }
        },
        {
          "output_type": "stream",
          "text": [
            "\n"
          ],
          "name": "stdout"
        },
        {
          "output_type": "display_data",
          "data": {
            "application/vnd.jupyter.widget-view+json": {
              "model_id": "54bf8c9c223e4edd925f1ea8439eea93",
              "version_major": 2,
              "version_minor": 0
            },
            "text/plain": [
              "HBox(children=(FloatProgress(value=0.0, description='Downloading', max=2.0, style=ProgressStyle(description_wi…"
            ]
          },
          "metadata": {
            "tags": []
          }
        },
        {
          "output_type": "stream",
          "text": [
            "\n"
          ],
          "name": "stdout"
        },
        {
          "output_type": "display_data",
          "data": {
            "application/vnd.jupyter.widget-view+json": {
              "model_id": "513f61155c1e4a3991833502464478ae",
              "version_major": 2,
              "version_minor": 0
            },
            "text/plain": [
              "HBox(children=(FloatProgress(value=0.0, description='Downloading', max=651700060.0, style=ProgressStyle(descri…"
            ]
          },
          "metadata": {
            "tags": []
          }
        },
        {
          "output_type": "stream",
          "text": [
            "\n"
          ],
          "name": "stdout"
        },
        {
          "output_type": "stream",
          "text": [
            "Some layers from the model checkpoint at HooshvareLab/bert-base-parsbert-ner-uncased were not used when initializing TFBertForTokenClassification: ['dropout_37']\n",
            "- This IS expected if you are initializing TFBertForTokenClassification from the checkpoint of a model trained on another task or with another architecture (e.g. initializing a BertForSequenceClassification model from a BertForPreTraining model).\n",
            "- This IS NOT expected if you are initializing TFBertForTokenClassification from the checkpoint of a model that you expect to be exactly identical (initializing a BertForSequenceClassification model from a BertForSequenceClassification model).\n",
            "All the layers of TFBertForTokenClassification were initialized from the model checkpoint at HooshvareLab/bert-base-parsbert-ner-uncased.\n",
            "If your task is similar to the task the model of the checkpoint was trained on, you can already use TFBertForTokenClassification for predictions without further training.\n"
          ],
          "name": "stderr"
        },
        {
          "output_type": "display_data",
          "data": {
            "text/html": [
              "<p class=\"ner-box\"><span class=\"token\">مدیرکل</span> <span class=\"token token-ner\">محیط<span class=\"ner-label\">سازمان</span></span> <span class=\"token token-ner\">زیست<span class=\"ner-label\">سازمان</span></span> <span class=\"token token-ner\">استان<span class=\"ner-label\">سازمان</span></span> <span class=\"token token-ner\">البرز<span class=\"ner-label\">سازمان</span></span> <span class=\"token\">با</span> <span class=\"token\">بیان</span> <span class=\"token\">اینکه</span> <span class=\"token\">با</span> <span class=\"token\">بیان</span> <span class=\"token\">اینکه</span> <span class=\"token\">موضوع</span> <span class=\"token\">شیرابه</span> <span class=\"token\">##های</span> <span class=\"token\">زبالههای</span> <span class=\"token\">انتقال</span> <span class=\"token\">یافته</span> <span class=\"token\">در</span> <span class=\"token token-ner\">منطقه<span class=\"ner-label\">موقعیت</span></span> <span class=\"token token-ner\">حلقه<span class=\"ner-label\">موقعیت</span></span> <span class=\"token token-ner\">دره<span class=\"ner-label\">موقعیت</span></span> <span class=\"token\">خطری</span> <span class=\"token\">برای</span> <span class=\"token\">این</span> <span class=\"token\">استان</span> <span class=\"token\">است</span> <span class=\"token\">،</span> <span class=\"token\">گفت</span> <span class=\"token\">:</span> <span class=\"token\">در</span> <span class=\"token\">این</span> <span class=\"token\">مورد</span> <span class=\"token\">گزارشاتی</span> <span class=\"token\">در</span> <span class=\"token token-ner\">۲۵<span class=\"ner-label\">تاریخ</span></span> <span class=\"token token-ner\">مرداد<span class=\"ner-label\">تاریخ</span></span> <span class=\"token token-ner\">۱۳۹۷<span class=\"ner-label\">تاریخ</span></span> <span class=\"token\">تقدیم</span> <span class=\"token\">مدیران</span> <span class=\"token\">استان</span> <span class=\"token\">شده</span> <span class=\"token\">است</span> <span class=\"token\">.</span></p>"
            ],
            "text/plain": [
              "<IPython.core.display.HTML object>"
            ]
          },
          "metadata": {
            "tags": []
          }
        },
        {
          "output_type": "display_data",
          "data": {
            "text/html": [
              "<p class=\"ner-box\"><span class=\"token\">به</span> <span class=\"token\">گزارش</span> <span class=\"token token-ner\">خبرگزاری<span class=\"ner-label\">سازمان</span></span> <span class=\"token token-ner\">تسنیم<span class=\"ner-label\">سازمان</span></span> <span class=\"token\">از</span> <span class=\"token token-ner\">کرج<span class=\"ner-label\">موقعیت</span></span> <span class=\"token\">،</span> <span class=\"token token-ner\">حسین<span class=\"ner-label\">شخص</span></span> <span class=\"token token-ner\">محمدی<span class=\"ner-label\">شخص</span></span> <span class=\"token\">در</span> <span class=\"token\">نشست</span> <span class=\"token\">خبری</span> <span class=\"token\">مشترک</span> <span class=\"token\">با</span> <span class=\"token\">معاون</span> <span class=\"token\">خدمات</span> <span class=\"token\">شهری</span> <span class=\"token token-ner\">شهرداری<span class=\"ner-label\">سازمان</span></span> <span class=\"token token-ner\">کرج<span class=\"ner-label\">سازمان</span></span> <span class=\"token\">که</span> <span class=\"token\">با</span> <span class=\"token\">حضور</span> <span class=\"token\">مدیرعامل</span> <span class=\"token token-ner\">سازمانهای<span class=\"ner-label\">سازمان</span></span> <span class=\"token token-ner\">پسماند<span class=\"ner-label\">سازمان</span></span> <span class=\"token token-ner\">،<span class=\"ner-label\">سازمان</span></span> <span class=\"token token-ner\">پارکها<span class=\"ner-label\">سازمان</span></span> <span class=\"token token-ner\">و<span class=\"ner-label\">سازمان</span></span> <span class=\"token token-ner\">فضای<span class=\"ner-label\">سازمان</span></span> <span class=\"token token-ner\">سبز<span class=\"ner-label\">سازمان</span></span> <span class=\"token\">و</span> <span class=\"token\">نماینده</span> <span class=\"token token-ner\">منابع<span class=\"ner-label\">سازمان</span></span> <span class=\"token token-ner\">طبیعی<span class=\"ner-label\">سازمان</span></span> <span class=\"token\">در</span> <span class=\"token token-ner\">سالن<span class=\"ner-label\">موقعیت</span></span> <span class=\"token token-ner\">کنفرانس<span class=\"ner-label\">موقعیت</span></span> <span class=\"token token-ner\">شهرداری<span class=\"ner-label\">موقعیت</span></span> <span class=\"token token-ner\">کرج<span class=\"ner-label\">موقعیت</span></span> <span class=\"token\">برگزار</span> <span class=\"token\">شد</span> <span class=\"token\">،</span> <span class=\"token\">اظهار</span> <span class=\"token\">داشت</span> <span class=\"token\">:</span> <span class=\"token token-ner\">۸۰<span class=\"ner-label\">درصد</span></span> <span class=\"token token-ner\">٪<span class=\"ner-label\">درصد</span></span> <span class=\"token\">جمعیت</span> <span class=\"token token-ner\">استان<span class=\"ner-label\">موقعیت</span></span> <span class=\"token token-ner\">البرز<span class=\"ner-label\">موقعیت</span></span> <span class=\"token\">در</span> <span class=\"token\">کلانشهر</span> <span class=\"token token-ner\">کرج<span class=\"ner-label\">موقعیت</span></span> <span class=\"token\">زندگی</span> <span class=\"token\">میکنند</span> <span class=\"token\">.</span></p>"
            ],
            "text/plain": [
              "<IPython.core.display.HTML object>"
            ]
          },
          "metadata": {
            "tags": []
          }
        },
        {
          "output_type": "display_data",
          "data": {
            "text/html": [
              "<p class=\"ner-box\"><span class=\"token\">وی</span> <span class=\"token\">افزود</span> <span class=\"token\">:</span> <span class=\"token\">با</span> <span class=\"token\">همکاریهای</span> <span class=\"token\">مشترک</span> <span class=\"token\">بین</span> <span class=\"token token-ner\">اداره<span class=\"ner-label\">سازمان</span></span> <span class=\"token token-ner\">کل<span class=\"ner-label\">سازمان</span></span> <span class=\"token token-ner\">محیط<span class=\"ner-label\">سازمان</span></span> <span class=\"token token-ner\">زیست<span class=\"ner-label\">سازمان</span></span> <span class=\"token\">و</span> <span class=\"token token-ner\">شهرداری<span class=\"ner-label\">سازمان</span></span> <span class=\"token token-ner\">کرج<span class=\"ner-label\">سازمان</span></span> <span class=\"token\">برنامههای</span> <span class=\"token\">مشترکی</span> <span class=\"token\">برای</span> <span class=\"token\">حفاظت</span> <span class=\"token\">از</span> <span class=\"token\">محیط</span> <span class=\"token\">زیست</span> <span class=\"token\">در</span> <span class=\"token token-ner\">شهر<span class=\"ner-label\">موقعیت</span></span> <span class=\"token token-ner\">کرج<span class=\"ner-label\">موقعیت</span></span> <span class=\"token\">در</span> <span class=\"token\">دستور</span> <span class=\"token\">کار</span> <span class=\"token\">قرار</span> <span class=\"token\">گرفته</span> <span class=\"token\">که</span> <span class=\"token\">این</span> <span class=\"token\">اقدامات</span> <span class=\"token\">اثار</span> <span class=\"token\">مثبتی</span> <span class=\"token\">داشته</span> <span class=\"token\">و</span> <span class=\"token\">تاکنون</span> <span class=\"token\">نزدیک</span> <span class=\"token\">به</span> <span class=\"token token-ner\">۱۰۰<span class=\"ner-label\">پول</span></span> <span class=\"token token-ner\">میلیارد<span class=\"ner-label\">پول</span></span> <span class=\"token\">هزینه</span> <span class=\"token\">جهت</span> <span class=\"token\">خریداری</span> <span class=\"token\">اکس</span> <span class=\"token\">-</span> <span class=\"token\">ریس</span> <span class=\"token\">صورت</span> <span class=\"token\">گرفته</span> <span class=\"token\">است</span> <span class=\"token\">.</span></p>"
            ],
            "text/plain": [
              "<IPython.core.display.HTML object>"
            ]
          },
          "metadata": {
            "tags": []
          }
        }
      ]
    },
    {
      "cell_type": "code",
      "metadata": {
        "colab": {
          "base_uri": "https://localhost:8080/",
          "height": 532,
          "referenced_widgets": [
            "95ecd13f35a94d44bdbed4dff3fbd467",
            "6eabe16134014d56a8ec4794630314ed",
            "bea242f4c7c048acaca710d238df530b",
            "1ebb947073994a409a46586fdd5da738",
            "d3595b8b92f8456796157de96afbb780",
            "1052c725b44e4cd690a4f321567dbbcd",
            "b9819302a78a4eb68646dd01b801ea8c",
            "cf3d13a1f5f04392878c9c53d424d6de",
            "bde967e80708474d81df577e6b67c3ef",
            "47bb9c82a3ee4c33b2e317874ccd4994",
            "facc95782d4a44feb25d5260be2cf782"
          ]
        },
        "id": "0MWiqaGIJcHc",
        "outputId": "4a05c624-1fb2-49fc-ca67-d5445b1ff80f"
      },
      "source": [
        "#@title Live Playground { display-mode: \"form\" }\n",
        "\n",
        "submit_wd = widgets.Button(description='Send', disabled=False, button_style='success', tooltip='Submit')\n",
        "text_wd = widgets.Textarea(placeholder='Please enter you text ...', rows=5, layout=Layout(width='90%'))\n",
        "\n",
        "config_wd = widgets.RadioButtons(options=['ARMAN', 'PEYMA', 'ARMAN+PEYMA'], description='Select your model', disabled=False)\n",
        "\n",
        "output_wd = widgets.Output()\n",
        "\n",
        "display(HTML(\"\"\"\n",
        "<h2>Persian NER <small>[ARMAN, PEYMA, ARMAN+PEYMA]</small></h2>\n",
        "<p style=\"padding: 2px 20px; margin: 0 0 20px;\">\n",
        "</p>\n",
        "<br /><br />\n",
        "\"\"\"))\n",
        "\n",
        "display(config_wd)\n",
        "display(text_wd)\n",
        "display(submit_wd)\n",
        "display(output_wd)\n",
        "\n",
        "configs = {\n",
        "    'ARMAN': [\n",
        "        'HooshvareLab/bert-base-parsbert-armanner-uncased',\n",
        "        arman_translate\n",
        "    ], \n",
        "    'PEYMA': [\n",
        "        'HooshvareLab/bert-base-parsbert-peymaner-uncased',\n",
        "        peyma_translate\n",
        "    ],\n",
        "    'ARMAN+PEYMA': [\n",
        "        'HooshvareLab/bert-base-parsbert-ner-uncased',\n",
        "        ner_translate\n",
        "    ]\n",
        "}\n",
        "\n",
        "def submit_text(sender):\n",
        "    with output_wd:\n",
        "        clear_output(wait=True)\n",
        "        text = text_wd.value\n",
        "        config = configs[config_wd.value]\n",
        "        print('Predicting .... [please wait!]')\n",
        "        _ = parsbert_ner([text], config[0], config[1], visualize=True)\n",
        "\n",
        "\n",
        "submit_wd.on_click(submit_text)"
      ],
      "execution_count": null,
      "outputs": [
        {
          "output_type": "display_data",
          "data": {
            "text/html": [
              "\n",
              "<h2>Persian NER <small>[ARMAN, PEYMA, ARMAN+PEYMA]</small></h2>\n",
              "<p style=\"padding: 2px 20px; margin: 0 0 20px;\">\n",
              "</p>\n",
              "<br /><br />\n"
            ],
            "text/plain": [
              "<IPython.core.display.HTML object>"
            ]
          },
          "metadata": {
            "tags": []
          }
        },
        {
          "output_type": "display_data",
          "data": {
            "application/vnd.jupyter.widget-view+json": {
              "model_id": "95ecd13f35a94d44bdbed4dff3fbd467",
              "version_major": 2,
              "version_minor": 0
            },
            "text/plain": [
              "RadioButtons(description='Select your model', options=('ARMAN', 'PEYMA', 'ARMAN+PEYMA'), value='ARMAN')"
            ]
          },
          "metadata": {
            "tags": []
          }
        },
        {
          "output_type": "display_data",
          "data": {
            "application/vnd.jupyter.widget-view+json": {
              "model_id": "1ebb947073994a409a46586fdd5da738",
              "version_major": 2,
              "version_minor": 0
            },
            "text/plain": [
              "Textarea(value='', layout=Layout(width='90%'), placeholder='Please enter you text ...', rows=5)"
            ]
          },
          "metadata": {
            "tags": []
          }
        },
        {
          "output_type": "display_data",
          "data": {
            "application/vnd.jupyter.widget-view+json": {
              "model_id": "b9819302a78a4eb68646dd01b801ea8c",
              "version_major": 2,
              "version_minor": 0
            },
            "text/plain": [
              "Button(button_style='success', description='Send', style=ButtonStyle(), tooltip='Submit')"
            ]
          },
          "metadata": {
            "tags": []
          }
        },
        {
          "output_type": "display_data",
          "data": {
            "application/vnd.jupyter.widget-view+json": {
              "model_id": "47bb9c82a3ee4c33b2e317874ccd4994",
              "version_major": 2,
              "version_minor": 0
            },
            "text/plain": [
              "Output()"
            ]
          },
          "metadata": {
            "tags": []
          }
        }
      ]
    },
    {
      "cell_type": "code",
      "metadata": {
        "id": "4SnbDx48Ig70"
      },
      "source": [
        ""
      ],
      "execution_count": null,
      "outputs": []
    },
    {
      "cell_type": "code",
      "metadata": {
        "colab": {
          "base_uri": "https://localhost:8080/"
        },
        "id": "PG7PISsLC3Gj",
        "outputId": "ba3f6bc8-af99-471e-82d6-7c5c3e339624"
      },
      "source": [
        "!git init"
      ],
      "execution_count": null,
      "outputs": [
        {
          "output_type": "stream",
          "text": [
            "Initialized empty Git repository in /content/.git/\n"
          ],
          "name": "stdout"
        }
      ]
    },
    {
      "cell_type": "code",
      "metadata": {
        "id": "0gF3OghhC-Gm"
      },
      "source": [
        "!git config --global user.email \"gheshlaghitara@gmail.com\"\r\n",
        "!git config --global user.name \"GhTara\"\r\n",
        "!git add -A"
      ],
      "execution_count": null,
      "outputs": []
    },
    {
      "cell_type": "code",
      "metadata": {
        "colab": {
          "base_uri": "https://localhost:8080/"
        },
        "id": "eSLRTfZkDq94",
        "outputId": "efa7a1f6-79e6-4ef7-834e-eebe2919ce05"
      },
      "source": [
        "!git commit -m “first commit”"
      ],
      "execution_count": null,
      "outputs": [
        {
          "output_type": "stream",
          "text": [
            "error: pathspec 'commit”' did not match any file(s) known to git.\n"
          ],
          "name": "stdout"
        }
      ]
    }
  ]
}