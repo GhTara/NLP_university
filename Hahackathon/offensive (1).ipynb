{
  "nbformat": 4,
  "nbformat_minor": 0,
  "metadata": {
    "colab": {
      "name": "offensive.ipynb",
      "provenance": [],
      "collapsed_sections": [],
      "toc_visible": true
    },
    "kernelspec": {
      "name": "python3",
      "display_name": "Python 3"
    },
    "accelerator": "GPU"
  },
  "cells": [
    {
      "cell_type": "code",
      "metadata": {
        "colab": {
          "base_uri": "https://localhost:8080/"
        },
        "id": "MuNHuq4k7gPi",
        "outputId": "afc46503-79dd-4909-d8e3-4ec5ae518278"
      },
      "source": [
        "from google.colab import drive\n",
        "drive.mount('/content/drive')\n",
        "%cd /content/drive/MyDrive/NLP_Project_Humor_Offensive"
      ],
      "execution_count": null,
      "outputs": [
        {
          "output_type": "stream",
          "text": [
            "Mounted at /content/drive\n",
            "/content/drive/MyDrive/NLP_Project_Humor_Offensive\n"
          ],
          "name": "stdout"
        }
      ]
    },
    {
      "cell_type": "code",
      "metadata": {
        "id": "hY5mtqlW_DC0"
      },
      "source": [
        "def delete_noise(sentence):\n",
        "  noises = ['\\'s','\\'m','\\'ve','n\\'t']\n",
        "  for noise in noises:\n",
        "    sentence = sentence.replace(noise,'')\n",
        "    \n",
        "  return re.sub(r'[^a-zA-Z]', ' ', sentence)"
      ],
      "execution_count": null,
      "outputs": []
    },
    {
      "cell_type": "code",
      "metadata": {
        "id": "9X_mbyBXfJpR"
      },
      "source": [
        "import pandas as pd\n",
        "# Load train data\n",
        "train_data = pd.read_csv('/content/drive/MyDrive/NLP_Project_Humor_Offensive/data/train/train.csv')\n",
        "# ./train.csv\n",
        "# /content/drive/MyDrive/NLP_Project_Humor_Offensive/data/train/train.csv"
      ],
      "execution_count": null,
      "outputs": []
    },
    {
      "cell_type": "code",
      "metadata": {
        "id": "qlswAd10ffko",
        "colab": {
          "base_uri": "https://localhost:8080/"
        },
        "outputId": "24547b0f-f923-4ec8-a547-c68d9807ad33"
      },
      "source": [
        "sentences = train_data['text'].values\n",
        "labels = train_data['is_humor'].values\n",
        "offenseve_label = train_data['offense_rating'].values\n",
        "humor_rating = train_data['humor_rating'].values\n",
        "\n",
        "sentences"
      ],
      "execution_count": null,
      "outputs": [
        {
          "output_type": "execute_result",
          "data": {
            "text/plain": [
              "array([\"TENNESSEE: We're the best state. Nobody even comes close. *Elevennessee walks into the room* TENNESSEE: Oh shit...\",\n",
              "       'A man inserted an advertisement in the classifieds \"Wife Wanted\". The next day, he received 1000 of replies, all reading: \"You can have mine.\" Free delivery also available at your door step',\n",
              "       'How many men does it take to open a can of beer? None. It should be open by the time she brings it to the couch.',\n",
              "       ...,\n",
              "       'Today, we Americans celebrate our independence from Britain while planning our escape to Canada.',\n",
              "       'How to keep the flies off the bride at an Italian wedding Keep a bucket of shit next to her',\n",
              "       '\"Each ounce of sunflower seeds gives you 37% of your daily need for vitamin E\" vitamin health'],\n",
              "      dtype=object)"
            ]
          },
          "metadata": {
            "tags": []
          },
          "execution_count": 4
        }
      ]
    },
    {
      "cell_type": "code",
      "metadata": {
        "colab": {
          "base_uri": "https://localhost:8080/"
        },
        "id": "B7EJ2DhhS-Zt",
        "outputId": "ff8b27a4-9d17-40f1-d2ae-18dfdfa38a3f"
      },
      "source": [
        "!pip install polyglot\n",
        "!pip install -U git+https://github.com/aboSamoor/polyglot.git@master\n",
        "!polyglot download LANG:en\n",
        "!polyglot download embeddings2.en ner2.en"
      ],
      "execution_count": null,
      "outputs": [
        {
          "output_type": "stream",
          "text": [
            "Collecting polyglot\n",
            "\u001b[?25l  Downloading https://files.pythonhosted.org/packages/e7/98/e24e2489114c5112b083714277204d92d372f5bbe00d5507acf40370edb9/polyglot-16.7.4.tar.gz (126kB)\n",
            "\r\u001b[K     |██▋                             | 10kB 22.3MB/s eta 0:00:01\r\u001b[K     |█████▏                          | 20kB 29.3MB/s eta 0:00:01\r\u001b[K     |███████▉                        | 30kB 21.3MB/s eta 0:00:01\r\u001b[K     |██████████▍                     | 40kB 19.6MB/s eta 0:00:01\r\u001b[K     |█████████████                   | 51kB 19.8MB/s eta 0:00:01\r\u001b[K     |███████████████▋                | 61kB 15.5MB/s eta 0:00:01\r\u001b[K     |██████████████████▏             | 71kB 15.1MB/s eta 0:00:01\r\u001b[K     |████████████████████▊           | 81kB 14.6MB/s eta 0:00:01\r\u001b[K     |███████████████████████▍        | 92kB 14.8MB/s eta 0:00:01\r\u001b[K     |██████████████████████████      | 102kB 15.3MB/s eta 0:00:01\r\u001b[K     |████████████████████████████▌   | 112kB 15.3MB/s eta 0:00:01\r\u001b[K     |███████████████████████████████▏| 122kB 15.3MB/s eta 0:00:01\r\u001b[K     |████████████████████████████████| 133kB 15.3MB/s \n",
            "\u001b[?25hBuilding wheels for collected packages: polyglot\n",
            "  Building wheel for polyglot (setup.py) ... \u001b[?25l\u001b[?25hdone\n",
            "  Created wheel for polyglot: filename=polyglot-16.7.4-py2.py3-none-any.whl size=52557 sha256=54b3a5dd1c8acd81e1ba1ab5fd0318614b7a4f1e37caf345eee745326529b969\n",
            "  Stored in directory: /root/.cache/pip/wheels/5e/91/ef/f1369fdc1203b0a9347d4b24f149b83a305f39ab047986d9da\n",
            "Successfully built polyglot\n",
            "Installing collected packages: polyglot\n",
            "Successfully installed polyglot-16.7.4\n",
            "Collecting git+https://github.com/aboSamoor/polyglot.git@master\n",
            "  Cloning https://github.com/aboSamoor/polyglot.git (to revision master) to /tmp/pip-req-build-7s2y40gv\n",
            "  Running command git clone -q https://github.com/aboSamoor/polyglot.git /tmp/pip-req-build-7s2y40gv\n",
            "Collecting futures>=2.1.6\n",
            "  Downloading https://files.pythonhosted.org/packages/05/80/f41cca0ea1ff69bce7e7a7d76182b47bb4e1a494380a532af3e8ee70b9ec/futures-3.1.1-py3-none-any.whl\n",
            "Requirement already satisfied, skipping upgrade: numpy>=1.6.1 in /usr/local/lib/python3.6/dist-packages (from polyglot==16.7.4) (1.19.5)\n",
            "Requirement already satisfied, skipping upgrade: six>=1.7.3 in /usr/local/lib/python3.6/dist-packages (from polyglot==16.7.4) (1.15.0)\n",
            "Collecting pycld2>=0.3\n",
            "\u001b[?25l  Downloading https://files.pythonhosted.org/packages/21/d2/8b0def84a53c88d0eb27c67b05269fbd16ad68df8c78849e7b5d65e6aec3/pycld2-0.41.tar.gz (41.4MB)\n",
            "\u001b[K     |████████████████████████████████| 41.4MB 76kB/s \n",
            "\u001b[?25hCollecting PyICU>=1.8\n",
            "\u001b[?25l  Downloading https://files.pythonhosted.org/packages/31/46/fa08c8efae2951e67681ec24319f789fc1a74e2096dd74373e34c79319de/PyICU-2.6.tar.gz (233kB)\n",
            "\u001b[K     |████████████████████████████████| 235kB 54.3MB/s \n",
            "\u001b[?25hCollecting morfessor>=2.0.2a1\n",
            "  Downloading https://files.pythonhosted.org/packages/39/e6/7afea30be2ee4d29ce9de0fa53acbb033163615f849515c0b1956ad074ee/Morfessor-2.0.6-py3-none-any.whl\n",
            "Requirement already satisfied, skipping upgrade: wheel>=0.23.0 in /usr/local/lib/python3.6/dist-packages (from polyglot==16.7.4) (0.36.2)\n",
            "Building wheels for collected packages: polyglot, pycld2, PyICU\n",
            "  Building wheel for polyglot (setup.py) ... \u001b[?25l\u001b[?25hdone\n",
            "  Created wheel for polyglot: filename=polyglot-16.7.4-py2.py3-none-any.whl size=70643 sha256=0d9de6f8f8def365e2420c1403367d181b2cdc85ba9eaaeb7484960e249e1fae\n",
            "  Stored in directory: /tmp/pip-ephem-wheel-cache-0dvirdss/wheels/42/d9/73/345c7ae8554299ff8b31635d64eb8455fd591385fa734cdbef\n",
            "  Building wheel for pycld2 (setup.py) ... \u001b[?25l\u001b[?25hdone\n",
            "  Created wheel for pycld2: filename=pycld2-0.41-cp36-cp36m-linux_x86_64.whl size=9833507 sha256=7d8149abce3d23ff9068c8007a713bcae2d3235743395221c7e2c7862b081746\n",
            "  Stored in directory: /root/.cache/pip/wheels/c6/8f/e9/08a1a8932a490175bd140206cd86a3dbcfc70498100de11079\n",
            "  Building wheel for PyICU (setup.py) ... \u001b[?25l\u001b[?25hdone\n",
            "  Created wheel for PyICU: filename=PyICU-2.6-cp36-cp36m-linux_x86_64.whl size=1288085 sha256=31888e5760c8b4c1fcf3ba2bf3bdba4c7750a01a7c48a46533fcf9f8f83a46a4\n",
            "  Stored in directory: /root/.cache/pip/wheels/31/21/2f/1c91831e8a93537ab21f6b4b935781b681104635fdb0315791\n",
            "Successfully built polyglot pycld2 PyICU\n",
            "Installing collected packages: futures, pycld2, PyICU, morfessor, polyglot\n",
            "  Found existing installation: polyglot 16.7.4\n",
            "    Uninstalling polyglot-16.7.4:\n",
            "      Successfully uninstalled polyglot-16.7.4\n",
            "Successfully installed PyICU-2.6 futures-3.1.1 morfessor-2.0.6 polyglot-16.7.4 pycld2-0.41\n",
            "[polyglot_data] Downloading collection 'LANG:en'\n",
            "[polyglot_data]    | \n",
            "[polyglot_data]    | Downloading package sgns2.en to\n",
            "[polyglot_data]    |     /root/polyglot_data...\n",
            "[polyglot_data]    | Downloading package unipos.en to\n",
            "[polyglot_data]    |     /root/polyglot_data...\n",
            "[polyglot_data]    | Downloading package ner2.en to\n",
            "[polyglot_data]    |     /root/polyglot_data...\n",
            "[polyglot_data]    | Downloading package counts2.en to\n",
            "[polyglot_data]    |     /root/polyglot_data...\n",
            "[polyglot_data]    | Downloading package embeddings2.en to\n",
            "[polyglot_data]    |     /root/polyglot_data...\n",
            "[polyglot_data]    | Downloading package uniemb.en to\n",
            "[polyglot_data]    |     /root/polyglot_data...\n",
            "[polyglot_data]    | Downloading package pos2.en to\n",
            "[polyglot_data]    |     /root/polyglot_data...\n",
            "[polyglot_data]    | Downloading package sentiment2.en to\n",
            "[polyglot_data]    |     /root/polyglot_data...\n",
            "[polyglot_data]    | Downloading package tsne2.en to\n",
            "[polyglot_data]    |     /root/polyglot_data...\n",
            "[polyglot_data]    | Downloading package morph2.en to\n",
            "[polyglot_data]    |     /root/polyglot_data...\n",
            "[polyglot_data]    | \n",
            "[polyglot_data]  Done downloading collection LANG:en\n",
            "[polyglot_data] Downloading package embeddings2.en to\n",
            "[polyglot_data]     /root/polyglot_data...\n",
            "[polyglot_data]   Package embeddings2.en is already up-to-date!\n",
            "[polyglot_data] Downloading package ner2.en to /root/polyglot_data...\n",
            "[polyglot_data]   Package ner2.en is already up-to-date!\n"
          ],
          "name": "stdout"
        }
      ]
    },
    {
      "cell_type": "code",
      "metadata": {
        "colab": {
          "base_uri": "https://localhost:8080/"
        },
        "id": "HbWj5ijj7kEF",
        "outputId": "d3fde228-275f-4041-ce5d-c9b78d2a1715"
      },
      "source": [
        "from polyglot.downloader import downloader\n",
        "downloader.download(\"embeddings2.en\")\n",
        "downloader.supported_tasks(lang=\"en\")"
      ],
      "execution_count": null,
      "outputs": [
        {
          "output_type": "stream",
          "text": [
            "[polyglot_data] Downloading package embeddings2.en to\n",
            "[polyglot_data]     /root/polyglot_data...\n",
            "[polyglot_data]   Package embeddings2.en is already up-to-date!\n"
          ],
          "name": "stdout"
        },
        {
          "output_type": "execute_result",
          "data": {
            "text/plain": [
              "['sgns2',\n",
              " 'unipos',\n",
              " 'ner2',\n",
              " 'counts2',\n",
              " 'embeddings2',\n",
              " 'uniemb',\n",
              " 'pos2',\n",
              " 'sentiment2',\n",
              " 'tsne2',\n",
              " 'morph2']"
            ]
          },
          "metadata": {
            "tags": []
          },
          "execution_count": 6
        }
      ]
    },
    {
      "cell_type": "code",
      "metadata": {
        "colab": {
          "base_uri": "https://localhost:8080/"
        },
        "id": "r2QU4riM9FiV",
        "outputId": "b93d32d8-9a49-47c8-e791-033f6de8a3ff"
      },
      "source": [
        "!polyglot download embeddings2.en"
      ],
      "execution_count": null,
      "outputs": [
        {
          "output_type": "stream",
          "text": [
            "[polyglot_data] Downloading package embeddings2.en to\n",
            "[polyglot_data]     /root/polyglot_data...\n",
            "[polyglot_data]   Package embeddings2.en is already up-to-date!\n"
          ],
          "name": "stdout"
        }
      ]
    },
    {
      "cell_type": "code",
      "metadata": {
        "id": "0Vdl7-0CfpTd"
      },
      "source": [
        "import string\n",
        "from polyglot.text import Text\n",
        "import re"
      ],
      "execution_count": null,
      "outputs": []
    },
    {
      "cell_type": "code",
      "metadata": {
        "id": "gUaVER4If7V1"
      },
      "source": [
        "# for sent in text.sentences:\n",
        "#   print(sent, \"\\n\")\n",
        "#   for entity in sent.entities:\n",
        "#     print(entity)"
      ],
      "execution_count": null,
      "outputs": []
    },
    {
      "cell_type": "code",
      "metadata": {
        "id": "C9NFYwDDgW7d"
      },
      "source": [
        "all_IOB = []\n",
        "is_IOB = []\n",
        "for sen in sentences:\n",
        "  s = delete_noise(sen)\n",
        "  s = ''.join(x for x in sen if x.isprintable())\n",
        "  s = re.sub(r'[^a-zA-Z ]', '', s)\n",
        "  IOB = []\n",
        "  # sen = ''.join(x for x in s if x.isprintable())\n",
        "  # print(sen)\n",
        "  text = Text(s,hint_language_code='en')\n",
        "  for entities in text.entities:\n",
        "    for e in entities:\n",
        "      IOB.append(e)\n",
        "  is_IOB.append(1 if len(IOB) != 0 else 0)\n",
        "  all_IOB.append(IOB)\n"
      ],
      "execution_count": null,
      "outputs": []
    },
    {
      "cell_type": "code",
      "metadata": {
        "id": "ZQRhPVfywus7"
      },
      "source": [
        "score_offen=[]\n",
        "scor2 = []\n",
        "for i in range(len(is_IOB)):\n",
        "  if is_IOB[i]:\n",
        "    score_offen.append(offenseve_label[i])\n",
        "  else:\n",
        "    scor2.append(offenseve_label[i])"
      ],
      "execution_count": null,
      "outputs": []
    },
    {
      "cell_type": "code",
      "metadata": {
        "colab": {
          "base_uri": "https://localhost:8080/",
          "height": 264
        },
        "id": "rdFFx93wxKc4",
        "outputId": "2a3a8ebe-e6fd-43c1-b04d-57afd6a67bde"
      },
      "source": [
        "import matplotlib.pyplot as plt\n",
        "from numpy import array\n",
        "gn = array(scor2)\n",
        "plt.hist(gn.astype('float'))\n",
        "plt.show()"
      ],
      "execution_count": null,
      "outputs": [
        {
          "output_type": "display_data",
          "data": {
            "image/png": "[encoded data removed]",
            "text/plain": [
              "<Figure size 432x288 with 1 Axes>"
            ]
          },
          "metadata": {
            "tags": [],
            "needs_background": "light"
          }
        }
      ]
    },
    {
      "cell_type": "code",
      "metadata": {
        "colab": {
          "base_uri": "https://localhost:8080/",
          "height": 264
        },
        "id": "MUpImbUKzY0s",
        "outputId": "5f325e6a-f071-4879-9fa0-22067aba2ba7"
      },
      "source": [
        "import matplotlib.pyplot as plt\n",
        "from numpy import array\n",
        "gn = array(score_offen)\n",
        "plt.hist(gn.astype('float'))\n",
        "plt.show()"
      ],
      "execution_count": null,
      "outputs": [
        {
          "output_type": "display_data",
          "data": {
            "image/png": "[encoded data removed]",
            "text/plain": [
              "<Figure size 432x288 with 1 Axes>"
            ]
          },
          "metadata": {
            "tags": [],
            "needs_background": "light"
          }
        }
      ]
    },
    {
      "cell_type": "code",
      "metadata": {
        "colab": {
          "base_uri": "https://localhost:8080/"
        },
        "id": "fTf13A3S0fvj",
        "outputId": "091ec5a4-4d38-4222-8219-b1323f2fbe62"
      },
      "source": [
        "set(labels)"
      ],
      "execution_count": null,
      "outputs": [
        {
          "output_type": "execute_result",
          "data": {
            "text/plain": [
              "{0, 1}"
            ]
          },
          "metadata": {
            "tags": []
          },
          "execution_count": 21
        }
      ]
    },
    {
      "cell_type": "code",
      "metadata": {
        "id": "YAEF2bqF0Di-"
      },
      "source": [
        "score_offen=[]\n",
        "scor2 = []\n",
        "for i in range(len(is_IOB)):\n",
        "  if labels[i] == 1:\n",
        "    score_offen.append(offenseve_label[i])\n",
        "  elif labels[i] == 0:\n",
        "    scor2.append(offenseve_label[i])"
      ],
      "execution_count": null,
      "outputs": []
    },
    {
      "cell_type": "code",
      "metadata": {
        "colab": {
          "base_uri": "https://localhost:8080/"
        },
        "id": "KwvuRrmH0tGQ",
        "outputId": "2e839d60-4228-49be-e95c-5f13adce4a28"
      },
      "source": [
        "len(scor2)"
      ],
      "execution_count": null,
      "outputs": [
        {
          "output_type": "execute_result",
          "data": {
            "text/plain": [
              "3068"
            ]
          },
          "metadata": {
            "tags": []
          },
          "execution_count": 29
        }
      ]
    },
    {
      "cell_type": "code",
      "metadata": {
        "colab": {
          "base_uri": "https://localhost:8080/",
          "height": 267
        },
        "id": "JLH0S_jQ0DjH",
        "outputId": "ca5917f9-c155-4308-f1ec-de38c9490377"
      },
      "source": [
        "import matplotlib.pyplot as plt\n",
        "from numpy import array\n",
        "gn = array(scor2)\n",
        "plt.hist(gn.astype('float'))\n",
        "plt.show()"
      ],
      "execution_count": null,
      "outputs": [
        {
          "output_type": "display_data",
          "data": {
            "image/png": "[encoded data removed]",
            "text/plain": [
              "<Figure size 432x288 with 1 Axes>"
            ]
          },
          "metadata": {
            "tags": [],
            "needs_background": "light"
          }
        }
      ]
    },
    {
      "cell_type": "code",
      "metadata": {
        "colab": {
          "base_uri": "https://localhost:8080/",
          "height": 264
        },
        "id": "mTtrOrFa0DjI",
        "outputId": "992df515-6ec6-4582-d937-0b30a5d51fb6"
      },
      "source": [
        "import matplotlib.pyplot as plt\n",
        "from numpy import array\n",
        "gn = array(score_offen)\n",
        "plt.hist(gn.astype('float'))\n",
        "plt.show()"
      ],
      "execution_count": null,
      "outputs": [
        {
          "output_type": "display_data",
          "data": {
            "image/png": "[encoded data removed]",
            "text/plain": [
              "<Figure size 432x288 with 1 Axes>"
            ]
          },
          "metadata": {
            "tags": [],
            "needs_background": "light"
          }
        }
      ]
    },
    {
      "cell_type": "code",
      "metadata": {
        "colab": {
          "base_uri": "https://localhost:8080/"
        },
        "id": "rHmoLdIVhEky",
        "outputId": "d4a86bcf-183c-4d11-de9f-ebf9617aff82"
      },
      "source": [
        "i = 289\n",
        "text = Text(sentences[i],hint_language_code='en')\n",
        "print(sentences[i])\n",
        "print(all_IOB[i])\n",
        "print(is_IOB[i])\n",
        "print(offenseve_label[i])\n",
        "# all\n",
        "text.entities\n",
        "\n",
        "type(sentences)"
      ],
      "execution_count": null,
      "outputs": [
        {
          "output_type": "stream",
          "text": [
            "Angels and Demons having a drink together??!!! WTF!!! bad idea suck Sandwich\n",
            "['Sandwich']\n",
            "1\n",
            "0.5\n"
          ],
          "name": "stdout"
        },
        {
          "output_type": "execute_result",
          "data": {
            "text/plain": [
              "numpy.ndarray"
            ]
          },
          "metadata": {
            "tags": []
          },
          "execution_count": 11
        }
      ]
    },
    {
      "cell_type": "markdown",
      "metadata": {
        "id": "75QLlQL8QDPi"
      },
      "source": [
        "# **PreProcessing**"
      ]
    },
    {
      "cell_type": "markdown",
      "metadata": {
        "id": "6pKPSJLcHen-"
      },
      "source": [
        "# **TFIdf**"
      ]
    },
    {
      "cell_type": "code",
      "metadata": {
        "colab": {
          "base_uri": "https://localhost:8080/"
        },
        "id": "LQUEsbhJHK57",
        "outputId": "fbbbba74-b6b6-410c-a632-a0826fcb5585"
      },
      "source": [
        "from sklearn.feature_extraction.text import TfidfVectorizer\n",
        "import copy\n",
        "import nltk\n",
        "nltk.download('stopwords')\n",
        "from nltk import PorterStemmer\n",
        "nltk.download('punkt')\n",
        "from nltk.corpus import stopwords\n",
        "from nltk.tokenize import word_tokenize\n",
        "from nltk.stem.lancaster import LancasterStemmer\n",
        "lancaster_stemmer = LancasterStemmer()\n",
        "from nltk.stem import WordNetLemmatizer\n",
        "wordnet_lemmatizer = WordNetLemmatizer()"
      ],
      "execution_count": null,
      "outputs": [
        {
          "output_type": "stream",
          "text": [
            "[nltk_data] Downloading package stopwords to /root/nltk_data...\n",
            "[nltk_data]   Package stopwords is already up-to-date!\n",
            "[nltk_data] Downloading package punkt to /root/nltk_data...\n",
            "[nltk_data]   Package punkt is already up-to-date!\n"
          ],
          "name": "stdout"
        }
      ]
    },
    {
      "cell_type": "code",
      "metadata": {
        "id": "BjWWgS_WfEc3"
      },
      "source": [
        "# for sen in sentences:\n",
        "#   sentencesT=word_tokenize(sen)\n",
        "\n",
        "# type(sentencesT)"
      ],
      "execution_count": null,
      "outputs": []
    },
    {
      "cell_type": "code",
      "metadata": {
        "id": "hJpWZLonHOW4"
      },
      "source": [
        "# clean_data = copy.deepcopy(sentences)\n",
        "# def listToString(s):  \n",
        "    \n",
        "#     # initialize an empty string \n",
        "#     str1 = \"\"  \n",
        "    \n",
        "#     # traverse in the string   \n",
        "#     for ele in s:  \n",
        "#         str1 += ele   \n",
        "    \n",
        "#     # return string   \n",
        "#     return str1  \n",
        "# sentences=listToString(sentences)\n",
        "# # bagOfWordsA = sentences.split(' ')\n",
        "# # uniqueWords = set(bagOfWordsA)"
      ],
      "execution_count": null,
      "outputs": []
    },
    {
      "cell_type": "markdown",
      "metadata": {
        "id": "X-DRSkkyJdMf"
      },
      "source": [
        "## **StopWords**"
      ]
    },
    {
      "cell_type": "code",
      "metadata": {
        "id": "Apx10t_dIItC"
      },
      "source": [
        "\n",
        "\n",
        "def delete_extra_words(massage):\n",
        "    no_punc = [char for char in massage if char not in string.punctuation]\n",
        "    no_punc = ''.join(no_punc)\n",
        "    no_stopwords = [char for char in no_punc.split(\n",
        "    ) if char.lower() not in stopwords.words('english')]\n",
        "    all_alpha = [word for word in no_stopwords if word.isalpha()]\n",
        "    ps = PorterStemmer()\n",
        "    no_similar_word = [ps.stem(word) for word in all_alpha]\n",
        "    acceptable_length_word = [\n",
        "        word for word in no_similar_word if len(word) >= 2]\n",
        "    return acceptable_length_word\n",
        "\n"
      ],
      "execution_count": null,
      "outputs": []
    },
    {
      "cell_type": "code",
      "metadata": {
        "id": "GmJR9hJ1L6YR"
      },
      "source": [
        "# delete_extra_words(sentences)\n",
        "# delete_extra_words(sentencesT)"
      ],
      "execution_count": null,
      "outputs": []
    },
    {
      "cell_type": "code",
      "metadata": {
        "id": "ZR9xZ2YhH_Cr"
      },
      "source": [
        "# uniqueWords = set(sentencesT)\n",
        "# numOfWordsA = dict.fromkeys(uniqueWords, 0)\n",
        "# for word in sentencesT:\n",
        "#     numOfWordsA[word] += 1"
      ],
      "execution_count": null,
      "outputs": []
    },
    {
      "cell_type": "code",
      "metadata": {
        "id": "d82YqbHfId_1"
      },
      "source": [
        "# def computeTF(wordDict, sentencesT):\n",
        "#     tfDict = {}\n",
        "#     bagOfWordsCount = len(sentencesT)\n",
        "#     for word, count in wordDict.items():\n",
        "#         tfDict[word] = count / float(bagOfWordsCount)\n",
        "#     return tfDict\n"
      ],
      "execution_count": null,
      "outputs": []
    },
    {
      "cell_type": "code",
      "metadata": {
        "id": "98wpZOFEhACH"
      },
      "source": [
        "\n",
        "# tfA = computeTF(numOfWordsA, sentencesT)"
      ],
      "execution_count": null,
      "outputs": []
    },
    {
      "cell_type": "code",
      "metadata": {
        "id": "KZPQO-ioIlXd"
      },
      "source": [
        "# def computeIDF(documents):\n",
        "#     import math\n",
        "#     N = len(documents)\n",
        "    \n",
        "#     idfDict = dict.fromkeys(documents[0].keys(), 0)\n",
        "#     for document in documents:\n",
        "#         for word, val in document.items():\n",
        "#             if val > 0:\n",
        "#                 idfDict[word] += 1\n",
        "    \n",
        "#     for word, val in idfDict.items():\n",
        "#         idfDict[word] = math.log(N / float(val))\n",
        "#     return idfDict\n",
        "\n",
        "# idfs = computeIDF([numOfWordsA])"
      ],
      "execution_count": null,
      "outputs": []
    },
    {
      "cell_type": "code",
      "metadata": {
        "id": "P6FMjg5vIxrD"
      },
      "source": [
        "# def computeTFIDF(tfBagOfWords, idfs):\n",
        "#     tfidf = {}\n",
        "#     for word, val in tfBagOfWords.items():\n",
        "#         tfidf[word] = val * idfs[word]\n",
        "#     return tfidf\n",
        "\n",
        "# tfidfA = computeTFIDF(tfA, idfs)\n",
        "# df = pd.DataFrame([tfidfA])\n",
        "\n",
        "# df"
      ],
      "execution_count": null,
      "outputs": []
    },
    {
      "cell_type": "code",
      "metadata": {
        "id": "okf0QYsiI8qV"
      },
      "source": [
        "# vectorizer = TfidfVectorizer()\n",
        "# vectors = vectorizer.fit_transform([sentences])\n",
        "# feature_names = vectorizer.get_feature_names()\n",
        "# dense = vectors.todense()\n",
        "# denselist = dense.tolist()\n",
        "# df = pd.DataFrame(denselist, columns=feature_names)\n",
        "# df"
      ],
      "execution_count": null,
      "outputs": []
    },
    {
      "cell_type": "markdown",
      "metadata": {
        "id": "xp9jpEfhRE8S"
      },
      "source": [
        "## **TFIdf 2**"
      ]
    },
    {
      "cell_type": "code",
      "metadata": {
        "id": "cA099yg0RKKW",
        "colab": {
          "base_uri": "https://localhost:8080/"
        },
        "outputId": "4ac228f4-7b15-41f1-c502-38634fe0e989"
      },
      "source": [
        "from nltk.corpus import stopwords\n",
        "from nltk.tokenize import word_tokenize\n",
        "from nltk.stem.lancaster import LancasterStemmer\n",
        "lancaster_stemmer = LancasterStemmer()\n",
        "from nltk.stem import WordNetLemmatizer\n",
        "wordnet_lemmatizer = WordNetLemmatizer()\n",
        "import re\n",
        "import nltk\n",
        "nltk.download('punkt', 'stopwords')\n",
        "from nltk.corpus import stopwords\n",
        "from nltk.tokenize import word_tokenize\n",
        "from nltk.stem.lancaster import LancasterStemmer\n",
        "lancaster_stemmer = LancasterStemmer()\n",
        "from nltk.stem import WordNetLemmatizer\n",
        "wordnet_lemmatizer = WordNetLemmatizer()\n",
        "import tqdm\n",
        "import pandas as pd\n",
        "import pandas as pd\n",
        "import numpy as np\n",
        "from tqdm import tqdm\n",
        "import copy"
      ],
      "execution_count": null,
      "outputs": [
        {
          "output_type": "stream",
          "text": [
            "[nltk_data] Downloading package punkt to stopwords...\n",
            "[nltk_data]   Package punkt is already up-to-date!\n"
          ],
          "name": "stdout"
        }
      ]
    },
    {
      "cell_type": "code",
      "metadata": {
        "id": "GJWNBjokRW0c"
      },
      "source": [
        "def take_data_to_shower(sent):\n",
        "    noises = ['URL', '@USER', '\\'ve', 'n\\'t', '\\'s', '\\'m']\n",
        "\n",
        "    for noise in noises:\n",
        "        sent = sent.replace(noise, '')\n",
        "\n",
        "    return re.sub(r'[^a-zA-Z]', ' ', sent)\n",
        "\n",
        "\n",
        "def tokenize(tweet):\n",
        "    lower_tweet = tweet.lower()\n",
        "    return word_tokenize(lower_tweet)\n",
        "\n",
        "\n",
        "def remove_stop_words(tokens):\n",
        "    clean_tokens = []\n",
        "    stopWords = set(stopwords.words('english'))\n",
        "    for token in tokens:\n",
        "        if token not in stopWords:\n",
        "            if token.replace(' ', '') != '':\n",
        "                if len(token) > 1:\n",
        "                    clean_tokens.append(token)\n",
        "    return clean_tokens\n",
        "\n",
        "\n",
        "def stem_and_lem(tokens):\n",
        "    clean_tokens = []\n",
        "    for token in tokens:\n",
        "        token = wordnet_lemmatizer.lemmatize(token)\n",
        "        token = lancaster_stemmer.stem(token)\n",
        "        if len(token) > 1:\n",
        "            clean_tokens.append(token)\n",
        "    return clean_tokens"
      ],
      "execution_count": null,
      "outputs": []
    },
    {
      "cell_type": "code",
      "metadata": {
        "colab": {
          "base_uri": "https://localhost:8080/"
        },
        "id": "21iuHvVkymdf",
        "outputId": "954326b5-b4a5-467b-ad74-9abaa0540152"
      },
      "source": [
        "import nltk\n",
        "nltk.download('punkt')\n",
        "nltk.download('stopwords')\n",
        "nltk.download('wordnet')"
      ],
      "execution_count": null,
      "outputs": [
        {
          "output_type": "stream",
          "text": [
            "[nltk_data] Downloading package punkt to /root/nltk_data...\n",
            "[nltk_data]   Package punkt is already up-to-date!\n",
            "[nltk_data] Downloading package stopwords to /root/nltk_data...\n",
            "[nltk_data]   Package stopwords is already up-to-date!\n",
            "[nltk_data] Downloading package wordnet to /root/nltk_data...\n",
            "[nltk_data]   Unzipping corpora/wordnet.zip.\n"
          ],
          "name": "stdout"
        },
        {
          "output_type": "execute_result",
          "data": {
            "text/plain": [
              "True"
            ]
          },
          "metadata": {
            "tags": []
          },
          "execution_count": 27
        }
      ]
    },
    {
      "cell_type": "code",
      "metadata": {
        "id": "iEjzz8moRbSP"
      },
      "source": [
        "\n",
        "# tqdm.pandas(desc=\"Cleaning Data Phase I...\")\n",
        "# clean_tweets = copy.deepcopy(train_data)\n",
        "# clean_tweets['text'] = train_data['text'].apply(take_data_to_shower)\n",
        "\n",
        "# tqdm.pandas(desc=\"Tokenizing Data...\")\n",
        "# clean_tweets['tokens'] = clean_tweets['text'].apply(tokenize)\n",
        "\n",
        "# tqdm.pandas(desc=\"Cleaning Data Phase II...\")\n",
        "# clean_tweets['tokens'] = clean_tweets['tokens'].apply(remove_stop_words)\n",
        "\n",
        "# tqdm.pandas(desc=\"Stemming And Lemmatizing\")\n",
        "# clean_tweets['tokens'] = clean_tweets['tokens'].apply(stem_and_lem)\n",
        "\n",
        "# text_vector = clean_tweets['tokens'].tolist()\n"
      ],
      "execution_count": null,
      "outputs": []
    },
    {
      "cell_type": "code",
      "metadata": {
        "id": "8ifub9pQ3qeL"
      },
      "source": [
        "def convToSen(s):\n",
        "  return ' '.join(s)"
      ],
      "execution_count": null,
      "outputs": []
    },
    {
      "cell_type": "markdown",
      "metadata": {
        "id": "aaKTyTdSzIHn"
      },
      "source": [
        "# embeddings"
      ]
    },
    {
      "cell_type": "code",
      "metadata": {
        "id": "FQBwK0VrYU8x"
      },
      "source": [
        "from sklearn.feature_extraction.text import TfidfVectorizer\n",
        "\n",
        "def tfid(text_vector):\n",
        "    vectorizer = TfidfVectorizer()\n",
        "    untokenized_data =[' '.join(tweet) for tweet in tqdm(text_vector, \"Vectorizing...\")]\n",
        "    vectorizer = vectorizer.fit(untokenized_data)\n",
        "    vectors = vectorizer.transform(untokenized_data).toarray()\n",
        "    return vectors\n",
        "  \n",
        "def get_vectors(vectors, labels, keyword):\n",
        "    if len(vectors) != len(labels):\n",
        "        print(\"Unmatching sizes!\")\n",
        "        return\n",
        "    result = list()\n",
        "    for vector, label in zip(vectors, labels):\n",
        "            result.append(vector)\n",
        "    return result"
      ],
      "execution_count": null,
      "outputs": []
    },
    {
      "cell_type": "code",
      "metadata": {
        "colab": {
          "base_uri": "https://localhost:8080/"
        },
        "id": "hCyLHJKZ4iiW",
        "outputId": "14ad918d-535f-4667-95b4-c80de6248d90"
      },
      "source": [
        "import string\n",
        "\n",
        "import nltk\n",
        "import pandas as pd\n",
        "from nltk.corpus import stopwords\n",
        "from nltk.stem import PorterStemmer\n",
        "from sklearn import metrics, svm\n",
        "from sklearn.feature_extraction.text import CountVectorizer\n",
        "from sklearn.feature_extraction.text import TfidfTransformer\n",
        "from sklearn.metrics import classification_report, confusion_matrix, accuracy_score\n",
        "from sklearn.model_selection import train_test_split\n",
        "from sklearn.naive_bayes import MultinomialNB\n",
        "\n",
        "nltk.download('stopwords')\n"
      ],
      "execution_count": null,
      "outputs": [
        {
          "output_type": "stream",
          "text": [
            "[nltk_data] Downloading package stopwords to /root/nltk_data...\n",
            "[nltk_data]   Package stopwords is already up-to-date!\n"
          ],
          "name": "stdout"
        },
        {
          "output_type": "execute_result",
          "data": {
            "text/plain": [
              "True"
            ]
          },
          "metadata": {
            "tags": []
          },
          "execution_count": 31
        }
      ]
    },
    {
      "cell_type": "code",
      "metadata": {
        "id": "690YAbfm430x"
      },
      "source": [
        "def delete_extra_words(massage):\n",
        "    no_punc = [char for char in massage if char not in string.punctuation]\n",
        "    no_punc = ''.join(no_punc)\n",
        "    no_stopwords = [char for char in no_punc.split(\n",
        "    ) if char.lower() not in stopwords.words('english')]\n",
        "    all_alpha = [word for word in no_stopwords if word.isalpha()]\n",
        "    ps = PorterStemmer()\n",
        "    no_similar_word = [ps.stem(word) for word in all_alpha]\n",
        "    acceptable_length_word = [\n",
        "        word for word in no_similar_word if len(word) >= 2]\n",
        "    return acceptable_length_word"
      ],
      "execution_count": null,
      "outputs": []
    },
    {
      "cell_type": "code",
      "metadata": {
        "colab": {
          "base_uri": "https://localhost:8080/"
        },
        "id": "tXnIJFNy2Ffl",
        "outputId": "94616778-3794-429f-9914-c255fa48fa32"
      },
      "source": [
        "# gain a frequency of each word form each document\n",
        "# each word is feature\n",
        "# messages_bow is a model for it base on our massages\n",
        "messages_bow = CountVectorizer(analyzer=delete_extra_words).fit_transform(train_data['text'])\n",
        "\n",
        "print('Shape of Sparse Matrix: ', messages_bow.shape)\n",
        "print('Amount of non-zero occurences:', messages_bow.nnz)\n",
        "\n",
        "sparsity = (100.0 * messages_bow.nnz / (messages_bow.shape[0] * messages_bow.shape[1]))\n",
        "print('sparsity:{}'.format(sparsity))\n",
        "tfidf_transformer = TfidfTransformer().fit(messages_bow)\n",
        "# each word has wight in data instead of frequency :)\n",
        "messages_tfidf = tfidf_transformer.transform(messages_bow)"
      ],
      "execution_count": null,
      "outputs": [
        {
          "output_type": "stream",
          "text": [
            "Shape of Sparse Matrix:  (8000, 10376)\n",
            "Amount of non-zero occurences: 82223\n",
            "sparsity:0.09905430801850425\n"
          ],
          "name": "stdout"
        }
      ]
    },
    {
      "cell_type": "code",
      "metadata": {
        "colab": {
          "base_uri": "https://localhost:8080/"
        },
        "id": "TcirB79iHgTr",
        "outputId": "6bc63815-7ce7-455e-ba1e-5a3482bb4770"
      },
      "source": [
        "print(messages_tfidf)\n",
        "cc =messages_tfidf.toarray()\n",
        "\n",
        "\n",
        "# print(tfidf_transformer.vocabulary_)"
      ],
      "execution_count": null,
      "outputs": [
        {
          "output_type": "stream",
          "text": [
            "  (0, 9949)\t0.1911635766395896\n",
            "  (0, 9133)\t0.6287677932392679\n",
            "  (0, 8705)\t0.2273566077025346\n",
            "  (0, 8230)\t0.23009779209027728\n",
            "  (0, 7789)\t0.22802375946265982\n",
            "  (0, 6277)\t0.25668709767037984\n",
            "  (0, 3116)\t0.1911635766395896\n",
            "  (0, 2952)\t0.3565269488843123\n",
            "  (0, 1913)\t0.18123809419669382\n",
            "  (0, 1826)\t0.23795375886279388\n",
            "  (0, 967)\t0.19039889498703055\n",
            "  (0, 81)\t0.23709169428507276\n",
            "  (1, 10114)\t0.14168157420624908\n",
            "  (1, 9964)\t0.14940344805701614\n",
            "  (1, 8733)\t0.24116122595402584\n",
            "  (1, 7603)\t0.19950229305822748\n",
            "  (1, 7471)\t0.24656802503352773\n",
            "  (1, 7442)\t0.20511785514590178\n",
            "  (1, 6237)\t0.1999048280404535\n",
            "  (1, 5866)\t0.24656802503352773\n",
            "  (1, 5556)\t0.1623967757221954\n",
            "  (1, 4678)\t0.33857790805593463\n",
            "  (1, 3590)\t0.21232445809734107\n",
            "  (1, 2720)\t0.2085432400055755\n",
            "  (1, 2452)\t0.27330582131000675\n",
            "  :\t:\n",
            "  (7996, 627)\t0.7081987097586726\n",
            "  (7997, 9308)\t0.24307763093972215\n",
            "  (7997, 6930)\t0.3389730270843384\n",
            "  (7997, 4620)\t0.3865613138150907\n",
            "  (7997, 3079)\t0.37076382293239485\n",
            "  (7997, 1574)\t0.3321717134019291\n",
            "  (7997, 1441)\t0.39678231368545874\n",
            "  (7997, 1265)\t0.43808638957823387\n",
            "  (7997, 397)\t0.2818175901899459\n",
            "  (7998, 10022)\t0.31614043726130825\n",
            "  (7998, 8230)\t0.28494120209007173\n",
            "  (7998, 6237)\t0.2606752682654716\n",
            "  (7998, 5005)\t0.4814314431787235\n",
            "  (7998, 4798)\t0.3321239992593764\n",
            "  (7998, 3464)\t0.30979724736209185\n",
            "  (7998, 1313)\t0.40857770882469624\n",
            "  (7998, 1248)\t0.38199407823637793\n",
            "  (7999, 9897)\t0.5730702290347118\n",
            "  (7999, 8902)\t0.3813018757111326\n",
            "  (7999, 8053)\t0.35310116059889896\n",
            "  (7999, 6519)\t0.3813018757111326\n",
            "  (7999, 6176)\t0.21678260616697964\n",
            "  (7999, 4163)\t0.23475228850318763\n",
            "  (7999, 3796)\t0.21957496851205757\n",
            "  (7999, 2301)\t0.3252865506673382\n"
          ],
          "name": "stdout"
        }
      ]
    },
    {
      "cell_type": "code",
      "metadata": {
        "colab": {
          "base_uri": "https://localhost:8080/"
        },
        "id": "yCwvSSNZF7XL",
        "outputId": "87356788-7f98-4159-f9d4-a56d1344c1bb"
      },
      "source": [
        "print(\"Shape of test matrix after BOW : \",messages_bow.shape) "
      ],
      "execution_count": null,
      "outputs": [
        {
          "output_type": "stream",
          "text": [
            "Shape of test matrix after BOW :  (8000, 10376)\n"
          ],
          "name": "stdout"
        }
      ]
    },
    {
      "cell_type": "code",
      "metadata": {
        "colab": {
          "base_uri": "https://localhost:8080/"
        },
        "id": "5DIfptbaJ-3X",
        "outputId": "c57db417-3f4f-4b73-a271-b3180b3fccb0"
      },
      "source": [
        "len(messages_tfidf.toarray()[0])"
      ],
      "execution_count": null,
      "outputs": [
        {
          "output_type": "execute_result",
          "data": {
            "text/plain": [
              "10376"
            ]
          },
          "metadata": {
            "tags": []
          },
          "execution_count": 37
        }
      ]
    },
    {
      "cell_type": "code",
      "metadata": {
        "id": "TF8_xUTl6QOV"
      },
      "source": [
        "def get_vectors(vectors, labels):\n",
        "    if len(vectors) != len(labels):\n",
        "        print(\"Unmatching sizes!\")\n",
        "        return\n",
        "    result = list()\n",
        "    for vector, label in zip(vectors, labels):\n",
        "      # print(vector, label)\n",
        "      result.append(vector)\n",
        "    return result"
      ],
      "execution_count": null,
      "outputs": []
    },
    {
      "cell_type": "code",
      "metadata": {
        "id": "RplhJTrsCeMu"
      },
      "source": [
        "vectors_b = get_vectors(messages_tfidf.toarray(), is_IOB) # Numerical Vectors B"
      ],
      "execution_count": null,
      "outputs": []
    },
    {
      "cell_type": "code",
      "metadata": {
        "colab": {
          "base_uri": "https://localhost:8080/"
        },
        "id": "ynrZL3FNJf7d",
        "outputId": "7d206f15-32b0-41ff-acbb-6cbb904c37db"
      },
      "source": [
        "len(vectors_b[0])"
      ],
      "execution_count": null,
      "outputs": [
        {
          "output_type": "execute_result",
          "data": {
            "text/plain": [
              "10376"
            ]
          },
          "metadata": {
            "tags": []
          },
          "execution_count": 41
        }
      ]
    },
    {
      "cell_type": "code",
      "metadata": {
        "id": "gNE1iMOLJArw"
      },
      "source": [
        "vectors_C = get_vectors(vectors_b, labels)"
      ],
      "execution_count": null,
      "outputs": []
    },
    {
      "cell_type": "code",
      "metadata": {
        "colab": {
          "base_uri": "https://localhost:8080/"
        },
        "id": "MUbQ8-BxI3v2",
        "outputId": "8d6cb0ba-4f21-4bb6-c71e-d5623e9f403c"
      },
      "source": [
        "len(vectors_C[0])"
      ],
      "execution_count": null,
      "outputs": [
        {
          "output_type": "execute_result",
          "data": {
            "text/plain": [
              "10376"
            ]
          },
          "metadata": {
            "tags": []
          },
          "execution_count": 43
        }
      ]
    },
    {
      "cell_type": "code",
      "metadata": {
        "id": "jKWumwtvKLBD"
      },
      "source": [
        "labels_c = train_data['offense_rating'].values.tolist()"
      ],
      "execution_count": null,
      "outputs": []
    },
    {
      "cell_type": "code",
      "metadata": {
        "id": "UPG4yrFhKtTs"
      },
      "source": [
        "# Split Data to train and test\n",
        "train_vectors, test_vectors, train_labels, test_labels = train_test_split(vectors_C, labels_c, test_size=0.20,random_state=0)"
      ],
      "execution_count": null,
      "outputs": []
    },
    {
      "cell_type": "code",
      "metadata": {
        "colab": {
          "base_uri": "https://localhost:8080/"
        },
        "id": "aP5TTsWrNJTO",
        "outputId": "b128f4f6-a156-4245-f722-36d124c8c830"
      },
      "source": [
        "from sklearn.svm import SVR\n",
        "regressor = SVR(kernel='rbf')\n",
        "regressor.fit(train_vectors, train_labels)"
      ],
      "execution_count": null,
      "outputs": [
        {
          "output_type": "execute_result",
          "data": {
            "text/plain": [
              "SVR(C=1.0, cache_size=200, coef0=0.0, degree=3, epsilon=0.1, gamma='scale',\n",
              "    kernel='rbf', max_iter=-1, shrinking=True, tol=0.001, verbose=False)"
            ]
          },
          "metadata": {
            "tags": []
          },
          "execution_count": 46
        }
      ]
    },
    {
      "cell_type": "code",
      "metadata": {
        "colab": {
          "base_uri": "https://localhost:8080/",
          "height": 392
        },
        "id": "jUnWiMjGVDSd",
        "outputId": "cc23714f-3dad-4e35-c0b0-8b6b0f78dbe2"
      },
      "source": [
        "acc = regressor.score(test_vectors, test_labels)\n",
        "svc_pred = regressor.predict(test_vectors)\n"
      ],
      "execution_count": null,
      "outputs": [
        {
          "output_type": "error",
          "ename": "ValueError",
          "evalue": "ignored",
          "traceback": [
            "\u001b[0;31m---------------------------------------------------------------------------\u001b[0m",
            "\u001b[0;31mValueError\u001b[0m                                Traceback (most recent call last)",
            "\u001b[0;32m<ipython-input-48-682ca3614c0c>\u001b[0m in \u001b[0;36m<module>\u001b[0;34m()\u001b[0m\n\u001b[1;32m      1\u001b[0m \u001b[0macc\u001b[0m \u001b[0;34m=\u001b[0m \u001b[0mregressor\u001b[0m\u001b[0;34m.\u001b[0m\u001b[0mscore\u001b[0m\u001b[0;34m(\u001b[0m\u001b[0mtest_vectors\u001b[0m\u001b[0;34m,\u001b[0m \u001b[0mtest_labels\u001b[0m\u001b[0;34m)\u001b[0m\u001b[0;34m\u001b[0m\u001b[0;34m\u001b[0m\u001b[0m\n\u001b[1;32m      2\u001b[0m \u001b[0msvc_pred\u001b[0m \u001b[0;34m=\u001b[0m \u001b[0mregressor\u001b[0m\u001b[0;34m.\u001b[0m\u001b[0mpredict\u001b[0m\u001b[0;34m(\u001b[0m\u001b[0mtest_vectors\u001b[0m\u001b[0;34m)\u001b[0m\u001b[0;34m\u001b[0m\u001b[0;34m\u001b[0m\u001b[0m\n\u001b[0;32m----> 3\u001b[0;31m \u001b[0mrecall\u001b[0m \u001b[0;34m=\u001b[0m \u001b[0mmetrics\u001b[0m\u001b[0;34m.\u001b[0m\u001b[0mrecall_score\u001b[0m\u001b[0;34m(\u001b[0m\u001b[0mtest_labels\u001b[0m\u001b[0;34m,\u001b[0m \u001b[0msvc_pred\u001b[0m\u001b[0;34m)\u001b[0m\u001b[0;34m\u001b[0m\u001b[0;34m\u001b[0m\u001b[0m\n\u001b[0m\u001b[1;32m      4\u001b[0m \u001b[0mprecision\u001b[0m \u001b[0;34m=\u001b[0m \u001b[0mmetrics\u001b[0m\u001b[0;34m.\u001b[0m\u001b[0mprecision_score\u001b[0m\u001b[0;34m(\u001b[0m\u001b[0mtest_labels\u001b[0m\u001b[0;34m,\u001b[0m \u001b[0msvc_pred\u001b[0m\u001b[0;34m)\u001b[0m\u001b[0;34m\u001b[0m\u001b[0;34m\u001b[0m\u001b[0m\n\u001b[1;32m      5\u001b[0m \u001b[0mprint\u001b[0m\u001b[0;34m(\u001b[0m\u001b[0mclassification_report\u001b[0m\u001b[0;34m(\u001b[0m\u001b[0mtest_labels\u001b[0m\u001b[0;34m,\u001b[0m \u001b[0msvc_pred\u001b[0m\u001b[0;34m)\u001b[0m\u001b[0;34m)\u001b[0m\u001b[0;34m\u001b[0m\u001b[0;34m\u001b[0m\u001b[0m\n",
            "\u001b[0;32m/usr/local/lib/python3.6/dist-packages/sklearn/metrics/_classification.py\u001b[0m in \u001b[0;36mrecall_score\u001b[0;34m(y_true, y_pred, labels, pos_label, average, sample_weight, zero_division)\u001b[0m\n\u001b[1;32m   1787\u001b[0m                                                  \u001b[0mwarn_for\u001b[0m\u001b[0;34m=\u001b[0m\u001b[0;34m(\u001b[0m\u001b[0;34m'recall'\u001b[0m\u001b[0;34m,\u001b[0m\u001b[0;34m)\u001b[0m\u001b[0;34m,\u001b[0m\u001b[0;34m\u001b[0m\u001b[0;34m\u001b[0m\u001b[0m\n\u001b[1;32m   1788\u001b[0m                                                  \u001b[0msample_weight\u001b[0m\u001b[0;34m=\u001b[0m\u001b[0msample_weight\u001b[0m\u001b[0;34m,\u001b[0m\u001b[0;34m\u001b[0m\u001b[0;34m\u001b[0m\u001b[0m\n\u001b[0;32m-> 1789\u001b[0;31m                                                  zero_division=zero_division)\n\u001b[0m\u001b[1;32m   1790\u001b[0m     \u001b[0;32mreturn\u001b[0m \u001b[0mr\u001b[0m\u001b[0;34m\u001b[0m\u001b[0;34m\u001b[0m\u001b[0m\n\u001b[1;32m   1791\u001b[0m \u001b[0;34m\u001b[0m\u001b[0m\n",
            "\u001b[0;32m/usr/local/lib/python3.6/dist-packages/sklearn/metrics/_classification.py\u001b[0m in \u001b[0;36mprecision_recall_fscore_support\u001b[0;34m(y_true, y_pred, beta, labels, pos_label, average, warn_for, sample_weight, zero_division)\u001b[0m\n\u001b[1;32m   1482\u001b[0m         \u001b[0;32mraise\u001b[0m \u001b[0mValueError\u001b[0m\u001b[0;34m(\u001b[0m\u001b[0;34m\"beta should be >=0 in the F-beta score\"\u001b[0m\u001b[0;34m)\u001b[0m\u001b[0;34m\u001b[0m\u001b[0;34m\u001b[0m\u001b[0m\n\u001b[1;32m   1483\u001b[0m     labels = _check_set_wise_labels(y_true, y_pred, average, labels,\n\u001b[0;32m-> 1484\u001b[0;31m                                     pos_label)\n\u001b[0m\u001b[1;32m   1485\u001b[0m \u001b[0;34m\u001b[0m\u001b[0m\n\u001b[1;32m   1486\u001b[0m     \u001b[0;31m# Calculate tp_sum, pred_sum, true_sum ###\u001b[0m\u001b[0;34m\u001b[0m\u001b[0;34m\u001b[0m\u001b[0;34m\u001b[0m\u001b[0m\n",
            "\u001b[0;32m/usr/local/lib/python3.6/dist-packages/sklearn/metrics/_classification.py\u001b[0m in \u001b[0;36m_check_set_wise_labels\u001b[0;34m(y_true, y_pred, average, labels, pos_label)\u001b[0m\n\u001b[1;32m   1299\u001b[0m                          str(average_options))\n\u001b[1;32m   1300\u001b[0m \u001b[0;34m\u001b[0m\u001b[0m\n\u001b[0;32m-> 1301\u001b[0;31m     \u001b[0my_type\u001b[0m\u001b[0;34m,\u001b[0m \u001b[0my_true\u001b[0m\u001b[0;34m,\u001b[0m \u001b[0my_pred\u001b[0m \u001b[0;34m=\u001b[0m \u001b[0m_check_targets\u001b[0m\u001b[0;34m(\u001b[0m\u001b[0my_true\u001b[0m\u001b[0;34m,\u001b[0m \u001b[0my_pred\u001b[0m\u001b[0;34m)\u001b[0m\u001b[0;34m\u001b[0m\u001b[0;34m\u001b[0m\u001b[0m\n\u001b[0m\u001b[1;32m   1302\u001b[0m     \u001b[0mpresent_labels\u001b[0m \u001b[0;34m=\u001b[0m \u001b[0munique_labels\u001b[0m\u001b[0;34m(\u001b[0m\u001b[0my_true\u001b[0m\u001b[0;34m,\u001b[0m \u001b[0my_pred\u001b[0m\u001b[0;34m)\u001b[0m\u001b[0;34m\u001b[0m\u001b[0;34m\u001b[0m\u001b[0m\n\u001b[1;32m   1303\u001b[0m     \u001b[0;32mif\u001b[0m \u001b[0maverage\u001b[0m \u001b[0;34m==\u001b[0m \u001b[0;34m'binary'\u001b[0m\u001b[0;34m:\u001b[0m\u001b[0;34m\u001b[0m\u001b[0;34m\u001b[0m\u001b[0m\n",
            "\u001b[0;32m/usr/local/lib/python3.6/dist-packages/sklearn/metrics/_classification.py\u001b[0m in \u001b[0;36m_check_targets\u001b[0;34m(y_true, y_pred)\u001b[0m\n\u001b[1;32m     95\u001b[0m     \u001b[0;31m# No metrics support \"multiclass-multioutput\" format\u001b[0m\u001b[0;34m\u001b[0m\u001b[0;34m\u001b[0m\u001b[0;34m\u001b[0m\u001b[0m\n\u001b[1;32m     96\u001b[0m     \u001b[0;32mif\u001b[0m \u001b[0;34m(\u001b[0m\u001b[0my_type\u001b[0m \u001b[0;32mnot\u001b[0m \u001b[0;32min\u001b[0m \u001b[0;34m[\u001b[0m\u001b[0;34m\"binary\"\u001b[0m\u001b[0;34m,\u001b[0m \u001b[0;34m\"multiclass\"\u001b[0m\u001b[0;34m,\u001b[0m \u001b[0;34m\"multilabel-indicator\"\u001b[0m\u001b[0;34m]\u001b[0m\u001b[0;34m)\u001b[0m\u001b[0;34m:\u001b[0m\u001b[0;34m\u001b[0m\u001b[0;34m\u001b[0m\u001b[0m\n\u001b[0;32m---> 97\u001b[0;31m         \u001b[0;32mraise\u001b[0m \u001b[0mValueError\u001b[0m\u001b[0;34m(\u001b[0m\u001b[0;34m\"{0} is not supported\"\u001b[0m\u001b[0;34m.\u001b[0m\u001b[0mformat\u001b[0m\u001b[0;34m(\u001b[0m\u001b[0my_type\u001b[0m\u001b[0;34m)\u001b[0m\u001b[0;34m)\u001b[0m\u001b[0;34m\u001b[0m\u001b[0;34m\u001b[0m\u001b[0m\n\u001b[0m\u001b[1;32m     98\u001b[0m \u001b[0;34m\u001b[0m\u001b[0m\n\u001b[1;32m     99\u001b[0m     \u001b[0;32mif\u001b[0m \u001b[0my_type\u001b[0m \u001b[0;32min\u001b[0m \u001b[0;34m[\u001b[0m\u001b[0;34m\"binary\"\u001b[0m\u001b[0;34m,\u001b[0m \u001b[0;34m\"multiclass\"\u001b[0m\u001b[0;34m]\u001b[0m\u001b[0;34m:\u001b[0m\u001b[0;34m\u001b[0m\u001b[0;34m\u001b[0m\u001b[0m\n",
            "\u001b[0;31mValueError\u001b[0m: continuous is not supported"
          ]
        }
      ]
    },
    {
      "cell_type": "code",
      "metadata": {
        "id": "WtfoEOxHX7bN"
      },
      "source": [
        "from sklearn.metrics import classification_report, confusion_matrix, accuracy_score, mean_squared_error,r2_score"
      ],
      "execution_count": null,
      "outputs": []
    },
    {
      "cell_type": "code",
      "metadata": {
        "id": "Om18qAXZiZTe"
      },
      "source": [
        "svc_pred = [v*5 for v in svc_pred]\n",
        "svc_pred = [v/5 for v in svc_pred]\n",
        "svc_pred"
      ],
      "execution_count": null,
      "outputs": []
    },
    {
      "cell_type": "code",
      "metadata": {
        "id": "vUZFE8_gkzS4",
        "colab": {
          "base_uri": "https://localhost:8080/"
        },
        "outputId": "5f328342-3e40-4d53-c528-9baa2ae27a99"
      },
      "source": [
        "max(svc_pred)"
      ],
      "execution_count": null,
      "outputs": [
        {
          "output_type": "execute_result",
          "data": {
            "text/plain": [
              "87.1673444640135"
            ]
          },
          "metadata": {
            "tags": []
          },
          "execution_count": 60
        }
      ]
    },
    {
      "cell_type": "code",
      "metadata": {
        "id": "V_qxAacGk1cd",
        "colab": {
          "base_uri": "https://localhost:8080/"
        },
        "outputId": "7003af56-636b-4136-a522-897ebfbff84d"
      },
      "source": [
        "min(svc_pred)"
      ],
      "execution_count": null,
      "outputs": [
        {
          "output_type": "execute_result",
          "data": {
            "text/plain": [
              "-13.149135550392149"
            ]
          },
          "metadata": {
            "tags": []
          },
          "execution_count": 61
        }
      ]
    },
    {
      "cell_type": "code",
      "metadata": {
        "colab": {
          "base_uri": "https://localhost:8080/"
        },
        "id": "9Ns5jjU6YBBX",
        "outputId": "53646242-2151-46f0-efbb-b99365b2d1f3"
      },
      "source": [
        "RMSE = mean_squared_error(test_labels, svc_pred)\n",
        "r2_score(test_labels, svc_pred)\n",
        "print('Root Mean Square Error: ', RMSE)\n"
      ],
      "execution_count": null,
      "outputs": [
        {
          "output_type": "stream",
          "text": [
            "Root Mean Square Error:  0.5704447245079305\n"
          ],
          "name": "stdout"
        }
      ]
    }
  ]
}