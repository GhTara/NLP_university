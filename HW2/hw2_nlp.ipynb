{
  "nbformat": 4,
  "nbformat_minor": 0,
  "metadata": {
    "colab": {
      "name": "hw2_nlp.ipynb",
      "provenance": [],
      "collapsed_sections": []
    },
    "kernelspec": {
      "name": "python3",
      "display_name": "Python 3"
    },
    "accelerator": "GPU"
  },
  "cells": [
    {
      "cell_type": "markdown",
      "metadata": {
        "id": "5oceFvd0B_y5"
      },
      "source": [
        "# Implementation"
      ]
    },
    {
      "cell_type": "markdown",
      "metadata": {
        "id": "XuswRIkLB50h"
      },
      "source": [
        "## Importing libraries\r\n"
      ]
    },
    {
      "cell_type": "code",
      "metadata": {
        "id": "887gvLqJCCjQ"
      },
      "source": [
        "import numpy as np \r\n",
        "import pandas as pd \r\n",
        "\r\n",
        "from sklearn.feature_extraction.text import CountVectorizer\r\n",
        "from keras.preprocessing.text import Tokenizer\r\n",
        "from keras.preprocessing.sequence import pad_sequences\r\n",
        "from keras.models import Sequential\r\n",
        "from keras.layers import Dense, Embedding, LSTM, SpatialDropout1D, Input\r\n",
        "# --------------------------added\r\n",
        "from keras.preprocessing.text import Tokenizer\r\n",
        "from keras.preprocessing.sequence import pad_sequences\r\n",
        "from keras.layers import Dense, LSTM, GRU, SimpleRNN \r\n",
        "from keras.layers import Bidirectional, GlobalMaxPool1D\r\n",
        "from keras.layers import Embedding, Dropout, Activation, Input\r\n",
        "from keras.models import Model\r\n",
        "# ------------------------added end\r\n",
        "from sklearn.model_selection import train_test_split\r\n",
        "from keras.utils.np_utils import to_categorical\r\n",
        "import re\r\n",
        "import gc\r\n",
        "import matplotlib.pyplot as plt\r\n",
        "%matplotlib inline"
      ],
      "execution_count": 3,
      "outputs": []
    },
    {
      "cell_type": "markdown",
      "metadata": {
        "id": "HZ3NN9wkCf3c"
      },
      "source": [
        "# New section"
      ]
    },
    {
      "cell_type": "markdown",
      "metadata": {
        "id": "cOALycyuCgeW"
      },
      "source": [
        "## Mouning Google drive"
      ]
    },
    {
      "cell_type": "code",
      "metadata": {
        "colab": {
          "base_uri": "https://localhost:8080/"
        },
        "id": "Gay4gXGcCs2H",
        "outputId": "b6951bb4-785a-43f4-a687-d2eaedadd244"
      },
      "source": [
        "from google.colab import drive\r\n",
        "drive.mount('/Mydrive')"
      ],
      "execution_count": 55,
      "outputs": [
        {
          "output_type": "stream",
          "text": [
            "Mounted at /Mydrive\n"
          ],
          "name": "stdout"
        }
      ]
    },
    {
      "cell_type": "code",
      "metadata": {
        "colab": {
          "base_uri": "https://localhost:8080/"
        },
        "id": "3LOHftjY8o7f",
        "outputId": "309ed6fe-70d8-48bf-d360-6ab86f5428bd"
      },
      "source": [
        "from google.colab import drive\n",
        "drive.mount('/content/drive')"
      ],
      "execution_count": 53,
      "outputs": [
        {
          "output_type": "stream",
          "text": [
            "Mounted at /content/drive\n"
          ],
          "name": "stdout"
        }
      ]
    },
    {
      "cell_type": "markdown",
      "metadata": {
        "id": "GxieBMSIcAwV"
      },
      "source": [
        "### Read train data file"
      ]
    },
    {
      "cell_type": "code",
      "metadata": {
        "colab": {
          "base_uri": "https://localhost:8080/"
        },
        "id": "dmmCOFR-cYww",
        "outputId": "8f6cdb38-1e89-456d-cd69-bfc897d3715b"
      },
      "source": [
        "%cd /content/drive/MyDrive\r\n",
        "!pwd"
      ],
      "execution_count": 1,
      "outputs": [
        {
          "output_type": "stream",
          "text": [
            "/content/drive/MyDrive\n",
            "/content/drive/MyDrive\n"
          ],
          "name": "stdout"
        }
      ]
    },
    {
      "cell_type": "code",
      "metadata": {
        "colab": {
          "base_uri": "https://localhost:8080/"
        },
        "id": "imOGlkJJcOUH",
        "outputId": "edd55db7-4273-47c1-aa85-a0b64390a530"
      },
      "source": [
        "data = pd.read_csv('DeepNLP_2020/sentipers_sentiment.csv')\r\n",
        "data = data[['text','sentiment']]\r\n",
        "print(data.describe)"
      ],
      "execution_count": 4,
      "outputs": [
        {
          "output_type": "stream",
          "text": [
            "<bound method NDFrame.describe of                                                    text sentiment\n",
            "0     دوستان عزيز من اين دوربين رو خريدم و چندتا نکت...   Neutral\n",
            "1     IXUS نامي هست که در اروپا فروش ميره و خيلي از ...   Neutral\n",
            "2     نام ديگه اين دوربين IXY هست که مخصوص فروش در ژ...   Neutral\n",
            "3                  IXY فقط زبان ژاپني و انگليسي داره  .   Neutral\n",
            "4     درسته منو فارسي نداره ولي حداقل ميتونين مطمئن ...  Positive\n",
            "...                                                 ...       ...\n",
            "8822  اين يکي از بهترين نقاط قوتشه)                 ...  Positive\n",
            "8823  در عين حال خود شما به راحتي ميتونين اونو بازيا...   Neutral\n",
            "8824  -- يک ترابايت فضا بدون نياز به آداپتور        ...  Positive\n",
            "8825           تاکنون نقدی برای اين محصول درج نشده است.   Neutral\n",
            "8826           تاکنون نقدی برای اين محصول درج نشده است.   Neutral\n",
            "\n",
            "[8827 rows x 2 columns]>\n"
          ],
          "name": "stdout"
        }
      ]
    },
    {
      "cell_type": "markdown",
      "metadata": {
        "id": "Rj_peK2IrkLy"
      },
      "source": [
        "### label for train"
      ]
    },
    {
      "cell_type": "code",
      "metadata": {
        "id": "TQaq8Xgqrjj3"
      },
      "source": [
        "list_classes = ['Positive','Neutral', 'Negative']\r\n",
        "list_columns = ['sentiment','text']"
      ],
      "execution_count": 6,
      "outputs": []
    },
    {
      "cell_type": "code",
      "metadata": {
        "id": "8cuC5eHir-q-"
      },
      "source": [
        "def get_label_rep(value):\r\n",
        "    if value=='Positive':\r\n",
        "      # return 1;\r\n",
        "      return [1,0,0]\r\n",
        "    if value=='Neutral':\r\n",
        "      # return 0\r\n",
        "      return [0,1,0] \r\n",
        "    if value=='Negative':\r\n",
        "      # return 2\r\n",
        "      return [0,0,1]"
      ],
      "execution_count": 7,
      "outputs": []
    },
    {
      "cell_type": "code",
      "metadata": {
        "colab": {
          "base_uri": "https://localhost:8080/"
        },
        "id": "oPMn_d1Bs94X",
        "outputId": "e9b17c0e-c5a2-4379-f4b8-c1243cdeb451"
      },
      "source": [
        "\r\n",
        "y_t = data['sentiment'].apply(get_label_rep)\r\n",
        "data['Positive'] = [a[0] for a in y_t]\r\n",
        "data['Neutral'] = [a[1] for a in y_t]\r\n",
        "data['Negative'] = [a[2] for a in y_t]\r\n",
        "y = data[list_classes].values\r\n",
        "# # y = [get_label_rep(label) for label in data['sentiment']]\r\n",
        "# y = data['sentiment']\r\n",
        "# from sklearn.preprocessing import LabelEncoder\r\n",
        "# Le = LabelEncoder()\r\n",
        "# y = Le.fit_transform(data['sentiment'])\r\n",
        "# print(data.describe)\r\n",
        "print(y[1:50])"
      ],
      "execution_count": 9,
      "outputs": [
        {
          "output_type": "stream",
          "text": [
            "[[0 1 0]\n",
            " [0 1 0]\n",
            " [0 1 0]\n",
            " [1 0 0]\n",
            " [0 1 0]\n",
            " [0 1 0]\n",
            " [1 0 0]\n",
            " [1 0 0]\n",
            " [0 1 0]\n",
            " [1 0 0]\n",
            " [0 0 1]\n",
            " [1 0 0]\n",
            " [1 0 0]\n",
            " [1 0 0]\n",
            " [1 0 0]\n",
            " [0 0 1]\n",
            " [0 0 1]\n",
            " [1 0 0]\n",
            " [1 0 0]\n",
            " [1 0 0]\n",
            " [1 0 0]\n",
            " [0 1 0]\n",
            " [1 0 0]\n",
            " [1 0 0]\n",
            " [1 0 0]\n",
            " [0 1 0]\n",
            " [0 1 0]\n",
            " [1 0 0]\n",
            " [1 0 0]\n",
            " [1 0 0]\n",
            " [0 1 0]\n",
            " [1 0 0]\n",
            " [1 0 0]\n",
            " [0 0 1]\n",
            " [1 0 0]\n",
            " [1 0 0]\n",
            " [0 1 0]\n",
            " [0 1 0]\n",
            " [0 1 0]\n",
            " [1 0 0]\n",
            " [1 0 0]\n",
            " [1 0 0]\n",
            " [0 1 0]\n",
            " [0 1 0]\n",
            " [1 0 0]\n",
            " [0 1 0]\n",
            " [1 0 0]\n",
            " [1 0 0]\n",
            " [0 1 0]]\n"
          ],
          "name": "stdout"
        }
      ]
    },
    {
      "cell_type": "code",
      "metadata": {
        "colab": {
          "base_uri": "https://localhost:8080/"
        },
        "id": "DrONXHu2czyV",
        "outputId": "f43f70eb-8935-4865-d0a2-621f281dfeb0"
      },
      "source": [
        "print('Positive:',data[ data['sentiment'] == 'Positive'].size)\r\n",
        "print('Negative:',data[ data['sentiment'] == 'Negative'].size)\r\n",
        "print('Neutral:',data[ data['sentiment'] == 'Neutral'].size)"
      ],
      "execution_count": 10,
      "outputs": [
        {
          "output_type": "stream",
          "text": [
            "Positive: 22205\n",
            "Negative: 4755\n",
            "Neutral: 17175\n"
          ],
          "name": "stdout"
        }
      ]
    },
    {
      "cell_type": "code",
      "metadata": {
        "id": "QCyBR8d8dMBp"
      },
      "source": [
        "max_fatures = 70000\r\n",
        "tokenizer = Tokenizer(num_words=max_fatures, split=' ')\r\n",
        "tokenizer.fit_on_texts(data['text'].values)\r\n",
        "X = tokenizer.texts_to_sequences(data['text'].values)"
      ],
      "execution_count": 31,
      "outputs": []
    },
    {
      "cell_type": "code",
      "metadata": {
        "colab": {
          "base_uri": "https://localhost:8080/"
        },
        "id": "KT_VvyYDd_EZ",
        "outputId": "393c693a-e7f5-425e-d465-250722c7a846"
      },
      "source": [
        "print(X[4:5])\r\n",
        "print(data['text'].values[4:5])"
      ],
      "execution_count": 12,
      "outputs": [
        {
          "output_type": "stream",
          "text": [
            "[[1075, 686, 1076, 89, 36, 806, 1377, 879, 811, 3, 52, 33, 158, 2558, 3810, 236, 158, 2559]]\n",
            "['درسته منو فارسي نداره ولي حداقل ميتونين مطمئن باشين که يه دوربين ساخت ژاپن خريدين نه ساخت چين.']\n"
          ],
          "name": "stdout"
        }
      ]
    },
    {
      "cell_type": "code",
      "metadata": {
        "colab": {
          "base_uri": "https://localhost:8080/",
          "height": 281
        },
        "id": "kqlBilJzerkj",
        "outputId": "595f4df7-295d-413f-f3cf-11bd8bcd6b64"
      },
      "source": [
        "totalNumWords = [len(one_comment) for one_comment in X]\r\n",
        "plt.hist(totalNumWords,bins = np.arange(0,200,10))\r\n",
        "plt.show()\r\n",
        "print(sorted(totalNumWords)[-1])"
      ],
      "execution_count": 32,
      "outputs": [
        {
          "output_type": "display_data",
          "data": {
            "image/png": "[encoded data removed]",
            "text/plain": [
              "<Figure size 432x288 with 1 Axes>"
            ]
          },
          "metadata": {
            "tags": [],
            "needs_background": "light"
          }
        },
        {
          "output_type": "stream",
          "text": [
            "3686\n"
          ],
          "name": "stdout"
        }
      ]
    },
    {
      "cell_type": "code",
      "metadata": {
        "id": "BnQQ7yhOfgpo"
      },
      "source": [
        "maxlen = 130\r\n",
        "X = pad_sequences(X, maxlen=maxlen)"
      ],
      "execution_count": 33,
      "outputs": []
    },
    {
      "cell_type": "markdown",
      "metadata": {
        "id": "Ow07iEjWXWpX"
      },
      "source": [
        "##  load our embeddings model into a dictionary "
      ]
    },
    {
      "cell_type": "code",
      "metadata": {
        "id": "jJ9YdLVigSJ1"
      },
      "source": [
        "def loadEmbeddingMatrix(typeToLoad):\r\n",
        "        #load different embedding file from Kaggle depending on which embedding \r\n",
        "        #matrix we are going to experiment with\r\n",
        "    if(typeToLoad==\"glove\"):\r\n",
        "        EMBEDDING_FILE='DeepNLP_2020/vectors.txt'\r\n",
        "        embed_size = 300\r\n",
        "    elif(typeToLoad==\"word2vec\"):\r\n",
        "        embeddings_index = dict()\r\n",
        "        EMBEDDING_FILE='/Mydrive/My Drive/Colab Notebooks/Database/W2V Skip-Gram/w2v_skip_gram.bin'\r\n",
        "        embed_size = 300\r\n",
        "        #word2vecDict =gensim.models.KeyedVectors.load_word2vec_format(\"/Mydrive/My Drive/Colab Notebooks/Database/W2V Skip-Gram/w2v_skip_gram.bin\", binary=True, unicode_errors='ignore')\r\n",
        "            #word2vecDict = gensim.models.Word2Vec.load(\"/Mydrive/My Drive/Colab Notebooks/Database/W2V Skip-Gram/w2v_skip_gram.bin\")\r\n",
        "        with open(EMBEDDING_FILE,'r', encoding='utf8')as f:\r\n",
        "            for line in f:\r\n",
        "                try:\r\n",
        "                    values = line.split()\r\n",
        "                    if len(values)==2:\r\n",
        "                      print(line)\r\n",
        "                      continue\r\n",
        "\r\n",
        "                    if len(values)==301:\r\n",
        "                        word = values[0]    \r\n",
        "                        coefs = np.asarray(values[1:], dtype='float32')\r\n",
        "                        embeddings_index[word] = coefs\r\n",
        "                    elif len(values)==302:\r\n",
        "          #print(len(value))\r\n",
        "                        word = values[0]+'\\u200c'+values[1]   \r\n",
        "                        coefs = np.asarray(values[2:], dtype='float32')\r\n",
        "                        embeddings_index[word] = coefs\r\n",
        "                    elif len(values)==303:\r\n",
        "                        word = values[0]+'\\u200c'+values[1]+'\\u200c'+values[2]  \r\n",
        "                        coefs = np.asarray(values[3:], dtype='float32')\r\n",
        "                        embeddings_index[word] = coefs\r\n",
        "                except Exception as inst:\r\n",
        "                        print(inst)\r\n",
        "        embed_size = 300\r\n",
        "    elif(typeToLoad==\"fasttext\"):\r\n",
        "        EMBEDDING_FILE='/Mydrive/My Drive/Colab Notebooks/Database/FastText Skip-Gram/FastText_Skip_Gram_model.vec'\r\n",
        "        embed_size = 300\r\n",
        "\r\n",
        "    if(typeToLoad==\"glove\" or typeToLoad==\"fasttext\" ):\r\n",
        "        embeddings_index = dict()\r\n",
        "            #Transfer the embedding weights into a dictionary by iterating through every line of the file.\r\n",
        "        with open(EMBEDDING_FILE,'r', encoding='utf8')as f:\r\n",
        "            for line in f:\r\n",
        "                try:\r\n",
        "                    values = line.split()\r\n",
        "\r\n",
        "                    if len(values)==301:\r\n",
        "                        word = values[0]    \r\n",
        "                        coefs = np.asarray(values[1:], dtype='float32')\r\n",
        "                        embeddings_index[word] = coefs\r\n",
        "                    elif len(values)==302:\r\n",
        "          #print(len(value))\r\n",
        "                        word = values[0]+'\\u200c'+values[1]   \r\n",
        "                        coefs = np.asarray(values[2:], dtype='float32')\r\n",
        "                        embeddings_index[word] = coefs\r\n",
        "                    elif len(values)==303:\r\n",
        "                        word = values[0]+'\\u200c'+values[1]+'\\u200c'+values[2]  \r\n",
        "                        coefs = np.asarray(values[3:], dtype='float32')\r\n",
        "                        embeddings_index[word] = coefs\r\n",
        "                except Exception as inst:\r\n",
        "                        print(inst)\r\n",
        "\r\n",
        "            \r\n",
        "    gc.collect()\r\n",
        "        #We get the mean and standard deviation of the embedding weights so that we could maintain the \r\n",
        "        #same statistics for the rest of our own random generated weights. \r\n",
        "    all_embs = np.stack(list(embeddings_index.values()))\r\n",
        "    emb_mean,emb_std = all_embs.mean(), all_embs.std()\r\n",
        "        \r\n",
        "    nb_words = len(tokenizer.word_index) + 1\r\n",
        "        #We are going to set the embedding size to the pretrained dimension as we are replicating it.\r\n",
        "        #the size will be Number of Words in Vocab X Embedding Size\r\n",
        "    embedding_matrix = np.random.normal(emb_mean, emb_std, (nb_words, embed_size))\r\n",
        "    gc.collect()\r\n",
        "\r\n",
        "        #With the newly created embedding matrix, we'll fill it up with the words that we have in both \r\n",
        "        #our own dictionary and loaded pretrained embedding. \r\n",
        "    embeddedCount = 0\r\n",
        "    for word, i in tokenizer.word_index.items():\r\n",
        "            # i-=1\r\n",
        "            #then we see if this word is in glove's dictionary, if yes, get the corresponding weights\r\n",
        "            embedding_vector = embeddings_index.get(word)\r\n",
        "            #and store inside the embedding matrix that we will train later on.\r\n",
        "            if embedding_vector is not None: \r\n",
        "                embedding_matrix[i] = embedding_vector\r\n",
        "                embeddedCount+=1\r\n",
        "    print('total embedded:',embeddedCount,'common words')\r\n",
        "        \r\n",
        "    del(embeddings_index)\r\n",
        "    gc.collect()\r\n",
        "        \r\n",
        "        #finally, return the embedding matrix\r\n",
        "    return embedding_matrix"
      ],
      "execution_count": 34,
      "outputs": []
    },
    {
      "cell_type": "markdown",
      "metadata": {
        "id": "gd2Rn_WsqLxr"
      },
      "source": [
        "# training steps"
      ]
    },
    {
      "cell_type": "markdown",
      "metadata": {
        "id": "nPo-qhCjqQeJ"
      },
      "source": [
        "## building your models"
      ]
    },
    {
      "cell_type": "markdown",
      "metadata": {
        "id": "sAtQOZxqcHr0"
      },
      "source": [
        "##Fit your models"
      ]
    },
    {
      "cell_type": "markdown",
      "metadata": {
        "id": "J2Kc5hFWfc65"
      },
      "source": [
        ""
      ]
    },
    {
      "cell_type": "markdown",
      "metadata": {
        "id": "wLeck4TG0HGR"
      },
      "source": [
        "biLSTM + glove model"
      ]
    },
    {
      "cell_type": "code",
      "metadata": {
        "colab": {
          "base_uri": "https://localhost:8080/"
        },
        "id": "l-2Van8D02_l",
        "outputId": "4dae563d-f205-4446-852e-843cc997a2f4"
      },
      "source": [
        "print(len(X))\r\n",
        "print(len(y))"
      ],
      "execution_count": 37,
      "outputs": [
        {
          "output_type": "stream",
          "text": [
            "8827\n",
            "8827\n"
          ],
          "name": "stdout"
        }
      ]
    },
    {
      "cell_type": "code",
      "metadata": {
        "colab": {
          "base_uri": "https://localhost:8080/"
        },
        "id": "v8a3pSnhqVeO",
        "outputId": "a69136e6-6561-414e-8e63-fe0c3bd57872"
      },
      "source": [
        "embedding_matrix = loadEmbeddingMatrix('glove')\r\n",
        "\r\n",
        "inp = Input(shape=(maxlen, ))\r\n",
        "x = Embedding(len(tokenizer.word_index)+1, embedding_matrix.shape[1],weights=[embedding_matrix],trainable=False, mask_zero=True)(inp)\r\n",
        "x = Bidirectional(LSTM(60, return_sequences=True,name='lstm_layer',dropout=0.2,recurrent_dropout=0.2))(x)\r\n",
        "x = GlobalMaxPool1D()(x)\r\n",
        "x = Dropout(0.2)(x)\r\n",
        "x = Dense(50, activation=\"relu\")(x)\r\n",
        "x = Dropout(0.1)(x)\r\n",
        "x = Dense(3, activation=\"sigmoid\")(x)\r\n",
        "model = Model(inputs=inp, outputs=x)\r\n",
        "model.compile(loss='binary_crossentropy',\r\n",
        "                  optimizer='adam',\r\n",
        "                  metrics=['accuracy'])\r\n",
        "\r\n",
        "batch_size = 256\r\n",
        "epochs = 10\r\n",
        "X_t=np.asarray(X).astype(np.float32)\r\n",
        "y=np.asarray(y).astype(np.float32)\r\n",
        "hist = model.fit(X_t,y, batch_size=batch_size, epochs=epochs, validation_split=0.2)"
      ],
      "execution_count": 45,
      "outputs": [
        {
          "output_type": "stream",
          "text": [
            "total embedded: 5554 common words\n",
            "WARNING:tensorflow:Layer lstm_layer will not use cuDNN kernel since it doesn't meet the cuDNN kernel criteria. It will use generic GPU kernel as fallback when running on GPU\n",
            "WARNING:tensorflow:Layer lstm_layer will not use cuDNN kernel since it doesn't meet the cuDNN kernel criteria. It will use generic GPU kernel as fallback when running on GPU\n",
            "WARNING:tensorflow:Layer lstm_layer will not use cuDNN kernel since it doesn't meet the cuDNN kernel criteria. It will use generic GPU kernel as fallback when running on GPU\n",
            "Epoch 1/10\n",
            "28/28 [==============================] - 35s 1s/step - loss: 0.6558 - accuracy: 0.4067 - val_loss: 0.5728 - val_accuracy: 0.5583\n",
            "Epoch 2/10\n",
            "28/28 [==============================] - 29s 1s/step - loss: 0.5734 - accuracy: 0.5232 - val_loss: 0.5508 - val_accuracy: 0.6019\n",
            "Epoch 3/10\n",
            "28/28 [==============================] - 29s 1s/step - loss: 0.5539 - accuracy: 0.5720 - val_loss: 0.5216 - val_accuracy: 0.6314\n",
            "Epoch 4/10\n",
            "28/28 [==============================] - 30s 1s/step - loss: 0.5230 - accuracy: 0.6155 - val_loss: 0.5030 - val_accuracy: 0.6348\n",
            "Epoch 5/10\n",
            "28/28 [==============================] - 29s 1s/step - loss: 0.4965 - accuracy: 0.6514 - val_loss: 0.4978 - val_accuracy: 0.6382\n",
            "Epoch 6/10\n",
            "28/28 [==============================] - 29s 1s/step - loss: 0.4869 - accuracy: 0.6496 - val_loss: 0.4884 - val_accuracy: 0.6382\n",
            "Epoch 7/10\n",
            "28/28 [==============================] - 29s 1s/step - loss: 0.4616 - accuracy: 0.6661 - val_loss: 0.4793 - val_accuracy: 0.6495\n",
            "Epoch 8/10\n",
            "28/28 [==============================] - 29s 1s/step - loss: 0.4392 - accuracy: 0.6998 - val_loss: 0.4746 - val_accuracy: 0.6489\n",
            "Epoch 9/10\n",
            "28/28 [==============================] - 29s 1s/step - loss: 0.4365 - accuracy: 0.6933 - val_loss: 0.4808 - val_accuracy: 0.6427\n",
            "Epoch 10/10\n",
            "28/28 [==============================] - 29s 1s/step - loss: 0.4183 - accuracy: 0.7120 - val_loss: 0.4726 - val_accuracy: 0.6450\n"
          ],
          "name": "stdout"
        }
      ]
    },
    {
      "cell_type": "code",
      "metadata": {
        "id": "ONeUTSMm14wE"
      },
      "source": [
        "lstm_glove_loss = hist.history['loss']\r\n",
        "lstm_glove_loss_val = hist.history['val_loss']\r\n"
      ],
      "execution_count": 47,
      "outputs": []
    },
    {
      "cell_type": "markdown",
      "metadata": {
        "id": "rT7lY8TL0NHR"
      },
      "source": [
        "biLSTM + !pretrain model"
      ]
    },
    {
      "cell_type": "code",
      "metadata": {
        "colab": {
          "base_uri": "https://localhost:8080/"
        },
        "id": "bwpybC800U6J",
        "outputId": "470d4e9e-c294-4716-e16d-04234d6d7a82"
      },
      "source": [
        "inp = Input(shape=(maxlen, ))\r\n",
        "embed_size = 300\r\n",
        "x = Embedding(max_fatures, embed_size)(inp)\r\n",
        "x = Bidirectional(SimpleRNN(60, return_sequences=True,name='lstm_layer',dropout=0.2,recurrent_dropout=0.2))(x)\r\n",
        "x = GlobalMaxPool1D()(x)\r\n",
        "x = Dropout(0.2)(x)\r\n",
        "x = Dense(50, activation=\"relu\")(x)\r\n",
        "x = Dropout(0.1)(x)\r\n",
        "x = Dense(3, activation=\"sigmoid\")(x)\r\n",
        "model = Model(inputs=inp, outputs=x)\r\n",
        "model.compile(loss='binary_crossentropy',\r\n",
        "                  optimizer='adam',\r\n",
        "                  metrics=['accuracy'])\r\n",
        "\r\n",
        "batch_size = 256\r\n",
        "epochs = 10\r\n",
        "X_t=np.asarray(X).astype(np.float32)\r\n",
        "y=np.asarray(y).astype(np.float32)\r\n",
        "hist = model.fit(X_t,y, batch_size=batch_size, epochs=epochs, validation_split=0.2)"
      ],
      "execution_count": 52,
      "outputs": [
        {
          "output_type": "stream",
          "text": [
            "Epoch 1/10\n",
            "28/28 [==============================] - 16s 515ms/step - loss: 0.6722 - accuracy: 0.4191 - val_loss: 0.5866 - val_accuracy: 0.5515\n",
            "Epoch 2/10\n",
            "28/28 [==============================] - 14s 494ms/step - loss: 0.5824 - accuracy: 0.4626 - val_loss: 0.5895 - val_accuracy: 0.5532\n",
            "Epoch 3/10\n",
            "28/28 [==============================] - 14s 502ms/step - loss: 0.5753 - accuracy: 0.4889 - val_loss: 0.5860 - val_accuracy: 0.5623\n",
            "Epoch 4/10\n",
            "28/28 [==============================] - 14s 496ms/step - loss: 0.5705 - accuracy: 0.5175 - val_loss: 0.5623 - val_accuracy: 0.5719\n",
            "Epoch 5/10\n",
            "28/28 [==============================] - 14s 487ms/step - loss: 0.5154 - accuracy: 0.6441 - val_loss: 0.5012 - val_accuracy: 0.6693\n",
            "Epoch 6/10\n",
            "28/28 [==============================] - 14s 493ms/step - loss: 0.4169 - accuracy: 0.7631 - val_loss: 0.4763 - val_accuracy: 0.6863\n",
            "Epoch 7/10\n",
            "28/28 [==============================] - 14s 482ms/step - loss: 0.3664 - accuracy: 0.7968 - val_loss: 0.4860 - val_accuracy: 0.6840\n",
            "Epoch 8/10\n",
            "28/28 [==============================] - 14s 485ms/step - loss: 0.3222 - accuracy: 0.8235 - val_loss: 0.5176 - val_accuracy: 0.6631\n",
            "Epoch 9/10\n",
            "28/28 [==============================] - 14s 482ms/step - loss: 0.2994 - accuracy: 0.8325 - val_loss: 0.5195 - val_accuracy: 0.6665\n",
            "Epoch 10/10\n",
            "28/28 [==============================] - 14s 484ms/step - loss: 0.2595 - accuracy: 0.8539 - val_loss: 0.5212 - val_accuracy: 0.6574\n"
          ],
          "name": "stdout"
        }
      ]
    },
    {
      "cell_type": "code",
      "metadata": {
        "id": "YDSBHtPv2S-2"
      },
      "source": [
        "lstm_loss = hist.history['loss']\r\n",
        "lstm_loss_val = hist.history['val_loss']"
      ],
      "execution_count": 55,
      "outputs": []
    },
    {
      "cell_type": "markdown",
      "metadata": {
        "id": "7ztrKUWg9ung"
      },
      "source": [
        "biRNN + glove model"
      ]
    },
    {
      "cell_type": "code",
      "metadata": {
        "colab": {
          "base_uri": "https://localhost:8080/"
        },
        "id": "POgwnO8W9xbr",
        "outputId": "962233aa-f35d-420d-c421-dd9bdf45fd85"
      },
      "source": [
        "embedding_matrix = loadEmbeddingMatrix('glove')\r\n",
        "\r\n",
        "inp = Input(shape=(maxlen, ))\r\n",
        "x = Embedding(len(tokenizer.word_index)+1, embedding_matrix.shape[1],weights=[embedding_matrix],trainable=False, mask_zero=True)(inp)\r\n",
        "x = Bidirectional(SimpleRNN(60, return_sequences=True,name='RNN_layer',dropout=0.2,recurrent_dropout=0.2))(x)\r\n",
        "x = GlobalMaxPool1D()(x)\r\n",
        "x = Dropout(0.2)(x)\r\n",
        "x = Dense(50, activation=\"relu\")(x)\r\n",
        "x = Dropout(0.1)(x)\r\n",
        "x = Dense(3, activation=\"sigmoid\")(x)\r\n",
        "model = Model(inputs=inp, outputs=x)\r\n",
        "model.compile(loss='binary_crossentropy',\r\n",
        "                  optimizer='adam',\r\n",
        "                  metrics=['accuracy'])\r\n",
        "\r\n",
        "batch_size = 256\r\n",
        "epochs = 10\r\n",
        "X_t=np.asarray(X).astype(np.float32)\r\n",
        "y=np.asarray(y).astype(np.float32)\r\n",
        "hist = model.fit(X_t,y, batch_size=batch_size, epochs=epochs, validation_split=0.2)\r\n",
        "simpleRNN_glove_loss = hist.history['loss']\r\n",
        "simpleRNN_glove_loss_val = hist.history['val_loss']"
      ],
      "execution_count": 50,
      "outputs": [
        {
          "output_type": "stream",
          "text": [
            "total embedded: 5554 common words\n",
            "Epoch 1/10\n",
            "28/28 [==============================] - 13s 394ms/step - loss: 0.6460 - accuracy: 0.4381 - val_loss: 0.5791 - val_accuracy: 0.5629\n",
            "Epoch 2/10\n",
            "28/28 [==============================] - 10s 373ms/step - loss: 0.5827 - accuracy: 0.4890 - val_loss: 0.5644 - val_accuracy: 0.5674\n",
            "Epoch 3/10\n",
            "28/28 [==============================] - 10s 375ms/step - loss: 0.5729 - accuracy: 0.5069 - val_loss: 0.5646 - val_accuracy: 0.5736\n",
            "Epoch 4/10\n",
            "28/28 [==============================] - 11s 375ms/step - loss: 0.5688 - accuracy: 0.5154 - val_loss: 0.5517 - val_accuracy: 0.5883\n",
            "Epoch 5/10\n",
            "28/28 [==============================] - 10s 373ms/step - loss: 0.5597 - accuracy: 0.5326 - val_loss: 0.5377 - val_accuracy: 0.5951\n",
            "Epoch 6/10\n",
            "28/28 [==============================] - 11s 388ms/step - loss: 0.5464 - accuracy: 0.5795 - val_loss: 0.5286 - val_accuracy: 0.6104\n",
            "Epoch 7/10\n",
            "28/28 [==============================] - 11s 380ms/step - loss: 0.5402 - accuracy: 0.5831 - val_loss: 0.5150 - val_accuracy: 0.6263\n",
            "Epoch 8/10\n",
            "28/28 [==============================] - 11s 381ms/step - loss: 0.5262 - accuracy: 0.6068 - val_loss: 0.5155 - val_accuracy: 0.6325\n",
            "Epoch 9/10\n",
            "28/28 [==============================] - 11s 380ms/step - loss: 0.5177 - accuracy: 0.6057 - val_loss: 0.5138 - val_accuracy: 0.6246\n",
            "Epoch 10/10\n",
            "28/28 [==============================] - 11s 381ms/step - loss: 0.5099 - accuracy: 0.6184 - val_loss: 0.5120 - val_accuracy: 0.6325\n"
          ],
          "name": "stdout"
        }
      ]
    },
    {
      "cell_type": "markdown",
      "metadata": {
        "id": "JB8-idZ3-LYv"
      },
      "source": [
        "biRNN + !pretrain model"
      ]
    },
    {
      "cell_type": "code",
      "metadata": {
        "colab": {
          "base_uri": "https://localhost:8080/"
        },
        "id": "k-CHow72-lVP",
        "outputId": "16f30838-ec93-4300-eead-0489719e67db"
      },
      "source": [
        "inp = Input(shape=(maxlen, ))\r\n",
        "embed_size = 300\r\n",
        "x = Embedding(max_fatures, embed_size)(inp)\r\n",
        "x = Bidirectional(SimpleRNN(60, return_sequences=True,name='RNN_layer',dropout=0.2,recurrent_dropout=0.2))(x)\r\n",
        "x = GlobalMaxPool1D()(x)\r\n",
        "x = Dropout(0.2)(x)\r\n",
        "x = Dense(50, activation=\"relu\")(x)\r\n",
        "x = Dropout(0.1)(x)\r\n",
        "x = Dense(3, activation=\"sigmoid\")(x)\r\n",
        "model = Model(inputs=inp, outputs=x)\r\n",
        "model.compile(loss='binary_crossentropy',\r\n",
        "                  optimizer='adam',\r\n",
        "                  metrics=['accuracy'])\r\n",
        "\r\n",
        "batch_size = 256\r\n",
        "epochs = 10\r\n",
        "X_t=np.asarray(X).astype(np.float32)\r\n",
        "y=np.asarray(y).astype(np.float32)\r\n",
        "hist = model.fit(X_t,y, batch_size=batch_size, epochs=epochs, validation_split=0.2)\r\n",
        "simpleRNN_loss = hist.history['loss']\r\n",
        "simpleRNN_loss_val = hist.history['val_loss']"
      ],
      "execution_count": 54,
      "outputs": [
        {
          "output_type": "stream",
          "text": [
            "Epoch 1/10\n",
            "28/28 [==============================] - 16s 516ms/step - loss: 0.5988 - accuracy: 0.4655 - val_loss: 0.6105 - val_accuracy: 0.5561\n",
            "Epoch 2/10\n",
            "28/28 [==============================] - 14s 490ms/step - loss: 0.5841 - accuracy: 0.4604 - val_loss: 0.6141 - val_accuracy: 0.5515\n",
            "Epoch 3/10\n",
            "28/28 [==============================] - 14s 491ms/step - loss: 0.5783 - accuracy: 0.4821 - val_loss: 0.6155 - val_accuracy: 0.5113\n",
            "Epoch 4/10\n",
            "28/28 [==============================] - 14s 483ms/step - loss: 0.5648 - accuracy: 0.5033 - val_loss: 0.5981 - val_accuracy: 0.5306\n",
            "Epoch 5/10\n",
            "28/28 [==============================] - 14s 486ms/step - loss: 0.5609 - accuracy: 0.5205 - val_loss: 0.5543 - val_accuracy: 0.6342\n",
            "Epoch 6/10\n",
            "28/28 [==============================] - 14s 489ms/step - loss: 0.5011 - accuracy: 0.6641 - val_loss: 0.5057 - val_accuracy: 0.6540\n",
            "Epoch 7/10\n",
            "28/28 [==============================] - 14s 489ms/step - loss: 0.4068 - accuracy: 0.7620 - val_loss: 0.4771 - val_accuracy: 0.7022\n",
            "Epoch 8/10\n",
            "28/28 [==============================] - 14s 485ms/step - loss: 0.3431 - accuracy: 0.8074 - val_loss: 0.4759 - val_accuracy: 0.6959\n",
            "Epoch 9/10\n",
            "28/28 [==============================] - 14s 484ms/step - loss: 0.3059 - accuracy: 0.8289 - val_loss: 0.5067 - val_accuracy: 0.6733\n",
            "Epoch 10/10\n",
            "28/28 [==============================] - 13s 482ms/step - loss: 0.2677 - accuracy: 0.8446 - val_loss: 0.5110 - val_accuracy: 0.6874\n"
          ],
          "name": "stdout"
        }
      ]
    },
    {
      "cell_type": "markdown",
      "metadata": {
        "id": "KGJ4PA7S-8ID"
      },
      "source": [
        "gru + glove model"
      ]
    },
    {
      "cell_type": "code",
      "metadata": {
        "colab": {
          "base_uri": "https://localhost:8080/"
        },
        "id": "Sshq87L0-9oB",
        "outputId": "ac327fba-d089-4f7a-e126-0eef21ca5f1c"
      },
      "source": [
        "embedding_matrix = loadEmbeddingMatrix('glove')\r\n",
        "embedding_matrix.shape\r\n",
        "inp = Input(shape=(maxlen, ))\r\n",
        "x = Embedding(len(tokenizer.word_index)+1, embedding_matrix.shape[1],weights=[embedding_matrix],trainable=False, mask_zero = True)(inp)\r\n",
        "x = Bidirectional(GRU(60, return_sequences=True,name='lstm_layer',dropout=0.2,recurrent_dropout=0.2))(x)\r\n",
        "x = GlobalMaxPool1D()(x)\r\n",
        "x = Dropout(0.2)(x)\r\n",
        "x = Dense(50, activation=\"relu\")(x)\r\n",
        "x = Dropout(0.1)(x)\r\n",
        "x = Dense(3, activation=\"sigmoid\")(x)\r\n",
        "model = Model(inputs=inp, outputs=x)\r\n",
        "model.compile(loss='binary_crossentropy',\r\n",
        "                  optimizer='adam',\r\n",
        "                  metrics=['accuracy'])\r\n",
        "\r\n",
        "batch_size = 256\r\n",
        "epochs = 10\r\n",
        "X_t=np.asarray(X_t).astype(np.float32)\r\n",
        "y=np.asarray(y).astype(np.float32)\r\n",
        "hist = model.fit(X_t,y, batch_size=batch_size, epochs=epochs, validation_split=0.2)\r\n",
        "gru_glove_loss = hist.history['loss']\r\n",
        "gru_glove_loss_val = hist.history['val_loss']"
      ],
      "execution_count": 56,
      "outputs": [
        {
          "output_type": "stream",
          "text": [
            "total embedded: 5554 common words\n",
            "WARNING:tensorflow:Layer lstm_layer will not use cuDNN kernel since it doesn't meet the cuDNN kernel criteria. It will use generic GPU kernel as fallback when running on GPU\n",
            "WARNING:tensorflow:Layer lstm_layer will not use cuDNN kernel since it doesn't meet the cuDNN kernel criteria. It will use generic GPU kernel as fallback when running on GPU\n",
            "WARNING:tensorflow:Layer lstm_layer will not use cuDNN kernel since it doesn't meet the cuDNN kernel criteria. It will use generic GPU kernel as fallback when running on GPU\n",
            "Epoch 1/10\n",
            "28/28 [==============================] - 31s 968ms/step - loss: 0.6144 - accuracy: 0.4401 - val_loss: 0.5616 - val_accuracy: 0.5668\n",
            "Epoch 2/10\n",
            "28/28 [==============================] - 26s 949ms/step - loss: 0.5640 - accuracy: 0.5360 - val_loss: 0.5497 - val_accuracy: 0.6014\n",
            "Epoch 3/10\n",
            "28/28 [==============================] - 27s 949ms/step - loss: 0.5452 - accuracy: 0.5910 - val_loss: 0.5233 - val_accuracy: 0.6268\n",
            "Epoch 4/10\n",
            "28/28 [==============================] - 26s 943ms/step - loss: 0.5244 - accuracy: 0.6058 - val_loss: 0.5019 - val_accuracy: 0.6365\n",
            "Epoch 5/10\n",
            "28/28 [==============================] - 27s 960ms/step - loss: 0.4958 - accuracy: 0.6399 - val_loss: 0.4854 - val_accuracy: 0.6506\n",
            "Epoch 6/10\n",
            "28/28 [==============================] - 27s 949ms/step - loss: 0.4716 - accuracy: 0.6701 - val_loss: 0.4727 - val_accuracy: 0.6665\n",
            "Epoch 7/10\n",
            "28/28 [==============================] - 26s 942ms/step - loss: 0.4533 - accuracy: 0.6762 - val_loss: 0.4673 - val_accuracy: 0.6648\n",
            "Epoch 8/10\n",
            "28/28 [==============================] - 26s 941ms/step - loss: 0.4490 - accuracy: 0.6877 - val_loss: 0.4772 - val_accuracy: 0.6427\n",
            "Epoch 9/10\n",
            "28/28 [==============================] - 27s 950ms/step - loss: 0.4277 - accuracy: 0.7030 - val_loss: 0.4639 - val_accuracy: 0.6642\n",
            "Epoch 10/10\n",
            "28/28 [==============================] - 27s 948ms/step - loss: 0.4104 - accuracy: 0.7140 - val_loss: 0.4541 - val_accuracy: 0.6670\n"
          ],
          "name": "stdout"
        }
      ]
    },
    {
      "cell_type": "markdown",
      "metadata": {
        "id": "wiJyCNMb-3ZO"
      },
      "source": [
        "gru + !pretrain model"
      ]
    },
    {
      "cell_type": "code",
      "metadata": {
        "colab": {
          "base_uri": "https://localhost:8080/"
        },
        "id": "RsiS_jW6--f9",
        "outputId": "ab9e641e-8f93-4ed0-85ab-680500ec8287"
      },
      "source": [
        "inp = Input(shape=(maxlen, ))\r\n",
        "embed_size = 300\r\n",
        "x = Embedding(max_fatures, embed_size)(inp)\r\n",
        "x = Bidirectional(GRU(60, return_sequences=True,name='lstm_layer',dropout=0.2,recurrent_dropout=0.2))(x)\r\n",
        "x = GlobalMaxPool1D()(x)\r\n",
        "x = Dropout(0.2)(x)\r\n",
        "x = Dense(50, activation=\"relu\")(x)\r\n",
        "x = Dropout(0.1)(x)\r\n",
        "x = Dense(3, activation=\"sigmoid\")(x)\r\n",
        "model = Model(inputs=inp, outputs=x)\r\n",
        "model.compile(loss='binary_crossentropy',\r\n",
        "                  optimizer='adam',\r\n",
        "                  metrics=['accuracy'])\r\n",
        "\r\n",
        "batch_size = 256\r\n",
        "epochs = 10\r\n",
        "X_t=np.asarray(X_t).astype(np.float32)\r\n",
        "y=np.asarray(y).astype(np.float32)\r\n",
        "hist = model.fit(X_t,y, batch_size=batch_size, epochs=epochs, validation_split=0.2)\r\n",
        "gru_loss = hist.history['loss']\r\n",
        "gru_loss_val = hist.history['val_loss']"
      ],
      "execution_count": 57,
      "outputs": [
        {
          "output_type": "stream",
          "text": [
            "WARNING:tensorflow:Layer lstm_layer will not use cuDNN kernel since it doesn't meet the cuDNN kernel criteria. It will use generic GPU kernel as fallback when running on GPU\n",
            "WARNING:tensorflow:Layer lstm_layer will not use cuDNN kernel since it doesn't meet the cuDNN kernel criteria. It will use generic GPU kernel as fallback when running on GPU\n",
            "WARNING:tensorflow:Layer lstm_layer will not use cuDNN kernel since it doesn't meet the cuDNN kernel criteria. It will use generic GPU kernel as fallback when running on GPU\n",
            "Epoch 1/10\n",
            "28/28 [==============================] - 35s 1s/step - loss: 0.6342 - accuracy: 0.4420 - val_loss: 0.5631 - val_accuracy: 0.5696\n",
            "Epoch 2/10\n",
            "28/28 [==============================] - 31s 1s/step - loss: 0.5508 - accuracy: 0.5560 - val_loss: 0.4881 - val_accuracy: 0.6988\n",
            "Epoch 3/10\n",
            "28/28 [==============================] - 31s 1s/step - loss: 0.4369 - accuracy: 0.7446 - val_loss: 0.4302 - val_accuracy: 0.7033\n",
            "Epoch 4/10\n",
            "28/28 [==============================] - 31s 1s/step - loss: 0.2984 - accuracy: 0.8145 - val_loss: 0.4425 - val_accuracy: 0.7033\n",
            "Epoch 5/10\n",
            "28/28 [==============================] - 31s 1s/step - loss: 0.2067 - accuracy: 0.8709 - val_loss: 0.5123 - val_accuracy: 0.6948\n",
            "Epoch 6/10\n",
            "28/28 [==============================] - 30s 1s/step - loss: 0.1518 - accuracy: 0.9153 - val_loss: 0.5169 - val_accuracy: 0.6925\n",
            "Epoch 7/10\n",
            "28/28 [==============================] - 30s 1s/step - loss: 0.1057 - accuracy: 0.9464 - val_loss: 0.6453 - val_accuracy: 0.6767\n",
            "Epoch 8/10\n",
            "28/28 [==============================] - 30s 1s/step - loss: 0.0699 - accuracy: 0.9684 - val_loss: 0.6954 - val_accuracy: 0.6636\n",
            "Epoch 9/10\n",
            "28/28 [==============================] - 30s 1s/step - loss: 0.0545 - accuracy: 0.9740 - val_loss: 0.8272 - val_accuracy: 0.6591\n",
            "Epoch 10/10\n",
            "28/28 [==============================] - 30s 1s/step - loss: 0.0479 - accuracy: 0.9797 - val_loss: 0.7995 - val_accuracy: 0.6518\n"
          ],
          "name": "stdout"
        }
      ]
    },
    {
      "cell_type": "code",
      "metadata": {
        "colab": {
          "base_uri": "https://localhost:8080/"
        },
        "id": "XNnu4lmjZZ2A",
        "outputId": "e3af6c81-068c-4125-cafc-a689cf315cd7"
      },
      "source": [
        "print(hist.history['val_loss'])\r\n",
        "print(hist.history['loss'])"
      ],
      "execution_count": 33,
      "outputs": [
        {
          "output_type": "stream",
          "text": [
            "[0.5614054799079895, 0.4647158086299896, 0.4568503499031067, 0.4744321405887604, 0.5183945894241333, 0.5815715789794922, 0.6711419820785522, 0.7596884965896606, 0.7448698878288269, 0.8032538890838623, 0.8195871114730835, 0.8736262321472168, 0.9141382575035095, 0.9692156314849854, 0.9212855100631714, 1.043594479560852, 0.9785767793655396, 1.0138704776763916, 1.0599472522735596, 1.0415724515914917]\n",
            "[0.5980887413024902, 0.4930935502052307, 0.358192503452301, 0.25454187393188477, 0.17669032514095306, 0.12501990795135498, 0.09665660560131073, 0.06513410061597824, 0.05109558254480362, 0.044366735965013504, 0.036366790533065796, 0.03112238086760044, 0.025659801438450813, 0.02429906465113163, 0.022198589518666267, 0.021306443959474564, 0.021070227026939392, 0.019464341923594475, 0.01673036441206932, 0.016809619963169098]\n"
          ],
          "name": "stdout"
        }
      ]
    },
    {
      "cell_type": "markdown",
      "metadata": {
        "id": "C1QeOcc_cKA0"
      },
      "source": [
        "##training/validation loss plots"
      ]
    },
    {
      "cell_type": "code",
      "metadata": {
        "id": "-cOmNUxTA6xF"
      },
      "source": [
        "all_losses = {\r\n",
        "'lstm_glove_loss': lstm_glove_loss,\r\n",
        " 'lstm_glove_val_loss': lstm_glove_loss_val,\r\n",
        " 'gru_glove_loss': gru_glove_loss,\r\n",
        " 'gru_glove_val_loss': gru_glove_loss_val,\r\n",
        " 'simpleRNN_glove_loss': simpleRNN_glove_loss,\r\n",
        " 'simpleRNN_glove_val_loss': simpleRNN_glove_loss_val,\r\n",
        " 'lstm_loss': lstm_loss,\r\n",
        " 'lstm_val_loss': lstm_loss_val,\r\n",
        " 'gru_loss': gru_loss,\r\n",
        " 'gru_val_loss': gru_loss_val,\r\n",
        " 'simpleRNN_loss': simpleRNN_loss,\r\n",
        " 'simpleRNN_val_loss': simpleRNN_loss_val\r\n",
        "}"
      ],
      "execution_count": 58,
      "outputs": []
    },
    {
      "cell_type": "code",
      "metadata": {
        "colab": {
          "base_uri": "https://localhost:8080/"
        },
        "id": "Os3dyrM6bznL",
        "outputId": "eecaf369-0e05-490a-fe9f-6ecb9a88c459"
      },
      "source": [
        "for a in all_losses:\r\n",
        "  print(len(all_losses[a]))\r\n",
        "  # print(len(all_losses[a]))"
      ],
      "execution_count": 59,
      "outputs": [
        {
          "output_type": "stream",
          "text": [
            "10\n",
            "10\n",
            "10\n",
            "10\n",
            "10\n",
            "10\n",
            "10\n",
            "10\n",
            "10\n",
            "10\n",
            "10\n",
            "10\n"
          ],
          "name": "stdout"
        }
      ]
    },
    {
      "cell_type": "code",
      "metadata": {
        "colab": {
          "base_uri": "https://localhost:8080/",
          "height": 294
        },
        "id": "d8RLGSy4BARy",
        "outputId": "a7b663ed-916e-4b27-9e11-3e9b5ac9e542"
      },
      "source": [
        "epochRange = np.arange(1,11,1)\r\n",
        "plt.plot(epochRange,all_losses['lstm_glove_loss'])\r\n",
        "plt.plot(epochRange,all_losses['gru_glove_loss'])\r\n",
        "plt.plot(epochRange,all_losses['simpleRNN_glove_loss'])\r\n",
        "plt.plot(epochRange,all_losses['lstm_loss'])\r\n",
        "plt.plot(epochRange,all_losses['gru_loss'])\r\n",
        "plt.plot(epochRange,all_losses['simpleRNN_loss'])\r\n",
        "plt.title('Training loss for different embeddings')\r\n",
        "plt.ylabel('loss')\r\n",
        "plt.xlabel('epoch')\r\n",
        "plt.legend(['lstm_glove','gru_glove','simpleRNN_glove_loss','lstm_loss','gru_loss','simpleRNN_loss'], loc='upper left')\r\n",
        "plt.show()"
      ],
      "execution_count": 60,
      "outputs": [
        {
          "output_type": "display_data",
          "data": {
            "image/png": "[encoded data removed]",
            "text/plain": [
              "<Figure size 432x288 with 1 Axes>"
            ]
          },
          "metadata": {
            "tags": [],
            "needs_background": "light"
          }
        }
      ]
    },
    {
      "cell_type": "code",
      "metadata": {
        "colab": {
          "base_uri": "https://localhost:8080/",
          "height": 878
        },
        "id": "T2Bx7aBjdYYv",
        "outputId": "12e895b1-54db-43f6-a05d-58d3425ea7db"
      },
      "source": [
        "f, ((ax2,ax4), (ax1,  ax6), (ax12,  ax10)) = plt.subplots(3,2, sharex='col', sharey='row',figsize=(15, 15))\r\n",
        "\r\n",
        "plt.title('Training Vs Validation loss for all embeddings')\r\n",
        "\r\n",
        "\r\n",
        "ax2.plot(epochRange,all_losses['gru_loss'])\r\n",
        "ax2.plot(epochRange,all_losses['gru_val_loss'])\r\n",
        "ax2.set_title('gru')\r\n",
        "ax2.set_ylim(0.3, 1)\r\n",
        "\r\n",
        "\r\n",
        "ax4.plot(epochRange,all_losses['gru_glove_loss'])\r\n",
        "ax4.plot(epochRange,all_losses['gru_glove_val_loss'])\r\n",
        "ax4.set_title('gru_glove')\r\n",
        "ax4.set_ylim(0.3, 1)\r\n",
        "\r\n",
        "ax1.plot(epochRange,all_losses['lstm_loss'])\r\n",
        "ax1.plot(epochRange,all_losses['lstm_val_loss'])\r\n",
        "ax1.set_title('lstm')\r\n",
        "ax1.set_ylim(0.3, 1)\r\n",
        "\r\n",
        "ax6.plot(epochRange,all_losses['lstm_glove_loss'])\r\n",
        "ax6.plot(epochRange,all_losses['lstm_glove_val_loss'])\r\n",
        "ax6.set_title('lstm_glove')\r\n",
        "ax6.set_ylim(0.3, 1)\r\n",
        "\r\n",
        "\r\n",
        "ax10.plot(epochRange,all_losses['simpleRNN_glove_loss'])\r\n",
        "ax10.plot(epochRange,all_losses['simpleRNN_glove_val_loss'])\r\n",
        "ax10.set_title('simpleRNN_glove')\r\n",
        "ax10.set_ylim(0.3, 1)\r\n",
        "\r\n",
        "\r\n",
        "ax12.plot(epochRange,all_losses['simpleRNN_loss'])\r\n",
        "ax12.plot(epochRange,all_losses['simpleRNN_val_loss'])\r\n",
        "ax12.set_title('simpleRNN')\r\n",
        "ax12.set_ylim(0.3, 1)\r\n",
        "\r\n",
        "plt.show()"
      ],
      "execution_count": 63,
      "outputs": [
        {
          "output_type": "display_data",
          "data": {
            "image/png": "[encoded data removed]",
            "text/plain": [
              "<Figure size 1080x1080 with 6 Axes>"
            ]
          },
          "metadata": {
            "tags": [],
            "needs_background": "light"
          }
        }
      ]
    },
    {
      "cell_type": "markdown",
      "metadata": {
        "id": "VUvt1rSLcQk2"
      },
      "source": [
        "## Fill the table for all architectures"
      ]
    },
    {
      "cell_type": "markdown",
      "metadata": {
        "id": "3P0DkEuIcbTe"
      },
      "source": [
        "<table>\n",
        "<thead>\n",
        "<tr>\n",
        "<th></th>\n",
        "  <th align=\"center\"><code>        </code></th>\n",
        "<th align=\"center\"><code>loss</code></th>\n",
        "<th align=\"center\"><code>        </code></th>\n",
        "<th align=\"center\"><code>accuracy</code></th>\n",
        "<th align=\"center\"><code>        </code></th>\n",
        "<th align=\"center\"><code>val_loss</code></th>\n",
        "<th align=\"center\"><code>        </code></th>\n",
        "<th align=\"center\"><code>val_accuracy</code></th>\n",
        "<th align=\"center\"><code>        </code></th>\n",
        "</tr>\n",
        "</thead>\n",
        "<tbody>\n",
        "<tr>\n",
        "<td>lstm_glove </td>\n",
        " <td align=\"center\"> </td>\n",
        "<td align=\"center\"> </td>\n",
        "<td align=\"center\"> 0.4183</td>\n",
        "<td align=\"center\"></td>\n",
        "<td align=\"center\"> 0.7120</td>\n",
        "  <td align=\"center\"> </td>\n",
        "<td align=\"center\"> 0.4726</td>\n",
        "<td align=\"center\"></td>\n",
        "<td align=\"center\"> 0.6450</td>\n",
        "</tr>\n",
        "<tr>\n",
        "<td>gru_glove</td>\n",
        "  <td align=\"center\"> </td>\n",
        "<td align=\"center\"> </td>\n",
        "<td align=\"center\">0.4104 </td>\n",
        "<td align=\"center\"> </td>\n",
        "<td align=\"center\">0.7140</td>\n",
        "  <td align=\"center\"> </td>\n",
        "<td align=\"center\"> 0.4541</td>\n",
        "<td align=\"center\"></td>\n",
        "<td align=\"center\">0.6670 </td>\n",
        "</tr>\n",
        "<tr>\n",
        "<td>rnn_glove</td>\n",
        "  <td align=\"center\"> </td>\n",
        "<td align=\"center\"> </td>\n",
        "<td align=\"center\">0.5099</td>\n",
        "<td align=\"center\"></td>\n",
        "<td align=\"center\">0.6184 </td>\n",
        " <td align=\"center\"> </td>\n",
        "<td align=\"center\">0.5120 </td>\n",
        "<td align=\"center\"></td>\n",
        "<td align=\"center\">0.6325 </td>\n",
        "</tr>\n",
        "<tr>\n",
        "<td>lstm</td>\n",
        "  <td align=\"center\"> </td>\n",
        "<td align=\"center\"> </td>\n",
        "<td align=\"center\">0.2595 </td>\n",
        "<td align=\"center\"> </td>\n",
        "<td align=\"center\">0.8539</td>\n",
        " <td align=\"center\"> </td>\n",
        "<td align=\"center\"> 0.5212 </td>\n",
        "<td align=\"center\"></td>\n",
        "<td align=\"center\">0.6574</td>\n",
        "</tr>\n",
        "<tr>\n",
        "<td>gru</td>\n",
        "  <td align=\"center\"> </td>\n",
        "<td align=\"center\"> </td>\n",
        "<td align=\"center\"> 0.0479</td>\n",
        "<td align=\"center\"> </td>\n",
        "<td align=\"center\">0.9797</td>\n",
        " <td align=\"center\"> </td>\n",
        "<td align=\"center\">0.7995 </td>\n",
        "<td align=\"center\"></td>\n",
        "<td align=\"center\">0.6518</td>\n",
        "</tr>\n",
        "<tr>\n",
        "<td>rnn</td>\n",
        "  <td align=\"center\"></td>\n",
        "<td align=\"center\"> </td>\n",
        "<td align=\"center\"> 0.2677</td>\n",
        "<td align=\"center\"> </td>\n",
        "<td align=\"center\">0.8446</td>\n",
        " <td align=\"center\"> </td>\n",
        "<td align=\"center\">0.5110 </td>\n",
        "<td align=\"center\"></td>\n",
        "<td align=\"center\">0.6874 </td>\n",
        "</tr>\n",
        "\n",
        "</tbody>\n",
        "</table>"
      ]
    }
  ]
}